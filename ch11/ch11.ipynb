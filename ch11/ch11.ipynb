{
 "cells": [
  {
   "cell_type": "markdown",
   "metadata": {},
   "source": [
    "Bayes Rule Book:\n",
    "\n",
    "https://www.bayesrulesbook.com/chapter-11.html\n",
    "\n",
    "Materials from the Bayes Rule github:\n",
    "\n",
    "https://github.com/bayes-rules/bayesrules"
   ]
  },
  {
   "cell_type": "markdown",
   "metadata": {},
   "source": [
    "# Imports"
   ]
  },
  {
   "cell_type": "code",
   "execution_count": 1,
   "metadata": {},
   "outputs": [],
   "source": [
    "import math, pyreadr\n",
    "import pandas as pd\n",
    "import numpy as np\n",
    "import plotly.graph_objects as go\n",
    "import plotly.express as px\n",
    "import plotly.figure_factory as ff\n",
    "from plotly.subplots import make_subplots\n",
    "from scipy.stats import norm, beta, binom, mode\n",
    "from os.path import exists\n",
    "\n",
    "import pyro\n",
    "import torch as t\n",
    "import pyro.distributions as dist\n",
    "import pyro.distributions.constraints as constraints\n",
    "from pyro.infer import MCMC\n",
    "from pyro.infer.mcmc.nuts import HMC, NUTS\n",
    "\n",
    "device = t.device(\"cuda\" if t.cuda.is_available() else \"cpu\")\n",
    "t.set_default_tensor_type(t.FloatTensor)\n",
    "if t.cuda.is_available():\n",
    "    t.set_default_tensor_type(t.cuda.FloatTensor)\n"
   ]
  },
  {
   "cell_type": "markdown",
   "metadata": {},
   "source": [
    "# Bayesian Regression with predictor"
   ]
  },
  {
   "cell_type": "markdown",
   "metadata": {},
   "source": [
    "## Australian Temperatures"
   ]
  },
  {
   "cell_type": "markdown",
   "metadata": {},
   "source": [
    "## Data"
   ]
  },
  {
   "cell_type": "code",
   "execution_count": 5,
   "metadata": {},
   "outputs": [],
   "source": [
    "file_name = 'weather_WU'\n",
    "folder = 'ch11'\n",
    "\n",
    "data_url = f\"https://github.com/bayes-rules/bayesrules/raw/master/data/{file_name}.rda\"\n",
    "\n",
    "if exists(f\"/Users/zr/Geek/tutorials/bayesian_rules/{folder}/{file_name}.csv\"):\n",
    "    df = pd.read_csv(f\"/Users/zr/Geek/tutorials/bayesian_rules/{folder}/{file_name}.csv\")\n",
    "else:\n",
    "    # pyreadr downloads remote file, saves locally and converts the RDA datafile to a pandas DataFrame\n",
    "    file_path = f\"/Users/zr/Geek/tutorials/bayesian_rules/{folder}/{file_name}.rda\"\n",
    "    pyreadr.download_file(data_url, file_path)\n",
    "    result = pyreadr.read_r(file_path)\n",
    "    df = result[file_name]\n",
    "    df.to_csv(f\"/Users/zr/Geek/tutorials/bayesian_rules/{folder}/{file_name}.csv\")"
   ]
  },
  {
   "cell_type": "code",
   "execution_count": 11,
   "metadata": {},
   "outputs": [],
   "source": [
    "keep_columns=[\n",
    "    'location',\n",
    "    'windspeed9am',\n",
    "    'humidity9am',\n",
    "    'pressure9am',\n",
    "    'temp9am',\n",
    "    'temp3pm'\n",
    "]\n",
    "df = df[keep_columns]"
   ]
  },
  {
   "cell_type": "code",
   "execution_count": 12,
   "metadata": {},
   "outputs": [
    {
     "name": "stdout",
     "output_type": "stream",
     "text": [
      "Wollongong    100\n",
      "Uluru         100\n",
      "Name: location, dtype: int64\n"
     ]
    },
    {
     "data": {
      "text/html": [
       "<div>\n",
       "<style scoped>\n",
       "    .dataframe tbody tr th:only-of-type {\n",
       "        vertical-align: middle;\n",
       "    }\n",
       "\n",
       "    .dataframe tbody tr th {\n",
       "        vertical-align: top;\n",
       "    }\n",
       "\n",
       "    .dataframe thead th {\n",
       "        text-align: right;\n",
       "    }\n",
       "</style>\n",
       "<table border=\"1\" class=\"dataframe\">\n",
       "  <thead>\n",
       "    <tr style=\"text-align: right;\">\n",
       "      <th></th>\n",
       "      <th>0</th>\n",
       "      <th>1</th>\n",
       "      <th>2</th>\n",
       "      <th>3</th>\n",
       "      <th>4</th>\n",
       "    </tr>\n",
       "  </thead>\n",
       "  <tbody>\n",
       "    <tr>\n",
       "      <th>location</th>\n",
       "      <td>Uluru</td>\n",
       "      <td>Uluru</td>\n",
       "      <td>Uluru</td>\n",
       "      <td>Uluru</td>\n",
       "      <td>Uluru</td>\n",
       "    </tr>\n",
       "    <tr>\n",
       "      <th>windspeed9am</th>\n",
       "      <td>20</td>\n",
       "      <td>9</td>\n",
       "      <td>7</td>\n",
       "      <td>28</td>\n",
       "      <td>24</td>\n",
       "    </tr>\n",
       "    <tr>\n",
       "      <th>humidity9am</th>\n",
       "      <td>23</td>\n",
       "      <td>71</td>\n",
       "      <td>15</td>\n",
       "      <td>29</td>\n",
       "      <td>10</td>\n",
       "    </tr>\n",
       "    <tr>\n",
       "      <th>pressure9am</th>\n",
       "      <td>1023.3</td>\n",
       "      <td>1012.9</td>\n",
       "      <td>1012.3</td>\n",
       "      <td>1016</td>\n",
       "      <td>1010.5</td>\n",
       "    </tr>\n",
       "    <tr>\n",
       "      <th>temp9am</th>\n",
       "      <td>20.9</td>\n",
       "      <td>23.4</td>\n",
       "      <td>24.1</td>\n",
       "      <td>26.4</td>\n",
       "      <td>36.7</td>\n",
       "    </tr>\n",
       "    <tr>\n",
       "      <th>temp3pm</th>\n",
       "      <td>29.7</td>\n",
       "      <td>33.9</td>\n",
       "      <td>39.7</td>\n",
       "      <td>34.2</td>\n",
       "      <td>43.3</td>\n",
       "    </tr>\n",
       "  </tbody>\n",
       "</table>\n",
       "</div>"
      ],
      "text/plain": [
       "                   0       1       2      3       4\n",
       "location       Uluru   Uluru   Uluru  Uluru   Uluru\n",
       "windspeed9am      20       9       7     28      24\n",
       "humidity9am       23      71      15     29      10\n",
       "pressure9am   1023.3  1012.9  1012.3   1016  1010.5\n",
       "temp9am         20.9    23.4    24.1   26.4    36.7\n",
       "temp3pm         29.7    33.9    39.7   34.2    43.3"
      ]
     },
     "execution_count": 12,
     "metadata": {},
     "output_type": "execute_result"
    }
   ],
   "source": [
    "print(df.location.value_counts())\n",
    "df.head().T"
   ]
  },
  {
   "cell_type": "markdown",
   "metadata": {},
   "source": [
    "## Simple Modeling"
   ]
  },
  {
   "cell_type": "markdown",
   "metadata": {},
   "source": [
    ">Let’s begin our analysis with the familiar: a simple Normal regression model of temp3pm with one quantitative predictor, the morning temperature temp9am, both measured in degrees Celsius. As you might expect, there’s a positive association between these two variables – the warmer it is in the morning, the warmer it tends to be in the afternoon:"
   ]
  },
  {
   "cell_type": "code",
   "execution_count": 14,
   "metadata": {},
   "outputs": [
    {
     "data": {
      "application/vnd.plotly.v1+json": {
       "config": {
        "plotlyServerURL": "https://plot.ly"
       },
       "data": [
        {
         "hovertemplate": "x=%{x}<br>y=%{y}<extra></extra>",
         "legendgroup": "",
         "marker": {
          "color": "#636efa",
          "symbol": "circle"
         },
         "mode": "markers",
         "name": "",
         "orientation": "v",
         "showlegend": false,
         "type": "scatter",
         "x": [
          20.9,
          23.4,
          24.1,
          26.4,
          36.7,
          25.1,
          14.9,
          15.9,
          24.6,
          15,
          24,
          27.4,
          18.5,
          21.7,
          19.8,
          28.4,
          32,
          8.9,
          22,
          30.9,
          27.7,
          33.8,
          12.7,
          25.5,
          16.7,
          11.8,
          9.5,
          21.8,
          20.2,
          9.6,
          17,
          9,
          26.7,
          29.2,
          17.8,
          13.4,
          30,
          26.1,
          19.1,
          28.4,
          14.3,
          21,
          31.3,
          19.5,
          12.5,
          26.3,
          24.5,
          27.1,
          29,
          16.2,
          28.1,
          20.6,
          22.3,
          29.9,
          20.8,
          21.5,
          30.6,
          30.4,
          14.1,
          10.9,
          28,
          15.4,
          25.6,
          22.3,
          23.8,
          9.2,
          27.9,
          15.2,
          18.1,
          22.4,
          25.2,
          27.5,
          35.1,
          28.1,
          20.2,
          18.6,
          14,
          28.2,
          21.3,
          12.5,
          9.8,
          23.8,
          30.5,
          11.2,
          13.8,
          19.8,
          32,
          8.2,
          36.1,
          24,
          20.2,
          9.8,
          19,
          13.2,
          16.5,
          31.9,
          9.4,
          13.8,
          19.3,
          26.4,
          20.1,
          16.7,
          15.3,
          18.7,
          21.6,
          20.3,
          15.5,
          21.4,
          19.9,
          11.7,
          16.1,
          17.8,
          19.3,
          13.8,
          21.1,
          20.3,
          12.7,
          12.7,
          17,
          19.5,
          18.7,
          17.2,
          19.6,
          20.4,
          25.6,
          12.7,
          14.7,
          19.9,
          21.5,
          15.8,
          20.1,
          19.5,
          22.8,
          17.7,
          22.1,
          24,
          23.6,
          19.3,
          9.9,
          11.9,
          18.6,
          15.9,
          18.9,
          14.5,
          20.6,
          15.4,
          18.6,
          16.3,
          17,
          16,
          14,
          16.7,
          10.9,
          14.3,
          13.9,
          14,
          13.6,
          16.8,
          18.7,
          13.9,
          15.6,
          20,
          18.9,
          22.5,
          14.6,
          24.7,
          15.5,
          18.4,
          26.8,
          17.8,
          11.5,
          11.6,
          14.6,
          18.1,
          17.7,
          15.1,
          16.9,
          14.6,
          18.2,
          23.7,
          23.9,
          17.6,
          19.4,
          15.1,
          24.2,
          16.1,
          22.8,
          13.5,
          18.6,
          20.1,
          22.6,
          12.1,
          10.7,
          13.1,
          21.8,
          20.2,
          12.2,
          14,
          23,
          18.4
         ],
         "xaxis": "x",
         "y": [
          29.7,
          33.9,
          39.7,
          34.2,
          43.3,
          33.5,
          24,
          22.6,
          33.2,
          24.4,
          29.5,
          36.1,
          24.9,
          29.3,
          30.5,
          34.1,
          38,
          22.7,
          26.7,
          35,
          35.5,
          40.5,
          22.5,
          30.7,
          23,
          22.7,
          18.6,
          34.6,
          27.4,
          18.5,
          24.5,
          19.9,
          33.5,
          36.4,
          26.6,
          23.7,
          36.3,
          38.4,
          28.6,
          34.9,
          27.8,
          29.6,
          38.4,
          27.7,
          21.3,
          30.5,
          31.3,
          34,
          35,
          25.4,
          38.8,
          31.1,
          34.3,
          37.7,
          29,
          29,
          38.1,
          38.1,
          16.9,
          19.9,
          36.1,
          22.5,
          36.6,
          32,
          17.7,
          18.7,
          37.7,
          25.2,
          26.5,
          30.4,
          34.9,
          35.3,
          44.2,
          37.8,
          29.8,
          25.1,
          27.1,
          33.8,
          32.3,
          21.4,
          17.9,
          33.4,
          38,
          22.5,
          22.1,
          27.5,
          39.7,
          19.4,
          41.5,
          33.2,
          32.4,
          18.5,
          21.2,
          21.6,
          23.7,
          30.1,
          19.5,
          23.5,
          28.4,
          37,
          22.6,
          19.4,
          18.5,
          20,
          23.1,
          20.3,
          18.5,
          22.3,
          18.9,
          15.8,
          16.5,
          19.9,
          20.7,
          20.5,
          21.5,
          22.2,
          16.4,
          15.1,
          19.1,
          19.3,
          19.7,
          16.7,
          21.6,
          19.1,
          19.1,
          18.6,
          16.8,
          22.1,
          25.2,
          17.8,
          23,
          19.6,
          25.1,
          17.8,
          23.2,
          30.9,
          31.6,
          22.9,
          15.4,
          15.7,
          18.9,
          18.5,
          22,
          16.7,
          21.6,
          19.1,
          20.4,
          18.5,
          18.5,
          20.4,
          16.4,
          17.5,
          12.6,
          15.7,
          14.8,
          15.2,
          18,
          19.6,
          20.2,
          17.3,
          17.9,
          21.8,
          18.4,
          20.1,
          12.4,
          24.1,
          17,
          19.5,
          27,
          21.4,
          14.7,
          13,
          16.7,
          20.3,
          21.5,
          13.5,
          17.7,
          14.6,
          20.9,
          25.5,
          24.8,
          18.1,
          20.9,
          16.8,
          25.4,
          15.5,
          24.2,
          15.4,
          19.9,
          23.4,
          22.8,
          17.7,
          13.2,
          14.8,
          19,
          20.2,
          13.6,
          15.9,
          26.2,
          19.3
         ],
         "yaxis": "y"
        }
       ],
       "layout": {
        "legend": {
         "tracegroupgap": 0
        },
        "margin": {
         "t": 60
        },
        "template": {
         "data": {
          "bar": [
           {
            "error_x": {
             "color": "#2a3f5f"
            },
            "error_y": {
             "color": "#2a3f5f"
            },
            "marker": {
             "line": {
              "color": "#E5ECF6",
              "width": 0.5
             }
            },
            "type": "bar"
           }
          ],
          "barpolar": [
           {
            "marker": {
             "line": {
              "color": "#E5ECF6",
              "width": 0.5
             }
            },
            "type": "barpolar"
           }
          ],
          "carpet": [
           {
            "aaxis": {
             "endlinecolor": "#2a3f5f",
             "gridcolor": "white",
             "linecolor": "white",
             "minorgridcolor": "white",
             "startlinecolor": "#2a3f5f"
            },
            "baxis": {
             "endlinecolor": "#2a3f5f",
             "gridcolor": "white",
             "linecolor": "white",
             "minorgridcolor": "white",
             "startlinecolor": "#2a3f5f"
            },
            "type": "carpet"
           }
          ],
          "choropleth": [
           {
            "colorbar": {
             "outlinewidth": 0,
             "ticks": ""
            },
            "type": "choropleth"
           }
          ],
          "contour": [
           {
            "colorbar": {
             "outlinewidth": 0,
             "ticks": ""
            },
            "colorscale": [
             [
              0,
              "#0d0887"
             ],
             [
              0.1111111111111111,
              "#46039f"
             ],
             [
              0.2222222222222222,
              "#7201a8"
             ],
             [
              0.3333333333333333,
              "#9c179e"
             ],
             [
              0.4444444444444444,
              "#bd3786"
             ],
             [
              0.5555555555555556,
              "#d8576b"
             ],
             [
              0.6666666666666666,
              "#ed7953"
             ],
             [
              0.7777777777777778,
              "#fb9f3a"
             ],
             [
              0.8888888888888888,
              "#fdca26"
             ],
             [
              1,
              "#f0f921"
             ]
            ],
            "type": "contour"
           }
          ],
          "contourcarpet": [
           {
            "colorbar": {
             "outlinewidth": 0,
             "ticks": ""
            },
            "type": "contourcarpet"
           }
          ],
          "heatmap": [
           {
            "colorbar": {
             "outlinewidth": 0,
             "ticks": ""
            },
            "colorscale": [
             [
              0,
              "#0d0887"
             ],
             [
              0.1111111111111111,
              "#46039f"
             ],
             [
              0.2222222222222222,
              "#7201a8"
             ],
             [
              0.3333333333333333,
              "#9c179e"
             ],
             [
              0.4444444444444444,
              "#bd3786"
             ],
             [
              0.5555555555555556,
              "#d8576b"
             ],
             [
              0.6666666666666666,
              "#ed7953"
             ],
             [
              0.7777777777777778,
              "#fb9f3a"
             ],
             [
              0.8888888888888888,
              "#fdca26"
             ],
             [
              1,
              "#f0f921"
             ]
            ],
            "type": "heatmap"
           }
          ],
          "heatmapgl": [
           {
            "colorbar": {
             "outlinewidth": 0,
             "ticks": ""
            },
            "colorscale": [
             [
              0,
              "#0d0887"
             ],
             [
              0.1111111111111111,
              "#46039f"
             ],
             [
              0.2222222222222222,
              "#7201a8"
             ],
             [
              0.3333333333333333,
              "#9c179e"
             ],
             [
              0.4444444444444444,
              "#bd3786"
             ],
             [
              0.5555555555555556,
              "#d8576b"
             ],
             [
              0.6666666666666666,
              "#ed7953"
             ],
             [
              0.7777777777777778,
              "#fb9f3a"
             ],
             [
              0.8888888888888888,
              "#fdca26"
             ],
             [
              1,
              "#f0f921"
             ]
            ],
            "type": "heatmapgl"
           }
          ],
          "histogram": [
           {
            "marker": {
             "colorbar": {
              "outlinewidth": 0,
              "ticks": ""
             }
            },
            "type": "histogram"
           }
          ],
          "histogram2d": [
           {
            "colorbar": {
             "outlinewidth": 0,
             "ticks": ""
            },
            "colorscale": [
             [
              0,
              "#0d0887"
             ],
             [
              0.1111111111111111,
              "#46039f"
             ],
             [
              0.2222222222222222,
              "#7201a8"
             ],
             [
              0.3333333333333333,
              "#9c179e"
             ],
             [
              0.4444444444444444,
              "#bd3786"
             ],
             [
              0.5555555555555556,
              "#d8576b"
             ],
             [
              0.6666666666666666,
              "#ed7953"
             ],
             [
              0.7777777777777778,
              "#fb9f3a"
             ],
             [
              0.8888888888888888,
              "#fdca26"
             ],
             [
              1,
              "#f0f921"
             ]
            ],
            "type": "histogram2d"
           }
          ],
          "histogram2dcontour": [
           {
            "colorbar": {
             "outlinewidth": 0,
             "ticks": ""
            },
            "colorscale": [
             [
              0,
              "#0d0887"
             ],
             [
              0.1111111111111111,
              "#46039f"
             ],
             [
              0.2222222222222222,
              "#7201a8"
             ],
             [
              0.3333333333333333,
              "#9c179e"
             ],
             [
              0.4444444444444444,
              "#bd3786"
             ],
             [
              0.5555555555555556,
              "#d8576b"
             ],
             [
              0.6666666666666666,
              "#ed7953"
             ],
             [
              0.7777777777777778,
              "#fb9f3a"
             ],
             [
              0.8888888888888888,
              "#fdca26"
             ],
             [
              1,
              "#f0f921"
             ]
            ],
            "type": "histogram2dcontour"
           }
          ],
          "mesh3d": [
           {
            "colorbar": {
             "outlinewidth": 0,
             "ticks": ""
            },
            "type": "mesh3d"
           }
          ],
          "parcoords": [
           {
            "line": {
             "colorbar": {
              "outlinewidth": 0,
              "ticks": ""
             }
            },
            "type": "parcoords"
           }
          ],
          "pie": [
           {
            "automargin": true,
            "type": "pie"
           }
          ],
          "scatter": [
           {
            "marker": {
             "colorbar": {
              "outlinewidth": 0,
              "ticks": ""
             }
            },
            "type": "scatter"
           }
          ],
          "scatter3d": [
           {
            "line": {
             "colorbar": {
              "outlinewidth": 0,
              "ticks": ""
             }
            },
            "marker": {
             "colorbar": {
              "outlinewidth": 0,
              "ticks": ""
             }
            },
            "type": "scatter3d"
           }
          ],
          "scattercarpet": [
           {
            "marker": {
             "colorbar": {
              "outlinewidth": 0,
              "ticks": ""
             }
            },
            "type": "scattercarpet"
           }
          ],
          "scattergeo": [
           {
            "marker": {
             "colorbar": {
              "outlinewidth": 0,
              "ticks": ""
             }
            },
            "type": "scattergeo"
           }
          ],
          "scattergl": [
           {
            "marker": {
             "colorbar": {
              "outlinewidth": 0,
              "ticks": ""
             }
            },
            "type": "scattergl"
           }
          ],
          "scattermapbox": [
           {
            "marker": {
             "colorbar": {
              "outlinewidth": 0,
              "ticks": ""
             }
            },
            "type": "scattermapbox"
           }
          ],
          "scatterpolar": [
           {
            "marker": {
             "colorbar": {
              "outlinewidth": 0,
              "ticks": ""
             }
            },
            "type": "scatterpolar"
           }
          ],
          "scatterpolargl": [
           {
            "marker": {
             "colorbar": {
              "outlinewidth": 0,
              "ticks": ""
             }
            },
            "type": "scatterpolargl"
           }
          ],
          "scatterternary": [
           {
            "marker": {
             "colorbar": {
              "outlinewidth": 0,
              "ticks": ""
             }
            },
            "type": "scatterternary"
           }
          ],
          "surface": [
           {
            "colorbar": {
             "outlinewidth": 0,
             "ticks": ""
            },
            "colorscale": [
             [
              0,
              "#0d0887"
             ],
             [
              0.1111111111111111,
              "#46039f"
             ],
             [
              0.2222222222222222,
              "#7201a8"
             ],
             [
              0.3333333333333333,
              "#9c179e"
             ],
             [
              0.4444444444444444,
              "#bd3786"
             ],
             [
              0.5555555555555556,
              "#d8576b"
             ],
             [
              0.6666666666666666,
              "#ed7953"
             ],
             [
              0.7777777777777778,
              "#fb9f3a"
             ],
             [
              0.8888888888888888,
              "#fdca26"
             ],
             [
              1,
              "#f0f921"
             ]
            ],
            "type": "surface"
           }
          ],
          "table": [
           {
            "cells": {
             "fill": {
              "color": "#EBF0F8"
             },
             "line": {
              "color": "white"
             }
            },
            "header": {
             "fill": {
              "color": "#C8D4E3"
             },
             "line": {
              "color": "white"
             }
            },
            "type": "table"
           }
          ]
         },
         "layout": {
          "annotationdefaults": {
           "arrowcolor": "#2a3f5f",
           "arrowhead": 0,
           "arrowwidth": 1
          },
          "coloraxis": {
           "colorbar": {
            "outlinewidth": 0,
            "ticks": ""
           }
          },
          "colorscale": {
           "diverging": [
            [
             0,
             "#8e0152"
            ],
            [
             0.1,
             "#c51b7d"
            ],
            [
             0.2,
             "#de77ae"
            ],
            [
             0.3,
             "#f1b6da"
            ],
            [
             0.4,
             "#fde0ef"
            ],
            [
             0.5,
             "#f7f7f7"
            ],
            [
             0.6,
             "#e6f5d0"
            ],
            [
             0.7,
             "#b8e186"
            ],
            [
             0.8,
             "#7fbc41"
            ],
            [
             0.9,
             "#4d9221"
            ],
            [
             1,
             "#276419"
            ]
           ],
           "sequential": [
            [
             0,
             "#0d0887"
            ],
            [
             0.1111111111111111,
             "#46039f"
            ],
            [
             0.2222222222222222,
             "#7201a8"
            ],
            [
             0.3333333333333333,
             "#9c179e"
            ],
            [
             0.4444444444444444,
             "#bd3786"
            ],
            [
             0.5555555555555556,
             "#d8576b"
            ],
            [
             0.6666666666666666,
             "#ed7953"
            ],
            [
             0.7777777777777778,
             "#fb9f3a"
            ],
            [
             0.8888888888888888,
             "#fdca26"
            ],
            [
             1,
             "#f0f921"
            ]
           ],
           "sequentialminus": [
            [
             0,
             "#0d0887"
            ],
            [
             0.1111111111111111,
             "#46039f"
            ],
            [
             0.2222222222222222,
             "#7201a8"
            ],
            [
             0.3333333333333333,
             "#9c179e"
            ],
            [
             0.4444444444444444,
             "#bd3786"
            ],
            [
             0.5555555555555556,
             "#d8576b"
            ],
            [
             0.6666666666666666,
             "#ed7953"
            ],
            [
             0.7777777777777778,
             "#fb9f3a"
            ],
            [
             0.8888888888888888,
             "#fdca26"
            ],
            [
             1,
             "#f0f921"
            ]
           ]
          },
          "colorway": [
           "#636efa",
           "#EF553B",
           "#00cc96",
           "#ab63fa",
           "#FFA15A",
           "#19d3f3",
           "#FF6692",
           "#B6E880",
           "#FF97FF",
           "#FECB52"
          ],
          "font": {
           "color": "#2a3f5f"
          },
          "geo": {
           "bgcolor": "white",
           "lakecolor": "white",
           "landcolor": "#E5ECF6",
           "showlakes": true,
           "showland": true,
           "subunitcolor": "white"
          },
          "hoverlabel": {
           "align": "left"
          },
          "hovermode": "closest",
          "mapbox": {
           "style": "light"
          },
          "paper_bgcolor": "white",
          "plot_bgcolor": "#E5ECF6",
          "polar": {
           "angularaxis": {
            "gridcolor": "white",
            "linecolor": "white",
            "ticks": ""
           },
           "bgcolor": "#E5ECF6",
           "radialaxis": {
            "gridcolor": "white",
            "linecolor": "white",
            "ticks": ""
           }
          },
          "scene": {
           "xaxis": {
            "backgroundcolor": "#E5ECF6",
            "gridcolor": "white",
            "gridwidth": 2,
            "linecolor": "white",
            "showbackground": true,
            "ticks": "",
            "zerolinecolor": "white"
           },
           "yaxis": {
            "backgroundcolor": "#E5ECF6",
            "gridcolor": "white",
            "gridwidth": 2,
            "linecolor": "white",
            "showbackground": true,
            "ticks": "",
            "zerolinecolor": "white"
           },
           "zaxis": {
            "backgroundcolor": "#E5ECF6",
            "gridcolor": "white",
            "gridwidth": 2,
            "linecolor": "white",
            "showbackground": true,
            "ticks": "",
            "zerolinecolor": "white"
           }
          },
          "shapedefaults": {
           "line": {
            "color": "#2a3f5f"
           }
          },
          "ternary": {
           "aaxis": {
            "gridcolor": "white",
            "linecolor": "white",
            "ticks": ""
           },
           "baxis": {
            "gridcolor": "white",
            "linecolor": "white",
            "ticks": ""
           },
           "bgcolor": "#E5ECF6",
           "caxis": {
            "gridcolor": "white",
            "linecolor": "white",
            "ticks": ""
           }
          },
          "title": {
           "x": 0.05
          },
          "xaxis": {
           "automargin": true,
           "gridcolor": "white",
           "linecolor": "white",
           "ticks": "",
           "title": {
            "standoff": 15
           },
           "zerolinecolor": "white",
           "zerolinewidth": 2
          },
          "yaxis": {
           "automargin": true,
           "gridcolor": "white",
           "linecolor": "white",
           "ticks": "",
           "title": {
            "standoff": 15
           },
           "zerolinecolor": "white",
           "zerolinewidth": 2
          }
         }
        },
        "xaxis": {
         "anchor": "y",
         "domain": [
          0,
          1
         ],
         "title": {
          "text": "x"
         }
        },
        "yaxis": {
         "anchor": "x",
         "domain": [
          0,
          1
         ],
         "title": {
          "text": "y"
         }
        }
       }
      }
     },
     "metadata": {},
     "output_type": "display_data"
    }
   ],
   "source": [
    "px.scatter(x=df.temp9am, y=df.temp3pm)"
   ]
  },
  {
   "cell_type": "markdown",
   "metadata": {},
   "source": [
    "Modeling the above:\n",
    "\n",
    "Our **Slope**, looking at two arbitrary points: `(9.8, 18.5), (30, 36.3)`, our slope is $\\sim \\frac{30-9.8}{36.3-18.5} = \\frac{20.2}{17.8} \\sim 1.13$\n",
    "\n",
    "For **Slope $\\sigma$**, `2x` seems to high, while `0x` is too low. Let's go with $\\sim 1$ \n",
    "\n",
    "Our **Intercept** then, using our first x point `(9.8, 18.5)` is $18.5 - 1.13 * 9.8 = 7.43$\n",
    "\n",
    "And for **Intercept $\\sigma$**, Looking at points around $x=20$, we have a range `[20.2 ... 32.4]` = `12.2`, so let's try $\\sqrt{10} \\sim 3$\n",
    "\n",
    "Finally, for model wide $\\sigma$, we'll use the same rational we used for **Intercept $\\sigma$**, $\\sim 3$\n",
    "\n",
    "Our model:\n",
    "\n",
    "- $Y_{i}|\\beta_{0},\\beta_{1},\\sigma \\sim N(\\mu_{i}, \\sigma^2) ~ with ~ \\mu_{i} = \\beta_{0} + \\beta_{1} x_{i}$\n",
    "- $\\beta_{0} \\sim N(7.43, 3)$\n",
    "- $\\beta_{1} \\sim N(1.13, 1)$\n",
    "- $\\sigma \\sim E(2)$ *#Used after graphing different loc values for the exponential dist*\n",
    "\n",
    "Book uses the following, including a centered $\\beta_{0,c}$:\n",
    "\n",
    "- $Y_{i}|\\beta_{0},\\beta_{1},\\sigma \\sim N(\\mu_{i}, \\sigma^2) ~ with ~ \\mu_{i} = \\beta_{0} + \\beta_{1} x_{i}$\n",
    "- $\\beta_{0} \\sim N(25, 5)$\n",
    "- $\\beta_{1} \\sim N(0, 3.1)$\n",
    "- $\\sigma \\sim E(0.13)$ *"
   ]
  },
  {
   "cell_type": "code",
   "execution_count": 65,
   "metadata": {},
   "outputs": [],
   "source": [
    "def model(x, y=None):\n",
    "    intercept = pyro.sample('intercept', dist.Normal(7.43, 3))\n",
    "    slope     = pyro.sample('slope', dist.Normal(2, 3.1))\n",
    "    sigma     = pyro.sample('sigma', dist.Exponential(0.13))\n",
    "\n",
    "    mu = intercept + slope * x\n",
    "\n",
    "    with pyro.plate('data', len(x)):\n",
    "        return pyro.sample('obs', dist.Normal(mu, sigma), obs=y)"
   ]
  },
  {
   "cell_type": "code",
   "execution_count": 70,
   "metadata": {},
   "outputs": [
    {
     "name": "stderr",
     "output_type": "stream",
     "text": [
      "Sample: 100%|██████████| 1250/1250 [00:28, 44.06it/s, step size=2.22e-01, acc. prob=0.924]\n"
     ]
    },
    {
     "name": "stdout",
     "output_type": "stream",
     "text": [
      "\n",
      "                 mean       std    median      5.0%     95.0%     n_eff     r_hat\n",
      "  intercept      4.47      0.87      4.46      3.01      5.82    420.54      1.00\n",
      "      sigma      4.13      0.22      4.11      3.77      4.46    440.11      1.00\n",
      "      slope      1.03      0.04      1.03      0.96      1.09    405.55      1.00\n",
      "\n",
      "Number of divergences: 0\n"
     ]
    }
   ],
   "source": [
    "x_data = t.tensor(df.temp9am.values, dtype=t.float)\n",
    "y_data = t.tensor(df.temp3pm.values, dtype=t.float)\n",
    "\n",
    "pyro.clear_param_store()\n",
    "mcmc = MCMC(NUTS(model), num_samples=1000, warmup_steps=250)\n",
    "mcmc.run(x_data, y_data)\n",
    "mcmc.summary()"
   ]
  },
  {
   "cell_type": "markdown",
   "metadata": {},
   "source": [
    "From Book,\n",
    "\n",
    ">Per the 80% credible interval for β1, there’s an 80% posterior probability that for every one degree increase in `temp9am`, the average increase in `temp3pm` is somewhere between $0.98$ and $1.1$ degrees.\n",
    "\n",
    "Above, we see our 95% interval for slope is $0.96$ to $1.09$ which is pretty close.\n",
    "\n",
    "From Book,\n",
    "\n",
    ">Further, per the 80% credible interval for standard deviation σ, this relationship is fairly strong – observed afternoon temperatures tend to fall somewhere between only $3.87$ and $4.41$ degrees\n",
    "\n",
    "Above, our σ is nearly exact.\n"
   ]
  },
  {
   "cell_type": "code",
   "execution_count": 72,
   "metadata": {},
   "outputs": [
    {
     "data": {
      "application/vnd.plotly.v1+json": {
       "config": {
        "plotlyServerURL": "https://plot.ly"
       },
       "data": [
        {
         "mode": "markers",
         "type": "scatter",
         "x": [
          20.9,
          23.4,
          24.1,
          26.4,
          36.7,
          25.1,
          14.9,
          15.9,
          24.6,
          15,
          24,
          27.4,
          18.5,
          21.7,
          19.8,
          28.4,
          32,
          8.9,
          22,
          30.9,
          27.7,
          33.8,
          12.7,
          25.5,
          16.7,
          11.8,
          9.5,
          21.8,
          20.2,
          9.6,
          17,
          9,
          26.7,
          29.2,
          17.8,
          13.4,
          30,
          26.1,
          19.1,
          28.4,
          14.3,
          21,
          31.3,
          19.5,
          12.5,
          26.3,
          24.5,
          27.1,
          29,
          16.2,
          28.1,
          20.6,
          22.3,
          29.9,
          20.8,
          21.5,
          30.6,
          30.4,
          14.1,
          10.9,
          28,
          15.4,
          25.6,
          22.3,
          23.8,
          9.2,
          27.9,
          15.2,
          18.1,
          22.4,
          25.2,
          27.5,
          35.1,
          28.1,
          20.2,
          18.6,
          14,
          28.2,
          21.3,
          12.5,
          9.8,
          23.8,
          30.5,
          11.2,
          13.8,
          19.8,
          32,
          8.2,
          36.1,
          24,
          20.2,
          9.8,
          19,
          13.2,
          16.5,
          31.9,
          9.4,
          13.8,
          19.3,
          26.4,
          20.1,
          16.7,
          15.3,
          18.7,
          21.6,
          20.3,
          15.5,
          21.4,
          19.9,
          11.7,
          16.1,
          17.8,
          19.3,
          13.8,
          21.1,
          20.3,
          12.7,
          12.7,
          17,
          19.5,
          18.7,
          17.2,
          19.6,
          20.4,
          25.6,
          12.7,
          14.7,
          19.9,
          21.5,
          15.8,
          20.1,
          19.5,
          22.8,
          17.7,
          22.1,
          24,
          23.6,
          19.3,
          9.9,
          11.9,
          18.6,
          15.9,
          18.9,
          14.5,
          20.6,
          15.4,
          18.6,
          16.3,
          17,
          16,
          14,
          16.7,
          10.9,
          14.3,
          13.9,
          14,
          13.6,
          16.8,
          18.7,
          13.9,
          15.6,
          20,
          18.9,
          22.5,
          14.6,
          24.7,
          15.5,
          18.4,
          26.8,
          17.8,
          11.5,
          11.6,
          14.6,
          18.1,
          17.7,
          15.1,
          16.9,
          14.6,
          18.2,
          23.7,
          23.9,
          17.6,
          19.4,
          15.1,
          24.2,
          16.1,
          22.8,
          13.5,
          18.6,
          20.1,
          22.6,
          12.1,
          10.7,
          13.1,
          21.8,
          20.2,
          12.2,
          14,
          23,
          18.4
         ],
         "y": [
          29.7,
          33.9,
          39.7,
          34.2,
          43.3,
          33.5,
          24,
          22.6,
          33.2,
          24.4,
          29.5,
          36.1,
          24.9,
          29.3,
          30.5,
          34.1,
          38,
          22.7,
          26.7,
          35,
          35.5,
          40.5,
          22.5,
          30.7,
          23,
          22.7,
          18.6,
          34.6,
          27.4,
          18.5,
          24.5,
          19.9,
          33.5,
          36.4,
          26.6,
          23.7,
          36.3,
          38.4,
          28.6,
          34.9,
          27.8,
          29.6,
          38.4,
          27.7,
          21.3,
          30.5,
          31.3,
          34,
          35,
          25.4,
          38.8,
          31.1,
          34.3,
          37.7,
          29,
          29,
          38.1,
          38.1,
          16.9,
          19.9,
          36.1,
          22.5,
          36.6,
          32,
          17.7,
          18.7,
          37.7,
          25.2,
          26.5,
          30.4,
          34.9,
          35.3,
          44.2,
          37.8,
          29.8,
          25.1,
          27.1,
          33.8,
          32.3,
          21.4,
          17.9,
          33.4,
          38,
          22.5,
          22.1,
          27.5,
          39.7,
          19.4,
          41.5,
          33.2,
          32.4,
          18.5,
          21.2,
          21.6,
          23.7,
          30.1,
          19.5,
          23.5,
          28.4,
          37,
          22.6,
          19.4,
          18.5,
          20,
          23.1,
          20.3,
          18.5,
          22.3,
          18.9,
          15.8,
          16.5,
          19.9,
          20.7,
          20.5,
          21.5,
          22.2,
          16.4,
          15.1,
          19.1,
          19.3,
          19.7,
          16.7,
          21.6,
          19.1,
          19.1,
          18.6,
          16.8,
          22.1,
          25.2,
          17.8,
          23,
          19.6,
          25.1,
          17.8,
          23.2,
          30.9,
          31.6,
          22.9,
          15.4,
          15.7,
          18.9,
          18.5,
          22,
          16.7,
          21.6,
          19.1,
          20.4,
          18.5,
          18.5,
          20.4,
          16.4,
          17.5,
          12.6,
          15.7,
          14.8,
          15.2,
          18,
          19.6,
          20.2,
          17.3,
          17.9,
          21.8,
          18.4,
          20.1,
          12.4,
          24.1,
          17,
          19.5,
          27,
          21.4,
          14.7,
          13,
          16.7,
          20.3,
          21.5,
          13.5,
          17.7,
          14.6,
          20.9,
          25.5,
          24.8,
          18.1,
          20.9,
          16.8,
          25.4,
          15.5,
          24.2,
          15.4,
          19.9,
          23.4,
          22.8,
          17.7,
          13.2,
          14.8,
          19,
          20.2,
          13.6,
          15.9,
          26.2,
          19.3
         ]
        },
        {
         "type": "scatter",
         "x": [
          3.1999999999999993,
          4.199999999999999,
          5.199999999999999,
          6.199999999999999,
          7.199999999999999,
          8.2,
          9.2,
          10.2,
          11.2,
          12.2,
          13.2,
          14.2,
          15.2,
          16.2,
          17.2,
          18.2,
          19.2,
          20.2,
          21.2,
          22.2,
          23.2,
          24.2,
          25.2,
          26.2,
          27.2,
          28.2,
          29.2,
          30.2,
          31.2,
          32.2,
          33.2,
          34.2,
          35.2,
          36.2,
          37.2,
          38.2,
          39.2,
          40.2,
          41.2
         ],
         "y": [
          7.718712329864501,
          8.753729104995728,
          9.788745880126953,
          10.823762655258179,
          11.858779430389404,
          12.89379620552063,
          13.928812980651855,
          14.963829755783081,
          15.998846530914307,
          17.033863306045532,
          18.068880081176758,
          19.103896856307983,
          20.13891363143921,
          21.173930406570435,
          22.20894718170166,
          23.243963956832886,
          24.27898073196411,
          25.313997507095337,
          26.349014282226562,
          27.384031057357788,
          28.419047832489014,
          29.45406460762024,
          30.489081382751465,
          31.52409815788269,
          32.559114933013916,
          33.59413170814514,
          34.62914848327637,
          35.66416525840759,
          36.69918203353882,
          37.734198808670044,
          38.76921558380127,
          39.804232358932495,
          40.83924913406372,
          41.874265909194946,
          42.90928268432617,
          43.9442994594574,
          44.97931623458862,
          46.01433300971985,
          47.049349784851074
         ]
        },
        {
         "type": "scatter",
         "x": [
          3.1999999999999993,
          4.199999999999999,
          5.199999999999999,
          6.199999999999999,
          7.199999999999999,
          8.2,
          9.2,
          10.2,
          11.2,
          12.2,
          13.2,
          14.2,
          15.2,
          16.2,
          17.2,
          18.2,
          19.2,
          20.2,
          21.2,
          22.2,
          23.2,
          24.2,
          25.2,
          26.2,
          27.2,
          28.2,
          29.2,
          30.2,
          31.2,
          32.2,
          33.2,
          34.2,
          35.2,
          36.2,
          37.2,
          38.2,
          39.2,
          40.2,
          41.2
         ],
         "y": [
          7.272556638717651,
          8.315871453285217,
          9.359186267852783,
          10.402501082420349,
          11.445815896987915,
          12.48913071155548,
          13.532445526123047,
          14.575760340690612,
          15.619075155258178,
          16.662389969825746,
          17.705704784393312,
          18.749019598960878,
          19.792334413528444,
          20.835649228096006,
          21.878964042663572,
          22.922278857231138,
          23.965593671798704,
          25.00890848636627,
          26.052223300933836,
          27.0955381155014,
          28.138852930068968,
          29.182167744636534,
          30.2254825592041,
          31.268797373771665,
          32.31211218833923,
          33.355427002906794,
          34.39874181747436,
          35.442056632041925,
          36.4853714466095,
          37.528686261177064,
          38.57200107574463,
          39.615315890312196,
          40.65863070487976,
          41.70194551944733,
          42.745260334014894,
          43.78857514858246,
          44.831889963150026,
          45.87520477771759,
          46.91851959228516
         ]
        },
        {
         "type": "scatter",
         "x": [
          3.1999999999999993,
          4.199999999999999,
          5.199999999999999,
          6.199999999999999,
          7.199999999999999,
          8.2,
          9.2,
          10.2,
          11.2,
          12.2,
          13.2,
          14.2,
          15.2,
          16.2,
          17.2,
          18.2,
          19.2,
          20.2,
          21.2,
          22.2,
          23.2,
          24.2,
          25.2,
          26.2,
          27.2,
          28.2,
          29.2,
          30.2,
          31.2,
          32.2,
          33.2,
          34.2,
          35.2,
          36.2,
          37.2,
          38.2,
          39.2,
          40.2,
          41.2
         ],
         "y": [
          7.590576553344726,
          8.607796692848204,
          9.625016832351683,
          10.642236971855162,
          11.659457111358641,
          12.67667725086212,
          13.6938973903656,
          14.711117529869078,
          15.728337669372557,
          16.745557808876036,
          17.762777948379515,
          18.779998087882994,
          19.797218227386473,
          20.814438366889952,
          21.83165850639343,
          22.84887864589691,
          23.86609878540039,
          24.883318924903868,
          25.900539064407347,
          26.917759203910826,
          27.934979343414305,
          28.952199482917784,
          29.969419622421263,
          30.986639761924742,
          32.00385990142822,
          33.0210800409317,
          34.03830018043518,
          35.05552031993866,
          36.07274045944214,
          37.08996059894562,
          38.1071807384491,
          39.12440087795258,
          40.14162101745606,
          41.15884115695954,
          42.17606129646302,
          43.1932814359665,
          44.210501575469976,
          45.227721714973455,
          46.244941854476934
         ]
        },
        {
         "type": "scatter",
         "x": [
          3.1999999999999993,
          4.199999999999999,
          5.199999999999999,
          6.199999999999999,
          7.199999999999999,
          8.2,
          9.2,
          10.2,
          11.2,
          12.2,
          13.2,
          14.2,
          15.2,
          16.2,
          17.2,
          18.2,
          19.2,
          20.2,
          21.2,
          22.2,
          23.2,
          24.2,
          25.2,
          26.2,
          27.2,
          28.2,
          29.2,
          30.2,
          31.2,
          32.2,
          33.2,
          34.2,
          35.2,
          36.2,
          37.2,
          38.2,
          39.2,
          40.2,
          41.2
         ],
         "y": [
          8.252896690368651,
          9.250104570388793,
          10.247312450408934,
          11.244520330429076,
          12.241728210449217,
          13.238936090469359,
          14.2361439704895,
          15.233351850509642,
          16.230559730529784,
          17.227767610549925,
          18.224975490570067,
          19.22218337059021,
          20.21939125061035,
          21.21659913063049,
          22.213807010650633,
          23.211014890670775,
          24.208222770690917,
          25.205430650711058,
          26.2026385307312,
          27.19984641075134,
          28.197054290771483,
          29.194262170791625,
          30.191470050811766,
          31.188677930831908,
          32.18588581085205,
          33.18309369087219,
          34.18030157089233,
          35.177509450912474,
          36.174717330932616,
          37.171925210952764,
          38.169133090972906,
          39.16634097099305,
          40.16354885101319,
          41.16075673103333,
          42.15796461105347,
          43.155172491073614,
          44.152380371093756,
          45.1495882511139,
          46.14679613113404
         ]
        },
        {
         "type": "scatter",
         "x": [
          3.1999999999999993,
          4.199999999999999,
          5.199999999999999,
          6.199999999999999,
          7.199999999999999,
          8.2,
          9.2,
          10.2,
          11.2,
          12.2,
          13.2,
          14.2,
          15.2,
          16.2,
          17.2,
          18.2,
          19.2,
          20.2,
          21.2,
          22.2,
          23.2,
          24.2,
          25.2,
          26.2,
          27.2,
          28.2,
          29.2,
          30.2,
          31.2,
          32.2,
          33.2,
          34.2,
          35.2,
          36.2,
          37.2,
          38.2,
          39.2,
          40.2,
          41.2
         ],
         "y": [
          7.338707876205444,
          8.384775710105895,
          9.430843544006347,
          10.476911377906799,
          11.52297921180725,
          12.569047045707702,
          13.615114879608154,
          14.661182713508605,
          15.707250547409057,
          16.75331838130951,
          17.79938621520996,
          18.845454049110412,
          19.891521883010864,
          20.937589716911315,
          21.983657550811767,
          23.02972538471222,
          24.07579321861267,
          25.121861052513122,
          26.167928886413574,
          27.213996720314025,
          28.260064554214477,
          29.30613238811493,
          30.35220022201538,
          31.398268055915832,
          32.44433588981629,
          33.49040372371674,
          34.53647155761719,
          35.58253939151764,
          36.62860722541809,
          37.674675059318545,
          38.720742893219,
          39.76681072711945,
          40.8128785610199,
          41.85894639492035,
          42.905014228820804,
          43.951082062721255,
          44.99714989662171,
          46.04321773052216,
          47.08928556442261
         ]
        },
        {
         "type": "scatter",
         "x": [
          3.1999999999999993,
          4.199999999999999,
          5.199999999999999,
          6.199999999999999,
          7.199999999999999,
          8.2,
          9.2,
          10.2,
          11.2,
          12.2,
          13.2,
          14.2,
          15.2,
          16.2,
          17.2,
          18.2,
          19.2,
          20.2,
          21.2,
          22.2,
          23.2,
          24.2,
          25.2,
          26.2,
          27.2,
          28.2,
          29.2,
          30.2,
          31.2,
          32.2,
          33.2,
          34.2,
          35.2,
          36.2,
          37.2,
          38.2,
          39.2,
          40.2,
          41.2
         ],
         "y": [
          9.13291654586792,
          10.096699690818786,
          11.060482835769653,
          12.02426598072052,
          12.988049125671386,
          13.951832270622253,
          14.91561541557312,
          15.879398560523986,
          16.843181705474855,
          17.80696485042572,
          18.77074799537659,
          19.734531140327455,
          20.69831428527832,
          21.66209743022919,
          22.62588057518005,
          23.58966372013092,
          24.553446865081785,
          25.51723001003265,
          26.48101315498352,
          27.444796299934385,
          28.40857944488525,
          29.37236258983612,
          30.336145734786985,
          31.299928879737852,
          32.263712024688715,
          33.22749516963958,
          34.19127831459045,
          35.155061459541315,
          36.11884460449218,
          37.082627749443056,
          38.04641089439392,
          39.01019403934479,
          39.973977184295656,
          40.93776032924652,
          41.90154347419739,
          42.865326619148256,
          43.82910976409912,
          44.79289290904999,
          45.756676054000856
         ]
        },
        {
         "type": "scatter",
         "x": [
          3.1999999999999993,
          4.199999999999999,
          5.199999999999999,
          6.199999999999999,
          7.199999999999999,
          8.2,
          9.2,
          10.2,
          11.2,
          12.2,
          13.2,
          14.2,
          15.2,
          16.2,
          17.2,
          18.2,
          19.2,
          20.2,
          21.2,
          22.2,
          23.2,
          24.2,
          25.2,
          26.2,
          27.2,
          28.2,
          29.2,
          30.2,
          31.2,
          32.2,
          33.2,
          34.2,
          35.2,
          36.2,
          37.2,
          38.2,
          39.2,
          40.2,
          41.2
         ],
         "y": [
          7.537724304199218,
          8.567156958580016,
          9.596589612960814,
          10.626022267341613,
          11.655454921722411,
          12.68488757610321,
          13.714320230484008,
          14.743752884864806,
          15.773185539245604,
          16.8026181936264,
          17.8320508480072,
          18.861483502387998,
          19.890916156768796,
          20.920348811149598,
          21.949781465530396,
          22.979214119911195,
          24.008646774291993,
          25.03807942867279,
          26.06751208305359,
          27.096944737434388,
          28.126377391815186,
          29.155810046195985,
          30.185242700576783,
          31.21467535495758,
          32.244108009338376,
          33.273540663719174,
          34.30297331809997,
          35.33240597248077,
          36.36183862686157,
          37.391271281242375,
          38.42070393562317,
          39.45013659000397,
          40.47956924438477,
          41.50900189876557,
          42.53843455314637,
          43.567867207527165,
          44.59729986190796,
          45.62673251628876,
          46.65616517066956
         ]
        },
        {
         "type": "scatter",
         "x": [
          3.1999999999999993,
          4.199999999999999,
          5.199999999999999,
          6.199999999999999,
          7.199999999999999,
          8.2,
          9.2,
          10.2,
          11.2,
          12.2,
          13.2,
          14.2,
          15.2,
          16.2,
          17.2,
          18.2,
          19.2,
          20.2,
          21.2,
          22.2,
          23.2,
          24.2,
          25.2,
          26.2,
          27.2,
          28.2,
          29.2,
          30.2,
          31.2,
          32.2,
          33.2,
          34.2,
          35.2,
          36.2,
          37.2,
          38.2,
          39.2,
          40.2,
          41.2
         ],
         "y": [
          6.550922441482543,
          7.626506972312926,
          8.70209150314331,
          9.777676033973693,
          10.853260564804076,
          11.92884509563446,
          13.004429626464843,
          14.080014157295226,
          15.15559868812561,
          16.23118321895599,
          17.306767749786374,
          18.382352280616757,
          19.457936811447144,
          20.533521342277528,
          21.60910587310791,
          22.684690403938294,
          23.760274934768677,
          24.83585946559906,
          25.911443996429444,
          26.987028527259827,
          28.06261305809021,
          29.138197588920594,
          30.213782119750977,
          31.28936665058136,
          32.36495118141174,
          33.440535712242124,
          34.51612024307251,
          35.59170477390289,
          36.66728930473327,
          37.742873835563664,
          38.81845836639405,
          39.89404289722443,
          40.969627428054814,
          42.0452119588852,
          43.12079648971558,
          44.196381020545964,
          45.27196555137635,
          46.34755008220673,
          47.423134613037114
         ]
        },
        {
         "type": "scatter",
         "x": [
          3.1999999999999993,
          4.199999999999999,
          5.199999999999999,
          6.199999999999999,
          7.199999999999999,
          8.2,
          9.2,
          10.2,
          11.2,
          12.2,
          13.2,
          14.2,
          15.2,
          16.2,
          17.2,
          18.2,
          19.2,
          20.2,
          21.2,
          22.2,
          23.2,
          24.2,
          25.2,
          26.2,
          27.2,
          28.2,
          29.2,
          30.2,
          31.2,
          32.2,
          33.2,
          34.2,
          35.2,
          36.2,
          37.2,
          38.2,
          39.2,
          40.2,
          41.2
         ],
         "y": [
          7.560663223266601,
          8.586426377296448,
          9.612189531326294,
          10.63795268535614,
          11.663715839385986,
          12.689478993415833,
          13.715242147445679,
          14.741005301475525,
          15.766768455505371,
          16.792531609535217,
          17.818294763565063,
          18.84405791759491,
          19.869821071624756,
          20.895584225654602,
          21.92134737968445,
          22.947110533714294,
          23.97287368774414,
          24.998636841773987,
          26.024399995803833,
          27.05016314983368,
          28.075926303863525,
          29.10168945789337,
          30.127452611923218,
          31.153215765953064,
          32.17897891998291,
          33.204742074012756,
          34.2305052280426,
          35.25626838207245,
          36.282031536102295,
          37.30779469013214,
          38.33355784416199,
          39.35932099819183,
          40.38508415222168,
          41.410847306251526,
          42.43661046028137,
          43.46237361431122,
          44.488136768341064,
          45.51389992237091,
          46.53966307640076
         ]
        },
        {
         "type": "scatter",
         "x": [
          3.1999999999999993,
          4.199999999999999,
          5.199999999999999,
          6.199999999999999,
          7.199999999999999,
          8.2,
          9.2,
          10.2,
          11.2,
          12.2,
          13.2,
          14.2,
          15.2,
          16.2,
          17.2,
          18.2,
          19.2,
          20.2,
          21.2,
          22.2,
          23.2,
          24.2,
          25.2,
          26.2,
          27.2,
          28.2,
          29.2,
          30.2,
          31.2,
          32.2,
          33.2,
          34.2,
          35.2,
          36.2,
          37.2,
          38.2,
          39.2,
          40.2,
          41.2
         ],
         "y": [
          8.005056571960449,
          9.027023863792419,
          10.048991155624389,
          11.07095844745636,
          12.09292573928833,
          13.1148930311203,
          14.13686032295227,
          15.15882761478424,
          16.18079490661621,
          17.20276219844818,
          18.22472949028015,
          19.24669678211212,
          20.26866407394409,
          21.29063136577606,
          22.31259865760803,
          23.33456594944,
          24.356533241271972,
          25.378500533103942,
          26.400467824935912,
          27.422435116767883,
          28.444402408599853,
          29.466369700431823,
          30.488336992263793,
          31.510304284095763,
          32.53227157592774,
          33.55423886775971,
          34.57620615959168,
          35.59817345142365,
          36.62014074325562,
          37.64210803508759,
          38.66407532691956,
          39.68604261875153,
          40.7080099105835,
          41.72997720241547,
          42.75194449424744,
          43.77391178607941,
          44.79587907791138,
          45.81784636974335,
          46.83981366157532
         ]
        }
       ],
       "layout": {
        "showlegend": false,
        "template": {
         "data": {
          "bar": [
           {
            "error_x": {
             "color": "#2a3f5f"
            },
            "error_y": {
             "color": "#2a3f5f"
            },
            "marker": {
             "line": {
              "color": "#E5ECF6",
              "width": 0.5
             }
            },
            "type": "bar"
           }
          ],
          "barpolar": [
           {
            "marker": {
             "line": {
              "color": "#E5ECF6",
              "width": 0.5
             }
            },
            "type": "barpolar"
           }
          ],
          "carpet": [
           {
            "aaxis": {
             "endlinecolor": "#2a3f5f",
             "gridcolor": "white",
             "linecolor": "white",
             "minorgridcolor": "white",
             "startlinecolor": "#2a3f5f"
            },
            "baxis": {
             "endlinecolor": "#2a3f5f",
             "gridcolor": "white",
             "linecolor": "white",
             "minorgridcolor": "white",
             "startlinecolor": "#2a3f5f"
            },
            "type": "carpet"
           }
          ],
          "choropleth": [
           {
            "colorbar": {
             "outlinewidth": 0,
             "ticks": ""
            },
            "type": "choropleth"
           }
          ],
          "contour": [
           {
            "colorbar": {
             "outlinewidth": 0,
             "ticks": ""
            },
            "colorscale": [
             [
              0,
              "#0d0887"
             ],
             [
              0.1111111111111111,
              "#46039f"
             ],
             [
              0.2222222222222222,
              "#7201a8"
             ],
             [
              0.3333333333333333,
              "#9c179e"
             ],
             [
              0.4444444444444444,
              "#bd3786"
             ],
             [
              0.5555555555555556,
              "#d8576b"
             ],
             [
              0.6666666666666666,
              "#ed7953"
             ],
             [
              0.7777777777777778,
              "#fb9f3a"
             ],
             [
              0.8888888888888888,
              "#fdca26"
             ],
             [
              1,
              "#f0f921"
             ]
            ],
            "type": "contour"
           }
          ],
          "contourcarpet": [
           {
            "colorbar": {
             "outlinewidth": 0,
             "ticks": ""
            },
            "type": "contourcarpet"
           }
          ],
          "heatmap": [
           {
            "colorbar": {
             "outlinewidth": 0,
             "ticks": ""
            },
            "colorscale": [
             [
              0,
              "#0d0887"
             ],
             [
              0.1111111111111111,
              "#46039f"
             ],
             [
              0.2222222222222222,
              "#7201a8"
             ],
             [
              0.3333333333333333,
              "#9c179e"
             ],
             [
              0.4444444444444444,
              "#bd3786"
             ],
             [
              0.5555555555555556,
              "#d8576b"
             ],
             [
              0.6666666666666666,
              "#ed7953"
             ],
             [
              0.7777777777777778,
              "#fb9f3a"
             ],
             [
              0.8888888888888888,
              "#fdca26"
             ],
             [
              1,
              "#f0f921"
             ]
            ],
            "type": "heatmap"
           }
          ],
          "heatmapgl": [
           {
            "colorbar": {
             "outlinewidth": 0,
             "ticks": ""
            },
            "colorscale": [
             [
              0,
              "#0d0887"
             ],
             [
              0.1111111111111111,
              "#46039f"
             ],
             [
              0.2222222222222222,
              "#7201a8"
             ],
             [
              0.3333333333333333,
              "#9c179e"
             ],
             [
              0.4444444444444444,
              "#bd3786"
             ],
             [
              0.5555555555555556,
              "#d8576b"
             ],
             [
              0.6666666666666666,
              "#ed7953"
             ],
             [
              0.7777777777777778,
              "#fb9f3a"
             ],
             [
              0.8888888888888888,
              "#fdca26"
             ],
             [
              1,
              "#f0f921"
             ]
            ],
            "type": "heatmapgl"
           }
          ],
          "histogram": [
           {
            "marker": {
             "colorbar": {
              "outlinewidth": 0,
              "ticks": ""
             }
            },
            "type": "histogram"
           }
          ],
          "histogram2d": [
           {
            "colorbar": {
             "outlinewidth": 0,
             "ticks": ""
            },
            "colorscale": [
             [
              0,
              "#0d0887"
             ],
             [
              0.1111111111111111,
              "#46039f"
             ],
             [
              0.2222222222222222,
              "#7201a8"
             ],
             [
              0.3333333333333333,
              "#9c179e"
             ],
             [
              0.4444444444444444,
              "#bd3786"
             ],
             [
              0.5555555555555556,
              "#d8576b"
             ],
             [
              0.6666666666666666,
              "#ed7953"
             ],
             [
              0.7777777777777778,
              "#fb9f3a"
             ],
             [
              0.8888888888888888,
              "#fdca26"
             ],
             [
              1,
              "#f0f921"
             ]
            ],
            "type": "histogram2d"
           }
          ],
          "histogram2dcontour": [
           {
            "colorbar": {
             "outlinewidth": 0,
             "ticks": ""
            },
            "colorscale": [
             [
              0,
              "#0d0887"
             ],
             [
              0.1111111111111111,
              "#46039f"
             ],
             [
              0.2222222222222222,
              "#7201a8"
             ],
             [
              0.3333333333333333,
              "#9c179e"
             ],
             [
              0.4444444444444444,
              "#bd3786"
             ],
             [
              0.5555555555555556,
              "#d8576b"
             ],
             [
              0.6666666666666666,
              "#ed7953"
             ],
             [
              0.7777777777777778,
              "#fb9f3a"
             ],
             [
              0.8888888888888888,
              "#fdca26"
             ],
             [
              1,
              "#f0f921"
             ]
            ],
            "type": "histogram2dcontour"
           }
          ],
          "mesh3d": [
           {
            "colorbar": {
             "outlinewidth": 0,
             "ticks": ""
            },
            "type": "mesh3d"
           }
          ],
          "parcoords": [
           {
            "line": {
             "colorbar": {
              "outlinewidth": 0,
              "ticks": ""
             }
            },
            "type": "parcoords"
           }
          ],
          "pie": [
           {
            "automargin": true,
            "type": "pie"
           }
          ],
          "scatter": [
           {
            "marker": {
             "colorbar": {
              "outlinewidth": 0,
              "ticks": ""
             }
            },
            "type": "scatter"
           }
          ],
          "scatter3d": [
           {
            "line": {
             "colorbar": {
              "outlinewidth": 0,
              "ticks": ""
             }
            },
            "marker": {
             "colorbar": {
              "outlinewidth": 0,
              "ticks": ""
             }
            },
            "type": "scatter3d"
           }
          ],
          "scattercarpet": [
           {
            "marker": {
             "colorbar": {
              "outlinewidth": 0,
              "ticks": ""
             }
            },
            "type": "scattercarpet"
           }
          ],
          "scattergeo": [
           {
            "marker": {
             "colorbar": {
              "outlinewidth": 0,
              "ticks": ""
             }
            },
            "type": "scattergeo"
           }
          ],
          "scattergl": [
           {
            "marker": {
             "colorbar": {
              "outlinewidth": 0,
              "ticks": ""
             }
            },
            "type": "scattergl"
           }
          ],
          "scattermapbox": [
           {
            "marker": {
             "colorbar": {
              "outlinewidth": 0,
              "ticks": ""
             }
            },
            "type": "scattermapbox"
           }
          ],
          "scatterpolar": [
           {
            "marker": {
             "colorbar": {
              "outlinewidth": 0,
              "ticks": ""
             }
            },
            "type": "scatterpolar"
           }
          ],
          "scatterpolargl": [
           {
            "marker": {
             "colorbar": {
              "outlinewidth": 0,
              "ticks": ""
             }
            },
            "type": "scatterpolargl"
           }
          ],
          "scatterternary": [
           {
            "marker": {
             "colorbar": {
              "outlinewidth": 0,
              "ticks": ""
             }
            },
            "type": "scatterternary"
           }
          ],
          "surface": [
           {
            "colorbar": {
             "outlinewidth": 0,
             "ticks": ""
            },
            "colorscale": [
             [
              0,
              "#0d0887"
             ],
             [
              0.1111111111111111,
              "#46039f"
             ],
             [
              0.2222222222222222,
              "#7201a8"
             ],
             [
              0.3333333333333333,
              "#9c179e"
             ],
             [
              0.4444444444444444,
              "#bd3786"
             ],
             [
              0.5555555555555556,
              "#d8576b"
             ],
             [
              0.6666666666666666,
              "#ed7953"
             ],
             [
              0.7777777777777778,
              "#fb9f3a"
             ],
             [
              0.8888888888888888,
              "#fdca26"
             ],
             [
              1,
              "#f0f921"
             ]
            ],
            "type": "surface"
           }
          ],
          "table": [
           {
            "cells": {
             "fill": {
              "color": "#EBF0F8"
             },
             "line": {
              "color": "white"
             }
            },
            "header": {
             "fill": {
              "color": "#C8D4E3"
             },
             "line": {
              "color": "white"
             }
            },
            "type": "table"
           }
          ]
         },
         "layout": {
          "annotationdefaults": {
           "arrowcolor": "#2a3f5f",
           "arrowhead": 0,
           "arrowwidth": 1
          },
          "coloraxis": {
           "colorbar": {
            "outlinewidth": 0,
            "ticks": ""
           }
          },
          "colorscale": {
           "diverging": [
            [
             0,
             "#8e0152"
            ],
            [
             0.1,
             "#c51b7d"
            ],
            [
             0.2,
             "#de77ae"
            ],
            [
             0.3,
             "#f1b6da"
            ],
            [
             0.4,
             "#fde0ef"
            ],
            [
             0.5,
             "#f7f7f7"
            ],
            [
             0.6,
             "#e6f5d0"
            ],
            [
             0.7,
             "#b8e186"
            ],
            [
             0.8,
             "#7fbc41"
            ],
            [
             0.9,
             "#4d9221"
            ],
            [
             1,
             "#276419"
            ]
           ],
           "sequential": [
            [
             0,
             "#0d0887"
            ],
            [
             0.1111111111111111,
             "#46039f"
            ],
            [
             0.2222222222222222,
             "#7201a8"
            ],
            [
             0.3333333333333333,
             "#9c179e"
            ],
            [
             0.4444444444444444,
             "#bd3786"
            ],
            [
             0.5555555555555556,
             "#d8576b"
            ],
            [
             0.6666666666666666,
             "#ed7953"
            ],
            [
             0.7777777777777778,
             "#fb9f3a"
            ],
            [
             0.8888888888888888,
             "#fdca26"
            ],
            [
             1,
             "#f0f921"
            ]
           ],
           "sequentialminus": [
            [
             0,
             "#0d0887"
            ],
            [
             0.1111111111111111,
             "#46039f"
            ],
            [
             0.2222222222222222,
             "#7201a8"
            ],
            [
             0.3333333333333333,
             "#9c179e"
            ],
            [
             0.4444444444444444,
             "#bd3786"
            ],
            [
             0.5555555555555556,
             "#d8576b"
            ],
            [
             0.6666666666666666,
             "#ed7953"
            ],
            [
             0.7777777777777778,
             "#fb9f3a"
            ],
            [
             0.8888888888888888,
             "#fdca26"
            ],
            [
             1,
             "#f0f921"
            ]
           ]
          },
          "colorway": [
           "#636efa",
           "#EF553B",
           "#00cc96",
           "#ab63fa",
           "#FFA15A",
           "#19d3f3",
           "#FF6692",
           "#B6E880",
           "#FF97FF",
           "#FECB52"
          ],
          "font": {
           "color": "#2a3f5f"
          },
          "geo": {
           "bgcolor": "white",
           "lakecolor": "white",
           "landcolor": "#E5ECF6",
           "showlakes": true,
           "showland": true,
           "subunitcolor": "white"
          },
          "hoverlabel": {
           "align": "left"
          },
          "hovermode": "closest",
          "mapbox": {
           "style": "light"
          },
          "paper_bgcolor": "white",
          "plot_bgcolor": "#E5ECF6",
          "polar": {
           "angularaxis": {
            "gridcolor": "white",
            "linecolor": "white",
            "ticks": ""
           },
           "bgcolor": "#E5ECF6",
           "radialaxis": {
            "gridcolor": "white",
            "linecolor": "white",
            "ticks": ""
           }
          },
          "scene": {
           "xaxis": {
            "backgroundcolor": "#E5ECF6",
            "gridcolor": "white",
            "gridwidth": 2,
            "linecolor": "white",
            "showbackground": true,
            "ticks": "",
            "zerolinecolor": "white"
           },
           "yaxis": {
            "backgroundcolor": "#E5ECF6",
            "gridcolor": "white",
            "gridwidth": 2,
            "linecolor": "white",
            "showbackground": true,
            "ticks": "",
            "zerolinecolor": "white"
           },
           "zaxis": {
            "backgroundcolor": "#E5ECF6",
            "gridcolor": "white",
            "gridwidth": 2,
            "linecolor": "white",
            "showbackground": true,
            "ticks": "",
            "zerolinecolor": "white"
           }
          },
          "shapedefaults": {
           "line": {
            "color": "#2a3f5f"
           }
          },
          "ternary": {
           "aaxis": {
            "gridcolor": "white",
            "linecolor": "white",
            "ticks": ""
           },
           "baxis": {
            "gridcolor": "white",
            "linecolor": "white",
            "ticks": ""
           },
           "bgcolor": "#E5ECF6",
           "caxis": {
            "gridcolor": "white",
            "linecolor": "white",
            "ticks": ""
           }
          },
          "title": {
           "x": 0.05
          },
          "xaxis": {
           "automargin": true,
           "gridcolor": "white",
           "linecolor": "white",
           "ticks": "",
           "title": {
            "standoff": 15
           },
           "zerolinecolor": "white",
           "zerolinewidth": 2
          },
          "yaxis": {
           "automargin": true,
           "gridcolor": "white",
           "linecolor": "white",
           "ticks": "",
           "title": {
            "standoff": 15
           },
           "zerolinecolor": "white",
           "zerolinewidth": 2
          }
         }
        }
       }
      }
     },
     "metadata": {},
     "output_type": "display_data"
    }
   ],
   "source": [
    "sample_betas = pd.DataFrame(mcmc.get_samples())[['intercept', 'slope']]\n",
    "\n",
    "def pull_sample():\n",
    "    b0, b1 = sample_betas.sample(1).values[0]\n",
    "    X = np.arange(df.temp9am.min() - 5, df.temp9am.max() + 5)\n",
    "    Y = [b0+b1*x for x in X]\n",
    "    return X,Y\n",
    "\n",
    "fig = go.Figure()\n",
    "fig.add_trace(\n",
    "    go.Scatter(x=df.temp9am, y=df.temp3pm, mode='markers')\n",
    ")\n",
    "for i in range(10):\n",
    "    x, y = pull_sample()\n",
    "    fig.add_trace(\n",
    "        go.Scatter(x=x, y=y)\n",
    "    )\n",
    "\n",
    "fig.update_layout(showlegend=False)\n",
    "fig"
   ]
  },
  {
   "cell_type": "markdown",
   "metadata": {},
   "source": [
    "## Adding location feature"
   ]
  },
  {
   "cell_type": "markdown",
   "metadata": {},
   "source": [
    "The `location` feature is categorical. Exploring its relationship to `temp3pm`"
   ]
  },
  {
   "cell_type": "code",
   "execution_count": 92,
   "metadata": {},
   "outputs": [
    {
     "data": {
      "application/vnd.plotly.v1+json": {
       "config": {
        "plotlyServerURL": "https://plot.ly"
       },
       "data": [
        {
         "hovertemplate": "location=Uluru<br>temp9am=%{x}<br>temp3pm=%{y}<extra></extra>",
         "legendgroup": "Uluru",
         "marker": {
          "color": "#636efa",
          "symbol": "circle"
         },
         "mode": "markers",
         "name": "Uluru",
         "orientation": "v",
         "showlegend": true,
         "type": "scatter",
         "x": [
          20.9,
          23.4,
          24.1,
          26.4,
          36.7,
          25.1,
          14.9,
          15.9,
          24.6,
          15,
          24,
          27.4,
          18.5,
          21.7,
          19.8,
          28.4,
          32,
          8.9,
          22,
          30.9,
          27.7,
          33.8,
          12.7,
          25.5,
          16.7,
          11.8,
          9.5,
          21.8,
          20.2,
          9.6,
          17,
          9,
          26.7,
          29.2,
          17.8,
          13.4,
          30,
          26.1,
          19.1,
          28.4,
          14.3,
          21,
          31.3,
          19.5,
          12.5,
          26.3,
          24.5,
          27.1,
          29,
          16.2,
          28.1,
          20.6,
          22.3,
          29.9,
          20.8,
          21.5,
          30.6,
          30.4,
          14.1,
          10.9,
          28,
          15.4,
          25.6,
          22.3,
          23.8,
          9.2,
          27.9,
          15.2,
          18.1,
          22.4,
          25.2,
          27.5,
          35.1,
          28.1,
          20.2,
          18.6,
          14,
          28.2,
          21.3,
          12.5,
          9.8,
          23.8,
          30.5,
          11.2,
          13.8,
          19.8,
          32,
          8.2,
          36.1,
          24,
          20.2,
          9.8,
          19,
          13.2,
          16.5,
          31.9,
          9.4,
          13.8,
          19.3,
          26.4
         ],
         "xaxis": "x",
         "y": [
          29.7,
          33.9,
          39.7,
          34.2,
          43.3,
          33.5,
          24,
          22.6,
          33.2,
          24.4,
          29.5,
          36.1,
          24.9,
          29.3,
          30.5,
          34.1,
          38,
          22.7,
          26.7,
          35,
          35.5,
          40.5,
          22.5,
          30.7,
          23,
          22.7,
          18.6,
          34.6,
          27.4,
          18.5,
          24.5,
          19.9,
          33.5,
          36.4,
          26.6,
          23.7,
          36.3,
          38.4,
          28.6,
          34.9,
          27.8,
          29.6,
          38.4,
          27.7,
          21.3,
          30.5,
          31.3,
          34,
          35,
          25.4,
          38.8,
          31.1,
          34.3,
          37.7,
          29,
          29,
          38.1,
          38.1,
          16.9,
          19.9,
          36.1,
          22.5,
          36.6,
          32,
          17.7,
          18.7,
          37.7,
          25.2,
          26.5,
          30.4,
          34.9,
          35.3,
          44.2,
          37.8,
          29.8,
          25.1,
          27.1,
          33.8,
          32.3,
          21.4,
          17.9,
          33.4,
          38,
          22.5,
          22.1,
          27.5,
          39.7,
          19.4,
          41.5,
          33.2,
          32.4,
          18.5,
          21.2,
          21.6,
          23.7,
          30.1,
          19.5,
          23.5,
          28.4,
          37
         ],
         "yaxis": "y"
        },
        {
         "hovertemplate": "<b>OLS trendline</b><br>temp3pm = 0.865723 * temp9am + 11.154<br>R<sup>2</sup>=0.840665<br><br>location=Uluru<br>temp9am=%{x}<br>temp3pm=%{y} <b>(trend)</b><extra></extra>",
         "legendgroup": "Uluru",
         "marker": {
          "color": "#636efa",
          "symbol": "circle"
         },
         "mode": "lines",
         "name": "Uluru",
         "showlegend": false,
         "type": "scatter",
         "x": [
          8.2,
          8.9,
          9,
          9.2,
          9.4,
          9.5,
          9.6,
          9.8,
          9.8,
          10.9,
          11.2,
          11.8,
          12.5,
          12.5,
          12.7,
          13.2,
          13.4,
          13.8,
          13.8,
          14,
          14.1,
          14.3,
          14.9,
          15,
          15.2,
          15.4,
          15.9,
          16.2,
          16.5,
          16.7,
          17,
          17.8,
          18.1,
          18.5,
          18.6,
          19,
          19.1,
          19.3,
          19.5,
          19.8,
          19.8,
          20.2,
          20.2,
          20.2,
          20.6,
          20.8,
          20.9,
          21,
          21.3,
          21.5,
          21.7,
          21.8,
          22,
          22.3,
          22.3,
          22.4,
          23.4,
          23.8,
          23.8,
          24,
          24,
          24.1,
          24.5,
          24.6,
          25.1,
          25.2,
          25.5,
          25.6,
          26.1,
          26.3,
          26.4,
          26.4,
          26.7,
          27.1,
          27.4,
          27.5,
          27.7,
          27.9,
          28,
          28.1,
          28.1,
          28.2,
          28.4,
          28.4,
          29,
          29.2,
          29.9,
          30,
          30.4,
          30.5,
          30.6,
          30.9,
          31.3,
          31.9,
          32,
          32,
          33.8,
          35.1,
          36.1,
          36.7
         ],
         "xaxis": "x",
         "y": [
          18.252903856250185,
          18.858909842106534,
          18.945482125800297,
          19.118626693187824,
          19.291771260575352,
          19.378343544269114,
          19.464915827962876,
          19.638060395350408,
          19.638060395350408,
          20.590355515981805,
          20.8500723670631,
          21.36950606922568,
          21.975512055082028,
          21.975512055082028,
          22.148656622469552,
          22.58151804093837,
          22.7546626083259,
          23.100951743100957,
          23.100951743100957,
          23.27409631048848,
          23.360668594182243,
          23.533813161569775,
          24.053246863732355,
          24.139819147426117,
          24.312963714813648,
          24.486108282201172,
          24.91896970066999,
          25.178686551751284,
          25.438403402832574,
          25.6115479702201,
          25.871264821301395,
          26.563843090851503,
          26.823559941932793,
          27.169849076707848,
          27.256421360401614,
          27.602710495176666,
          27.68928277887043,
          27.86242734625796,
          28.035571913645487,
          28.295288764726777,
          28.295288764726777,
          28.64157789950183,
          28.64157789950183,
          28.64157789950183,
          28.98786703427689,
          29.161011601664413,
          29.247583885358175,
          29.33415616905194,
          29.593873020133234,
          29.76701758752076,
          29.940162154908286,
          30.026734438602052,
          30.19987900598958,
          30.45959585707087,
          30.45959585707087,
          30.54616814076463,
          31.411890977702267,
          31.758180112477326,
          31.758180112477326,
          31.93132467986485,
          31.93132467986485,
          32.01789696355861,
          32.364186098333676,
          32.45075838202744,
          32.883619800496255,
          32.97019208419002,
          33.22990893527131,
          33.31648121896507,
          33.74934263743389,
          33.92248720482142,
          34.00905948851518,
          34.00905948851518,
          34.26877633959647,
          34.615065474371534,
          34.87478232545281,
          34.96135460914658,
          35.134499176534106,
          35.30764374392163,
          35.3942160276154,
          35.48078831130917,
          35.48078831130917,
          35.567360595002924,
          35.740505162390455,
          35.740505162390455,
          36.259938864553035,
          36.43308343194056,
          37.03908941779691,
          37.12566170149067,
          37.471950836265734,
          37.55852311995949,
          37.64509540365326,
          37.90481225473455,
          38.2511013895096,
          38.77053509167219,
          38.85710737536595,
          38.85710737536595,
          40.41540848185369,
          41.540848169872625,
          42.40657100681027,
          42.92600470897285
         ],
         "yaxis": "y"
        },
        {
         "hovertemplate": "location=Wollongong<br>temp9am=%{x}<br>temp3pm=%{y}<extra></extra>",
         "legendgroup": "Wollongong",
         "marker": {
          "color": "#EF553B",
          "symbol": "circle"
         },
         "mode": "markers",
         "name": "Wollongong",
         "orientation": "v",
         "showlegend": true,
         "type": "scatter",
         "x": [
          20.1,
          16.7,
          15.3,
          18.7,
          21.6,
          20.3,
          15.5,
          21.4,
          19.9,
          11.7,
          16.1,
          17.8,
          19.3,
          13.8,
          21.1,
          20.3,
          12.7,
          12.7,
          17,
          19.5,
          18.7,
          17.2,
          19.6,
          20.4,
          25.6,
          12.7,
          14.7,
          19.9,
          21.5,
          15.8,
          20.1,
          19.5,
          22.8,
          17.7,
          22.1,
          24,
          23.6,
          19.3,
          9.9,
          11.9,
          18.6,
          15.9,
          18.9,
          14.5,
          20.6,
          15.4,
          18.6,
          16.3,
          17,
          16,
          14,
          16.7,
          10.9,
          14.3,
          13.9,
          14,
          13.6,
          16.8,
          18.7,
          13.9,
          15.6,
          20,
          18.9,
          22.5,
          14.6,
          24.7,
          15.5,
          18.4,
          26.8,
          17.8,
          11.5,
          11.6,
          14.6,
          18.1,
          17.7,
          15.1,
          16.9,
          14.6,
          18.2,
          23.7,
          23.9,
          17.6,
          19.4,
          15.1,
          24.2,
          16.1,
          22.8,
          13.5,
          18.6,
          20.1,
          22.6,
          12.1,
          10.7,
          13.1,
          21.8,
          20.2,
          12.2,
          14,
          23,
          18.4
         ],
         "xaxis": "x",
         "y": [
          22.6,
          19.4,
          18.5,
          20,
          23.1,
          20.3,
          18.5,
          22.3,
          18.9,
          15.8,
          16.5,
          19.9,
          20.7,
          20.5,
          21.5,
          22.2,
          16.4,
          15.1,
          19.1,
          19.3,
          19.7,
          16.7,
          21.6,
          19.1,
          19.1,
          18.6,
          16.8,
          22.1,
          25.2,
          17.8,
          23,
          19.6,
          25.1,
          17.8,
          23.2,
          30.9,
          31.6,
          22.9,
          15.4,
          15.7,
          18.9,
          18.5,
          22,
          16.7,
          21.6,
          19.1,
          20.4,
          18.5,
          18.5,
          20.4,
          16.4,
          17.5,
          12.6,
          15.7,
          14.8,
          15.2,
          18,
          19.6,
          20.2,
          17.3,
          17.9,
          21.8,
          18.4,
          20.1,
          12.4,
          24.1,
          17,
          19.5,
          27,
          21.4,
          14.7,
          13,
          16.7,
          20.3,
          21.5,
          13.5,
          17.7,
          14.6,
          20.9,
          25.5,
          24.8,
          18.1,
          20.9,
          16.8,
          25.4,
          15.5,
          24.2,
          15.4,
          19.9,
          23.4,
          22.8,
          17.7,
          13.2,
          14.8,
          19,
          20.2,
          13.6,
          15.9,
          26.2,
          19.3
         ],
         "yaxis": "y"
        },
        {
         "hovertemplate": "<b>OLS trendline</b><br>temp3pm = 0.826195 * temp9am + 4.82671<br>R<sup>2</sup>=0.718302<br><br>location=Wollongong<br>temp9am=%{x}<br>temp3pm=%{y} <b>(trend)</b><extra></extra>",
         "legendgroup": "Wollongong",
         "marker": {
          "color": "#EF553B",
          "symbol": "circle"
         },
         "mode": "lines",
         "name": "Wollongong",
         "showlegend": false,
         "type": "scatter",
         "x": [
          9.9,
          10.7,
          10.9,
          11.5,
          11.6,
          11.7,
          11.9,
          12.1,
          12.2,
          12.7,
          12.7,
          12.7,
          13.1,
          13.5,
          13.6,
          13.8,
          13.9,
          13.9,
          14,
          14,
          14,
          14.3,
          14.5,
          14.6,
          14.6,
          14.6,
          14.7,
          15.1,
          15.1,
          15.3,
          15.4,
          15.5,
          15.5,
          15.6,
          15.8,
          15.9,
          16,
          16.1,
          16.1,
          16.3,
          16.7,
          16.7,
          16.8,
          16.9,
          17,
          17,
          17.2,
          17.6,
          17.7,
          17.7,
          17.8,
          17.8,
          18.1,
          18.2,
          18.4,
          18.4,
          18.6,
          18.6,
          18.6,
          18.7,
          18.7,
          18.7,
          18.9,
          18.9,
          19.3,
          19.3,
          19.4,
          19.5,
          19.5,
          19.6,
          19.9,
          19.9,
          20,
          20.1,
          20.1,
          20.1,
          20.2,
          20.3,
          20.3,
          20.4,
          20.6,
          21.1,
          21.4,
          21.5,
          21.6,
          21.8,
          22.1,
          22.5,
          22.6,
          22.8,
          22.8,
          23,
          23.6,
          23.7,
          23.9,
          24,
          24.2,
          24.7,
          25.6,
          26.8
         ],
         "xaxis": "x",
         "y": [
          13.006034941716452,
          13.666990851017736,
          13.832229828343058,
          14.327946760319023,
          14.410566248981683,
          14.493185737644342,
          14.658424714969666,
          14.823663692294986,
          14.906283180957647,
          15.31938062427095,
          15.31938062427095,
          15.31938062427095,
          15.649858578921593,
          15.980336533572235,
          16.062956022234896,
          16.228194999560216,
          16.310814488222878,
          16.310814488222878,
          16.39343397688554,
          16.39343397688554,
          16.39343397688554,
          16.64129244287352,
          16.806531420198844,
          16.889150908861502,
          16.889150908861502,
          16.889150908861502,
          16.97177039752416,
          17.302248352174807,
          17.302248352174807,
          17.467487329500127,
          17.55010681816279,
          17.632726306825447,
          17.632726306825447,
          17.71534579548811,
          17.880584772813428,
          17.963204261476093,
          18.04582375013875,
          18.128443238801413,
          18.128443238801413,
          18.293682216126733,
          18.624160170777376,
          18.624160170777376,
          18.706779659440038,
          18.789399148102696,
          18.872018636765358,
          18.872018636765358,
          19.037257614090677,
          19.367735568741324,
          19.450355057403982,
          19.450355057403982,
          19.532974546066644,
          19.532974546066644,
          19.78083301205463,
          19.863452500717287,
          20.028691478042607,
          20.028691478042607,
          20.19393045536793,
          20.19393045536793,
          20.19393045536793,
          20.276549944030588,
          20.276549944030588,
          20.276549944030588,
          20.441788921355908,
          20.441788921355908,
          20.772266876006555,
          20.772266876006555,
          20.854886364669213,
          20.937505853331874,
          20.937505853331874,
          21.020125341994536,
          21.267983807982514,
          21.267983807982514,
          21.350603296645176,
          21.43322278530784,
          21.43322278530784,
          21.43322278530784,
          21.5158422739705,
          21.59846176263316,
          21.59846176263316,
          21.68108125129582,
          21.846320228621142,
          22.259417671934447,
          22.507276137922425,
          22.589895626585086,
          22.672515115247748,
          22.837754092573068,
          23.085612558561053,
          23.416090513211692,
          23.498710001874354,
          23.663948979199677,
          23.663948979199677,
          23.829187956524997,
          24.32490488850096,
          24.40752437716362,
          24.57276335448894,
          24.655382843151603,
          24.820621820476923,
          25.233719263790228,
          25.977294661754176,
          26.9687285257061
         ],
         "yaxis": "y"
        }
       ],
       "layout": {
        "legend": {
         "title": {
          "text": "location"
         },
         "tracegroupgap": 0
        },
        "margin": {
         "t": 60
        },
        "template": {
         "data": {
          "bar": [
           {
            "error_x": {
             "color": "#2a3f5f"
            },
            "error_y": {
             "color": "#2a3f5f"
            },
            "marker": {
             "line": {
              "color": "#E5ECF6",
              "width": 0.5
             }
            },
            "type": "bar"
           }
          ],
          "barpolar": [
           {
            "marker": {
             "line": {
              "color": "#E5ECF6",
              "width": 0.5
             }
            },
            "type": "barpolar"
           }
          ],
          "carpet": [
           {
            "aaxis": {
             "endlinecolor": "#2a3f5f",
             "gridcolor": "white",
             "linecolor": "white",
             "minorgridcolor": "white",
             "startlinecolor": "#2a3f5f"
            },
            "baxis": {
             "endlinecolor": "#2a3f5f",
             "gridcolor": "white",
             "linecolor": "white",
             "minorgridcolor": "white",
             "startlinecolor": "#2a3f5f"
            },
            "type": "carpet"
           }
          ],
          "choropleth": [
           {
            "colorbar": {
             "outlinewidth": 0,
             "ticks": ""
            },
            "type": "choropleth"
           }
          ],
          "contour": [
           {
            "colorbar": {
             "outlinewidth": 0,
             "ticks": ""
            },
            "colorscale": [
             [
              0,
              "#0d0887"
             ],
             [
              0.1111111111111111,
              "#46039f"
             ],
             [
              0.2222222222222222,
              "#7201a8"
             ],
             [
              0.3333333333333333,
              "#9c179e"
             ],
             [
              0.4444444444444444,
              "#bd3786"
             ],
             [
              0.5555555555555556,
              "#d8576b"
             ],
             [
              0.6666666666666666,
              "#ed7953"
             ],
             [
              0.7777777777777778,
              "#fb9f3a"
             ],
             [
              0.8888888888888888,
              "#fdca26"
             ],
             [
              1,
              "#f0f921"
             ]
            ],
            "type": "contour"
           }
          ],
          "contourcarpet": [
           {
            "colorbar": {
             "outlinewidth": 0,
             "ticks": ""
            },
            "type": "contourcarpet"
           }
          ],
          "heatmap": [
           {
            "colorbar": {
             "outlinewidth": 0,
             "ticks": ""
            },
            "colorscale": [
             [
              0,
              "#0d0887"
             ],
             [
              0.1111111111111111,
              "#46039f"
             ],
             [
              0.2222222222222222,
              "#7201a8"
             ],
             [
              0.3333333333333333,
              "#9c179e"
             ],
             [
              0.4444444444444444,
              "#bd3786"
             ],
             [
              0.5555555555555556,
              "#d8576b"
             ],
             [
              0.6666666666666666,
              "#ed7953"
             ],
             [
              0.7777777777777778,
              "#fb9f3a"
             ],
             [
              0.8888888888888888,
              "#fdca26"
             ],
             [
              1,
              "#f0f921"
             ]
            ],
            "type": "heatmap"
           }
          ],
          "heatmapgl": [
           {
            "colorbar": {
             "outlinewidth": 0,
             "ticks": ""
            },
            "colorscale": [
             [
              0,
              "#0d0887"
             ],
             [
              0.1111111111111111,
              "#46039f"
             ],
             [
              0.2222222222222222,
              "#7201a8"
             ],
             [
              0.3333333333333333,
              "#9c179e"
             ],
             [
              0.4444444444444444,
              "#bd3786"
             ],
             [
              0.5555555555555556,
              "#d8576b"
             ],
             [
              0.6666666666666666,
              "#ed7953"
             ],
             [
              0.7777777777777778,
              "#fb9f3a"
             ],
             [
              0.8888888888888888,
              "#fdca26"
             ],
             [
              1,
              "#f0f921"
             ]
            ],
            "type": "heatmapgl"
           }
          ],
          "histogram": [
           {
            "marker": {
             "colorbar": {
              "outlinewidth": 0,
              "ticks": ""
             }
            },
            "type": "histogram"
           }
          ],
          "histogram2d": [
           {
            "colorbar": {
             "outlinewidth": 0,
             "ticks": ""
            },
            "colorscale": [
             [
              0,
              "#0d0887"
             ],
             [
              0.1111111111111111,
              "#46039f"
             ],
             [
              0.2222222222222222,
              "#7201a8"
             ],
             [
              0.3333333333333333,
              "#9c179e"
             ],
             [
              0.4444444444444444,
              "#bd3786"
             ],
             [
              0.5555555555555556,
              "#d8576b"
             ],
             [
              0.6666666666666666,
              "#ed7953"
             ],
             [
              0.7777777777777778,
              "#fb9f3a"
             ],
             [
              0.8888888888888888,
              "#fdca26"
             ],
             [
              1,
              "#f0f921"
             ]
            ],
            "type": "histogram2d"
           }
          ],
          "histogram2dcontour": [
           {
            "colorbar": {
             "outlinewidth": 0,
             "ticks": ""
            },
            "colorscale": [
             [
              0,
              "#0d0887"
             ],
             [
              0.1111111111111111,
              "#46039f"
             ],
             [
              0.2222222222222222,
              "#7201a8"
             ],
             [
              0.3333333333333333,
              "#9c179e"
             ],
             [
              0.4444444444444444,
              "#bd3786"
             ],
             [
              0.5555555555555556,
              "#d8576b"
             ],
             [
              0.6666666666666666,
              "#ed7953"
             ],
             [
              0.7777777777777778,
              "#fb9f3a"
             ],
             [
              0.8888888888888888,
              "#fdca26"
             ],
             [
              1,
              "#f0f921"
             ]
            ],
            "type": "histogram2dcontour"
           }
          ],
          "mesh3d": [
           {
            "colorbar": {
             "outlinewidth": 0,
             "ticks": ""
            },
            "type": "mesh3d"
           }
          ],
          "parcoords": [
           {
            "line": {
             "colorbar": {
              "outlinewidth": 0,
              "ticks": ""
             }
            },
            "type": "parcoords"
           }
          ],
          "pie": [
           {
            "automargin": true,
            "type": "pie"
           }
          ],
          "scatter": [
           {
            "marker": {
             "colorbar": {
              "outlinewidth": 0,
              "ticks": ""
             }
            },
            "type": "scatter"
           }
          ],
          "scatter3d": [
           {
            "line": {
             "colorbar": {
              "outlinewidth": 0,
              "ticks": ""
             }
            },
            "marker": {
             "colorbar": {
              "outlinewidth": 0,
              "ticks": ""
             }
            },
            "type": "scatter3d"
           }
          ],
          "scattercarpet": [
           {
            "marker": {
             "colorbar": {
              "outlinewidth": 0,
              "ticks": ""
             }
            },
            "type": "scattercarpet"
           }
          ],
          "scattergeo": [
           {
            "marker": {
             "colorbar": {
              "outlinewidth": 0,
              "ticks": ""
             }
            },
            "type": "scattergeo"
           }
          ],
          "scattergl": [
           {
            "marker": {
             "colorbar": {
              "outlinewidth": 0,
              "ticks": ""
             }
            },
            "type": "scattergl"
           }
          ],
          "scattermapbox": [
           {
            "marker": {
             "colorbar": {
              "outlinewidth": 0,
              "ticks": ""
             }
            },
            "type": "scattermapbox"
           }
          ],
          "scatterpolar": [
           {
            "marker": {
             "colorbar": {
              "outlinewidth": 0,
              "ticks": ""
             }
            },
            "type": "scatterpolar"
           }
          ],
          "scatterpolargl": [
           {
            "marker": {
             "colorbar": {
              "outlinewidth": 0,
              "ticks": ""
             }
            },
            "type": "scatterpolargl"
           }
          ],
          "scatterternary": [
           {
            "marker": {
             "colorbar": {
              "outlinewidth": 0,
              "ticks": ""
             }
            },
            "type": "scatterternary"
           }
          ],
          "surface": [
           {
            "colorbar": {
             "outlinewidth": 0,
             "ticks": ""
            },
            "colorscale": [
             [
              0,
              "#0d0887"
             ],
             [
              0.1111111111111111,
              "#46039f"
             ],
             [
              0.2222222222222222,
              "#7201a8"
             ],
             [
              0.3333333333333333,
              "#9c179e"
             ],
             [
              0.4444444444444444,
              "#bd3786"
             ],
             [
              0.5555555555555556,
              "#d8576b"
             ],
             [
              0.6666666666666666,
              "#ed7953"
             ],
             [
              0.7777777777777778,
              "#fb9f3a"
             ],
             [
              0.8888888888888888,
              "#fdca26"
             ],
             [
              1,
              "#f0f921"
             ]
            ],
            "type": "surface"
           }
          ],
          "table": [
           {
            "cells": {
             "fill": {
              "color": "#EBF0F8"
             },
             "line": {
              "color": "white"
             }
            },
            "header": {
             "fill": {
              "color": "#C8D4E3"
             },
             "line": {
              "color": "white"
             }
            },
            "type": "table"
           }
          ]
         },
         "layout": {
          "annotationdefaults": {
           "arrowcolor": "#2a3f5f",
           "arrowhead": 0,
           "arrowwidth": 1
          },
          "coloraxis": {
           "colorbar": {
            "outlinewidth": 0,
            "ticks": ""
           }
          },
          "colorscale": {
           "diverging": [
            [
             0,
             "#8e0152"
            ],
            [
             0.1,
             "#c51b7d"
            ],
            [
             0.2,
             "#de77ae"
            ],
            [
             0.3,
             "#f1b6da"
            ],
            [
             0.4,
             "#fde0ef"
            ],
            [
             0.5,
             "#f7f7f7"
            ],
            [
             0.6,
             "#e6f5d0"
            ],
            [
             0.7,
             "#b8e186"
            ],
            [
             0.8,
             "#7fbc41"
            ],
            [
             0.9,
             "#4d9221"
            ],
            [
             1,
             "#276419"
            ]
           ],
           "sequential": [
            [
             0,
             "#0d0887"
            ],
            [
             0.1111111111111111,
             "#46039f"
            ],
            [
             0.2222222222222222,
             "#7201a8"
            ],
            [
             0.3333333333333333,
             "#9c179e"
            ],
            [
             0.4444444444444444,
             "#bd3786"
            ],
            [
             0.5555555555555556,
             "#d8576b"
            ],
            [
             0.6666666666666666,
             "#ed7953"
            ],
            [
             0.7777777777777778,
             "#fb9f3a"
            ],
            [
             0.8888888888888888,
             "#fdca26"
            ],
            [
             1,
             "#f0f921"
            ]
           ],
           "sequentialminus": [
            [
             0,
             "#0d0887"
            ],
            [
             0.1111111111111111,
             "#46039f"
            ],
            [
             0.2222222222222222,
             "#7201a8"
            ],
            [
             0.3333333333333333,
             "#9c179e"
            ],
            [
             0.4444444444444444,
             "#bd3786"
            ],
            [
             0.5555555555555556,
             "#d8576b"
            ],
            [
             0.6666666666666666,
             "#ed7953"
            ],
            [
             0.7777777777777778,
             "#fb9f3a"
            ],
            [
             0.8888888888888888,
             "#fdca26"
            ],
            [
             1,
             "#f0f921"
            ]
           ]
          },
          "colorway": [
           "#636efa",
           "#EF553B",
           "#00cc96",
           "#ab63fa",
           "#FFA15A",
           "#19d3f3",
           "#FF6692",
           "#B6E880",
           "#FF97FF",
           "#FECB52"
          ],
          "font": {
           "color": "#2a3f5f"
          },
          "geo": {
           "bgcolor": "white",
           "lakecolor": "white",
           "landcolor": "#E5ECF6",
           "showlakes": true,
           "showland": true,
           "subunitcolor": "white"
          },
          "hoverlabel": {
           "align": "left"
          },
          "hovermode": "closest",
          "mapbox": {
           "style": "light"
          },
          "paper_bgcolor": "white",
          "plot_bgcolor": "#E5ECF6",
          "polar": {
           "angularaxis": {
            "gridcolor": "white",
            "linecolor": "white",
            "ticks": ""
           },
           "bgcolor": "#E5ECF6",
           "radialaxis": {
            "gridcolor": "white",
            "linecolor": "white",
            "ticks": ""
           }
          },
          "scene": {
           "xaxis": {
            "backgroundcolor": "#E5ECF6",
            "gridcolor": "white",
            "gridwidth": 2,
            "linecolor": "white",
            "showbackground": true,
            "ticks": "",
            "zerolinecolor": "white"
           },
           "yaxis": {
            "backgroundcolor": "#E5ECF6",
            "gridcolor": "white",
            "gridwidth": 2,
            "linecolor": "white",
            "showbackground": true,
            "ticks": "",
            "zerolinecolor": "white"
           },
           "zaxis": {
            "backgroundcolor": "#E5ECF6",
            "gridcolor": "white",
            "gridwidth": 2,
            "linecolor": "white",
            "showbackground": true,
            "ticks": "",
            "zerolinecolor": "white"
           }
          },
          "shapedefaults": {
           "line": {
            "color": "#2a3f5f"
           }
          },
          "ternary": {
           "aaxis": {
            "gridcolor": "white",
            "linecolor": "white",
            "ticks": ""
           },
           "baxis": {
            "gridcolor": "white",
            "linecolor": "white",
            "ticks": ""
           },
           "bgcolor": "#E5ECF6",
           "caxis": {
            "gridcolor": "white",
            "linecolor": "white",
            "ticks": ""
           }
          },
          "title": {
           "x": 0.05
          },
          "xaxis": {
           "automargin": true,
           "gridcolor": "white",
           "linecolor": "white",
           "ticks": "",
           "title": {
            "standoff": 15
           },
           "zerolinecolor": "white",
           "zerolinewidth": 2
          },
          "yaxis": {
           "automargin": true,
           "gridcolor": "white",
           "linecolor": "white",
           "ticks": "",
           "title": {
            "standoff": 15
           },
           "zerolinecolor": "white",
           "zerolinewidth": 2
          }
         }
        },
        "xaxis": {
         "anchor": "y",
         "domain": [
          0,
          1
         ],
         "title": {
          "text": "temp9am"
         }
        },
        "yaxis": {
         "anchor": "x",
         "domain": [
          0,
          1
         ],
         "title": {
          "text": "temp3pm"
         }
        }
       }
      }
     },
     "metadata": {},
     "output_type": "display_data"
    }
   ],
   "source": [
    "px.scatter(df, x='temp9am', y='temp3pm', color='location', trendline='ols')"
   ]
  },
  {
   "cell_type": "markdown",
   "metadata": {},
   "source": [
    "We can convert our categorical feature, `location` by:\n",
    "$\n",
    "    x_{2} = \\begin{cases} \n",
    "        1, & if ~ Wollongong \\\\\n",
    "        0, & else\n",
    "    \\end{cases}\n",
    "$"
   ]
  },
  {
   "cell_type": "code",
   "execution_count": 137,
   "metadata": {},
   "outputs": [],
   "source": [
    "def model(x1, x2, y=None):\n",
    "    intercept = pyro.sample('intercept', dist.Normal(7.43, 3))\n",
    "    slope     = pyro.sample('slope', dist.Normal(2, 3.1))\n",
    "    location  = pyro.sample('location', dist.Normal(0, 2))\n",
    "    sigma     = pyro.sample('sigma', dist.Exponential(0.13))\n",
    "\n",
    "    mu = intercept + slope * x1 + location * x2\n",
    "\n",
    "    with pyro.plate('data', len(x1)):\n",
    "        return pyro.sample('obs', dist.Normal(mu, sigma), obs=y)"
   ]
  },
  {
   "cell_type": "code",
   "execution_count": 138,
   "metadata": {},
   "outputs": [
    {
     "name": "stderr",
     "output_type": "stream",
     "text": [
      "Sample: 100%|██████████| 1200/1200 [00:50, 23.79it/s, step size=2.09e-01, acc. prob=0.949]"
     ]
    },
    {
     "name": "stdout",
     "output_type": "stream",
     "text": [
      "\n",
      "                 mean       std    median      5.0%     95.0%     n_eff     r_hat\n",
      "  intercept     10.87      0.61     10.90      9.88     11.86    266.94      1.00\n",
      "   location     -6.79      0.33     -6.79     -7.41     -6.30    478.81      1.00\n",
      "      sigma      2.39      0.12      2.39      2.18      2.57    639.57      1.00\n",
      "      slope      0.87      0.03      0.87      0.83      0.92    272.18      1.00\n",
      "\n",
      "Number of divergences: 0\n"
     ]
    },
    {
     "name": "stderr",
     "output_type": "stream",
     "text": [
      "\n"
     ]
    }
   ],
   "source": [
    "x2_data = t.tensor(df.location.replace({'Uluru':0, 'Wollongong':1}).values, dtype=t.float)\n",
    "\n",
    "pyro.clear_param_store()\n",
    "mcmc = MCMC(NUTS(model), num_samples=1000, warmup_steps=200)\n",
    "mcmc.run(x_data, x2_data, y_data)\n",
    "mcmc.summary()"
   ]
  },
  {
   "cell_type": "code",
   "execution_count": 141,
   "metadata": {},
   "outputs": [
    {
     "data": {
      "application/vnd.plotly.v1+json": {
       "config": {
        "plotlyServerURL": "https://plot.ly"
       },
       "data": [
        {
         "mode": "markers",
         "type": "scatter",
         "x": [
          20.9,
          23.4,
          24.1,
          26.4,
          36.7,
          25.1,
          14.9,
          15.9,
          24.6,
          15,
          24,
          27.4,
          18.5,
          21.7,
          19.8,
          28.4,
          32,
          8.9,
          22,
          30.9,
          27.7,
          33.8,
          12.7,
          25.5,
          16.7,
          11.8,
          9.5,
          21.8,
          20.2,
          9.6,
          17,
          9,
          26.7,
          29.2,
          17.8,
          13.4,
          30,
          26.1,
          19.1,
          28.4,
          14.3,
          21,
          31.3,
          19.5,
          12.5,
          26.3,
          24.5,
          27.1,
          29,
          16.2,
          28.1,
          20.6,
          22.3,
          29.9,
          20.8,
          21.5,
          30.6,
          30.4,
          14.1,
          10.9,
          28,
          15.4,
          25.6,
          22.3,
          23.8,
          9.2,
          27.9,
          15.2,
          18.1,
          22.4,
          25.2,
          27.5,
          35.1,
          28.1,
          20.2,
          18.6,
          14,
          28.2,
          21.3,
          12.5,
          9.8,
          23.8,
          30.5,
          11.2,
          13.8,
          19.8,
          32,
          8.2,
          36.1,
          24,
          20.2,
          9.8,
          19,
          13.2,
          16.5,
          31.9,
          9.4,
          13.8,
          19.3,
          26.4,
          20.1,
          16.7,
          15.3,
          18.7,
          21.6,
          20.3,
          15.5,
          21.4,
          19.9,
          11.7,
          16.1,
          17.8,
          19.3,
          13.8,
          21.1,
          20.3,
          12.7,
          12.7,
          17,
          19.5,
          18.7,
          17.2,
          19.6,
          20.4,
          25.6,
          12.7,
          14.7,
          19.9,
          21.5,
          15.8,
          20.1,
          19.5,
          22.8,
          17.7,
          22.1,
          24,
          23.6,
          19.3,
          9.9,
          11.9,
          18.6,
          15.9,
          18.9,
          14.5,
          20.6,
          15.4,
          18.6,
          16.3,
          17,
          16,
          14,
          16.7,
          10.9,
          14.3,
          13.9,
          14,
          13.6,
          16.8,
          18.7,
          13.9,
          15.6,
          20,
          18.9,
          22.5,
          14.6,
          24.7,
          15.5,
          18.4,
          26.8,
          17.8,
          11.5,
          11.6,
          14.6,
          18.1,
          17.7,
          15.1,
          16.9,
          14.6,
          18.2,
          23.7,
          23.9,
          17.6,
          19.4,
          15.1,
          24.2,
          16.1,
          22.8,
          13.5,
          18.6,
          20.1,
          22.6,
          12.1,
          10.7,
          13.1,
          21.8,
          20.2,
          12.2,
          14,
          23,
          18.4
         ],
         "y": [
          29.7,
          33.9,
          39.7,
          34.2,
          43.3,
          33.5,
          24,
          22.6,
          33.2,
          24.4,
          29.5,
          36.1,
          24.9,
          29.3,
          30.5,
          34.1,
          38,
          22.7,
          26.7,
          35,
          35.5,
          40.5,
          22.5,
          30.7,
          23,
          22.7,
          18.6,
          34.6,
          27.4,
          18.5,
          24.5,
          19.9,
          33.5,
          36.4,
          26.6,
          23.7,
          36.3,
          38.4,
          28.6,
          34.9,
          27.8,
          29.6,
          38.4,
          27.7,
          21.3,
          30.5,
          31.3,
          34,
          35,
          25.4,
          38.8,
          31.1,
          34.3,
          37.7,
          29,
          29,
          38.1,
          38.1,
          16.9,
          19.9,
          36.1,
          22.5,
          36.6,
          32,
          17.7,
          18.7,
          37.7,
          25.2,
          26.5,
          30.4,
          34.9,
          35.3,
          44.2,
          37.8,
          29.8,
          25.1,
          27.1,
          33.8,
          32.3,
          21.4,
          17.9,
          33.4,
          38,
          22.5,
          22.1,
          27.5,
          39.7,
          19.4,
          41.5,
          33.2,
          32.4,
          18.5,
          21.2,
          21.6,
          23.7,
          30.1,
          19.5,
          23.5,
          28.4,
          37,
          22.6,
          19.4,
          18.5,
          20,
          23.1,
          20.3,
          18.5,
          22.3,
          18.9,
          15.8,
          16.5,
          19.9,
          20.7,
          20.5,
          21.5,
          22.2,
          16.4,
          15.1,
          19.1,
          19.3,
          19.7,
          16.7,
          21.6,
          19.1,
          19.1,
          18.6,
          16.8,
          22.1,
          25.2,
          17.8,
          23,
          19.6,
          25.1,
          17.8,
          23.2,
          30.9,
          31.6,
          22.9,
          15.4,
          15.7,
          18.9,
          18.5,
          22,
          16.7,
          21.6,
          19.1,
          20.4,
          18.5,
          18.5,
          20.4,
          16.4,
          17.5,
          12.6,
          15.7,
          14.8,
          15.2,
          18,
          19.6,
          20.2,
          17.3,
          17.9,
          21.8,
          18.4,
          20.1,
          12.4,
          24.1,
          17,
          19.5,
          27,
          21.4,
          14.7,
          13,
          16.7,
          20.3,
          21.5,
          13.5,
          17.7,
          14.6,
          20.9,
          25.5,
          24.8,
          18.1,
          20.9,
          16.8,
          25.4,
          15.5,
          24.2,
          15.4,
          19.9,
          23.4,
          22.8,
          17.7,
          13.2,
          14.8,
          19,
          20.2,
          13.6,
          15.9,
          26.2,
          19.3
         ]
        },
        {
         "marker": {
          "color": "red"
         },
         "type": "scatter",
         "x": [
          7.199999999999999,
          8.2,
          9.2,
          10.2,
          11.2,
          12.2,
          13.2,
          14.2,
          15.2,
          16.2,
          17.2,
          18.2,
          19.2,
          20.2,
          21.2,
          22.2,
          23.2,
          24.2,
          25.2,
          26.2,
          27.2,
          28.2,
          29.2,
          30.2,
          31.2,
          32.2,
          33.2,
          34.2,
          35.2,
          36.2,
          37.2
         ],
         "y": [
          17.209139919281007,
          18.116446471214296,
          19.023753023147584,
          19.931059575080873,
          20.83836612701416,
          21.74567267894745,
          22.65297923088074,
          23.560285782814027,
          24.467592334747316,
          25.374898886680604,
          26.282205438613893,
          27.189511990547178,
          28.096818542480467,
          29.004125094413755,
          29.911431646347044,
          30.818738198280332,
          31.72604475021362,
          32.633351302146906,
          33.540657854080195,
          34.44796440601348,
          35.35527095794677,
          36.26257750988006,
          37.16988406181335,
          38.07719061374664,
          38.984497165679926,
          39.89180371761322,
          40.79911026954651,
          41.7064168214798,
          42.61372337341309,
          43.521029925346376,
          44.428336477279665
         ]
        },
        {
         "marker": {
          "color": "blue"
         },
         "type": "scatter",
         "x": [
          7.199999999999999,
          8.2,
          9.2,
          10.2,
          11.2,
          12.2,
          13.2,
          14.2,
          15.2,
          16.2,
          17.2,
          18.2,
          19.2,
          20.2,
          21.2,
          22.2,
          23.2,
          24.2,
          25.2,
          26.2,
          27.2,
          28.2,
          29.2,
          30.2,
          31.2,
          32.2,
          33.2,
          34.2,
          35.2,
          36.2,
          37.2
         ],
         "y": [
          9.436334753036498,
          10.366476976871489,
          11.29661920070648,
          12.226761424541472,
          13.156903648376463,
          14.087045872211455,
          15.017188096046446,
          15.947330319881438,
          16.87747254371643,
          17.80761476755142,
          18.737756991386412,
          19.667899215221404,
          20.598041439056395,
          21.528183662891387,
          22.458325886726378,
          23.38846811056137,
          24.31861033439636,
          25.248752558231352,
          26.178894782066344,
          27.109037005901335,
          28.039179229736327,
          28.969321453571318,
          29.89946367740631,
          30.8296059012413,
          31.759748125076293,
          32.68989034891129,
          33.62003257274628,
          34.550174796581274,
          35.480317020416265,
          36.41045924425126,
          37.34060146808625
         ]
        },
        {
         "marker": {
          "color": "red"
         },
         "type": "scatter",
         "x": [
          7.199999999999999,
          8.2,
          9.2,
          10.2,
          11.2,
          12.2,
          13.2,
          14.2,
          15.2,
          16.2,
          17.2,
          18.2,
          19.2,
          20.2,
          21.2,
          22.2,
          23.2,
          24.2,
          25.2,
          26.2,
          27.2,
          28.2,
          29.2,
          30.2,
          31.2,
          32.2,
          33.2,
          34.2,
          35.2,
          36.2,
          37.2
         ],
         "y": [
          17.433745336532592,
          18.282355201244354,
          19.130965065956115,
          19.979574930667876,
          20.828184795379638,
          21.6767946600914,
          22.52540452480316,
          23.374014389514922,
          24.222624254226684,
          25.071234118938445,
          25.919843983650207,
          26.76845384836197,
          27.61706371307373,
          28.46567357778549,
          29.314283442497253,
          30.162893307209014,
          31.011503171920776,
          31.860113036632537,
          32.7087229013443,
          33.557332766056064,
          34.405942630767825,
          35.25455249547959,
          36.10316236019135,
          36.95177222490311,
          37.80038208961487,
          38.64899195432663,
          39.497601819038394,
          40.346211683750155,
          41.19482154846192,
          42.04343141317368,
          42.89204127788544
         ]
        },
        {
         "marker": {
          "color": "blue"
         },
         "type": "scatter",
         "x": [
          7.199999999999999,
          8.2,
          9.2,
          10.2,
          11.2,
          12.2,
          13.2,
          14.2,
          15.2,
          16.2,
          17.2,
          18.2,
          19.2,
          20.2,
          21.2,
          22.2,
          23.2,
          24.2,
          25.2,
          26.2,
          27.2,
          28.2,
          29.2,
          30.2,
          31.2,
          32.2,
          33.2,
          34.2,
          35.2,
          36.2,
          37.2
         ],
         "y": [
          9.887096166610718,
          10.786084115505219,
          11.68507206439972,
          12.58406001329422,
          13.48304796218872,
          14.382035911083221,
          15.281023859977722,
          16.180011808872223,
          17.078999757766724,
          17.977987706661224,
          18.876975655555725,
          19.775963604450226,
          20.674951553344727,
          21.573939502239227,
          22.472927451133728,
          23.37191540002823,
          24.27090334892273,
          25.16989129781723,
          26.06887924671173,
          26.96786719560623,
          27.866855144500732,
          28.765843093395233,
          29.664831042289734,
          30.563818991184235,
          31.462806940078735,
          32.361794888973236,
          33.26078283786774,
          34.15977078676224,
          35.05875873565674,
          35.95774668455124,
          36.85673463344574
         ]
        },
        {
         "marker": {
          "color": "red"
         },
         "type": "scatter",
         "x": [
          7.199999999999999,
          8.2,
          9.2,
          10.2,
          11.2,
          12.2,
          13.2,
          14.2,
          15.2,
          16.2,
          17.2,
          18.2,
          19.2,
          20.2,
          21.2,
          22.2,
          23.2,
          24.2,
          25.2,
          26.2,
          27.2,
          28.2,
          29.2,
          30.2,
          31.2,
          32.2,
          33.2,
          34.2,
          35.2,
          36.2,
          37.2
         ],
         "y": [
          17.413878917694092,
          18.268083214759827,
          19.12228751182556,
          19.976491808891296,
          20.83069610595703,
          21.684900403022766,
          22.5391047000885,
          23.393308997154236,
          24.24751329421997,
          25.101717591285706,
          25.95592188835144,
          26.810126185417175,
          27.66433048248291,
          28.518534779548645,
          29.37273907661438,
          30.226943373680115,
          31.08114767074585,
          31.935351967811584,
          32.78955626487732,
          33.643760561943054,
          34.49796485900879,
          35.352169156074524,
          36.20637345314026,
          37.060577750205994,
          37.91478204727173,
          38.76898634433746,
          39.6231906414032,
          40.47739493846893,
          41.33159923553467,
          42.1858035326004,
          43.04000782966614
         ]
        },
        {
         "marker": {
          "color": "blue"
         },
         "type": "scatter",
         "x": [
          7.199999999999999,
          8.2,
          9.2,
          10.2,
          11.2,
          12.2,
          13.2,
          14.2,
          15.2,
          16.2,
          17.2,
          18.2,
          19.2,
          20.2,
          21.2,
          22.2,
          23.2,
          24.2,
          25.2,
          26.2,
          27.2,
          28.2,
          29.2,
          30.2,
          31.2,
          32.2,
          33.2,
          34.2,
          35.2,
          36.2,
          37.2
         ],
         "y": [
          11.030459070205687,
          11.86296054124832,
          12.695462012290953,
          13.527963483333586,
          14.36046495437622,
          15.192966425418852,
          16.025467896461485,
          16.85796936750412,
          17.69047083854675,
          18.522972309589385,
          19.355473780632018,
          20.18797525167465,
          21.020476722717284,
          21.852978193759917,
          22.68547966480255,
          23.517981135845183,
          24.350482606887816,
          25.18298407793045,
          26.015485548973082,
          26.847987020015715,
          27.680488491058348,
          28.51298996210098,
          29.345491433143614,
          30.177992904186247,
          31.01049437522888,
          31.84299584627152,
          32.675497317314154,
          33.50799878835679,
          34.34050025939942,
          35.17300173044205,
          36.005503201484686
         ]
        },
        {
         "marker": {
          "color": "red"
         },
         "type": "scatter",
         "x": [
          7.199999999999999,
          8.2,
          9.2,
          10.2,
          11.2,
          12.2,
          13.2,
          14.2,
          15.2,
          16.2,
          17.2,
          18.2,
          19.2,
          20.2,
          21.2,
          22.2,
          23.2,
          24.2,
          25.2,
          26.2,
          27.2,
          28.2,
          29.2,
          30.2,
          31.2,
          32.2,
          33.2,
          34.2,
          35.2,
          36.2,
          37.2
         ],
         "y": [
          16.786335468292236,
          17.657894253730774,
          18.52945303916931,
          19.40101182460785,
          20.272570610046387,
          21.144129395484924,
          22.015688180923462,
          22.887246966362,
          23.758805751800537,
          24.630364537239075,
          25.501923322677612,
          26.37348210811615,
          27.245040893554688,
          28.116599678993225,
          28.988158464431763,
          29.8597172498703,
          30.731276035308838,
          31.602834820747375,
          32.47439360618591,
          33.34595239162445,
          34.21751117706299,
          35.089069962501526,
          35.96062874794006,
          36.8321875333786,
          37.70374631881714,
          38.575305104255676,
          39.446863889694214,
          40.31842267513275,
          41.18998146057129,
          42.06154024600983,
          42.933099031448364
         ]
        },
        {
         "marker": {
          "color": "blue"
         },
         "type": "scatter",
         "x": [
          7.199999999999999,
          8.2,
          9.2,
          10.2,
          11.2,
          12.2,
          13.2,
          14.2,
          15.2,
          16.2,
          17.2,
          18.2,
          19.2,
          20.2,
          21.2,
          22.2,
          23.2,
          24.2,
          25.2,
          26.2,
          27.2,
          28.2,
          29.2,
          30.2,
          31.2,
          32.2,
          33.2,
          34.2,
          35.2,
          36.2,
          37.2
         ],
         "y": [
          9.987159109115602,
          10.859306967258455,
          11.731454825401308,
          12.60360268354416,
          13.475750541687013,
          14.347898399829866,
          15.220046257972719,
          16.09219411611557,
          16.964341974258424,
          17.836489832401277,
          18.70863769054413,
          19.580785548686983,
          20.452933406829832,
          21.325081264972685,
          22.197229123115537,
          23.06937698125839,
          23.941524839401243,
          24.813672697544096,
          25.685820555686945,
          26.557968413829798,
          27.43011627197265,
          28.302264130115503,
          29.174411988258356,
          30.04655984640121,
          30.91870770454406,
          31.79085556268692,
          32.663003420829774,
          33.53515127897263,
          34.40729913711548,
          35.27944699525833,
          36.151594853401186
         ]
        },
        {
         "marker": {
          "color": "red"
         },
         "type": "scatter",
         "x": [
          7.199999999999999,
          8.2,
          9.2,
          10.2,
          11.2,
          12.2,
          13.2,
          14.2,
          15.2,
          16.2,
          17.2,
          18.2,
          19.2,
          20.2,
          21.2,
          22.2,
          23.2,
          24.2,
          25.2,
          26.2,
          27.2,
          28.2,
          29.2,
          30.2,
          31.2,
          32.2,
          33.2,
          34.2,
          35.2,
          36.2,
          37.2
         ],
         "y": [
          16.683932781219482,
          17.606900572776794,
          18.529868364334106,
          19.45283615589142,
          20.37580394744873,
          21.298771739006042,
          22.221739530563354,
          23.144707322120667,
          24.06767511367798,
          24.99064290523529,
          25.913610696792603,
          26.836578488349915,
          27.759546279907227,
          28.68251407146454,
          29.60548186302185,
          30.528449654579163,
          31.451417446136475,
          32.37438523769379,
          33.2973530292511,
          34.22032082080841,
          35.14328861236572,
          36.066256403923035,
          36.98922419548035,
          37.91219198703766,
          38.83515977859497,
          39.75812757015228,
          40.681095361709595,
          41.60406315326691,
          42.52703094482422,
          43.44999873638153,
          44.37296652793884
         ]
        },
        {
         "marker": {
          "color": "blue"
         },
         "type": "scatter",
         "x": [
          7.199999999999999,
          8.2,
          9.2,
          10.2,
          11.2,
          12.2,
          13.2,
          14.2,
          15.2,
          16.2,
          17.2,
          18.2,
          19.2,
          20.2,
          21.2,
          22.2,
          23.2,
          24.2,
          25.2,
          26.2,
          27.2,
          28.2,
          29.2,
          30.2,
          31.2,
          32.2,
          33.2,
          34.2,
          35.2,
          36.2,
          37.2
         ],
         "y": [
          10.267391395568847,
          11.12900252342224,
          11.990613651275634,
          12.852224779129028,
          13.713835906982421,
          14.575447034835815,
          15.437058162689208,
          16.298669290542602,
          17.160280418395995,
          18.02189154624939,
          18.883502674102782,
          19.745113801956176,
          20.60672492980957,
          21.468336057662963,
          22.329947185516357,
          23.19155831336975,
          24.053169441223144,
          24.91478056907654,
          25.776391696929934,
          26.638002824783328,
          27.49961395263672,
          28.361225080490115,
          29.22283620834351,
          30.084447336196902,
          30.946058464050296,
          31.80766959190369,
          32.66928071975708,
          33.53089184761048,
          34.39250297546387,
          35.254114103317264,
          36.11572523117066
         ]
        },
        {
         "marker": {
          "color": "red"
         },
         "type": "scatter",
         "x": [
          7.199999999999999,
          8.2,
          9.2,
          10.2,
          11.2,
          12.2,
          13.2,
          14.2,
          15.2,
          16.2,
          17.2,
          18.2,
          19.2,
          20.2,
          21.2,
          22.2,
          23.2,
          24.2,
          25.2,
          26.2,
          27.2,
          28.2,
          29.2,
          30.2,
          31.2,
          32.2,
          33.2,
          34.2,
          35.2,
          36.2,
          37.2
         ],
         "y": [
          17.539248371124266,
          18.407601141929625,
          19.275953912734984,
          20.144306683540343,
          21.0126594543457,
          21.88101222515106,
          22.74936499595642,
          23.61771776676178,
          24.486070537567137,
          25.354423308372496,
          26.222776079177855,
          27.091128849983214,
          27.959481620788573,
          28.82783439159393,
          29.69618716239929,
          30.56453993320465,
          31.43289270401001,
          32.30124547481537,
          33.169598245620726,
          34.037951016426085,
          34.906303787231444,
          35.7746565580368,
          36.64300932884216,
          37.51136209964752,
          38.37971487045288,
          39.248067641258245,
          40.116420412063604,
          40.98477318286896,
          41.85312595367432,
          42.72147872447968,
          43.58983149528504
         ]
        },
        {
         "marker": {
          "color": "blue"
         },
         "type": "scatter",
         "x": [
          7.199999999999999,
          8.2,
          9.2,
          10.2,
          11.2,
          12.2,
          13.2,
          14.2,
          15.2,
          16.2,
          17.2,
          18.2,
          19.2,
          20.2,
          21.2,
          22.2,
          23.2,
          24.2,
          25.2,
          26.2,
          27.2,
          28.2,
          29.2,
          30.2,
          31.2,
          32.2,
          33.2,
          34.2,
          35.2,
          36.2,
          37.2
         ],
         "y": [
          10.471400260925293,
          11.328488826751709,
          12.185577392578125,
          13.042665958404541,
          13.899754524230957,
          14.756843090057373,
          15.613931655883789,
          16.471020221710205,
          17.32810878753662,
          18.185197353363037,
          19.042285919189453,
          19.89937448501587,
          20.756463050842285,
          21.6135516166687,
          22.470640182495117,
          23.327728748321533,
          24.18481731414795,
          25.041905879974365,
          25.89899444580078,
          26.756083011627197,
          27.613171577453613,
          28.47026014328003,
          29.327348709106445,
          30.18443727493286,
          31.041525840759277,
          31.898614406585693,
          32.75570297241211,
          33.612791538238525,
          34.46988010406494,
          35.32696866989136,
          36.18405723571777
         ]
        },
        {
         "marker": {
          "color": "red"
         },
         "type": "scatter",
         "x": [
          7.199999999999999,
          8.2,
          9.2,
          10.2,
          11.2,
          12.2,
          13.2,
          14.2,
          15.2,
          16.2,
          17.2,
          18.2,
          19.2,
          20.2,
          21.2,
          22.2,
          23.2,
          24.2,
          25.2,
          26.2,
          27.2,
          28.2,
          29.2,
          30.2,
          31.2,
          32.2,
          33.2,
          34.2,
          35.2,
          36.2,
          37.2
         ],
         "y": [
          16.495911264419554,
          17.44743844270706,
          18.398965620994566,
          19.350492799282073,
          20.30201997756958,
          21.253547155857085,
          22.20507433414459,
          23.156601512432097,
          24.108128690719603,
          25.05965586900711,
          26.011183047294615,
          26.96271022558212,
          27.914237403869627,
          28.865764582157134,
          29.81729176044464,
          30.768818938732146,
          31.720346117019652,
          32.67187329530716,
          33.623400473594664,
          34.57492765188217,
          35.526454830169676,
          36.47798200845718,
          37.42950918674469,
          38.381036365032195,
          39.3325635433197,
          40.284090721607214,
          41.23561789989472,
          42.187145078182226,
          43.13867225646973,
          44.09019943475724,
          45.041726613044744
         ]
        },
        {
         "marker": {
          "color": "blue"
         },
         "type": "scatter",
         "x": [
          7.199999999999999,
          8.2,
          9.2,
          10.2,
          11.2,
          12.2,
          13.2,
          14.2,
          15.2,
          16.2,
          17.2,
          18.2,
          19.2,
          20.2,
          21.2,
          22.2,
          23.2,
          24.2,
          25.2,
          26.2,
          27.2,
          28.2,
          29.2,
          30.2,
          31.2,
          32.2,
          33.2,
          34.2,
          35.2,
          36.2,
          37.2
         ],
         "y": [
          10.714766883850096,
          11.56443121433258,
          12.414095544815062,
          13.263759875297545,
          14.113424205780028,
          14.96308853626251,
          15.812752866744994,
          16.662417197227477,
          17.51208152770996,
          18.361745858192442,
          19.211410188674925,
          20.06107451915741,
          20.91073884963989,
          21.760403180122374,
          22.610067510604857,
          23.45973184108734,
          24.309396171569823,
          25.159060502052306,
          26.00872483253479,
          26.85838916301727,
          27.708053493499754,
          28.557717823982237,
          29.40738215446472,
          30.257046484947203,
          31.106710815429686,
          31.956375145912176,
          32.80603947639466,
          33.65570380687714,
          34.505368137359625,
          35.35503246784211,
          36.20469679832459
         ]
        },
        {
         "marker": {
          "color": "red"
         },
         "type": "scatter",
         "x": [
          7.199999999999999,
          8.2,
          9.2,
          10.2,
          11.2,
          12.2,
          13.2,
          14.2,
          15.2,
          16.2,
          17.2,
          18.2,
          19.2,
          20.2,
          21.2,
          22.2,
          23.2,
          24.2,
          25.2,
          26.2,
          27.2,
          28.2,
          29.2,
          30.2,
          31.2,
          32.2,
          33.2,
          34.2,
          35.2,
          36.2,
          37.2
         ],
         "y": [
          17.428164529800416,
          18.29470454454422,
          19.161244559288026,
          20.027784574031827,
          20.894324588775632,
          21.760864603519437,
          22.627404618263242,
          23.493944633007047,
          24.36048464775085,
          25.227024662494657,
          26.09356467723846,
          26.960104691982266,
          27.826644706726075,
          28.69318472146988,
          29.559724736213685,
          30.42626475095749,
          31.292804765701295,
          32.159344780445096,
          33.0258847951889,
          33.892424809932706,
          34.75896482467651,
          35.625504839420316,
          36.49204485416412,
          37.358584868907926,
          38.22512488365173,
          39.091664898395535,
          39.95820491313934,
          40.824744927883145,
          41.69128494262695,
          42.557824957370755,
          43.42436497211457
         ]
        },
        {
         "marker": {
          "color": "blue"
         },
         "type": "scatter",
         "x": [
          7.199999999999999,
          8.2,
          9.2,
          10.2,
          11.2,
          12.2,
          13.2,
          14.2,
          15.2,
          16.2,
          17.2,
          18.2,
          19.2,
          20.2,
          21.2,
          22.2,
          23.2,
          24.2,
          25.2,
          26.2,
          27.2,
          28.2,
          29.2,
          30.2,
          31.2,
          32.2,
          33.2,
          34.2,
          35.2,
          36.2,
          37.2
         ],
         "y": [
          11.160716247558593,
          11.99434597492218,
          12.827975702285766,
          13.661605429649352,
          14.495235157012939,
          15.328864884376525,
          16.16249461174011,
          16.996124339103698,
          17.829754066467284,
          18.66338379383087,
          19.497013521194457,
          20.330643248558044,
          21.16427297592163,
          21.997902703285217,
          22.831532430648803,
          23.66516215801239,
          24.498791885375976,
          25.332421612739562,
          26.166051340103152,
          26.99968106746674,
          27.833310794830325,
          28.66694052219391,
          29.500570249557498,
          30.334199976921084,
          31.16782970428467,
          32.00145943164826,
          32.835089159011844,
          33.66871888637543,
          34.50234861373902,
          35.3359783411026,
          36.16960806846619
         ]
        },
        {
         "marker": {
          "color": "red"
         },
         "type": "scatter",
         "x": [
          7.199999999999999,
          8.2,
          9.2,
          10.2,
          11.2,
          12.2,
          13.2,
          14.2,
          15.2,
          16.2,
          17.2,
          18.2,
          19.2,
          20.2,
          21.2,
          22.2,
          23.2,
          24.2,
          25.2,
          26.2,
          27.2,
          28.2,
          29.2,
          30.2,
          31.2,
          32.2,
          33.2,
          34.2,
          35.2,
          36.2,
          37.2
         ],
         "y": [
          16.85261869430542,
          17.755130171775818,
          18.657641649246216,
          19.560153126716614,
          20.46266460418701,
          21.36517608165741,
          22.267687559127808,
          23.170199036598206,
          24.072710514068604,
          24.975221991539,
          25.8777334690094,
          26.780244946479797,
          27.682756423950195,
          28.585267901420593,
          29.48777937889099,
          30.39029085636139,
          31.292802333831787,
          32.195313811302185,
          33.09782528877258,
          34.00033676624298,
          34.90284824371338,
          35.80535972118378,
          36.707871198654175,
          37.61038267612457,
          38.51289415359497,
          39.41540563106537,
          40.31791710853577,
          41.220428586006165,
          42.12294006347656,
          43.02545154094696,
          43.92796301841736
         ]
        },
        {
         "marker": {
          "color": "blue"
         },
         "type": "scatter",
         "x": [
          7.199999999999999,
          8.2,
          9.2,
          10.2,
          11.2,
          12.2,
          13.2,
          14.2,
          15.2,
          16.2,
          17.2,
          18.2,
          19.2,
          20.2,
          21.2,
          22.2,
          23.2,
          24.2,
          25.2,
          26.2,
          27.2,
          28.2,
          29.2,
          30.2,
          31.2,
          32.2,
          33.2,
          34.2,
          35.2,
          36.2,
          37.2
         ],
         "y": [
          10.920468473434447,
          11.780820214748381,
          12.641171956062315,
          13.50152369737625,
          14.361875438690184,
          15.222227180004118,
          16.082578921318053,
          16.942930662631987,
          17.80328240394592,
          18.663634145259856,
          19.52398588657379,
          20.384337627887724,
          21.24468936920166,
          22.105041110515593,
          22.965392851829527,
          23.82574459314346,
          24.686096334457396,
          25.54644807577133,
          26.406799817085265,
          27.2671515583992,
          28.127503299713133,
          28.987855041027068,
          29.848206782341002,
          30.708558523654936,
          31.56891026496887,
          32.42926200628281,
          33.289613747596746,
          34.14996548891068,
          35.010317230224615,
          35.87066897153855,
          36.731020712852484
         ]
        },
        {
         "marker": {
          "color": "red"
         },
         "type": "scatter",
         "x": [
          7.199999999999999,
          8.2,
          9.2,
          10.2,
          11.2,
          12.2,
          13.2,
          14.2,
          15.2,
          16.2,
          17.2,
          18.2,
          19.2,
          20.2,
          21.2,
          22.2,
          23.2,
          24.2,
          25.2,
          26.2,
          27.2,
          28.2,
          29.2,
          30.2,
          31.2,
          32.2,
          33.2,
          34.2,
          35.2,
          36.2,
          37.2
         ],
         "y": [
          17.28618507385254,
          18.156554985046387,
          19.02692489624023,
          19.89729480743408,
          20.767664718627927,
          21.638034629821775,
          22.508404541015622,
          23.37877445220947,
          24.249144363403317,
          25.119514274597165,
          25.989884185791013,
          26.86025409698486,
          27.73062400817871,
          28.60099391937256,
          29.471363830566407,
          30.341733741760255,
          31.212103652954102,
          32.082473564147946,
          32.952843475341794,
          33.82321338653564,
          34.69358329772949,
          35.56395320892334,
          36.434323120117185,
          37.30469303131103,
          38.17506294250488,
          39.04543285369873,
          39.915802764892575,
          40.78617267608642,
          41.65654258728027,
          42.52691249847412,
          43.39728240966797
         ]
        },
        {
         "marker": {
          "color": "blue"
         },
         "type": "scatter",
         "x": [
          7.199999999999999,
          8.2,
          9.2,
          10.2,
          11.2,
          12.2,
          13.2,
          14.2,
          15.2,
          16.2,
          17.2,
          18.2,
          19.2,
          20.2,
          21.2,
          22.2,
          23.2,
          24.2,
          25.2,
          26.2,
          27.2,
          28.2,
          29.2,
          30.2,
          31.2,
          32.2,
          33.2,
          34.2,
          35.2,
          36.2,
          37.2
         ],
         "y": [
          10.206572818756104,
          11.076484966278077,
          11.946397113800046,
          12.816309261322019,
          13.686221408843991,
          14.556133556365964,
          15.426045703887937,
          16.29595785140991,
          17.165869998931882,
          18.035782146453855,
          18.905694293975827,
          19.7756064414978,
          20.645518589019776,
          21.51543073654175,
          22.38534288406372,
          23.255255031585694,
          24.125167179107667,
          24.99507932662964,
          25.86499147415161,
          26.73490362167358,
          27.604815769195554,
          28.474727916717526,
          29.3446400642395,
          30.21455221176147,
          31.084464359283444,
          31.954376506805417,
          32.82428865432739,
          33.69420080184936,
          34.564112949371335,
          35.43402509689331,
          36.30393724441529
         ]
        }
       ],
       "layout": {
        "showlegend": false,
        "template": {
         "data": {
          "bar": [
           {
            "error_x": {
             "color": "#2a3f5f"
            },
            "error_y": {
             "color": "#2a3f5f"
            },
            "marker": {
             "line": {
              "color": "#E5ECF6",
              "width": 0.5
             }
            },
            "type": "bar"
           }
          ],
          "barpolar": [
           {
            "marker": {
             "line": {
              "color": "#E5ECF6",
              "width": 0.5
             }
            },
            "type": "barpolar"
           }
          ],
          "carpet": [
           {
            "aaxis": {
             "endlinecolor": "#2a3f5f",
             "gridcolor": "white",
             "linecolor": "white",
             "minorgridcolor": "white",
             "startlinecolor": "#2a3f5f"
            },
            "baxis": {
             "endlinecolor": "#2a3f5f",
             "gridcolor": "white",
             "linecolor": "white",
             "minorgridcolor": "white",
             "startlinecolor": "#2a3f5f"
            },
            "type": "carpet"
           }
          ],
          "choropleth": [
           {
            "colorbar": {
             "outlinewidth": 0,
             "ticks": ""
            },
            "type": "choropleth"
           }
          ],
          "contour": [
           {
            "colorbar": {
             "outlinewidth": 0,
             "ticks": ""
            },
            "colorscale": [
             [
              0,
              "#0d0887"
             ],
             [
              0.1111111111111111,
              "#46039f"
             ],
             [
              0.2222222222222222,
              "#7201a8"
             ],
             [
              0.3333333333333333,
              "#9c179e"
             ],
             [
              0.4444444444444444,
              "#bd3786"
             ],
             [
              0.5555555555555556,
              "#d8576b"
             ],
             [
              0.6666666666666666,
              "#ed7953"
             ],
             [
              0.7777777777777778,
              "#fb9f3a"
             ],
             [
              0.8888888888888888,
              "#fdca26"
             ],
             [
              1,
              "#f0f921"
             ]
            ],
            "type": "contour"
           }
          ],
          "contourcarpet": [
           {
            "colorbar": {
             "outlinewidth": 0,
             "ticks": ""
            },
            "type": "contourcarpet"
           }
          ],
          "heatmap": [
           {
            "colorbar": {
             "outlinewidth": 0,
             "ticks": ""
            },
            "colorscale": [
             [
              0,
              "#0d0887"
             ],
             [
              0.1111111111111111,
              "#46039f"
             ],
             [
              0.2222222222222222,
              "#7201a8"
             ],
             [
              0.3333333333333333,
              "#9c179e"
             ],
             [
              0.4444444444444444,
              "#bd3786"
             ],
             [
              0.5555555555555556,
              "#d8576b"
             ],
             [
              0.6666666666666666,
              "#ed7953"
             ],
             [
              0.7777777777777778,
              "#fb9f3a"
             ],
             [
              0.8888888888888888,
              "#fdca26"
             ],
             [
              1,
              "#f0f921"
             ]
            ],
            "type": "heatmap"
           }
          ],
          "heatmapgl": [
           {
            "colorbar": {
             "outlinewidth": 0,
             "ticks": ""
            },
            "colorscale": [
             [
              0,
              "#0d0887"
             ],
             [
              0.1111111111111111,
              "#46039f"
             ],
             [
              0.2222222222222222,
              "#7201a8"
             ],
             [
              0.3333333333333333,
              "#9c179e"
             ],
             [
              0.4444444444444444,
              "#bd3786"
             ],
             [
              0.5555555555555556,
              "#d8576b"
             ],
             [
              0.6666666666666666,
              "#ed7953"
             ],
             [
              0.7777777777777778,
              "#fb9f3a"
             ],
             [
              0.8888888888888888,
              "#fdca26"
             ],
             [
              1,
              "#f0f921"
             ]
            ],
            "type": "heatmapgl"
           }
          ],
          "histogram": [
           {
            "marker": {
             "colorbar": {
              "outlinewidth": 0,
              "ticks": ""
             }
            },
            "type": "histogram"
           }
          ],
          "histogram2d": [
           {
            "colorbar": {
             "outlinewidth": 0,
             "ticks": ""
            },
            "colorscale": [
             [
              0,
              "#0d0887"
             ],
             [
              0.1111111111111111,
              "#46039f"
             ],
             [
              0.2222222222222222,
              "#7201a8"
             ],
             [
              0.3333333333333333,
              "#9c179e"
             ],
             [
              0.4444444444444444,
              "#bd3786"
             ],
             [
              0.5555555555555556,
              "#d8576b"
             ],
             [
              0.6666666666666666,
              "#ed7953"
             ],
             [
              0.7777777777777778,
              "#fb9f3a"
             ],
             [
              0.8888888888888888,
              "#fdca26"
             ],
             [
              1,
              "#f0f921"
             ]
            ],
            "type": "histogram2d"
           }
          ],
          "histogram2dcontour": [
           {
            "colorbar": {
             "outlinewidth": 0,
             "ticks": ""
            },
            "colorscale": [
             [
              0,
              "#0d0887"
             ],
             [
              0.1111111111111111,
              "#46039f"
             ],
             [
              0.2222222222222222,
              "#7201a8"
             ],
             [
              0.3333333333333333,
              "#9c179e"
             ],
             [
              0.4444444444444444,
              "#bd3786"
             ],
             [
              0.5555555555555556,
              "#d8576b"
             ],
             [
              0.6666666666666666,
              "#ed7953"
             ],
             [
              0.7777777777777778,
              "#fb9f3a"
             ],
             [
              0.8888888888888888,
              "#fdca26"
             ],
             [
              1,
              "#f0f921"
             ]
            ],
            "type": "histogram2dcontour"
           }
          ],
          "mesh3d": [
           {
            "colorbar": {
             "outlinewidth": 0,
             "ticks": ""
            },
            "type": "mesh3d"
           }
          ],
          "parcoords": [
           {
            "line": {
             "colorbar": {
              "outlinewidth": 0,
              "ticks": ""
             }
            },
            "type": "parcoords"
           }
          ],
          "pie": [
           {
            "automargin": true,
            "type": "pie"
           }
          ],
          "scatter": [
           {
            "marker": {
             "colorbar": {
              "outlinewidth": 0,
              "ticks": ""
             }
            },
            "type": "scatter"
           }
          ],
          "scatter3d": [
           {
            "line": {
             "colorbar": {
              "outlinewidth": 0,
              "ticks": ""
             }
            },
            "marker": {
             "colorbar": {
              "outlinewidth": 0,
              "ticks": ""
             }
            },
            "type": "scatter3d"
           }
          ],
          "scattercarpet": [
           {
            "marker": {
             "colorbar": {
              "outlinewidth": 0,
              "ticks": ""
             }
            },
            "type": "scattercarpet"
           }
          ],
          "scattergeo": [
           {
            "marker": {
             "colorbar": {
              "outlinewidth": 0,
              "ticks": ""
             }
            },
            "type": "scattergeo"
           }
          ],
          "scattergl": [
           {
            "marker": {
             "colorbar": {
              "outlinewidth": 0,
              "ticks": ""
             }
            },
            "type": "scattergl"
           }
          ],
          "scattermapbox": [
           {
            "marker": {
             "colorbar": {
              "outlinewidth": 0,
              "ticks": ""
             }
            },
            "type": "scattermapbox"
           }
          ],
          "scatterpolar": [
           {
            "marker": {
             "colorbar": {
              "outlinewidth": 0,
              "ticks": ""
             }
            },
            "type": "scatterpolar"
           }
          ],
          "scatterpolargl": [
           {
            "marker": {
             "colorbar": {
              "outlinewidth": 0,
              "ticks": ""
             }
            },
            "type": "scatterpolargl"
           }
          ],
          "scatterternary": [
           {
            "marker": {
             "colorbar": {
              "outlinewidth": 0,
              "ticks": ""
             }
            },
            "type": "scatterternary"
           }
          ],
          "surface": [
           {
            "colorbar": {
             "outlinewidth": 0,
             "ticks": ""
            },
            "colorscale": [
             [
              0,
              "#0d0887"
             ],
             [
              0.1111111111111111,
              "#46039f"
             ],
             [
              0.2222222222222222,
              "#7201a8"
             ],
             [
              0.3333333333333333,
              "#9c179e"
             ],
             [
              0.4444444444444444,
              "#bd3786"
             ],
             [
              0.5555555555555556,
              "#d8576b"
             ],
             [
              0.6666666666666666,
              "#ed7953"
             ],
             [
              0.7777777777777778,
              "#fb9f3a"
             ],
             [
              0.8888888888888888,
              "#fdca26"
             ],
             [
              1,
              "#f0f921"
             ]
            ],
            "type": "surface"
           }
          ],
          "table": [
           {
            "cells": {
             "fill": {
              "color": "#EBF0F8"
             },
             "line": {
              "color": "white"
             }
            },
            "header": {
             "fill": {
              "color": "#C8D4E3"
             },
             "line": {
              "color": "white"
             }
            },
            "type": "table"
           }
          ]
         },
         "layout": {
          "annotationdefaults": {
           "arrowcolor": "#2a3f5f",
           "arrowhead": 0,
           "arrowwidth": 1
          },
          "coloraxis": {
           "colorbar": {
            "outlinewidth": 0,
            "ticks": ""
           }
          },
          "colorscale": {
           "diverging": [
            [
             0,
             "#8e0152"
            ],
            [
             0.1,
             "#c51b7d"
            ],
            [
             0.2,
             "#de77ae"
            ],
            [
             0.3,
             "#f1b6da"
            ],
            [
             0.4,
             "#fde0ef"
            ],
            [
             0.5,
             "#f7f7f7"
            ],
            [
             0.6,
             "#e6f5d0"
            ],
            [
             0.7,
             "#b8e186"
            ],
            [
             0.8,
             "#7fbc41"
            ],
            [
             0.9,
             "#4d9221"
            ],
            [
             1,
             "#276419"
            ]
           ],
           "sequential": [
            [
             0,
             "#0d0887"
            ],
            [
             0.1111111111111111,
             "#46039f"
            ],
            [
             0.2222222222222222,
             "#7201a8"
            ],
            [
             0.3333333333333333,
             "#9c179e"
            ],
            [
             0.4444444444444444,
             "#bd3786"
            ],
            [
             0.5555555555555556,
             "#d8576b"
            ],
            [
             0.6666666666666666,
             "#ed7953"
            ],
            [
             0.7777777777777778,
             "#fb9f3a"
            ],
            [
             0.8888888888888888,
             "#fdca26"
            ],
            [
             1,
             "#f0f921"
            ]
           ],
           "sequentialminus": [
            [
             0,
             "#0d0887"
            ],
            [
             0.1111111111111111,
             "#46039f"
            ],
            [
             0.2222222222222222,
             "#7201a8"
            ],
            [
             0.3333333333333333,
             "#9c179e"
            ],
            [
             0.4444444444444444,
             "#bd3786"
            ],
            [
             0.5555555555555556,
             "#d8576b"
            ],
            [
             0.6666666666666666,
             "#ed7953"
            ],
            [
             0.7777777777777778,
             "#fb9f3a"
            ],
            [
             0.8888888888888888,
             "#fdca26"
            ],
            [
             1,
             "#f0f921"
            ]
           ]
          },
          "colorway": [
           "#636efa",
           "#EF553B",
           "#00cc96",
           "#ab63fa",
           "#FFA15A",
           "#19d3f3",
           "#FF6692",
           "#B6E880",
           "#FF97FF",
           "#FECB52"
          ],
          "font": {
           "color": "#2a3f5f"
          },
          "geo": {
           "bgcolor": "white",
           "lakecolor": "white",
           "landcolor": "#E5ECF6",
           "showlakes": true,
           "showland": true,
           "subunitcolor": "white"
          },
          "hoverlabel": {
           "align": "left"
          },
          "hovermode": "closest",
          "mapbox": {
           "style": "light"
          },
          "paper_bgcolor": "white",
          "plot_bgcolor": "#E5ECF6",
          "polar": {
           "angularaxis": {
            "gridcolor": "white",
            "linecolor": "white",
            "ticks": ""
           },
           "bgcolor": "#E5ECF6",
           "radialaxis": {
            "gridcolor": "white",
            "linecolor": "white",
            "ticks": ""
           }
          },
          "scene": {
           "xaxis": {
            "backgroundcolor": "#E5ECF6",
            "gridcolor": "white",
            "gridwidth": 2,
            "linecolor": "white",
            "showbackground": true,
            "ticks": "",
            "zerolinecolor": "white"
           },
           "yaxis": {
            "backgroundcolor": "#E5ECF6",
            "gridcolor": "white",
            "gridwidth": 2,
            "linecolor": "white",
            "showbackground": true,
            "ticks": "",
            "zerolinecolor": "white"
           },
           "zaxis": {
            "backgroundcolor": "#E5ECF6",
            "gridcolor": "white",
            "gridwidth": 2,
            "linecolor": "white",
            "showbackground": true,
            "ticks": "",
            "zerolinecolor": "white"
           }
          },
          "shapedefaults": {
           "line": {
            "color": "#2a3f5f"
           }
          },
          "ternary": {
           "aaxis": {
            "gridcolor": "white",
            "linecolor": "white",
            "ticks": ""
           },
           "baxis": {
            "gridcolor": "white",
            "linecolor": "white",
            "ticks": ""
           },
           "bgcolor": "#E5ECF6",
           "caxis": {
            "gridcolor": "white",
            "linecolor": "white",
            "ticks": ""
           }
          },
          "title": {
           "x": 0.05
          },
          "xaxis": {
           "automargin": true,
           "gridcolor": "white",
           "linecolor": "white",
           "ticks": "",
           "title": {
            "standoff": 15
           },
           "zerolinecolor": "white",
           "zerolinewidth": 2
          },
          "yaxis": {
           "automargin": true,
           "gridcolor": "white",
           "linecolor": "white",
           "ticks": "",
           "title": {
            "standoff": 15
           },
           "zerolinecolor": "white",
           "zerolinewidth": 2
          }
         }
        }
       }
      }
     },
     "metadata": {},
     "output_type": "display_data"
    }
   ],
   "source": [
    "sample_betas = pd.DataFrame(mcmc.get_samples())[['intercept', 'slope', 'location']]\n",
    "\n",
    "def pull_sample(use_b2=False):\n",
    "    b0, b1, b2 = sample_betas.sample(1).values[0]\n",
    "    X = np.arange(df.temp9am.min() - 1, df.temp9am.max() + 1)\n",
    "    Y = [b0+b1*x+(b2 if use_b2 else 0) for x in X]\n",
    "    return X,Y\n",
    "\n",
    "fig = go.Figure()\n",
    "fig.add_trace(\n",
    "    go.Scatter(x=df.temp9am, y=df.temp3pm, mode='markers')\n",
    ")\n",
    "for i in range(10):\n",
    "    x, y = pull_sample(use_b2=False)\n",
    "    fig.add_trace(\n",
    "        go.Scatter(x=x, y=y, marker_color='red')\n",
    "    )\n",
    "\n",
    "    x, y = pull_sample(use_b2=True)\n",
    "    fig.add_trace(\n",
    "        go.Scatter(x=x, y=y, marker_color='blue')\n",
    "    )\n",
    "\n",
    "fig.update_layout(showlegend=False)\n",
    "fig"
   ]
  },
  {
   "cell_type": "markdown",
   "metadata": {},
   "source": [
    "## Adding an interaction term"
   ]
  },
  {
   "cell_type": "markdown",
   "metadata": {},
   "source": [
    "Consider `humidity9am`:"
   ]
  },
  {
   "cell_type": "code",
   "execution_count": 143,
   "metadata": {},
   "outputs": [
    {
     "data": {
      "application/vnd.plotly.v1+json": {
       "config": {
        "plotlyServerURL": "https://plot.ly"
       },
       "data": [
        {
         "hovertemplate": "location=Uluru<br>humidity9am=%{x}<br>temp3pm=%{y}<extra></extra>",
         "legendgroup": "Uluru",
         "marker": {
          "color": "#636efa",
          "symbol": "circle"
         },
         "mode": "markers",
         "name": "Uluru",
         "orientation": "v",
         "showlegend": true,
         "type": "scatter",
         "x": [
          23,
          71,
          15,
          29,
          10,
          32,
          43,
          57,
          64,
          40,
          28,
          30,
          95,
          47,
          71,
          9,
          25,
          25,
          87,
          26,
          15,
          18,
          47,
          34,
          95,
          87,
          42,
          18,
          87,
          60,
          27,
          64,
          17,
          36,
          28,
          33,
          22,
          17,
          33,
          14,
          85,
          27,
          12,
          42,
          59,
          46,
          18,
          27,
          23,
          49,
          41,
          42,
          11,
          14,
          67,
          36,
          35,
          36,
          92,
          47,
          18,
          57,
          11,
          20,
          72,
          99,
          16,
          76,
          58,
          25,
          25,
          48,
          28,
          33,
          26,
          28,
          42,
          14,
          31,
          59,
          60,
          30,
          25,
          57,
          50,
          84,
          22,
          39,
          9,
          37,
          29,
          51,
          65,
          49,
          47,
          36,
          94,
          46,
          77,
          26
         ],
         "xaxis": "x",
         "y": [
          29.7,
          33.9,
          39.7,
          34.2,
          43.3,
          33.5,
          24,
          22.6,
          33.2,
          24.4,
          29.5,
          36.1,
          24.9,
          29.3,
          30.5,
          34.1,
          38,
          22.7,
          26.7,
          35,
          35.5,
          40.5,
          22.5,
          30.7,
          23,
          22.7,
          18.6,
          34.6,
          27.4,
          18.5,
          24.5,
          19.9,
          33.5,
          36.4,
          26.6,
          23.7,
          36.3,
          38.4,
          28.6,
          34.9,
          27.8,
          29.6,
          38.4,
          27.7,
          21.3,
          30.5,
          31.3,
          34,
          35,
          25.4,
          38.8,
          31.1,
          34.3,
          37.7,
          29,
          29,
          38.1,
          38.1,
          16.9,
          19.9,
          36.1,
          22.5,
          36.6,
          32,
          17.7,
          18.7,
          37.7,
          25.2,
          26.5,
          30.4,
          34.9,
          35.3,
          44.2,
          37.8,
          29.8,
          25.1,
          27.1,
          33.8,
          32.3,
          21.4,
          17.9,
          33.4,
          38,
          22.5,
          22.1,
          27.5,
          39.7,
          19.4,
          41.5,
          33.2,
          32.4,
          18.5,
          21.2,
          21.6,
          23.7,
          30.1,
          19.5,
          23.5,
          28.4,
          37
         ],
         "yaxis": "y"
        },
        {
         "hovertemplate": "<b>OLS trendline</b><br>temp3pm = -0.19032 * humidity9am + 37.6184<br>R<sup>2</sup>=0.429025<br><br>location=Uluru<br>humidity9am=%{x}<br>temp3pm=%{y} <b>(trend)</b><extra></extra>",
         "legendgroup": "Uluru",
         "marker": {
          "color": "#636efa",
          "symbol": "circle"
         },
         "mode": "lines",
         "name": "Uluru",
         "showlegend": false,
         "type": "scatter",
         "x": [
          9,
          9,
          10,
          11,
          11,
          12,
          14,
          14,
          14,
          15,
          15,
          16,
          17,
          17,
          18,
          18,
          18,
          18,
          20,
          22,
          22,
          23,
          23,
          25,
          25,
          25,
          25,
          25,
          26,
          26,
          26,
          27,
          27,
          27,
          28,
          28,
          28,
          28,
          29,
          29,
          30,
          30,
          31,
          32,
          33,
          33,
          33,
          34,
          35,
          36,
          36,
          36,
          36,
          37,
          39,
          40,
          41,
          42,
          42,
          42,
          42,
          43,
          46,
          46,
          47,
          47,
          47,
          47,
          48,
          49,
          49,
          50,
          51,
          57,
          57,
          57,
          58,
          59,
          59,
          60,
          60,
          64,
          64,
          65,
          67,
          71,
          71,
          72,
          76,
          77,
          84,
          85,
          87,
          87,
          87,
          92,
          94,
          95,
          95,
          99
         ],
         "xaxis": "x",
         "y": [
          35.90548792176244,
          35.90548792176244,
          35.71516819502307,
          35.524848468283686,
          35.524848468283686,
          35.334528741544304,
          34.95388928806555,
          34.95388928806555,
          34.95388928806555,
          34.76356956132617,
          34.76356956132617,
          34.57324983458679,
          34.38293010784741,
          34.38293010784741,
          34.19261038110803,
          34.19261038110803,
          34.19261038110803,
          34.19261038110803,
          33.811970927629275,
          33.43133147415051,
          33.43133147415051,
          33.241011747411136,
          33.241011747411136,
          32.86037229393237,
          32.86037229393237,
          32.86037229393237,
          32.86037229393237,
          32.86037229393237,
          32.670052567193,
          32.670052567193,
          32.670052567193,
          32.479732840453615,
          32.479732840453615,
          32.479732840453615,
          32.28941311371423,
          32.28941311371423,
          32.28941311371423,
          32.28941311371423,
          32.09909338697486,
          32.09909338697486,
          31.908773660235475,
          31.908773660235475,
          31.718453933496097,
          31.528134206756718,
          31.33781448001734,
          31.33781448001734,
          31.33781448001734,
          31.14749475327796,
          30.95717502653858,
          30.7668552997992,
          30.7668552997992,
          30.7668552997992,
          30.7668552997992,
          30.57653557305982,
          30.19589611958106,
          30.005576392841682,
          29.815256666102304,
          29.624936939362925,
          29.624936939362925,
          29.624936939362925,
          29.624936939362925,
          29.434617212623543,
          28.863658032405404,
          28.863658032405404,
          28.673338305666025,
          28.673338305666025,
          28.673338305666025,
          28.673338305666025,
          28.483018578926647,
          28.292698852187268,
          28.292698852187268,
          28.10237912544789,
          27.912059398708507,
          26.770141038272232,
          26.770141038272232,
          26.770141038272232,
          26.579821311532854,
          26.38950158479347,
          26.38950158479347,
          26.199181858054093,
          26.199181858054093,
          25.437902951096575,
          25.437902951096575,
          25.247583224357196,
          24.866943770878436,
          24.105664863920918,
          24.105664863920918,
          23.91534513718154,
          23.15406623022402,
          22.963746503484643,
          21.631508416308986,
          21.441188689569607,
          21.060549236090846,
          21.060549236090846,
          21.060549236090846,
          20.10895060239395,
          19.72831114891519,
          19.53799142217581,
          19.53799142217581,
          18.776712515218293
         ],
         "yaxis": "y"
        },
        {
         "hovertemplate": "location=Wollongong<br>humidity9am=%{x}<br>temp3pm=%{y}<extra></extra>",
         "legendgroup": "Wollongong",
         "marker": {
          "color": "#EF553B",
          "symbol": "circle"
         },
         "mode": "markers",
         "name": "Wollongong",
         "orientation": "v",
         "showlegend": true,
         "type": "scatter",
         "x": [
          84,
          54,
          68,
          73,
          76,
          58,
          66,
          75,
          55,
          46,
          94,
          77,
          74,
          47,
          76,
          82,
          61,
          55,
          50,
          56,
          49,
          64,
          65,
          79,
          33,
          42,
          81,
          63,
          76,
          73,
          64,
          84,
          87,
          62,
          90,
          55,
          64,
          55,
          53,
          47,
          66,
          74,
          76,
          66,
          75,
          87,
          89,
          70,
          44,
          48,
          66,
          66,
          87,
          70,
          45,
          89,
          54,
          74,
          34,
          44,
          86,
          76,
          48,
          74,
          58,
          74,
          65,
          80,
          68,
          61,
          46,
          71,
          53,
          49,
          79,
          50,
          69,
          58,
          39,
          87,
          66,
          57,
          63,
          61,
          66,
          60,
          75,
          74,
          65,
          79,
          81,
          43,
          68,
          66,
          81,
          91,
          62,
          54,
          78,
          51
         ],
         "xaxis": "x",
         "y": [
          22.6,
          19.4,
          18.5,
          20,
          23.1,
          20.3,
          18.5,
          22.3,
          18.9,
          15.8,
          16.5,
          19.9,
          20.7,
          20.5,
          21.5,
          22.2,
          16.4,
          15.1,
          19.1,
          19.3,
          19.7,
          16.7,
          21.6,
          19.1,
          19.1,
          18.6,
          16.8,
          22.1,
          25.2,
          17.8,
          23,
          19.6,
          25.1,
          17.8,
          23.2,
          30.9,
          31.6,
          22.9,
          15.4,
          15.7,
          18.9,
          18.5,
          22,
          16.7,
          21.6,
          19.1,
          20.4,
          18.5,
          18.5,
          20.4,
          16.4,
          17.5,
          12.6,
          15.7,
          14.8,
          15.2,
          18,
          19.6,
          20.2,
          17.3,
          17.9,
          21.8,
          18.4,
          20.1,
          12.4,
          24.1,
          17,
          19.5,
          27,
          21.4,
          14.7,
          13,
          16.7,
          20.3,
          21.5,
          13.5,
          17.7,
          14.6,
          20.9,
          25.5,
          24.8,
          18.1,
          20.9,
          16.8,
          25.4,
          15.5,
          24.2,
          15.4,
          19.9,
          23.4,
          22.8,
          17.7,
          13.2,
          14.8,
          19,
          20.2,
          13.6,
          15.9,
          26.2,
          19.3
         ],
         "yaxis": "y"
        },
        {
         "hovertemplate": "<b>OLS trendline</b><br>temp3pm = 0.0577077 * humidity9am + 15.6042<br>R<sup>2</sup>=0.049386<br><br>location=Wollongong<br>humidity9am=%{x}<br>temp3pm=%{y} <b>(trend)</b><extra></extra>",
         "legendgroup": "Wollongong",
         "marker": {
          "color": "#EF553B",
          "symbol": "circle"
         },
         "mode": "lines",
         "name": "Wollongong",
         "showlegend": false,
         "type": "scatter",
         "x": [
          33,
          34,
          39,
          42,
          43,
          44,
          44,
          45,
          46,
          46,
          47,
          47,
          48,
          48,
          49,
          49,
          50,
          50,
          51,
          53,
          53,
          54,
          54,
          54,
          55,
          55,
          55,
          55,
          56,
          57,
          58,
          58,
          58,
          60,
          61,
          61,
          61,
          62,
          62,
          63,
          63,
          64,
          64,
          64,
          65,
          65,
          65,
          66,
          66,
          66,
          66,
          66,
          66,
          66,
          66,
          68,
          68,
          68,
          69,
          70,
          70,
          71,
          73,
          73,
          74,
          74,
          74,
          74,
          74,
          74,
          75,
          75,
          75,
          76,
          76,
          76,
          76,
          76,
          77,
          78,
          79,
          79,
          79,
          80,
          81,
          81,
          81,
          82,
          84,
          84,
          86,
          87,
          87,
          87,
          87,
          89,
          89,
          90,
          91,
          94
         ],
         "xaxis": "x",
         "y": [
          17.50853499930679,
          17.566242708107435,
          17.854781252110676,
          18.027904378512623,
          18.085612087313272,
          18.143319796113918,
          18.143319796113918,
          18.201027504914567,
          18.258735213715216,
          18.258735213715216,
          18.316442922515865,
          18.316442922515865,
          18.37415063131651,
          18.37415063131651,
          18.43185834011716,
          18.43185834011716,
          18.48956604891781,
          18.48956604891781,
          18.547273757718457,
          18.662689175319755,
          18.662689175319755,
          18.7203968841204,
          18.7203968841204,
          18.7203968841204,
          18.77810459292105,
          18.77810459292105,
          18.77810459292105,
          18.77810459292105,
          18.8358123017217,
          18.893520010522348,
          18.951227719322993,
          18.951227719322993,
          18.951227719322993,
          19.06664313692429,
          19.12435084572494,
          19.12435084572494,
          19.12435084572494,
          19.18205855452559,
          19.18205855452559,
          19.23976626332624,
          19.23976626332624,
          19.297473972126884,
          19.297473972126884,
          19.297473972126884,
          19.355181680927533,
          19.355181680927533,
          19.355181680927533,
          19.412889389728182,
          19.412889389728182,
          19.412889389728182,
          19.412889389728182,
          19.412889389728182,
          19.412889389728182,
          19.412889389728182,
          19.412889389728182,
          19.52830480732948,
          19.52830480732948,
          19.52830480732948,
          19.586012516130126,
          19.643720224930775,
          19.643720224930775,
          19.701427933731424,
          19.81684335133272,
          19.81684335133272,
          19.87455106013337,
          19.87455106013337,
          19.87455106013337,
          19.87455106013337,
          19.87455106013337,
          19.87455106013337,
          19.932258768934016,
          19.932258768934016,
          19.932258768934016,
          19.989966477734665,
          19.989966477734665,
          19.989966477734665,
          19.989966477734665,
          19.989966477734665,
          20.047674186535314,
          20.10538189533596,
          20.16308960413661,
          20.16308960413661,
          20.16308960413661,
          20.220797312937258,
          20.278505021737907,
          20.278505021737907,
          20.278505021737907,
          20.336212730538556,
          20.451628148139854,
          20.451628148139854,
          20.567043565741148,
          20.624751274541797,
          20.624751274541797,
          20.624751274541797,
          20.624751274541797,
          20.74016669214309,
          20.74016669214309,
          20.79787440094374,
          20.85558210974439,
          21.028705236146337
         ],
         "yaxis": "y"
        }
       ],
       "layout": {
        "legend": {
         "title": {
          "text": "location"
         },
         "tracegroupgap": 0
        },
        "margin": {
         "t": 60
        },
        "template": {
         "data": {
          "bar": [
           {
            "error_x": {
             "color": "#2a3f5f"
            },
            "error_y": {
             "color": "#2a3f5f"
            },
            "marker": {
             "line": {
              "color": "#E5ECF6",
              "width": 0.5
             }
            },
            "type": "bar"
           }
          ],
          "barpolar": [
           {
            "marker": {
             "line": {
              "color": "#E5ECF6",
              "width": 0.5
             }
            },
            "type": "barpolar"
           }
          ],
          "carpet": [
           {
            "aaxis": {
             "endlinecolor": "#2a3f5f",
             "gridcolor": "white",
             "linecolor": "white",
             "minorgridcolor": "white",
             "startlinecolor": "#2a3f5f"
            },
            "baxis": {
             "endlinecolor": "#2a3f5f",
             "gridcolor": "white",
             "linecolor": "white",
             "minorgridcolor": "white",
             "startlinecolor": "#2a3f5f"
            },
            "type": "carpet"
           }
          ],
          "choropleth": [
           {
            "colorbar": {
             "outlinewidth": 0,
             "ticks": ""
            },
            "type": "choropleth"
           }
          ],
          "contour": [
           {
            "colorbar": {
             "outlinewidth": 0,
             "ticks": ""
            },
            "colorscale": [
             [
              0,
              "#0d0887"
             ],
             [
              0.1111111111111111,
              "#46039f"
             ],
             [
              0.2222222222222222,
              "#7201a8"
             ],
             [
              0.3333333333333333,
              "#9c179e"
             ],
             [
              0.4444444444444444,
              "#bd3786"
             ],
             [
              0.5555555555555556,
              "#d8576b"
             ],
             [
              0.6666666666666666,
              "#ed7953"
             ],
             [
              0.7777777777777778,
              "#fb9f3a"
             ],
             [
              0.8888888888888888,
              "#fdca26"
             ],
             [
              1,
              "#f0f921"
             ]
            ],
            "type": "contour"
           }
          ],
          "contourcarpet": [
           {
            "colorbar": {
             "outlinewidth": 0,
             "ticks": ""
            },
            "type": "contourcarpet"
           }
          ],
          "heatmap": [
           {
            "colorbar": {
             "outlinewidth": 0,
             "ticks": ""
            },
            "colorscale": [
             [
              0,
              "#0d0887"
             ],
             [
              0.1111111111111111,
              "#46039f"
             ],
             [
              0.2222222222222222,
              "#7201a8"
             ],
             [
              0.3333333333333333,
              "#9c179e"
             ],
             [
              0.4444444444444444,
              "#bd3786"
             ],
             [
              0.5555555555555556,
              "#d8576b"
             ],
             [
              0.6666666666666666,
              "#ed7953"
             ],
             [
              0.7777777777777778,
              "#fb9f3a"
             ],
             [
              0.8888888888888888,
              "#fdca26"
             ],
             [
              1,
              "#f0f921"
             ]
            ],
            "type": "heatmap"
           }
          ],
          "heatmapgl": [
           {
            "colorbar": {
             "outlinewidth": 0,
             "ticks": ""
            },
            "colorscale": [
             [
              0,
              "#0d0887"
             ],
             [
              0.1111111111111111,
              "#46039f"
             ],
             [
              0.2222222222222222,
              "#7201a8"
             ],
             [
              0.3333333333333333,
              "#9c179e"
             ],
             [
              0.4444444444444444,
              "#bd3786"
             ],
             [
              0.5555555555555556,
              "#d8576b"
             ],
             [
              0.6666666666666666,
              "#ed7953"
             ],
             [
              0.7777777777777778,
              "#fb9f3a"
             ],
             [
              0.8888888888888888,
              "#fdca26"
             ],
             [
              1,
              "#f0f921"
             ]
            ],
            "type": "heatmapgl"
           }
          ],
          "histogram": [
           {
            "marker": {
             "colorbar": {
              "outlinewidth": 0,
              "ticks": ""
             }
            },
            "type": "histogram"
           }
          ],
          "histogram2d": [
           {
            "colorbar": {
             "outlinewidth": 0,
             "ticks": ""
            },
            "colorscale": [
             [
              0,
              "#0d0887"
             ],
             [
              0.1111111111111111,
              "#46039f"
             ],
             [
              0.2222222222222222,
              "#7201a8"
             ],
             [
              0.3333333333333333,
              "#9c179e"
             ],
             [
              0.4444444444444444,
              "#bd3786"
             ],
             [
              0.5555555555555556,
              "#d8576b"
             ],
             [
              0.6666666666666666,
              "#ed7953"
             ],
             [
              0.7777777777777778,
              "#fb9f3a"
             ],
             [
              0.8888888888888888,
              "#fdca26"
             ],
             [
              1,
              "#f0f921"
             ]
            ],
            "type": "histogram2d"
           }
          ],
          "histogram2dcontour": [
           {
            "colorbar": {
             "outlinewidth": 0,
             "ticks": ""
            },
            "colorscale": [
             [
              0,
              "#0d0887"
             ],
             [
              0.1111111111111111,
              "#46039f"
             ],
             [
              0.2222222222222222,
              "#7201a8"
             ],
             [
              0.3333333333333333,
              "#9c179e"
             ],
             [
              0.4444444444444444,
              "#bd3786"
             ],
             [
              0.5555555555555556,
              "#d8576b"
             ],
             [
              0.6666666666666666,
              "#ed7953"
             ],
             [
              0.7777777777777778,
              "#fb9f3a"
             ],
             [
              0.8888888888888888,
              "#fdca26"
             ],
             [
              1,
              "#f0f921"
             ]
            ],
            "type": "histogram2dcontour"
           }
          ],
          "mesh3d": [
           {
            "colorbar": {
             "outlinewidth": 0,
             "ticks": ""
            },
            "type": "mesh3d"
           }
          ],
          "parcoords": [
           {
            "line": {
             "colorbar": {
              "outlinewidth": 0,
              "ticks": ""
             }
            },
            "type": "parcoords"
           }
          ],
          "pie": [
           {
            "automargin": true,
            "type": "pie"
           }
          ],
          "scatter": [
           {
            "marker": {
             "colorbar": {
              "outlinewidth": 0,
              "ticks": ""
             }
            },
            "type": "scatter"
           }
          ],
          "scatter3d": [
           {
            "line": {
             "colorbar": {
              "outlinewidth": 0,
              "ticks": ""
             }
            },
            "marker": {
             "colorbar": {
              "outlinewidth": 0,
              "ticks": ""
             }
            },
            "type": "scatter3d"
           }
          ],
          "scattercarpet": [
           {
            "marker": {
             "colorbar": {
              "outlinewidth": 0,
              "ticks": ""
             }
            },
            "type": "scattercarpet"
           }
          ],
          "scattergeo": [
           {
            "marker": {
             "colorbar": {
              "outlinewidth": 0,
              "ticks": ""
             }
            },
            "type": "scattergeo"
           }
          ],
          "scattergl": [
           {
            "marker": {
             "colorbar": {
              "outlinewidth": 0,
              "ticks": ""
             }
            },
            "type": "scattergl"
           }
          ],
          "scattermapbox": [
           {
            "marker": {
             "colorbar": {
              "outlinewidth": 0,
              "ticks": ""
             }
            },
            "type": "scattermapbox"
           }
          ],
          "scatterpolar": [
           {
            "marker": {
             "colorbar": {
              "outlinewidth": 0,
              "ticks": ""
             }
            },
            "type": "scatterpolar"
           }
          ],
          "scatterpolargl": [
           {
            "marker": {
             "colorbar": {
              "outlinewidth": 0,
              "ticks": ""
             }
            },
            "type": "scatterpolargl"
           }
          ],
          "scatterternary": [
           {
            "marker": {
             "colorbar": {
              "outlinewidth": 0,
              "ticks": ""
             }
            },
            "type": "scatterternary"
           }
          ],
          "surface": [
           {
            "colorbar": {
             "outlinewidth": 0,
             "ticks": ""
            },
            "colorscale": [
             [
              0,
              "#0d0887"
             ],
             [
              0.1111111111111111,
              "#46039f"
             ],
             [
              0.2222222222222222,
              "#7201a8"
             ],
             [
              0.3333333333333333,
              "#9c179e"
             ],
             [
              0.4444444444444444,
              "#bd3786"
             ],
             [
              0.5555555555555556,
              "#d8576b"
             ],
             [
              0.6666666666666666,
              "#ed7953"
             ],
             [
              0.7777777777777778,
              "#fb9f3a"
             ],
             [
              0.8888888888888888,
              "#fdca26"
             ],
             [
              1,
              "#f0f921"
             ]
            ],
            "type": "surface"
           }
          ],
          "table": [
           {
            "cells": {
             "fill": {
              "color": "#EBF0F8"
             },
             "line": {
              "color": "white"
             }
            },
            "header": {
             "fill": {
              "color": "#C8D4E3"
             },
             "line": {
              "color": "white"
             }
            },
            "type": "table"
           }
          ]
         },
         "layout": {
          "annotationdefaults": {
           "arrowcolor": "#2a3f5f",
           "arrowhead": 0,
           "arrowwidth": 1
          },
          "coloraxis": {
           "colorbar": {
            "outlinewidth": 0,
            "ticks": ""
           }
          },
          "colorscale": {
           "diverging": [
            [
             0,
             "#8e0152"
            ],
            [
             0.1,
             "#c51b7d"
            ],
            [
             0.2,
             "#de77ae"
            ],
            [
             0.3,
             "#f1b6da"
            ],
            [
             0.4,
             "#fde0ef"
            ],
            [
             0.5,
             "#f7f7f7"
            ],
            [
             0.6,
             "#e6f5d0"
            ],
            [
             0.7,
             "#b8e186"
            ],
            [
             0.8,
             "#7fbc41"
            ],
            [
             0.9,
             "#4d9221"
            ],
            [
             1,
             "#276419"
            ]
           ],
           "sequential": [
            [
             0,
             "#0d0887"
            ],
            [
             0.1111111111111111,
             "#46039f"
            ],
            [
             0.2222222222222222,
             "#7201a8"
            ],
            [
             0.3333333333333333,
             "#9c179e"
            ],
            [
             0.4444444444444444,
             "#bd3786"
            ],
            [
             0.5555555555555556,
             "#d8576b"
            ],
            [
             0.6666666666666666,
             "#ed7953"
            ],
            [
             0.7777777777777778,
             "#fb9f3a"
            ],
            [
             0.8888888888888888,
             "#fdca26"
            ],
            [
             1,
             "#f0f921"
            ]
           ],
           "sequentialminus": [
            [
             0,
             "#0d0887"
            ],
            [
             0.1111111111111111,
             "#46039f"
            ],
            [
             0.2222222222222222,
             "#7201a8"
            ],
            [
             0.3333333333333333,
             "#9c179e"
            ],
            [
             0.4444444444444444,
             "#bd3786"
            ],
            [
             0.5555555555555556,
             "#d8576b"
            ],
            [
             0.6666666666666666,
             "#ed7953"
            ],
            [
             0.7777777777777778,
             "#fb9f3a"
            ],
            [
             0.8888888888888888,
             "#fdca26"
            ],
            [
             1,
             "#f0f921"
            ]
           ]
          },
          "colorway": [
           "#636efa",
           "#EF553B",
           "#00cc96",
           "#ab63fa",
           "#FFA15A",
           "#19d3f3",
           "#FF6692",
           "#B6E880",
           "#FF97FF",
           "#FECB52"
          ],
          "font": {
           "color": "#2a3f5f"
          },
          "geo": {
           "bgcolor": "white",
           "lakecolor": "white",
           "landcolor": "#E5ECF6",
           "showlakes": true,
           "showland": true,
           "subunitcolor": "white"
          },
          "hoverlabel": {
           "align": "left"
          },
          "hovermode": "closest",
          "mapbox": {
           "style": "light"
          },
          "paper_bgcolor": "white",
          "plot_bgcolor": "#E5ECF6",
          "polar": {
           "angularaxis": {
            "gridcolor": "white",
            "linecolor": "white",
            "ticks": ""
           },
           "bgcolor": "#E5ECF6",
           "radialaxis": {
            "gridcolor": "white",
            "linecolor": "white",
            "ticks": ""
           }
          },
          "scene": {
           "xaxis": {
            "backgroundcolor": "#E5ECF6",
            "gridcolor": "white",
            "gridwidth": 2,
            "linecolor": "white",
            "showbackground": true,
            "ticks": "",
            "zerolinecolor": "white"
           },
           "yaxis": {
            "backgroundcolor": "#E5ECF6",
            "gridcolor": "white",
            "gridwidth": 2,
            "linecolor": "white",
            "showbackground": true,
            "ticks": "",
            "zerolinecolor": "white"
           },
           "zaxis": {
            "backgroundcolor": "#E5ECF6",
            "gridcolor": "white",
            "gridwidth": 2,
            "linecolor": "white",
            "showbackground": true,
            "ticks": "",
            "zerolinecolor": "white"
           }
          },
          "shapedefaults": {
           "line": {
            "color": "#2a3f5f"
           }
          },
          "ternary": {
           "aaxis": {
            "gridcolor": "white",
            "linecolor": "white",
            "ticks": ""
           },
           "baxis": {
            "gridcolor": "white",
            "linecolor": "white",
            "ticks": ""
           },
           "bgcolor": "#E5ECF6",
           "caxis": {
            "gridcolor": "white",
            "linecolor": "white",
            "ticks": ""
           }
          },
          "title": {
           "x": 0.05
          },
          "xaxis": {
           "automargin": true,
           "gridcolor": "white",
           "linecolor": "white",
           "ticks": "",
           "title": {
            "standoff": 15
           },
           "zerolinecolor": "white",
           "zerolinewidth": 2
          },
          "yaxis": {
           "automargin": true,
           "gridcolor": "white",
           "linecolor": "white",
           "ticks": "",
           "title": {
            "standoff": 15
           },
           "zerolinecolor": "white",
           "zerolinewidth": 2
          }
         }
        },
        "xaxis": {
         "anchor": "y",
         "domain": [
          0,
          1
         ],
         "title": {
          "text": "humidity9am"
         }
        },
        "yaxis": {
         "anchor": "x",
         "domain": [
          0,
          1
         ],
         "title": {
          "text": "temp3pm"
         }
        }
       }
      }
     },
     "metadata": {},
     "output_type": "display_data"
    }
   ],
   "source": [
    "px.scatter(df, x='humidity9am', y='temp3pm', color='location', trendline='ols')"
   ]
  },
  {
   "cell_type": "markdown",
   "metadata": {},
   "source": [
    "Without interaction between `humidity` and `location`, our model would resemble:\n",
    "\n",
    "$\\mu = intercept+slope*x_{0}+location*x_{1}+humidity*x_{3}$\n",
    "\n",
    "However, if `humidity` and `location` do interact, we can add an interactions term:\n",
    "\n",
    "$\\mu = intercept+slope*x_{0}+location*x_{1}+humidity*x_{2}+interaction_{loc,hum} * x_{1}x_{2}$"
   ]
  },
  {
   "cell_type": "code",
   "execution_count": 144,
   "metadata": {},
   "outputs": [],
   "source": [
    "def model(x1, x2, x3, y=None):\n",
    "    intercept   = pyro.sample('intercept', dist.Normal(7.43, 3))\n",
    "    slope       = pyro.sample('slope', dist.Normal(2, 3.1))\n",
    "    location    = pyro.sample('location', dist.Normal(0, 2))\n",
    "    humidity    = pyro.sample('humidity', dist.Normal(0, 100))\n",
    "    interaction = pyro.sample('interaction', dist.Normal(0, 100))\n",
    "    sigma       = pyro.sample('sigma', dist.Exponential(0.13))\n",
    "\n",
    "    mu = intercept + slope * x1 + location * x2 + humidity * x3 + interaction * x2 * x3\n",
    "\n",
    "    with pyro.plate('data', len(x1)):\n",
    "        return pyro.sample('obs', dist.Normal(mu, sigma), obs=y)"
   ]
  },
  {
   "cell_type": "code",
   "execution_count": 147,
   "metadata": {},
   "outputs": [
    {
     "name": "stderr",
     "output_type": "stream",
     "text": [
      "Warmup:   0%|          | 0/125 [53:18, ?it/s]0it/s, step size=3.19e-03, acc. prob=0.797]\n",
      "Warmup:   0%|          | 0/125 [49:37, ?it/s]\n",
      "Sample: 100%|██████████| 1200/1200 [02:09,  9.29it/s, step size=1.04e-01, acc. prob=0.936]"
     ]
    },
    {
     "name": "stdout",
     "output_type": "stream",
     "text": [
      "\n",
      "                   mean       std    median      5.0%     95.0%     n_eff     r_hat\n",
      "     humidity     -0.03      0.01     -0.03     -0.05     -0.01    467.42      1.01\n",
      "  interaction     -0.00      0.02     -0.00     -0.03      0.03    339.89      1.01\n",
      "    intercept     13.01      0.94     13.05     11.38     14.40    366.39      1.01\n",
      "     location     -6.10      1.06     -6.12     -7.86     -4.39    357.73      1.01\n",
      "        sigma      2.33      0.12      2.32      2.14      2.53    852.96      1.00\n",
      "        slope      0.83      0.03      0.83      0.78      0.88    432.16      1.00\n",
      "\n",
      "Number of divergences: 0\n"
     ]
    },
    {
     "name": "stderr",
     "output_type": "stream",
     "text": [
      "\n"
     ]
    }
   ],
   "source": [
    "x3_data = t.tensor(df.humidity9am.values, dtype=t.float)\n",
    "\n",
    "pyro.clear_param_store()\n",
    "mcmc = MCMC(NUTS(model), num_samples=1000, warmup_steps=200)\n",
    "mcmc.run(x_data, x2_data, x3_data, y_data)\n",
    "mcmc.summary()"
   ]
  },
  {
   "cell_type": "code",
   "execution_count": 165,
   "metadata": {},
   "outputs": [
    {
     "data": {
      "application/vnd.plotly.v1+json": {
       "config": {
        "plotlyServerURL": "https://plot.ly"
       },
       "data": [
        {
         "mode": "markers",
         "type": "scatter",
         "x": [
          20.9,
          23.4,
          24.1,
          26.4,
          36.7,
          25.1,
          14.9,
          15.9,
          24.6,
          15,
          24,
          27.4,
          18.5,
          21.7,
          19.8,
          28.4,
          32,
          8.9,
          22,
          30.9,
          27.7,
          33.8,
          12.7,
          25.5,
          16.7,
          11.8,
          9.5,
          21.8,
          20.2,
          9.6,
          17,
          9,
          26.7,
          29.2,
          17.8,
          13.4,
          30,
          26.1,
          19.1,
          28.4,
          14.3,
          21,
          31.3,
          19.5,
          12.5,
          26.3,
          24.5,
          27.1,
          29,
          16.2,
          28.1,
          20.6,
          22.3,
          29.9,
          20.8,
          21.5,
          30.6,
          30.4,
          14.1,
          10.9,
          28,
          15.4,
          25.6,
          22.3,
          23.8,
          9.2,
          27.9,
          15.2,
          18.1,
          22.4,
          25.2,
          27.5,
          35.1,
          28.1,
          20.2,
          18.6,
          14,
          28.2,
          21.3,
          12.5,
          9.8,
          23.8,
          30.5,
          11.2,
          13.8,
          19.8,
          32,
          8.2,
          36.1,
          24,
          20.2,
          9.8,
          19,
          13.2,
          16.5,
          31.9,
          9.4,
          13.8,
          19.3,
          26.4,
          20.1,
          16.7,
          15.3,
          18.7,
          21.6,
          20.3,
          15.5,
          21.4,
          19.9,
          11.7,
          16.1,
          17.8,
          19.3,
          13.8,
          21.1,
          20.3,
          12.7,
          12.7,
          17,
          19.5,
          18.7,
          17.2,
          19.6,
          20.4,
          25.6,
          12.7,
          14.7,
          19.9,
          21.5,
          15.8,
          20.1,
          19.5,
          22.8,
          17.7,
          22.1,
          24,
          23.6,
          19.3,
          9.9,
          11.9,
          18.6,
          15.9,
          18.9,
          14.5,
          20.6,
          15.4,
          18.6,
          16.3,
          17,
          16,
          14,
          16.7,
          10.9,
          14.3,
          13.9,
          14,
          13.6,
          16.8,
          18.7,
          13.9,
          15.6,
          20,
          18.9,
          22.5,
          14.6,
          24.7,
          15.5,
          18.4,
          26.8,
          17.8,
          11.5,
          11.6,
          14.6,
          18.1,
          17.7,
          15.1,
          16.9,
          14.6,
          18.2,
          23.7,
          23.9,
          17.6,
          19.4,
          15.1,
          24.2,
          16.1,
          22.8,
          13.5,
          18.6,
          20.1,
          22.6,
          12.1,
          10.7,
          13.1,
          21.8,
          20.2,
          12.2,
          14,
          23,
          18.4
         ],
         "y": [
          29.7,
          33.9,
          39.7,
          34.2,
          43.3,
          33.5,
          24,
          22.6,
          33.2,
          24.4,
          29.5,
          36.1,
          24.9,
          29.3,
          30.5,
          34.1,
          38,
          22.7,
          26.7,
          35,
          35.5,
          40.5,
          22.5,
          30.7,
          23,
          22.7,
          18.6,
          34.6,
          27.4,
          18.5,
          24.5,
          19.9,
          33.5,
          36.4,
          26.6,
          23.7,
          36.3,
          38.4,
          28.6,
          34.9,
          27.8,
          29.6,
          38.4,
          27.7,
          21.3,
          30.5,
          31.3,
          34,
          35,
          25.4,
          38.8,
          31.1,
          34.3,
          37.7,
          29,
          29,
          38.1,
          38.1,
          16.9,
          19.9,
          36.1,
          22.5,
          36.6,
          32,
          17.7,
          18.7,
          37.7,
          25.2,
          26.5,
          30.4,
          34.9,
          35.3,
          44.2,
          37.8,
          29.8,
          25.1,
          27.1,
          33.8,
          32.3,
          21.4,
          17.9,
          33.4,
          38,
          22.5,
          22.1,
          27.5,
          39.7,
          19.4,
          41.5,
          33.2,
          32.4,
          18.5,
          21.2,
          21.6,
          23.7,
          30.1,
          19.5,
          23.5,
          28.4,
          37,
          22.6,
          19.4,
          18.5,
          20,
          23.1,
          20.3,
          18.5,
          22.3,
          18.9,
          15.8,
          16.5,
          19.9,
          20.7,
          20.5,
          21.5,
          22.2,
          16.4,
          15.1,
          19.1,
          19.3,
          19.7,
          16.7,
          21.6,
          19.1,
          19.1,
          18.6,
          16.8,
          22.1,
          25.2,
          17.8,
          23,
          19.6,
          25.1,
          17.8,
          23.2,
          30.9,
          31.6,
          22.9,
          15.4,
          15.7,
          18.9,
          18.5,
          22,
          16.7,
          21.6,
          19.1,
          20.4,
          18.5,
          18.5,
          20.4,
          16.4,
          17.5,
          12.6,
          15.7,
          14.8,
          15.2,
          18,
          19.6,
          20.2,
          17.3,
          17.9,
          21.8,
          18.4,
          20.1,
          12.4,
          24.1,
          17,
          19.5,
          27,
          21.4,
          14.7,
          13,
          16.7,
          20.3,
          21.5,
          13.5,
          17.7,
          14.6,
          20.9,
          25.5,
          24.8,
          18.1,
          20.9,
          16.8,
          25.4,
          15.5,
          24.2,
          15.4,
          19.9,
          23.4,
          22.8,
          17.7,
          13.2,
          14.8,
          19,
          20.2,
          13.6,
          15.9,
          26.2,
          19.3
         ]
        },
        {
         "marker": {
          "color": "red"
         },
         "mode": "markers",
         "type": "scatter",
         "x": [
          20.9,
          23.4,
          24.1,
          26.4,
          36.7,
          25.1,
          14.9,
          15.9,
          24.6,
          15,
          24,
          27.4,
          18.5,
          21.7,
          19.8,
          28.4,
          32,
          8.9,
          22,
          30.9,
          27.7,
          33.8,
          12.7,
          25.5,
          16.7,
          11.8,
          9.5,
          21.8,
          20.2,
          9.6,
          17,
          9,
          26.7,
          29.2,
          17.8,
          13.4,
          30,
          26.1,
          19.1,
          28.4,
          14.3,
          21,
          31.3,
          19.5,
          12.5,
          26.3,
          24.5,
          27.1,
          29,
          16.2,
          28.1,
          20.6,
          22.3,
          29.9,
          20.8,
          21.5,
          30.6,
          30.4,
          14.1,
          10.9,
          28,
          15.4,
          25.6,
          22.3,
          23.8,
          9.2,
          27.9,
          15.2,
          18.1,
          22.4,
          25.2,
          27.5,
          35.1,
          28.1,
          20.2,
          18.6,
          14,
          28.2,
          21.3,
          12.5,
          9.8,
          23.8,
          30.5,
          11.2,
          13.8,
          19.8,
          32,
          8.2,
          36.1,
          24,
          20.2,
          9.8,
          19,
          13.2,
          16.5,
          31.9,
          9.4,
          13.8,
          19.3,
          26.4,
          20.1,
          16.7,
          15.3,
          18.7,
          21.6,
          20.3,
          15.5,
          21.4,
          19.9,
          11.7,
          16.1,
          17.8,
          19.3,
          13.8,
          21.1,
          20.3,
          12.7,
          12.7,
          17,
          19.5,
          18.7,
          17.2,
          19.6,
          20.4,
          25.6,
          12.7,
          14.7,
          19.9,
          21.5,
          15.8,
          20.1,
          19.5,
          22.8,
          17.7,
          22.1,
          24,
          23.6,
          19.3,
          9.9,
          11.9,
          18.6,
          15.9,
          18.9,
          14.5,
          20.6,
          15.4,
          18.6,
          16.3,
          17,
          16,
          14,
          16.7,
          10.9,
          14.3,
          13.9,
          14,
          13.6,
          16.8,
          18.7,
          13.9,
          15.6,
          20,
          18.9,
          22.5,
          14.6,
          24.7,
          15.5,
          18.4,
          26.8,
          17.8,
          11.5,
          11.6,
          14.6,
          18.1,
          17.7,
          15.1,
          16.9,
          14.6,
          18.2,
          23.7,
          23.9,
          17.6,
          19.4,
          15.1,
          24.2,
          16.1,
          22.8,
          13.5,
          18.6,
          20.1,
          22.6,
          12.1,
          10.7,
          13.1,
          21.8,
          20.2,
          12.2,
          14,
          23,
          18.4
         ],
         "y": [
          29.809921264648438,
          29.618228912353516,
          32.76564025878906,
          33.9796142578125,
          43.18216323852539,
          32.79037857055664,
          24.037460327148438,
          24.20049285888672,
          30.91101837158203,
          24.256595611572266,
          32.08551788330078,
          34.7419319152832,
          24.550628662109375,
          29.350290298461914,
          26.707935333251953,
          36.51841735839844,
          38.691131591796875,
          20.01674461364746,
          27.748870849609375,
          37.75577926635742,
          35.67593765258789,
          40.468971252441406,
          22.074552536010742,
          33.021549224853516,
          23.095481872558594,
          19.503036499023438,
          19.71811866760254,
          30.767988204956055,
          26.293724060058594,
          18.96918487548828,
          26.47271156311035,
          18.299739837646484,
          34.77532196044922,
          35.92049026489258,
          27.07334327697754,
          23.28582191467285,
          37.21260070800781,
          34.29027557373047,
          27.893789291381836,
          36.28792190551758,
          21.616270065307617,
          29.706371307373047,
          38.724525451660156,
          27.802270889282227,
          21.35968589782715,
          33.11509704589844,
          32.950714111328125,
          34.63770294189453,
          36.35808563232422,
          24.811809539794922,
          34.80073928833008,
          28.691526412963867,
          31.494888305664062,
          37.500545501708984,
          27.700742721557617,
          29.695690155029297,
          37.09836959838867,
          36.89058303833008,
          21.13189697265625,
          20.619403839111328,
          35.78016662597656,
          23.796287536621094,
          34.16265869140625,
          31.079999923706055,
          29.895492553710938,
          16.847972869873047,
          35.79151916503906,
          22.758731842041016,
          25.932910919189453,
          30.930349349975586,
          33.19390869140625,
          33.99299621582031,
          41.05892562866211,
          35.16952896118164,
          29.105737686157227,
          27.720077514648438,
          23.355985641479492,
          36.12623977661133,
          29.76449966430664,
          21.35968589782715,
          19.13086700439453,
          31.831634521484375,
          37.47850799560547,
          20.400943756103516,
          22.82551383972168,
          26.108652114868164,
          38.829429626464844,
          18.805471420288086,
          42.74321365356445,
          31.670629501342773,
          28.96744155883789,
          19.545753479003906,
          26.337793350219727,
          22.38656234741211,
          25.146530151367188,
          38.103206634521484,
          17.240148544311523,
          23.00990867614746,
          26.02713394165039,
          34.11791229248047,
          21.44627571105957,
          19.202571868896484,
          17.83516502380371,
          20.4996280670166,
          22.79353904724121,
          22.04554557800293,
          18.030508041381836,
          22.6486873626709,
          21.772666931152344,
          15.295134544372559,
          18.044313430786133,
          19.70473289489746,
          20.967844009399414,
          16.975976943969727,
          22.389333724975586,
          21.641618728637695,
          15.851099014282227,
          15.952080726623535,
          19.51241683959961,
          21.43247413635254,
          20.903553009033203,
          19.438474655151367,
          21.361841201782227,
          21.772951126098633,
          26.750900268554688,
          16.170873641967773,
          17.131322860717773,
          21.638025283813477,
          22.712697982788086,
          18.155221939086914,
          21.782880783081055,
          20.961225509643555,
          23.57850456237793,
          19.876344680786133,
          22.962125778198242,
          25.087169647216797,
          24.612329483032227,
          21.287616729736328,
          13.722176551818848,
          15.439990043640137,
          20.536596298217773,
          18.2192325592041,
          20.61081886291504,
          17.22209358215332,
          22.001955032348633,
          17.596233367919922,
          20.14950180053711,
          18.609920501708984,
          19.6133975982666,
          18.737661361694336,
          16.81788444519043,
          19.000608444213867,
          13.95836353302002,
          16.993091583251953,
          17.090478897094727,
          16.430789947509766,
          16.696483612060547,
          18.946805953979492,
          21.156005859375,
          17.107309341430664,
          17.77474594116211,
          21.500078201293945,
          21.082063674926758,
          23.554773330688477,
          17.437576293945312,
          25.333288192749023,
          18.047338485717773,
          20.1392879486084,
          27.13193702697754,
          19.974016189575195,
          15.133453369140625,
          14.793538093566895,
          17.521728515625,
          20.418502807617188,
          19.59023094177246,
          17.976428985595703,
          19.111801147460938,
          17.437576293945312,
          20.667644500732422,
          24.30607795715332,
          24.821195602416992,
          19.879653930664062,
          21.23381996154785,
          17.791296005249023,
          25.063722610473633,
          18.616540908813477,
          23.78046989440918,
          16.279037475585938,
          20.55342674255371,
          21.530427932739258,
          23.517805099487305,
          15.668992042541504,
          14.116456031799316,
          16.09031105041504,
          22.871068954467773,
          21.4093074798584,
          15.430059432983398,
          17.019847869873047,
          23.891660690307617,
          20.627365112304688
         ]
        },
        {
         "marker": {
          "color": "red"
         },
         "mode": "markers",
         "type": "scatter",
         "x": [
          20.9,
          23.4,
          24.1,
          26.4,
          36.7,
          25.1,
          14.9,
          15.9,
          24.6,
          15,
          24,
          27.4,
          18.5,
          21.7,
          19.8,
          28.4,
          32,
          8.9,
          22,
          30.9,
          27.7,
          33.8,
          12.7,
          25.5,
          16.7,
          11.8,
          9.5,
          21.8,
          20.2,
          9.6,
          17,
          9,
          26.7,
          29.2,
          17.8,
          13.4,
          30,
          26.1,
          19.1,
          28.4,
          14.3,
          21,
          31.3,
          19.5,
          12.5,
          26.3,
          24.5,
          27.1,
          29,
          16.2,
          28.1,
          20.6,
          22.3,
          29.9,
          20.8,
          21.5,
          30.6,
          30.4,
          14.1,
          10.9,
          28,
          15.4,
          25.6,
          22.3,
          23.8,
          9.2,
          27.9,
          15.2,
          18.1,
          22.4,
          25.2,
          27.5,
          35.1,
          28.1,
          20.2,
          18.6,
          14,
          28.2,
          21.3,
          12.5,
          9.8,
          23.8,
          30.5,
          11.2,
          13.8,
          19.8,
          32,
          8.2,
          36.1,
          24,
          20.2,
          9.8,
          19,
          13.2,
          16.5,
          31.9,
          9.4,
          13.8,
          19.3,
          26.4,
          20.1,
          16.7,
          15.3,
          18.7,
          21.6,
          20.3,
          15.5,
          21.4,
          19.9,
          11.7,
          16.1,
          17.8,
          19.3,
          13.8,
          21.1,
          20.3,
          12.7,
          12.7,
          17,
          19.5,
          18.7,
          17.2,
          19.6,
          20.4,
          25.6,
          12.7,
          14.7,
          19.9,
          21.5,
          15.8,
          20.1,
          19.5,
          22.8,
          17.7,
          22.1,
          24,
          23.6,
          19.3,
          9.9,
          11.9,
          18.6,
          15.9,
          18.9,
          14.5,
          20.6,
          15.4,
          18.6,
          16.3,
          17,
          16,
          14,
          16.7,
          10.9,
          14.3,
          13.9,
          14,
          13.6,
          16.8,
          18.7,
          13.9,
          15.6,
          20,
          18.9,
          22.5,
          14.6,
          24.7,
          15.5,
          18.4,
          26.8,
          17.8,
          11.5,
          11.6,
          14.6,
          18.1,
          17.7,
          15.1,
          16.9,
          14.6,
          18.2,
          23.7,
          23.9,
          17.6,
          19.4,
          15.1,
          24.2,
          16.1,
          22.8,
          13.5,
          18.6,
          20.1,
          22.6,
          12.1,
          10.7,
          13.1,
          21.8,
          20.2,
          12.2,
          14,
          23,
          18.4
         ],
         "y": [
          30.028200149536133,
          30.474456787109375,
          33.07509994506836,
          34.56092834472656,
          44.127479553222656,
          33.33203887939453,
          24.137006759643555,
          24.500900268554688,
          31.759654998779297,
          24.33026695251465,
          32.52532196044922,
          35.38829803466797,
          25.389982223510742,
          29.86297035217285,
          27.36756706237793,
          37.000022888183594,
          39.536476135253906,
          19.600595474243164,
          28.69578742980957,
          38.55149841308594,
          36.18199157714844,
          41.33948516845703,
          22.09574317932129,
          33.60594177246094,
          23.836538314819336,
          19.892932891845703,
          19.5123233795166,
          30.983184814453125,
          27.142343521118164,
          18.956886291503906,
          26.519794464111328,
          18.296463012695312,
          35.24766159057617,
          36.72782897949219,
          27.174562454223633,
          23.198991775512695,
          37.917381286621094,
          34.7298469543457,
          28.118234634399414,
          36.82176208496094,
          22.12179946899414,
          29.971895217895508,
          39.395835876464844,
          28.142574310302734,
          21.495311737060547,
          33.868534088134766,
          33.3133544921875,
          35.236351013183594,
          37.018707275390625,
          25.045026779174805,
          35.60023880004883,
          29.091901779174805,
          31.664260864257812,
          38.116294860839844,
          28.373201370239258,
          30.082538604736328,
          37.971717834472656,
          37.763458251953125,
          21.699630737304688,
          20.542299270629883,
          36.33393859863281,
          24.06938934326172,
          34.512245178222656,
          31.3433895111084,
          30.784015655517578,
          17.22123908996582,
          36.31894302368164,
          23.219390869140625,
          26.363903045654297,
          31.251432418823242,
          33.66790771484375,
          34.83285903930664,
          42.104896545410156,
          35.885459899902344,
          29.317127227783203,
          27.86498260498047,
          23.395936965942383,
          36.64915466308594,
          30.088193893432617,
          21.495311737060547,
          19.129491806030273,
          32.281410217285156,
          38.241939544677734,
          20.444683074951172,
          22.9381160736084,
          26.904088973999023,
          39.6434326171875,
          18.49734878540039,
          43.64530944824219,
          32.20445251464844,
          29.21017074584961,
          19.450363159179688,
          26.89105987548828,
          22.455951690673828,
          25.3752384185791,
          39.05799865722656,
          17.572105407714844,
          23.080724716186523,
          26.72214126586914,
          34.667884826660156,
          20.8496036529541,
          19.506319046020508,
          17.555614471435547,
          20.224735260009766,
          22.56840705871582,
          22.401073455810547,
          17.834285736083984,
          22.448833465576172,
          22.214963912963867,
          15.615457534790039,
          16.867168426513672,
          19.235877990722656,
          20.68951416015625,
          17.374778747558594,
          22.13689422607422,
          21.128273010253906,
          15.682982444763184,
          16.001184463500977,
          19.977357864379883,
          21.81671905517578,
          21.497535705566406,
          19.407495498657227,
          21.425724029541016,
          21.373676300048828,
          28.30093765258789,
          16.690616607666016,
          16.34836769104004,
          21.79069709777832,
          22.482105255126953,
          17.721961975097656,
          21.910268783569336,
          20.331787109375,
          23.02066993713379,
          19.94507598876953,
          22.25745391845703,
          25.75337028503418,
          24.93085289001465,
          21.6971492767334,
          13.690779685974121,
          15.735032081604004,
          20.50966453552246,
          17.755229949951172,
          20.238239288330078,
          16.971261978149414,
          21.758413314819336,
          16.63428497314453,
          19.289897918701172,
          18.31257438659668,
          20.29555892944336,
          19.220401763916016,
          16.539749145507812,
          18.869918823242188,
          12.750672340393066,
          16.586523056030273,
          17.56714630126953,
          15.31998348236084,
          16.8309383392334,
          18.531951904296875,
          22.29303550720215,
          17.620180130004883,
          16.85992431640625,
          21.18756675720215,
          21.723173141479492,
          23.451194763183594,
          17.481830596923828,
          25.349853515625,
          17.887319564819336,
          19.594593048095703,
          27.48040008544922,
          20.084409713745117,
          15.442853927612305,
          14.203324317932129,
          17.746997833251953,
          20.979719161987305,
          19.04351043701172,
          18.33761215209961,
          18.8834228515625,
          17.481830596923828,
          21.596355438232422,
          23.797391891479492,
          25.083698272705078,
          20.12394142150879,
          21.35918426513672,
          17.754243850708008,
          25.342605590820312,
          18.67030143737793,
          23.657068252563477,
          15.683971405029297,
          20.562698364257812,
          21.114770889282227,
          23.1662654876709,
          16.119768142700195,
          13.585700035095215,
          15.76302719116211,
          22.47584342956543,
          20.564672470092773,
          15.19843864440918,
          17.176149368286133,
          23.67057228088379,
          21.13256072998047
         ]
        },
        {
         "marker": {
          "color": "red"
         },
         "mode": "markers",
         "type": "scatter",
         "x": [
          20.9,
          23.4,
          24.1,
          26.4,
          36.7,
          25.1,
          14.9,
          15.9,
          24.6,
          15,
          24,
          27.4,
          18.5,
          21.7,
          19.8,
          28.4,
          32,
          8.9,
          22,
          30.9,
          27.7,
          33.8,
          12.7,
          25.5,
          16.7,
          11.8,
          9.5,
          21.8,
          20.2,
          9.6,
          17,
          9,
          26.7,
          29.2,
          17.8,
          13.4,
          30,
          26.1,
          19.1,
          28.4,
          14.3,
          21,
          31.3,
          19.5,
          12.5,
          26.3,
          24.5,
          27.1,
          29,
          16.2,
          28.1,
          20.6,
          22.3,
          29.9,
          20.8,
          21.5,
          30.6,
          30.4,
          14.1,
          10.9,
          28,
          15.4,
          25.6,
          22.3,
          23.8,
          9.2,
          27.9,
          15.2,
          18.1,
          22.4,
          25.2,
          27.5,
          35.1,
          28.1,
          20.2,
          18.6,
          14,
          28.2,
          21.3,
          12.5,
          9.8,
          23.8,
          30.5,
          11.2,
          13.8,
          19.8,
          32,
          8.2,
          36.1,
          24,
          20.2,
          9.8,
          19,
          13.2,
          16.5,
          31.9,
          9.4,
          13.8,
          19.3,
          26.4,
          20.1,
          16.7,
          15.3,
          18.7,
          21.6,
          20.3,
          15.5,
          21.4,
          19.9,
          11.7,
          16.1,
          17.8,
          19.3,
          13.8,
          21.1,
          20.3,
          12.7,
          12.7,
          17,
          19.5,
          18.7,
          17.2,
          19.6,
          20.4,
          25.6,
          12.7,
          14.7,
          19.9,
          21.5,
          15.8,
          20.1,
          19.5,
          22.8,
          17.7,
          22.1,
          24,
          23.6,
          19.3,
          9.9,
          11.9,
          18.6,
          15.9,
          18.9,
          14.5,
          20.6,
          15.4,
          18.6,
          16.3,
          17,
          16,
          14,
          16.7,
          10.9,
          14.3,
          13.9,
          14,
          13.6,
          16.8,
          18.7,
          13.9,
          15.6,
          20,
          18.9,
          22.5,
          14.6,
          24.7,
          15.5,
          18.4,
          26.8,
          17.8,
          11.5,
          11.6,
          14.6,
          18.1,
          17.7,
          15.1,
          16.9,
          14.6,
          18.2,
          23.7,
          23.9,
          17.6,
          19.4,
          15.1,
          24.2,
          16.1,
          22.8,
          13.5,
          18.6,
          20.1,
          22.6,
          12.1,
          10.7,
          13.1,
          21.8,
          20.2,
          12.2,
          14,
          23,
          18.4
         ],
         "y": [
          29.56709098815918,
          29.494720458984375,
          32.51411819458008,
          33.76776123046875,
          42.958030700683594,
          32.58147430419922,
          23.822542190551758,
          24.02121925354004,
          30.774953842163086,
          24.035015106201172,
          31.863906860351562,
          34.53549575805664,
          24.46773910522461,
          29.16572380065918,
          26.573280334472656,
          36.266258239746094,
          38.48731994628906,
          19.74140167236328,
          27.658220291137695,
          37.55088424682617,
          35.43556213378906,
          40.254459381103516,
          21.862119674682617,
          32.81852722167969,
          23.00701904296875,
          19.38080406188965,
          19.484153747558594,
          30.51631736755371,
          26.197500228881836,
          18.777374267578125,
          26.227100372314453,
          18.115371704101562,
          34.536502838134766,
          35.73357391357422,
          26.832534790039062,
          23.043012619018555,
          36.9956169128418,
          34.04959487915039,
          27.668630599975586,
          36.04738998413086,
          21.49713134765625,
          29.47314453125,
          38.48832321166992,
          27.59926986694336,
          21.174531936645508,
          32.94245147705078,
          32.707401275634766,
          34.42336654663086,
          36.14033126831055,
          24.614864349365234,
          34.62204360961914,
          28.491931915283203,
          31.228492736816406,
          37.2646598815918,
          27.55988311767578,
          29.48493766784668,
          36.9134635925293,
          36.7073860168457,
          21.02840805053711,
          20.401399612426758,
          35.547691345214844,
          23.615463256835938,
          33.90647888183594,
          30.83452796936035,
          29.775550842285156,
          16.745586395263672,
          35.5540885925293,
          22.621456146240234,
          25.762771606445312,
          30.696807861328125,
          32.96903991699219,
          33.82872009277344,
          40.871681213378906,
          34.97223663330078,
          28.86771011352539,
          27.48174285888672,
          23.135955810546875,
          35.88508987426758,
          29.541501998901367,
          21.174531936645508,
          18.93967628479004,
          31.614055633544922,
          37.270050048828125,
          20.207115173339844,
          22.623462677001953,
          26.00421905517578,
          38.6186408996582,
          18.560508728027344,
          42.514896392822266,
          31.469942092895508,
          28.73638916015625,
          19.333641052246094,
          26.186710357666016,
          22.180330276489258,
          24.945863723754883,
          37.924652099609375,
          17.126758575439453,
          22.79855728149414,
          25.904878616333008,
          33.89908218383789,
          20.679222106933594,
          19.275413513183594,
          17.50680923461914,
          20.04006004333496,
          22.257909774780273,
          22.016141891479492,
          17.759464263916016,
          22.140783309936523,
          21.827072143554688,
          15.579276084899902,
          16.981395721435547,
          19.12898826599121,
          20.481786727905273,
          17.23827362060547,
          21.85215187072754,
          20.93187713623047,
          15.71312141418457,
          15.984188079833984,
          19.6995792388916,
          21.457290649414062,
          21.124326705932617,
          19.22939109802246,
          21.1318416595459,
          21.1485595703125,
          27.446598052978516,
          16.57149887084961,
          16.43259048461914,
          21.46565055847168,
          22.176759719848633,
          17.686674118041992,
          21.58277702331543,
          20.19231414794922,
          22.734766006469727,
          19.72550392150879,
          22.03117561340332,
          25.15427017211914,
          24.423067092895508,
          21.340164184570312,
          13.802310943603516,
          15.696402549743652,
          20.275150299072266,
          17.72264862060547,
          20.06682777404785,
          16.947954177856445,
          21.491575241088867,
          16.729581832885742,
          19.23606300354004,
          18.227964401245117,
          19.970645904541016,
          18.978422164916992,
          16.542198181152344,
          18.733280181884766,
          13.077778816223145,
          16.604942321777344,
          17.409780502319336,
          15.5031099319458,
          16.759727478027344,
          18.4530086517334,
          21.801992416381836,
          17.454959869384766,
          16.937063217163086,
          20.959489822387695,
          21.331804275512695,
          23.078622817993164,
          17.390527725219727,
          24.863950729370117,
          17.804643630981445,
          19.48036003112793,
          26.839191436767578,
          19.851831436157227,
          15.416975975036621,
          14.368681907653809,
          17.616416931152344,
          20.637418746948242,
          18.957481384277344,
          18.157705307006836,
          18.760047912597656,
          17.390527725219727,
          21.170345306396484,
          23.46512794494629,
          24.576160430908203,
          19.870241165161133,
          21.059894561767578,
          17.660749435424805,
          24.81961441040039,
          18.517438888549805,
          23.276899337768555,
          15.775020599365234,
          20.320329666137695,
          20.905109405517578,
          22.84353256225586,
          16.03941535949707,
          13.773855209350586,
          15.81183910369873,
          22.194320678710938,
          20.444128036499023,
          15.262189865112305,
          17.084331512451172,
          23.30367088317871,
          20.79051399230957
         ]
        },
        {
         "marker": {
          "color": "red"
         },
         "mode": "markers",
         "type": "scatter",
         "x": [
          20.9,
          23.4,
          24.1,
          26.4,
          36.7,
          25.1,
          14.9,
          15.9,
          24.6,
          15,
          24,
          27.4,
          18.5,
          21.7,
          19.8,
          28.4,
          32,
          8.9,
          22,
          30.9,
          27.7,
          33.8,
          12.7,
          25.5,
          16.7,
          11.8,
          9.5,
          21.8,
          20.2,
          9.6,
          17,
          9,
          26.7,
          29.2,
          17.8,
          13.4,
          30,
          26.1,
          19.1,
          28.4,
          14.3,
          21,
          31.3,
          19.5,
          12.5,
          26.3,
          24.5,
          27.1,
          29,
          16.2,
          28.1,
          20.6,
          22.3,
          29.9,
          20.8,
          21.5,
          30.6,
          30.4,
          14.1,
          10.9,
          28,
          15.4,
          25.6,
          22.3,
          23.8,
          9.2,
          27.9,
          15.2,
          18.1,
          22.4,
          25.2,
          27.5,
          35.1,
          28.1,
          20.2,
          18.6,
          14,
          28.2,
          21.3,
          12.5,
          9.8,
          23.8,
          30.5,
          11.2,
          13.8,
          19.8,
          32,
          8.2,
          36.1,
          24,
          20.2,
          9.8,
          19,
          13.2,
          16.5,
          31.9,
          9.4,
          13.8,
          19.3,
          26.4,
          20.1,
          16.7,
          15.3,
          18.7,
          21.6,
          20.3,
          15.5,
          21.4,
          19.9,
          11.7,
          16.1,
          17.8,
          19.3,
          13.8,
          21.1,
          20.3,
          12.7,
          12.7,
          17,
          19.5,
          18.7,
          17.2,
          19.6,
          20.4,
          25.6,
          12.7,
          14.7,
          19.9,
          21.5,
          15.8,
          20.1,
          19.5,
          22.8,
          17.7,
          22.1,
          24,
          23.6,
          19.3,
          9.9,
          11.9,
          18.6,
          15.9,
          18.9,
          14.5,
          20.6,
          15.4,
          18.6,
          16.3,
          17,
          16,
          14,
          16.7,
          10.9,
          14.3,
          13.9,
          14,
          13.6,
          16.8,
          18.7,
          13.9,
          15.6,
          20,
          18.9,
          22.5,
          14.6,
          24.7,
          15.5,
          18.4,
          26.8,
          17.8,
          11.5,
          11.6,
          14.6,
          18.1,
          17.7,
          15.1,
          16.9,
          14.6,
          18.2,
          23.7,
          23.9,
          17.6,
          19.4,
          15.1,
          24.2,
          16.1,
          22.8,
          13.5,
          18.6,
          20.1,
          22.6,
          12.1,
          10.7,
          13.1,
          21.8,
          20.2,
          12.2,
          14,
          23,
          18.4
         ],
         "y": [
          29.536291122436523,
          30.085716247558594,
          32.42911911010742,
          33.88558578491211,
          42.98403549194336,
          32.718257904052734,
          23.95458221435547,
          24.33831787109375,
          31.296653747558594,
          24.131696701049805,
          31.936691284179688,
          34.67923355102539,
          25.28557586669922,
          29.439674377441406,
          27.115070343017578,
          36.16657638549805,
          38.63271713256836,
          19.57107925415039,
          28.42595672607422,
          37.69348907470703,
          35.39976501464844,
          40.33876037597656,
          22.0130615234375,
          32.985267639160156,
          23.800254821777344,
          20.009130477905273,
          19.530147552490234,
          30.43661117553711,
          26.940635681152344,
          19.045093536376953,
          26.191965103149414,
          18.423858642578125,
          34.51152038574219,
          35.97536849975586,
          26.820579528808594,
          23.03213119506836,
          37.07695388793945,
          34.01641082763672,
          27.735652923583984,
          36.00891876220703,
          22.135141372680664,
          29.49268341064453,
          38.465003967285156,
          27.781938552856445,
          21.46964454650879,
          33.26702880859375,
          32.66459655761719,
          34.526275634765625,
          36.22024154663086,
          24.83812713623047,
          34.910011291503906,
          28.68963623046875,
          31.069923400878906,
          37.24668884277344,
          28.066375732421875,
          29.62148666381836,
          37.16215133666992,
          36.965579986572266,
          21.7493839263916,
          20.527738571166992,
          35.55271911621094,
          23.92572784423828,
          33.79301834106445,
          30.786136627197266,
          30.384254455566406,
          17.48528289794922,
          35.533267974853516,
          23.161588668823242,
          26.122180938720703,
          30.710996627807617,
          33.0214958190918,
          34.19417953491211,
          41.09617614746094,
          35.16226577758789,
          28.864072799682617,
          27.480722427368164,
          23.243453979492188,
          35.84388732910156,
          29.614110946655273,
          21.46964454650879,
          19.210128784179688,
          31.708587646484375,
          37.39494705200195,
          20.459976196289062,
          22.82616424560547,
          26.705156326293945,
          38.72731399536133,
          18.55200958251953,
          42.52045822143555,
          31.652904510498047,
          28.76947784423828,
          19.493915557861328,
          26.644119262695312,
          22.362586975097656,
          25.14874267578125,
          38.20335006713867,
          17.8079776763916,
          22.95229148864746,
          26.513288497924805,
          33.98018264770508,
          21.04225730895996,
          19.215482711791992,
          17.603443145751953,
          20.245912551879883,
          22.54104995727539,
          22.055614471435547,
          17.83373260498047,
          22.408641815185547,
          21.823427200317383,
          15.350607872009277,
          17.415266036987305,
          19.37274169921875,
          20.708389282226562,
          17.05085563659668,
          22.128459930419922,
          21.272550582885742,
          15.686370849609375,
          15.882136344909668,
          19.593544006347656,
          21.460725784301758,
          21.02897834777832,
          19.301794052124023,
          21.249597549438477,
          21.45294952392578,
          27.24475860595703,
          16.306297302246094,
          16.684173583984375,
          21.56240463256836,
          22.45853042602539,
          17.852893829345703,
          21.694812774658203,
          20.547149658203125,
          23.172359466552734,
          19.779638290405273,
          22.496850967407227,
          25.206663131713867,
          24.582942962646484,
          21.328317642211914,
          13.63688850402832,
          15.483016014099121,
          20.391788482666016,
          17.902782440185547,
          20.313064575195312,
          17.008554458618164,
          21.748498916625977,
          17.0660343170166,
          19.6413516998291,
          18.363365173339844,
          19.789310455322266,
          18.833621978759766,
          16.595964431762695,
          18.823949813842773,
          13.352726936340332,
          16.713008880615234,
          17.198625564575195,
          15.845527648925781,
          16.657426834106445,
          18.645442962646484,
          21.51839256286621,
          17.23125457763672,
          17.263696670532227,
          21.220762252807617,
          21.226640701293945,
          23.34896469116211,
          17.352094650268555,
          25.164356231689453,
          17.866361618041992,
          19.76996421813965,
          27.09300422668457,
          19.894784927368164,
          15.18557071685791,
          14.45239543914795,
          17.515233993530273,
          20.533872604370117,
          19.22496795654297,
          18.025705337524414,
          18.89109992980957,
          17.352094650268555,
          20.942665100097656,
          23.915021896362305,
          24.76523780822754,
          19.860260009765625,
          21.14981460571289,
          17.66680145263672,
          25.012792587280273,
          18.524606704711914,
          23.563892364501953,
          15.92235279083252,
          20.42441749572754,
          21.20539665222168,
          23.203088760375977,
          15.77856159210205,
          13.807619094848633,
          15.853303909301758,
          22.542943954467773,
          20.89638328552246,
          15.2411527633667,
          16.987497329711914,
          23.63104248046875,
          20.716167449951172
         ]
        },
        {
         "marker": {
          "color": "red"
         },
         "mode": "markers",
         "type": "scatter",
         "x": [
          20.9,
          23.4,
          24.1,
          26.4,
          36.7,
          25.1,
          14.9,
          15.9,
          24.6,
          15,
          24,
          27.4,
          18.5,
          21.7,
          19.8,
          28.4,
          32,
          8.9,
          22,
          30.9,
          27.7,
          33.8,
          12.7,
          25.5,
          16.7,
          11.8,
          9.5,
          21.8,
          20.2,
          9.6,
          17,
          9,
          26.7,
          29.2,
          17.8,
          13.4,
          30,
          26.1,
          19.1,
          28.4,
          14.3,
          21,
          31.3,
          19.5,
          12.5,
          26.3,
          24.5,
          27.1,
          29,
          16.2,
          28.1,
          20.6,
          22.3,
          29.9,
          20.8,
          21.5,
          30.6,
          30.4,
          14.1,
          10.9,
          28,
          15.4,
          25.6,
          22.3,
          23.8,
          9.2,
          27.9,
          15.2,
          18.1,
          22.4,
          25.2,
          27.5,
          35.1,
          28.1,
          20.2,
          18.6,
          14,
          28.2,
          21.3,
          12.5,
          9.8,
          23.8,
          30.5,
          11.2,
          13.8,
          19.8,
          32,
          8.2,
          36.1,
          24,
          20.2,
          9.8,
          19,
          13.2,
          16.5,
          31.9,
          9.4,
          13.8,
          19.3,
          26.4,
          20.1,
          16.7,
          15.3,
          18.7,
          21.6,
          20.3,
          15.5,
          21.4,
          19.9,
          11.7,
          16.1,
          17.8,
          19.3,
          13.8,
          21.1,
          20.3,
          12.7,
          12.7,
          17,
          19.5,
          18.7,
          17.2,
          19.6,
          20.4,
          25.6,
          12.7,
          14.7,
          19.9,
          21.5,
          15.8,
          20.1,
          19.5,
          22.8,
          17.7,
          22.1,
          24,
          23.6,
          19.3,
          9.9,
          11.9,
          18.6,
          15.9,
          18.9,
          14.5,
          20.6,
          15.4,
          18.6,
          16.3,
          17,
          16,
          14,
          16.7,
          10.9,
          14.3,
          13.9,
          14,
          13.6,
          16.8,
          18.7,
          13.9,
          15.6,
          20,
          18.9,
          22.5,
          14.6,
          24.7,
          15.5,
          18.4,
          26.8,
          17.8,
          11.5,
          11.6,
          14.6,
          18.1,
          17.7,
          15.1,
          16.9,
          14.6,
          18.2,
          23.7,
          23.9,
          17.6,
          19.4,
          15.1,
          24.2,
          16.1,
          22.8,
          13.5,
          18.6,
          20.1,
          22.6,
          12.1,
          10.7,
          13.1,
          21.8,
          20.2,
          12.2,
          14,
          23,
          18.4
         ],
         "y": [
          29.825298309326172,
          29.731555938720703,
          32.738529205322266,
          33.9697151184082,
          43.05183029174805,
          32.79713439941406,
          24.14458465576172,
          24.334228515625,
          30.998743057250977,
          24.355745315551758,
          32.09055709838867,
          34.72721481323242,
          24.757413864135742,
          29.41789436340332,
          26.847299575805664,
          36.445701599121094,
          38.63105773925781,
          20.12375259399414,
          27.911001205444336,
          37.706077575683594,
          35.62278747558594,
          40.37895202636719,
          22.207258224487305,
          33.030242919921875,
          23.31528663635254,
          19.738943099975586,
          19.86188316345215,
          30.7647705078125,
          26.468873977661133,
          19.155736923217773,
          26.525964736938477,
          18.500303268432617,
          34.73424530029297,
          35.90725326538086,
          27.12322998046875,
          23.379621505737305,
          37.15973663330078,
          34.253536224365234,
          27.946359634399414,
          36.227294921875,
          21.829261779785156,
          29.730693817138672,
          38.63808822631836,
          27.873701095581055,
          21.52284812927246,
          33.147010803222656,
          32.92795944213867,
          34.61790466308594,
          36.31487274169922,
          24.924034118652344,
          34.80754852294922,
          28.755002975463867,
          31.471128463745117,
          37.42906951904297,
          27.82320785522461,
          29.73815155029297,
          37.07258987426758,
          36.86867141723633,
          21.363258361816406,
          20.7651309967041,
          35.73209762573242,
          23.933637619018555,
          34.115028381347656,
          31.0779972076416,
          30.00834846496582,
          17.131696701049805,
          35.739341735839844,
          22.943458557128906,
          26.053146362304688,
          30.93971061706543,
          33.183021545410156,
          34.02107238769531,
          40.98367691040039,
          35.15699768066406,
          29.13343048095703,
          27.764177322387695,
          23.467201232910156,
          36.06705856323242,
          29.796321868896484,
          21.52284812927246,
          19.31597328186035,
          31.842960357666016,
          37.42928695678711,
          20.56867218017578,
          22.957515716552734,
          26.279443740844727,
          38.76210021972656,
          18.95138931274414,
          42.614803314208984,
          31.69742774963379,
          29.00238609313965,
          19.709104537963867,
          26.46844482421875,
          22.520484924316406,
          25.25174903869629,
          38.0704460144043,
          17.510337829589844,
          23.132240295410156,
          26.184621810913086,
          34.10075759887695,
          20.988975524902344,
          18.98409080505371,
          17.52684211730957,
          20.131004333496094,
          22.382518768310547,
          21.7724609375,
          17.73501968383789,
          22.246253967285156,
          21.523900985717773,
          15.169951438903809,
          17.544538497924805,
          19.314056396484375,
          20.58774185180664,
          16.828460693359375,
          21.98192596435547,
          21.197154998779297,
          15.611565589904785,
          15.755393028259277,
          19.320331573486328,
          21.17945671081543,
          20.706310272216797,
          19.144973754882812,
          21.043838500976562,
          21.34918785095215,
          26.618003845214844,
          16.0670166015625,
          16.734508514404297,
          21.33213233947754,
          22.302398681640625,
          17.80757713317871,
          21.468399047851562,
          20.50826644897461,
          23.08025550842285,
          19.593503952026367,
          22.447513580322266,
          24.808748245239258,
          24.272537231445312,
          21.04319190979004,
          13.56002426147461,
          15.306215286254883,
          20.218685150146484,
          17.863723754882812,
          20.21932601928711,
          16.933837890625,
          21.605308532714844,
          17.151508331298828,
          19.667348861694336,
          18.280080795288086,
          19.464157104492188,
          18.56709098815918,
          16.533246994018555,
          18.69643783569336,
          13.54619026184082,
          16.677717208862305,
          16.95652198791504,
          15.981912612915039,
          16.50042724609375,
          18.58478546142578,
          21.065876007080078,
          16.980493545532227,
          17.335716247558594,
          21.100627899169922,
          20.890518188476562,
          23.15152359008789,
          17.205724716186523,
          24.914127349853516,
          17.758991241455078,
          19.722850799560547,
          26.740434646606445,
          19.697593688964844,
          15.00971508026123,
          14.49055290222168,
          17.325580596923828,
          20.225601196289062,
          19.18599510192871,
          17.798084259033203,
          18.784759521484375,
          17.205724716186523,
          20.545433044433594,
          23.801321029663086,
          24.464946746826172,
          19.633243560791016,
          20.931543350219727,
          17.53440284729004,
          24.705303192138672,
          18.359554290771484,
          23.367908477783203,
          15.940887451171875,
          20.242656707763672,
          21.10883140563965,
          23.063846588134766,
          15.562336921691895,
          13.841405868530273,
          15.812183380126953,
          22.422901153564453,
          20.90129852294922,
          15.187002182006836,
          16.820899963378906,
          23.45623207092285,
          20.418012619018555
         ]
        },
        {
         "marker": {
          "color": "red"
         },
         "mode": "markers",
         "type": "scatter",
         "x": [
          20.9,
          23.4,
          24.1,
          26.4,
          36.7,
          25.1,
          14.9,
          15.9,
          24.6,
          15,
          24,
          27.4,
          18.5,
          21.7,
          19.8,
          28.4,
          32,
          8.9,
          22,
          30.9,
          27.7,
          33.8,
          12.7,
          25.5,
          16.7,
          11.8,
          9.5,
          21.8,
          20.2,
          9.6,
          17,
          9,
          26.7,
          29.2,
          17.8,
          13.4,
          30,
          26.1,
          19.1,
          28.4,
          14.3,
          21,
          31.3,
          19.5,
          12.5,
          26.3,
          24.5,
          27.1,
          29,
          16.2,
          28.1,
          20.6,
          22.3,
          29.9,
          20.8,
          21.5,
          30.6,
          30.4,
          14.1,
          10.9,
          28,
          15.4,
          25.6,
          22.3,
          23.8,
          9.2,
          27.9,
          15.2,
          18.1,
          22.4,
          25.2,
          27.5,
          35.1,
          28.1,
          20.2,
          18.6,
          14,
          28.2,
          21.3,
          12.5,
          9.8,
          23.8,
          30.5,
          11.2,
          13.8,
          19.8,
          32,
          8.2,
          36.1,
          24,
          20.2,
          9.8,
          19,
          13.2,
          16.5,
          31.9,
          9.4,
          13.8,
          19.3,
          26.4,
          20.1,
          16.7,
          15.3,
          18.7,
          21.6,
          20.3,
          15.5,
          21.4,
          19.9,
          11.7,
          16.1,
          17.8,
          19.3,
          13.8,
          21.1,
          20.3,
          12.7,
          12.7,
          17,
          19.5,
          18.7,
          17.2,
          19.6,
          20.4,
          25.6,
          12.7,
          14.7,
          19.9,
          21.5,
          15.8,
          20.1,
          19.5,
          22.8,
          17.7,
          22.1,
          24,
          23.6,
          19.3,
          9.9,
          11.9,
          18.6,
          15.9,
          18.9,
          14.5,
          20.6,
          15.4,
          18.6,
          16.3,
          17,
          16,
          14,
          16.7,
          10.9,
          14.3,
          13.9,
          14,
          13.6,
          16.8,
          18.7,
          13.9,
          15.6,
          20,
          18.9,
          22.5,
          14.6,
          24.7,
          15.5,
          18.4,
          26.8,
          17.8,
          11.5,
          11.6,
          14.6,
          18.1,
          17.7,
          15.1,
          16.9,
          14.6,
          18.2,
          23.7,
          23.9,
          17.6,
          19.4,
          15.1,
          24.2,
          16.1,
          22.8,
          13.5,
          18.6,
          20.1,
          22.6,
          12.1,
          10.7,
          13.1,
          21.8,
          20.2,
          12.2,
          14,
          23,
          18.4
         ],
         "y": [
          29.39130210876465,
          30.73113441467285,
          32.19308853149414,
          33.89776611328125,
          42.81036376953125,
          32.76345443725586,
          24.059703826904297,
          24.677019119262695,
          31.844409942626953,
          24.190298080444336,
          31.905981063842773,
          34.718544006347656,
          26.25700569152832,
          29.684825897216797,
          27.719985961914062,
          35.883644104003906,
          38.644378662109375,
          19.322837829589844,
          29.30971908569336,
          37.70865249633789,
          35.20423889160156,
          40.2595100402832,
          22.156951904296875,
          33.06672286987305,
          24.75143051147461,
          20.77812957763672,
          19.558629989624023,
          30.22234535217285,
          27.80414581298828,
          19.360557556152344,
          26.066621780395508,
          18.79609489440918,
          34.33650207519531,
          36.13021469116211,
          26.72011375427246,
          22.961565017700195,
          37.018470764160156,
          33.83464813232422,
          27.729219436645508,
          35.805389404296875,
          22.9005069732666,
          29.412343978881836,
          38.26233673095703,
          27.92293357849121,
          21.801855087280273,
          33.54805374145508,
          32.480709075927734,
          34.51456832885742,
          36.16638946533203,
          25.053157806396484,
          35.13188552856445,
          28.843008041381836,
          30.7501163482666,
          37.060035705566406,
          28.6190185546875,
          29.689701080322266,
          37.31686782836914,
          37.13393020629883,
          22.62366485595703,
          20.651376724243164,
          35.4082145690918,
          24.258804321289062,
          33.510337829589844,
          30.6092586517334,
          31.0500545501709,
          18.415597915649414,
          35.35586929321289,
          23.794151306152344,
          26.50151824951172,
          30.614646911621094,
          32.9566535949707,
          34.520469665527344,
          41.19036102294922,
          35.25709533691406,
          28.758852005004883,
          27.389257431030273,
          23.32256507873535,
          35.63810348510742,
          29.60066795349121,
          21.801855087280273,
          19.527843475341797,
          31.707393646240234,
          37.389732360839844,
          20.745798110961914,
          23.030071258544922,
          27.516523361206055,
          38.69132995605469,
          18.51822280883789,
          42.32415771484375,
          31.76512336730957,
          28.711898803710938,
          19.668701171875,
          27.144746780395508,
          22.543865203857422,
          25.335386276245117,
          38.38857650756836,
          18.6611385345459,
          23.092676162719727,
          27.20786476135254,
          33.94471740722656,
          21.005659103393555,
          19.24230194091797,
          17.56706428527832,
          20.230844497680664,
          22.54844093322754,
          22.109386444091797,
          17.806385040283203,
          22.417173385620117,
          21.882863998413086,
          15.348285675048828,
          17.299768447875977,
          19.333988189697266,
          20.696685791015625,
          17.06877326965332,
          22.130224227905273,
          21.24498176574707,
          15.644462585449219,
          15.860562324523926,
          19.637300491333008,
          21.51227569580078,
          21.09524917602539,
          19.300350189208984,
          21.271764755249023,
          21.43667221069336,
          27.442888259887695,
          16.32878303527832,
          16.596986770629883,
          21.594730377197266,
          22.46479606628418,
          17.80519676208496,
          21.725997924804688,
          20.503801345825195,
          23.155973434448242,
          19.790599822998047,
          22.462419509887695,
          25.312227249145508,
          24.65350341796875,
          21.381006240844727,
          13.590593338012695,
          15.479554176330566,
          20.39931869506836,
          17.852821350097656,
          20.29007911682129,
          16.969955444335938,
          21.748029708862305,
          16.966386795043945,
          19.5709285736084,
          18.33146095275879,
          19.85340118408203,
          18.872905731201172,
          16.551738739013672,
          18.810100555419922,
          13.202449798583984,
          16.658601760864258,
          17.224451065063477,
          15.723349571228027,
          16.649368286132812,
          18.605609893798828,
          21.6355037689209,
          17.260467529296875,
          17.16969108581543,
          21.21014976501465,
          21.298553466796875,
          23.373260498046875,
          17.341732025146484,
          25.213409423828125,
          17.8424015045166,
          19.72779655456543,
          27.18601417541504,
          19.910259246826172,
          15.180999755859375,
          14.364222526550293,
          17.52181625366211,
          20.59339141845703,
          19.178314208984375,
          18.04808235168457,
          18.869335174560547,
          17.341732025146484,
          21.037202835083008,
          23.908761978149414,
          24.832401275634766,
          19.887039184570312,
          21.176513671875,
          17.651897430419922,
          25.083332061767578,
          18.524341583251953,
          23.58817481994629,
          15.845389366149902,
          20.435335159301758,
          21.185745239257812,
          23.20478630065918,
          15.790908813476562,
          13.71948528289795,
          15.79895305633545,
          22.535642623901367,
          20.837186813354492,
          15.190231323242188,
          16.98394012451172,
          23.647409439086914,
          20.77228546142578
         ]
        },
        {
         "marker": {
          "color": "red"
         },
         "mode": "markers",
         "type": "scatter",
         "x": [
          20.9,
          23.4,
          24.1,
          26.4,
          36.7,
          25.1,
          14.9,
          15.9,
          24.6,
          15,
          24,
          27.4,
          18.5,
          21.7,
          19.8,
          28.4,
          32,
          8.9,
          22,
          30.9,
          27.7,
          33.8,
          12.7,
          25.5,
          16.7,
          11.8,
          9.5,
          21.8,
          20.2,
          9.6,
          17,
          9,
          26.7,
          29.2,
          17.8,
          13.4,
          30,
          26.1,
          19.1,
          28.4,
          14.3,
          21,
          31.3,
          19.5,
          12.5,
          26.3,
          24.5,
          27.1,
          29,
          16.2,
          28.1,
          20.6,
          22.3,
          29.9,
          20.8,
          21.5,
          30.6,
          30.4,
          14.1,
          10.9,
          28,
          15.4,
          25.6,
          22.3,
          23.8,
          9.2,
          27.9,
          15.2,
          18.1,
          22.4,
          25.2,
          27.5,
          35.1,
          28.1,
          20.2,
          18.6,
          14,
          28.2,
          21.3,
          12.5,
          9.8,
          23.8,
          30.5,
          11.2,
          13.8,
          19.8,
          32,
          8.2,
          36.1,
          24,
          20.2,
          9.8,
          19,
          13.2,
          16.5,
          31.9,
          9.4,
          13.8,
          19.3,
          26.4,
          20.1,
          16.7,
          15.3,
          18.7,
          21.6,
          20.3,
          15.5,
          21.4,
          19.9,
          11.7,
          16.1,
          17.8,
          19.3,
          13.8,
          21.1,
          20.3,
          12.7,
          12.7,
          17,
          19.5,
          18.7,
          17.2,
          19.6,
          20.4,
          25.6,
          12.7,
          14.7,
          19.9,
          21.5,
          15.8,
          20.1,
          19.5,
          22.8,
          17.7,
          22.1,
          24,
          23.6,
          19.3,
          9.9,
          11.9,
          18.6,
          15.9,
          18.9,
          14.5,
          20.6,
          15.4,
          18.6,
          16.3,
          17,
          16,
          14,
          16.7,
          10.9,
          14.3,
          13.9,
          14,
          13.6,
          16.8,
          18.7,
          13.9,
          15.6,
          20,
          18.9,
          22.5,
          14.6,
          24.7,
          15.5,
          18.4,
          26.8,
          17.8,
          11.5,
          11.6,
          14.6,
          18.1,
          17.7,
          15.1,
          16.9,
          14.6,
          18.2,
          23.7,
          23.9,
          17.6,
          19.4,
          15.1,
          24.2,
          16.1,
          22.8,
          13.5,
          18.6,
          20.1,
          22.6,
          12.1,
          10.7,
          13.1,
          21.8,
          20.2,
          12.2,
          14,
          23,
          18.4
         ],
         "y": [
          29.39130210876465,
          30.73113441467285,
          32.19308853149414,
          33.89776611328125,
          42.81036376953125,
          32.76345443725586,
          24.059703826904297,
          24.677019119262695,
          31.844409942626953,
          24.190298080444336,
          31.905981063842773,
          34.718544006347656,
          26.25700569152832,
          29.684825897216797,
          27.719985961914062,
          35.883644104003906,
          38.644378662109375,
          19.322837829589844,
          29.30971908569336,
          37.70865249633789,
          35.20423889160156,
          40.2595100402832,
          22.156951904296875,
          33.06672286987305,
          24.75143051147461,
          20.77812957763672,
          19.558629989624023,
          30.22234535217285,
          27.80414581298828,
          19.360557556152344,
          26.066621780395508,
          18.79609489440918,
          34.33650207519531,
          36.13021469116211,
          26.72011375427246,
          22.961565017700195,
          37.018470764160156,
          33.83464813232422,
          27.729219436645508,
          35.805389404296875,
          22.9005069732666,
          29.412343978881836,
          38.26233673095703,
          27.92293357849121,
          21.801855087280273,
          33.54805374145508,
          32.480709075927734,
          34.51456832885742,
          36.16638946533203,
          25.053157806396484,
          35.13188552856445,
          28.843008041381836,
          30.7501163482666,
          37.060035705566406,
          28.6190185546875,
          29.689701080322266,
          37.31686782836914,
          37.13393020629883,
          22.62366485595703,
          20.651376724243164,
          35.4082145690918,
          24.258804321289062,
          33.510337829589844,
          30.6092586517334,
          31.0500545501709,
          18.415597915649414,
          35.35586929321289,
          23.794151306152344,
          26.50151824951172,
          30.614646911621094,
          32.9566535949707,
          34.520469665527344,
          41.19036102294922,
          35.25709533691406,
          28.758852005004883,
          27.389257431030273,
          23.32256507873535,
          35.63810348510742,
          29.60066795349121,
          21.801855087280273,
          19.527843475341797,
          31.707393646240234,
          37.389732360839844,
          20.745798110961914,
          23.030071258544922,
          27.516523361206055,
          38.69132995605469,
          18.51822280883789,
          42.32415771484375,
          31.76512336730957,
          28.711898803710938,
          19.668701171875,
          27.144746780395508,
          22.543865203857422,
          25.335386276245117,
          38.38857650756836,
          18.6611385345459,
          23.092676162719727,
          27.20786476135254,
          33.94471740722656,
          21.005659103393555,
          19.24230194091797,
          17.56706428527832,
          20.230844497680664,
          22.54844093322754,
          22.109386444091797,
          17.806385040283203,
          22.417173385620117,
          21.882863998413086,
          15.348285675048828,
          17.299768447875977,
          19.333988189697266,
          20.696685791015625,
          17.06877326965332,
          22.130224227905273,
          21.24498176574707,
          15.644462585449219,
          15.860562324523926,
          19.637300491333008,
          21.51227569580078,
          21.09524917602539,
          19.300350189208984,
          21.271764755249023,
          21.43667221069336,
          27.442888259887695,
          16.32878303527832,
          16.596986770629883,
          21.594730377197266,
          22.46479606628418,
          17.80519676208496,
          21.725997924804688,
          20.503801345825195,
          23.155973434448242,
          19.790599822998047,
          22.462419509887695,
          25.312227249145508,
          24.65350341796875,
          21.381006240844727,
          13.590593338012695,
          15.479554176330566,
          20.39931869506836,
          17.852821350097656,
          20.29007911682129,
          16.969955444335938,
          21.748029708862305,
          16.966386795043945,
          19.5709285736084,
          18.33146095275879,
          19.85340118408203,
          18.872905731201172,
          16.551738739013672,
          18.810100555419922,
          13.202449798583984,
          16.658601760864258,
          17.224451065063477,
          15.723349571228027,
          16.649368286132812,
          18.605609893798828,
          21.6355037689209,
          17.260467529296875,
          17.16969108581543,
          21.21014976501465,
          21.298553466796875,
          23.373260498046875,
          17.341732025146484,
          25.213409423828125,
          17.8424015045166,
          19.72779655456543,
          27.18601417541504,
          19.910259246826172,
          15.180999755859375,
          14.364222526550293,
          17.52181625366211,
          20.59339141845703,
          19.178314208984375,
          18.04808235168457,
          18.869335174560547,
          17.341732025146484,
          21.037202835083008,
          23.908761978149414,
          24.832401275634766,
          19.887039184570312,
          21.176513671875,
          17.651897430419922,
          25.083332061767578,
          18.524341583251953,
          23.58817481994629,
          15.845389366149902,
          20.435335159301758,
          21.185745239257812,
          23.20478630065918,
          15.790908813476562,
          13.71948528289795,
          15.79895305633545,
          22.535642623901367,
          20.837186813354492,
          15.190231323242188,
          16.98394012451172,
          23.647409439086914,
          20.77228546142578
         ]
        },
        {
         "marker": {
          "color": "red"
         },
         "mode": "markers",
         "type": "scatter",
         "x": [
          20.9,
          23.4,
          24.1,
          26.4,
          36.7,
          25.1,
          14.9,
          15.9,
          24.6,
          15,
          24,
          27.4,
          18.5,
          21.7,
          19.8,
          28.4,
          32,
          8.9,
          22,
          30.9,
          27.7,
          33.8,
          12.7,
          25.5,
          16.7,
          11.8,
          9.5,
          21.8,
          20.2,
          9.6,
          17,
          9,
          26.7,
          29.2,
          17.8,
          13.4,
          30,
          26.1,
          19.1,
          28.4,
          14.3,
          21,
          31.3,
          19.5,
          12.5,
          26.3,
          24.5,
          27.1,
          29,
          16.2,
          28.1,
          20.6,
          22.3,
          29.9,
          20.8,
          21.5,
          30.6,
          30.4,
          14.1,
          10.9,
          28,
          15.4,
          25.6,
          22.3,
          23.8,
          9.2,
          27.9,
          15.2,
          18.1,
          22.4,
          25.2,
          27.5,
          35.1,
          28.1,
          20.2,
          18.6,
          14,
          28.2,
          21.3,
          12.5,
          9.8,
          23.8,
          30.5,
          11.2,
          13.8,
          19.8,
          32,
          8.2,
          36.1,
          24,
          20.2,
          9.8,
          19,
          13.2,
          16.5,
          31.9,
          9.4,
          13.8,
          19.3,
          26.4,
          20.1,
          16.7,
          15.3,
          18.7,
          21.6,
          20.3,
          15.5,
          21.4,
          19.9,
          11.7,
          16.1,
          17.8,
          19.3,
          13.8,
          21.1,
          20.3,
          12.7,
          12.7,
          17,
          19.5,
          18.7,
          17.2,
          19.6,
          20.4,
          25.6,
          12.7,
          14.7,
          19.9,
          21.5,
          15.8,
          20.1,
          19.5,
          22.8,
          17.7,
          22.1,
          24,
          23.6,
          19.3,
          9.9,
          11.9,
          18.6,
          15.9,
          18.9,
          14.5,
          20.6,
          15.4,
          18.6,
          16.3,
          17,
          16,
          14,
          16.7,
          10.9,
          14.3,
          13.9,
          14,
          13.6,
          16.8,
          18.7,
          13.9,
          15.6,
          20,
          18.9,
          22.5,
          14.6,
          24.7,
          15.5,
          18.4,
          26.8,
          17.8,
          11.5,
          11.6,
          14.6,
          18.1,
          17.7,
          15.1,
          16.9,
          14.6,
          18.2,
          23.7,
          23.9,
          17.6,
          19.4,
          15.1,
          24.2,
          16.1,
          22.8,
          13.5,
          18.6,
          20.1,
          22.6,
          12.1,
          10.7,
          13.1,
          21.8,
          20.2,
          12.2,
          14,
          23,
          18.4
         ],
         "y": [
          29.526945114135742,
          30.715124130249023,
          32.42160415649414,
          34.111412048339844,
          43.29506301879883,
          32.94040298461914,
          24.000537872314453,
          24.578683853149414,
          31.879756927490234,
          24.145401000976562,
          32.07890319824219,
          34.94675064086914,
          26.05021095275879,
          29.736228942871094,
          27.636686325073242,
          36.21733474731445,
          38.97922897338867,
          19.225915908813477,
          29.2014102935791,
          38.01881408691406,
          35.50004577636719,
          40.65693664550781,
          22.04013442993164,
          33.242881774902344,
          24.5109920501709,
          20.47916603088379,
          19.402664184570312,
          30.395477294921875,
          27.66219139099121,
          19.132064819335938,
          26.112834930419922,
          18.53985595703125,
          34.6053581237793,
          36.36726760864258,
          26.777149200439453,
          22.915691375732422,
          37.328338623046875,
          34.09228515625,
          27.789886474609375,
          36.11841583251953,
          22.656539916992188,
          29.533323287963867,
          38.63783645629883,
          27.953880310058594,
          21.631702423095703,
          33.689571380615234,
          32.70430374145508,
          34.749568939208984,
          36.453433990478516,
          24.993494033813477,
          35.32771301269531,
          28.894515991210938,
          30.961523056030273,
          37.401100158691406,
          28.570941925048828,
          29.782827377319336,
          37.58422088623047,
          37.39341354370117,
          22.347028732299805,
          20.50091552734375,
          35.69723129272461,
          24.151123046875,
          33.783424377441406,
          30.78346824645996,
          31.03738784790039,
          18.018442153930664,
          35.651283264160156,
          23.604204177856445,
          26.440168380737305,
          30.770061492919922,
          33.16440200805664,
          34.67615509033203,
          41.57075500488281,
          35.485984802246094,
          28.86901092529297,
          27.46124839782715,
          23.25071144104004,
          35.947391510009766,
          29.710721969604492,
          21.631702423095703,
          19.303089141845703,
          31.86831283569336,
          37.69654846191406,
          20.55961036682129,
          22.921415328979492,
          27.379493713378906,
          39.03858184814453,
          18.350357055664062,
          42.80177307128906,
          31.900850296020508,
          28.80965805053711,
          19.481143951416016,
          27.071290969848633,
          22.428125381469727,
          25.289596557617188,
          38.67609786987305,
          18.288387298583984,
          23.000551223754883,
          27.09041976928711,
          34.1707649230957,
          20.945255279541016,
          18.857421875,
          17.277780532836914,
          20.048599243164062,
          22.446495056152344,
          21.826581954956055,
          17.503442764282227,
          22.30278968811035,
          21.566490173339844,
          14.800366401672363,
          17.251577377319336,
          19.16971206665039,
          20.534351348876953,
          16.568801879882812,
          22.018932342529297,
          21.17091941833496,
          15.245699882507324,
          15.409614562988281,
          19.22323226928711,
          21.19712257385254,
          20.704259872436523,
          19.011791229248047,
          21.036762237548828,
          21.33839225769043,
          27.04170799255371,
          15.764763832092285,
          16.409557342529297,
          21.34793472290039,
          22.360980987548828,
          17.56874656677246,
          21.491641998291016,
          20.43218231201172,
          23.172128677368164,
          19.493988037109375,
          22.49158477783203,
          25.072490692138672,
          24.484569549560547,
          21.053417205810547,
          13.06991195678711,
          14.944070816040039,
          20.154321670532227,
          17.626937866210938,
          20.137664794921875,
          16.6483211517334,
          21.61869239807129,
          16.844226837158203,
          19.52597999572754,
          18.078264236450195,
          19.387147903442383,
          18.42275047302246,
          16.220760345458984,
          18.52958869934082,
          12.996179580688477,
          16.36802101135254,
          16.708953857421875,
          15.592418670654297,
          16.20654296875,
          18.39654541015625,
          21.11404800415039,
          16.736270904541016,
          17.042572021484375,
          21.07830047607422,
          20.902603149414062,
          23.270740509033203,
          16.952388763427734,
          25.15201187133789,
          17.53076171875,
          19.600826263427734,
          27.11168098449707,
          19.60681915283203,
          14.629342079162598,
          14.031872749328613,
          17.0889835357666,
          20.191186904907227,
          19.02956199645996,
          17.598501205444336,
          18.618654251098633,
          16.952388763427734,
          20.549894332885742,
          23.941740036010742,
          24.686464309692383,
          19.545072555541992,
          20.92037582397461,
          17.297990798950195,
          24.943002700805664,
          18.180431365966797,
          23.49995994567871,
          15.57464599609375,
          20.181640625,
          21.08185386657715,
          23.165019989013672,
          15.224372863769531,
          13.344221115112305,
          15.451151847839355,
          22.48092269897461,
          20.839534759521484,
          14.790817260742188,
          16.54859161376953,
          23.589025497436523,
          20.393085479736328
         ]
        },
        {
         "marker": {
          "color": "red"
         },
         "mode": "markers",
         "type": "scatter",
         "x": [
          20.9,
          23.4,
          24.1,
          26.4,
          36.7,
          25.1,
          14.9,
          15.9,
          24.6,
          15,
          24,
          27.4,
          18.5,
          21.7,
          19.8,
          28.4,
          32,
          8.9,
          22,
          30.9,
          27.7,
          33.8,
          12.7,
          25.5,
          16.7,
          11.8,
          9.5,
          21.8,
          20.2,
          9.6,
          17,
          9,
          26.7,
          29.2,
          17.8,
          13.4,
          30,
          26.1,
          19.1,
          28.4,
          14.3,
          21,
          31.3,
          19.5,
          12.5,
          26.3,
          24.5,
          27.1,
          29,
          16.2,
          28.1,
          20.6,
          22.3,
          29.9,
          20.8,
          21.5,
          30.6,
          30.4,
          14.1,
          10.9,
          28,
          15.4,
          25.6,
          22.3,
          23.8,
          9.2,
          27.9,
          15.2,
          18.1,
          22.4,
          25.2,
          27.5,
          35.1,
          28.1,
          20.2,
          18.6,
          14,
          28.2,
          21.3,
          12.5,
          9.8,
          23.8,
          30.5,
          11.2,
          13.8,
          19.8,
          32,
          8.2,
          36.1,
          24,
          20.2,
          9.8,
          19,
          13.2,
          16.5,
          31.9,
          9.4,
          13.8,
          19.3,
          26.4,
          20.1,
          16.7,
          15.3,
          18.7,
          21.6,
          20.3,
          15.5,
          21.4,
          19.9,
          11.7,
          16.1,
          17.8,
          19.3,
          13.8,
          21.1,
          20.3,
          12.7,
          12.7,
          17,
          19.5,
          18.7,
          17.2,
          19.6,
          20.4,
          25.6,
          12.7,
          14.7,
          19.9,
          21.5,
          15.8,
          20.1,
          19.5,
          22.8,
          17.7,
          22.1,
          24,
          23.6,
          19.3,
          9.9,
          11.9,
          18.6,
          15.9,
          18.9,
          14.5,
          20.6,
          15.4,
          18.6,
          16.3,
          17,
          16,
          14,
          16.7,
          10.9,
          14.3,
          13.9,
          14,
          13.6,
          16.8,
          18.7,
          13.9,
          15.6,
          20,
          18.9,
          22.5,
          14.6,
          24.7,
          15.5,
          18.4,
          26.8,
          17.8,
          11.5,
          11.6,
          14.6,
          18.1,
          17.7,
          15.1,
          16.9,
          14.6,
          18.2,
          23.7,
          23.9,
          17.6,
          19.4,
          15.1,
          24.2,
          16.1,
          22.8,
          13.5,
          18.6,
          20.1,
          22.6,
          12.1,
          10.7,
          13.1,
          21.8,
          20.2,
          12.2,
          14,
          23,
          18.4
         ],
         "y": [
          29.743003845214844,
          30.067344665527344,
          32.53232955932617,
          33.86190414428711,
          42.60926055908203,
          32.73728561401367,
          24.34206771850586,
          24.649593353271484,
          31.25010108947754,
          24.523258209228516,
          32.009239196777344,
          34.61389923095703,
          25.394453048706055,
          29.551389694213867,
          27.237064361572266,
          36.11808395385742,
          38.40132141113281,
          20.240360260009766,
          28.419633865356445,
          37.502323150634766,
          35.36260986328125,
          40.055789947509766,
          22.475690841674805,
          32.98338317871094,
          23.97931480407715,
          20.400510787963867,
          20.130840301513672,
          30.621524810791016,
          27.00449562072754,
          19.59403419494629,
          26.54010772705078,
          18.985559463500977,
          34.50804138183594,
          35.82389831542969,
          27.134870529174805,
          23.50468635559082,
          36.93151092529297,
          34.03632736206055,
          27.985963821411133,
          35.9471321105957,
          22.434364318847656,
          29.684864044189453,
          38.29545974731445,
          27.992727279663086,
          21.908170700073242,
          33.20204544067383,
          32.74423599243164,
          34.480613708496094,
          36.11113357543945,
          25.158971786499023,
          34.78813934326172,
          28.857534408569336,
          31.25395393371582,
          37.12641525268555,
          28.160015106201172,
          29.770244598388672,
          36.9587516784668,
          36.7673225402832,
          22.037796020507812,
          21.0605525970459,
          35.49589538574219,
          24.256500244140625,
          33.84837341308594,
          30.94624137878418,
          30.347631454467773,
          17.946138381958008,
          35.485660552978516,
          23.44964599609375,
          26.345016479492188,
          30.853906631469727,
          33.05523681640625,
          34.07709503173828,
          40.735931396484375,
          35.06166076660156,
          29.090103149414062,
          27.763822555541992,
          23.66868782043457,
          35.789894104003906,
          29.783958435058594,
          21.908170700073242,
          19.751272201538086,
          31.78362274169922,
          37.22203826904297,
          20.954505920410156,
          23.23792839050293,
          26.792591094970703,
          38.50389099121094,
          19.21136474609375,
          42.17173385620117,
          31.701528549194336,
          28.987531661987305,
          20.058984756469727,
          26.813255310058594,
          22.800405502319336,
          25.46320915222168,
          37.94660568237305,
          18.274328231811523,
          23.37468910217285,
          26.638830184936523,
          33.964473724365234,
          21.006183624267578,
          19.1249942779541,
          17.65479850769043,
          20.195865631103516,
          22.396631240844727,
          21.849689483642578,
          17.864826202392578,
          22.265783309936523,
          21.61440086364746,
          15.405208587646484,
          17.59748077392578,
          19.38271713256836,
          20.641183853149414,
          17.029808044433594,
          22.0035343170166,
          21.216211318969727,
          15.795472145080566,
          15.953842163085938,
          19.466428756713867,
          21.273530960083008,
          20.829343795776367,
          19.25413703918457,
          21.114593505859375,
          21.3740177154541,
          26.67636489868164,
          16.29697608947754,
          16.83995246887207,
          21.403240203857422,
          22.318010330200195,
          17.915918350219727,
          21.53408432006836,
          20.53447151184082,
          23.049707412719727,
          19.700021743774414,
          22.42019271850586,
          24.83777618408203,
          24.28574562072754,
          21.142688751220703,
          13.805303573608398,
          15.536051750183105,
          20.302013397216797,
          17.968141555786133,
          20.2739200592041,
          17.078638076782227,
          21.6368350982666,
          17.23191261291504,
          19.694927215576172,
          18.388198852539062,
          19.624797821044922,
          18.733030319213867,
          16.685543060302734,
          18.80825424194336,
          13.69406509399414,
          16.81582260131836,
          17.161218643188477,
          16.078458786010742,
          16.687807083129883,
          18.675710678100586,
          21.22526741027832,
          17.18761444091797,
          17.415546417236328,
          21.13872718811035,
          21.012977600097656,
          23.1569881439209,
          17.36841583251953,
          24.8866024017334,
          17.891220092773438,
          19.775243759155273,
          26.695966720581055,
          19.805036544799805,
          15.247970581054688,
          14.666714668273926,
          17.500391006469727,
          20.357629776000977,
          19.25130844116211,
          17.972671508789062,
          18.88630485534668,
          17.36841583251953,
          20.7002010345459,
          23.75727653503418,
          24.46881103515625,
          19.75337791442871,
          21.010147094726562,
          17.682327270507812,
          24.704669952392578,
          18.494909286499023,
          23.3664493560791,
          16.081289291381836,
          20.328407287597656,
          21.138160705566406,
          23.05084228515625,
          15.798869132995605,
          14.038331985473633,
          15.977973937988281,
          22.421890258789062,
          20.90003776550293,
          15.375984191894531,
          17.002283096313477,
          23.444501876831055,
          20.54069709777832
         ]
        },
        {
         "marker": {
          "color": "red"
         },
         "mode": "markers",
         "type": "scatter",
         "x": [
          20.9,
          23.4,
          24.1,
          26.4,
          36.7,
          25.1,
          14.9,
          15.9,
          24.6,
          15,
          24,
          27.4,
          18.5,
          21.7,
          19.8,
          28.4,
          32,
          8.9,
          22,
          30.9,
          27.7,
          33.8,
          12.7,
          25.5,
          16.7,
          11.8,
          9.5,
          21.8,
          20.2,
          9.6,
          17,
          9,
          26.7,
          29.2,
          17.8,
          13.4,
          30,
          26.1,
          19.1,
          28.4,
          14.3,
          21,
          31.3,
          19.5,
          12.5,
          26.3,
          24.5,
          27.1,
          29,
          16.2,
          28.1,
          20.6,
          22.3,
          29.9,
          20.8,
          21.5,
          30.6,
          30.4,
          14.1,
          10.9,
          28,
          15.4,
          25.6,
          22.3,
          23.8,
          9.2,
          27.9,
          15.2,
          18.1,
          22.4,
          25.2,
          27.5,
          35.1,
          28.1,
          20.2,
          18.6,
          14,
          28.2,
          21.3,
          12.5,
          9.8,
          23.8,
          30.5,
          11.2,
          13.8,
          19.8,
          32,
          8.2,
          36.1,
          24,
          20.2,
          9.8,
          19,
          13.2,
          16.5,
          31.9,
          9.4,
          13.8,
          19.3,
          26.4,
          20.1,
          16.7,
          15.3,
          18.7,
          21.6,
          20.3,
          15.5,
          21.4,
          19.9,
          11.7,
          16.1,
          17.8,
          19.3,
          13.8,
          21.1,
          20.3,
          12.7,
          12.7,
          17,
          19.5,
          18.7,
          17.2,
          19.6,
          20.4,
          25.6,
          12.7,
          14.7,
          19.9,
          21.5,
          15.8,
          20.1,
          19.5,
          22.8,
          17.7,
          22.1,
          24,
          23.6,
          19.3,
          9.9,
          11.9,
          18.6,
          15.9,
          18.9,
          14.5,
          20.6,
          15.4,
          18.6,
          16.3,
          17,
          16,
          14,
          16.7,
          10.9,
          14.3,
          13.9,
          14,
          13.6,
          16.8,
          18.7,
          13.9,
          15.6,
          20,
          18.9,
          22.5,
          14.6,
          24.7,
          15.5,
          18.4,
          26.8,
          17.8,
          11.5,
          11.6,
          14.6,
          18.1,
          17.7,
          15.1,
          16.9,
          14.6,
          18.2,
          23.7,
          23.9,
          17.6,
          19.4,
          15.1,
          24.2,
          16.1,
          22.8,
          13.5,
          18.6,
          20.1,
          22.6,
          12.1,
          10.7,
          13.1,
          21.8,
          20.2,
          12.2,
          14,
          23,
          18.4
         ],
         "y": [
          29.477724075317383,
          30.52151870727539,
          32.45254135131836,
          34.12459945678711,
          43.54050064086914,
          32.92198181152344,
          23.78194236755371,
          24.322179794311523,
          31.731475830078125,
          23.939804077148438,
          32.058685302734375,
          34.97163391113281,
          25.68903350830078,
          29.607839584350586,
          27.387245178222656,
          36.33785629272461,
          39.09453582763672,
          18.982946395874023,
          28.92504119873047,
          38.113243103027344,
          35.586814880371094,
          40.82686996459961,
          21.772153854370117,
          33.2230339050293,
          24.121898651123047,
          20.044599533081055,
          19.1041316986084,
          30.379291534423828,
          27.357906341552734,
          18.766401290893555,
          25.987863540649414,
          18.14962387084961,
          34.668983459472656,
          36.39717483520508,
          26.6607666015625,
          22.711992263793945,
          37.424072265625,
          34.1466064453125,
          27.674592971801758,
          36.2198600769043,
          22.26837730407715,
          29.470388412475586,
          38.79188919067383,
          27.810447692871094,
          21.31483268737793,
          33.63634490966797,
          32.72999572753906,
          34.78124237060547,
          36.52983856201172,
          24.772165298461914,
          35.321475982666016,
          28.768142700195312,
          30.97980308532715,
          37.52580642700195,
          28.352277755737305,
          29.693309783935547,
          37.63965606689453,
          37.44192886352539,
          21.929054260253906,
          20.20501708984375,
          35.77720642089844,
          23.886863708496094,
          33.85288619995117,
          30.767406463623047,
          30.846176147460938,
          17.497760772705078,
          35.737342834472656,
          23.26434326171875,
          26.213970184326172,
          30.73647117614746,
          33.17424011230469,
          34.63390350341797,
          41.722694396972656,
          35.51027297973633,
          28.7974853515625,
          27.35727310180664,
          23.02197265625,
          36.04573440551758,
          29.637178421020508,
          21.31483268737793,
          18.940528869628906,
          31.837360382080078,
          37.7885856628418,
          20.23021125793457,
          22.65904998779297,
          27.0804500579834,
          39.16533660888672,
          18.043107986450195,
          43.041717529296875,
          31.846288681030273,
          28.726686477661133,
          19.152925491333008,
          26.83234214782715,
          22.16027069091797,
          25.080554962158203,
          38.74787902832031,
          17.789884567260742,
          22.753448486328125,
          26.810333251953125,
          34.19540023803711,
          20.998231887817383,
          18.51988410949707,
          17.076162338256836,
          19.956003189086914,
          22.432659149169922,
          21.58991813659668,
          17.282407760620117,
          22.27459144592285,
          21.28984260559082,
          14.29520320892334,
          17.3551025390625,
          19.10819435119629,
          20.462326049804688,
          16.10746955871582,
          21.99734115600586,
          21.204477310180664,
          14.924936294555664,
          15.021295547485352,
          18.845314025878906,
          20.9255313873291,
          20.341445922851562,
          18.794599533081055,
          20.86805534362793,
          21.339719772338867,
          26.605762481689453,
          15.23007583618164,
          16.344999313354492,
          21.16136360168457,
          22.345596313476562,
          17.43117332458496,
          21.319433212280273,
          20.47585105895996,
          23.300756454467773,
          19.26203727722168,
          22.643131256103516,
          24.859434127807617,
          24.36664390563965,
          20.767465591430664,
          12.615649223327637,
          14.45327091217041,
          19.98136329650879,
          17.502178192138672,
          20.081951141357422,
          16.411773681640625,
          21.57808494567871,
          16.858083724975586,
          19.611982345581055,
          17.914669036865234,
          18.941673278808594,
          18.00680160522461,
          15.976455688476562,
          18.327165603637695,
          12.940239906311035,
          16.17340850830078,
          16.226652145385742,
          15.607076644897461,
          15.820924758911133,
          18.285747528076172,
          20.58234405517578,
          16.242712020874023,
          17.048269271850586,
          21.03964614868164,
          20.531631469726562,
          23.248348236083984,
          16.627317428588867,
          25.163738250732422,
          17.2984676361084,
          19.582395553588867,
          27.088422775268555,
          19.365156173706055,
          14.121077537536621,
          13.806641578674316,
          16.707616806030273,
          19.819068908691406,
          18.989015579223633,
          17.191112518310547,
          18.453109741210938,
          16.627317428588867,
          20.066730499267578,
          24.084325790405273,
          24.595712661743164,
          19.255273818969727,
          20.726049423217773,
          17.01445198059082,
          24.856901168823242,
          17.90114402770996,
          23.49347496032715,
          15.412662506103516,
          19.99742317199707,
          21.07853126525879,
          23.222990036010742,
          14.691638946533203,
          13.071253776550293,
          15.192890167236328,
          22.5264835357666,
          20.97287368774414,
          14.473562240600586,
          16.16917610168457,
          23.619421005249023,
          20.04813575744629
         ]
        }
       ],
       "layout": {
        "showlegend": false,
        "template": {
         "data": {
          "bar": [
           {
            "error_x": {
             "color": "#2a3f5f"
            },
            "error_y": {
             "color": "#2a3f5f"
            },
            "marker": {
             "line": {
              "color": "#E5ECF6",
              "width": 0.5
             }
            },
            "type": "bar"
           }
          ],
          "barpolar": [
           {
            "marker": {
             "line": {
              "color": "#E5ECF6",
              "width": 0.5
             }
            },
            "type": "barpolar"
           }
          ],
          "carpet": [
           {
            "aaxis": {
             "endlinecolor": "#2a3f5f",
             "gridcolor": "white",
             "linecolor": "white",
             "minorgridcolor": "white",
             "startlinecolor": "#2a3f5f"
            },
            "baxis": {
             "endlinecolor": "#2a3f5f",
             "gridcolor": "white",
             "linecolor": "white",
             "minorgridcolor": "white",
             "startlinecolor": "#2a3f5f"
            },
            "type": "carpet"
           }
          ],
          "choropleth": [
           {
            "colorbar": {
             "outlinewidth": 0,
             "ticks": ""
            },
            "type": "choropleth"
           }
          ],
          "contour": [
           {
            "colorbar": {
             "outlinewidth": 0,
             "ticks": ""
            },
            "colorscale": [
             [
              0,
              "#0d0887"
             ],
             [
              0.1111111111111111,
              "#46039f"
             ],
             [
              0.2222222222222222,
              "#7201a8"
             ],
             [
              0.3333333333333333,
              "#9c179e"
             ],
             [
              0.4444444444444444,
              "#bd3786"
             ],
             [
              0.5555555555555556,
              "#d8576b"
             ],
             [
              0.6666666666666666,
              "#ed7953"
             ],
             [
              0.7777777777777778,
              "#fb9f3a"
             ],
             [
              0.8888888888888888,
              "#fdca26"
             ],
             [
              1,
              "#f0f921"
             ]
            ],
            "type": "contour"
           }
          ],
          "contourcarpet": [
           {
            "colorbar": {
             "outlinewidth": 0,
             "ticks": ""
            },
            "type": "contourcarpet"
           }
          ],
          "heatmap": [
           {
            "colorbar": {
             "outlinewidth": 0,
             "ticks": ""
            },
            "colorscale": [
             [
              0,
              "#0d0887"
             ],
             [
              0.1111111111111111,
              "#46039f"
             ],
             [
              0.2222222222222222,
              "#7201a8"
             ],
             [
              0.3333333333333333,
              "#9c179e"
             ],
             [
              0.4444444444444444,
              "#bd3786"
             ],
             [
              0.5555555555555556,
              "#d8576b"
             ],
             [
              0.6666666666666666,
              "#ed7953"
             ],
             [
              0.7777777777777778,
              "#fb9f3a"
             ],
             [
              0.8888888888888888,
              "#fdca26"
             ],
             [
              1,
              "#f0f921"
             ]
            ],
            "type": "heatmap"
           }
          ],
          "heatmapgl": [
           {
            "colorbar": {
             "outlinewidth": 0,
             "ticks": ""
            },
            "colorscale": [
             [
              0,
              "#0d0887"
             ],
             [
              0.1111111111111111,
              "#46039f"
             ],
             [
              0.2222222222222222,
              "#7201a8"
             ],
             [
              0.3333333333333333,
              "#9c179e"
             ],
             [
              0.4444444444444444,
              "#bd3786"
             ],
             [
              0.5555555555555556,
              "#d8576b"
             ],
             [
              0.6666666666666666,
              "#ed7953"
             ],
             [
              0.7777777777777778,
              "#fb9f3a"
             ],
             [
              0.8888888888888888,
              "#fdca26"
             ],
             [
              1,
              "#f0f921"
             ]
            ],
            "type": "heatmapgl"
           }
          ],
          "histogram": [
           {
            "marker": {
             "colorbar": {
              "outlinewidth": 0,
              "ticks": ""
             }
            },
            "type": "histogram"
           }
          ],
          "histogram2d": [
           {
            "colorbar": {
             "outlinewidth": 0,
             "ticks": ""
            },
            "colorscale": [
             [
              0,
              "#0d0887"
             ],
             [
              0.1111111111111111,
              "#46039f"
             ],
             [
              0.2222222222222222,
              "#7201a8"
             ],
             [
              0.3333333333333333,
              "#9c179e"
             ],
             [
              0.4444444444444444,
              "#bd3786"
             ],
             [
              0.5555555555555556,
              "#d8576b"
             ],
             [
              0.6666666666666666,
              "#ed7953"
             ],
             [
              0.7777777777777778,
              "#fb9f3a"
             ],
             [
              0.8888888888888888,
              "#fdca26"
             ],
             [
              1,
              "#f0f921"
             ]
            ],
            "type": "histogram2d"
           }
          ],
          "histogram2dcontour": [
           {
            "colorbar": {
             "outlinewidth": 0,
             "ticks": ""
            },
            "colorscale": [
             [
              0,
              "#0d0887"
             ],
             [
              0.1111111111111111,
              "#46039f"
             ],
             [
              0.2222222222222222,
              "#7201a8"
             ],
             [
              0.3333333333333333,
              "#9c179e"
             ],
             [
              0.4444444444444444,
              "#bd3786"
             ],
             [
              0.5555555555555556,
              "#d8576b"
             ],
             [
              0.6666666666666666,
              "#ed7953"
             ],
             [
              0.7777777777777778,
              "#fb9f3a"
             ],
             [
              0.8888888888888888,
              "#fdca26"
             ],
             [
              1,
              "#f0f921"
             ]
            ],
            "type": "histogram2dcontour"
           }
          ],
          "mesh3d": [
           {
            "colorbar": {
             "outlinewidth": 0,
             "ticks": ""
            },
            "type": "mesh3d"
           }
          ],
          "parcoords": [
           {
            "line": {
             "colorbar": {
              "outlinewidth": 0,
              "ticks": ""
             }
            },
            "type": "parcoords"
           }
          ],
          "pie": [
           {
            "automargin": true,
            "type": "pie"
           }
          ],
          "scatter": [
           {
            "marker": {
             "colorbar": {
              "outlinewidth": 0,
              "ticks": ""
             }
            },
            "type": "scatter"
           }
          ],
          "scatter3d": [
           {
            "line": {
             "colorbar": {
              "outlinewidth": 0,
              "ticks": ""
             }
            },
            "marker": {
             "colorbar": {
              "outlinewidth": 0,
              "ticks": ""
             }
            },
            "type": "scatter3d"
           }
          ],
          "scattercarpet": [
           {
            "marker": {
             "colorbar": {
              "outlinewidth": 0,
              "ticks": ""
             }
            },
            "type": "scattercarpet"
           }
          ],
          "scattergeo": [
           {
            "marker": {
             "colorbar": {
              "outlinewidth": 0,
              "ticks": ""
             }
            },
            "type": "scattergeo"
           }
          ],
          "scattergl": [
           {
            "marker": {
             "colorbar": {
              "outlinewidth": 0,
              "ticks": ""
             }
            },
            "type": "scattergl"
           }
          ],
          "scattermapbox": [
           {
            "marker": {
             "colorbar": {
              "outlinewidth": 0,
              "ticks": ""
             }
            },
            "type": "scattermapbox"
           }
          ],
          "scatterpolar": [
           {
            "marker": {
             "colorbar": {
              "outlinewidth": 0,
              "ticks": ""
             }
            },
            "type": "scatterpolar"
           }
          ],
          "scatterpolargl": [
           {
            "marker": {
             "colorbar": {
              "outlinewidth": 0,
              "ticks": ""
             }
            },
            "type": "scatterpolargl"
           }
          ],
          "scatterternary": [
           {
            "marker": {
             "colorbar": {
              "outlinewidth": 0,
              "ticks": ""
             }
            },
            "type": "scatterternary"
           }
          ],
          "surface": [
           {
            "colorbar": {
             "outlinewidth": 0,
             "ticks": ""
            },
            "colorscale": [
             [
              0,
              "#0d0887"
             ],
             [
              0.1111111111111111,
              "#46039f"
             ],
             [
              0.2222222222222222,
              "#7201a8"
             ],
             [
              0.3333333333333333,
              "#9c179e"
             ],
             [
              0.4444444444444444,
              "#bd3786"
             ],
             [
              0.5555555555555556,
              "#d8576b"
             ],
             [
              0.6666666666666666,
              "#ed7953"
             ],
             [
              0.7777777777777778,
              "#fb9f3a"
             ],
             [
              0.8888888888888888,
              "#fdca26"
             ],
             [
              1,
              "#f0f921"
             ]
            ],
            "type": "surface"
           }
          ],
          "table": [
           {
            "cells": {
             "fill": {
              "color": "#EBF0F8"
             },
             "line": {
              "color": "white"
             }
            },
            "header": {
             "fill": {
              "color": "#C8D4E3"
             },
             "line": {
              "color": "white"
             }
            },
            "type": "table"
           }
          ]
         },
         "layout": {
          "annotationdefaults": {
           "arrowcolor": "#2a3f5f",
           "arrowhead": 0,
           "arrowwidth": 1
          },
          "coloraxis": {
           "colorbar": {
            "outlinewidth": 0,
            "ticks": ""
           }
          },
          "colorscale": {
           "diverging": [
            [
             0,
             "#8e0152"
            ],
            [
             0.1,
             "#c51b7d"
            ],
            [
             0.2,
             "#de77ae"
            ],
            [
             0.3,
             "#f1b6da"
            ],
            [
             0.4,
             "#fde0ef"
            ],
            [
             0.5,
             "#f7f7f7"
            ],
            [
             0.6,
             "#e6f5d0"
            ],
            [
             0.7,
             "#b8e186"
            ],
            [
             0.8,
             "#7fbc41"
            ],
            [
             0.9,
             "#4d9221"
            ],
            [
             1,
             "#276419"
            ]
           ],
           "sequential": [
            [
             0,
             "#0d0887"
            ],
            [
             0.1111111111111111,
             "#46039f"
            ],
            [
             0.2222222222222222,
             "#7201a8"
            ],
            [
             0.3333333333333333,
             "#9c179e"
            ],
            [
             0.4444444444444444,
             "#bd3786"
            ],
            [
             0.5555555555555556,
             "#d8576b"
            ],
            [
             0.6666666666666666,
             "#ed7953"
            ],
            [
             0.7777777777777778,
             "#fb9f3a"
            ],
            [
             0.8888888888888888,
             "#fdca26"
            ],
            [
             1,
             "#f0f921"
            ]
           ],
           "sequentialminus": [
            [
             0,
             "#0d0887"
            ],
            [
             0.1111111111111111,
             "#46039f"
            ],
            [
             0.2222222222222222,
             "#7201a8"
            ],
            [
             0.3333333333333333,
             "#9c179e"
            ],
            [
             0.4444444444444444,
             "#bd3786"
            ],
            [
             0.5555555555555556,
             "#d8576b"
            ],
            [
             0.6666666666666666,
             "#ed7953"
            ],
            [
             0.7777777777777778,
             "#fb9f3a"
            ],
            [
             0.8888888888888888,
             "#fdca26"
            ],
            [
             1,
             "#f0f921"
            ]
           ]
          },
          "colorway": [
           "#636efa",
           "#EF553B",
           "#00cc96",
           "#ab63fa",
           "#FFA15A",
           "#19d3f3",
           "#FF6692",
           "#B6E880",
           "#FF97FF",
           "#FECB52"
          ],
          "font": {
           "color": "#2a3f5f"
          },
          "geo": {
           "bgcolor": "white",
           "lakecolor": "white",
           "landcolor": "#E5ECF6",
           "showlakes": true,
           "showland": true,
           "subunitcolor": "white"
          },
          "hoverlabel": {
           "align": "left"
          },
          "hovermode": "closest",
          "mapbox": {
           "style": "light"
          },
          "paper_bgcolor": "white",
          "plot_bgcolor": "#E5ECF6",
          "polar": {
           "angularaxis": {
            "gridcolor": "white",
            "linecolor": "white",
            "ticks": ""
           },
           "bgcolor": "#E5ECF6",
           "radialaxis": {
            "gridcolor": "white",
            "linecolor": "white",
            "ticks": ""
           }
          },
          "scene": {
           "xaxis": {
            "backgroundcolor": "#E5ECF6",
            "gridcolor": "white",
            "gridwidth": 2,
            "linecolor": "white",
            "showbackground": true,
            "ticks": "",
            "zerolinecolor": "white"
           },
           "yaxis": {
            "backgroundcolor": "#E5ECF6",
            "gridcolor": "white",
            "gridwidth": 2,
            "linecolor": "white",
            "showbackground": true,
            "ticks": "",
            "zerolinecolor": "white"
           },
           "zaxis": {
            "backgroundcolor": "#E5ECF6",
            "gridcolor": "white",
            "gridwidth": 2,
            "linecolor": "white",
            "showbackground": true,
            "ticks": "",
            "zerolinecolor": "white"
           }
          },
          "shapedefaults": {
           "line": {
            "color": "#2a3f5f"
           }
          },
          "ternary": {
           "aaxis": {
            "gridcolor": "white",
            "linecolor": "white",
            "ticks": ""
           },
           "baxis": {
            "gridcolor": "white",
            "linecolor": "white",
            "ticks": ""
           },
           "bgcolor": "#E5ECF6",
           "caxis": {
            "gridcolor": "white",
            "linecolor": "white",
            "ticks": ""
           }
          },
          "title": {
           "x": 0.05
          },
          "xaxis": {
           "automargin": true,
           "gridcolor": "white",
           "linecolor": "white",
           "ticks": "",
           "title": {
            "standoff": 15
           },
           "zerolinecolor": "white",
           "zerolinewidth": 2
          },
          "yaxis": {
           "automargin": true,
           "gridcolor": "white",
           "linecolor": "white",
           "ticks": "",
           "title": {
            "standoff": 15
           },
           "zerolinecolor": "white",
           "zerolinewidth": 2
          }
         }
        }
       }
      }
     },
     "metadata": {},
     "output_type": "display_data"
    }
   ],
   "source": [
    "sample_betas = pd.DataFrame(mcmc.get_samples())[['intercept', 'slope', 'location', 'humidity', 'interaction']]\n",
    "\n",
    "def pull_sample():\n",
    "    b0, b1, b2, b3, b4 = sample_betas.sample(1).values[0]\n",
    "    y = [(b0+b1*x1+b2*x2+b3*x3+b4*x2*x3).item() for x1,x2,x3 in zip(x_data, x2_data, x3_data)]\n",
    "    return y\n",
    "\n",
    "fig = go.Figure()\n",
    "fig.add_trace(\n",
    "    go.Scatter(x=df.temp9am, y=df.temp3pm, mode='markers')\n",
    ")\n",
    "for i in range(10):\n",
    "    y = pull_sample()\n",
    "    fig.add_trace(\n",
    "        go.Scatter(x=df.temp9am, y=y, marker_color='red', mode='markers')\n",
    "    )\n",
    "\n",
    "fig.update_layout(showlegend=False)\n",
    "fig"
   ]
  },
  {
   "cell_type": "code",
   "execution_count": null,
   "metadata": {},
   "outputs": [],
   "source": []
  }
 ],
 "metadata": {
  "interpreter": {
   "hash": "c481518f0c828bab2fc04cd2d881b7800b57b84f50190e329816569e316f7752"
  },
  "kernelspec": {
   "display_name": "Python 3.8 - PyTorch",
   "language": "python",
   "name": "python3"
  },
  "language_info": {
   "codemirror_mode": {
    "name": "ipython",
    "version": 3
   },
   "file_extension": ".py",
   "mimetype": "text/x-python",
   "name": "python",
   "nbconvert_exporter": "python",
   "pygments_lexer": "ipython3",
   "version": "3.6.7"
  },
  "orig_nbformat": 4
 },
 "nbformat": 4,
 "nbformat_minor": 2
}
