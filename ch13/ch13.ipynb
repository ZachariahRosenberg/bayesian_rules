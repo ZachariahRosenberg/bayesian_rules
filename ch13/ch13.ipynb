{
 "cells": [
  {
   "cell_type": "markdown",
   "metadata": {},
   "source": [
    "Bayes Rule Book:\n",
    "\n",
    "https://www.bayesrulesbook.com/chapter-14.html\n",
    "\n",
    "Materials from the Bayes Rule github:\n",
    "\n",
    "https://github.com/bayes-rules/bayesrules"
   ]
  },
  {
   "cell_type": "markdown",
   "metadata": {},
   "source": [
    "# Imports"
   ]
  },
  {
   "cell_type": "code",
   "execution_count": 1,
   "metadata": {},
   "outputs": [],
   "source": [
    "import math, pyreadr\n",
    "import pandas as pd\n",
    "import numpy as np\n",
    "import plotly.graph_objects as go\n",
    "import plotly.express as px\n",
    "import plotly.figure_factory as ff\n",
    "from plotly.subplots import make_subplots\n",
    "from scipy.stats import norm, beta, binom, mode\n",
    "from os.path import exists\n",
    "\n",
    "import pyro\n",
    "import torch as t\n",
    "import pyro.distributions as dist\n",
    "import pyro.distributions.constraints as constraints\n",
    "from pyro.infer import MCMC\n",
    "from pyro.infer.mcmc.nuts import HMC, NUTS\n",
    "\n",
    "device = t.device(\"cuda\" if t.cuda.is_available() else \"cpu\")\n",
    "t.set_default_tensor_type(t.FloatTensor)\n",
    "if t.cuda.is_available():\n",
    "    t.set_default_tensor_type(t.cuda.FloatTensor)"
   ]
  },
  {
   "cell_type": "markdown",
   "metadata": {},
   "source": [
    "# Data"
   ]
  },
  {
   "cell_type": "code",
   "execution_count": 2,
   "metadata": {},
   "outputs": [],
   "source": [
    "file_name = 'penguins_bayes'\n",
    "folder = 'ch14'\n",
    "\n",
    "data_url = f\"https://github.com/bayes-rules/bayesrules/raw/master/data/{file_name}.rda\"\n",
    "\n",
    "if exists(f\"/Users/zr/Geek/tutorials/bayesian_rules/{folder}/{file_name}.csv\"):\n",
    "    df = pd.read_csv(f\"/Users/zr/Geek/tutorials/bayesian_rules/{folder}/{file_name}.csv\")\n",
    "else:\n",
    "    # pyreadr downloads remote file, saves locally and converts the RDA datafile to a pandas DataFrame\n",
    "    file_path = f\"/Users/zr/Geek/tutorials/bayesian_rules/{folder}/{file_name}.rda\"\n",
    "    pyreadr.download_file(data_url, file_path)\n",
    "    result = pyreadr.read_r(file_path)\n",
    "    df = result[file_name]\n",
    "    df.to_csv(f\"/Users/zr/Geek/tutorials/bayesian_rules/{folder}/{file_name}.csv\")"
   ]
  },
  {
   "cell_type": "code",
   "execution_count": 3,
   "metadata": {},
   "outputs": [],
   "source": [
    "df = df.drop(columns=['sex', 'Unnamed: 0'])\n",
    "df.above_average_weight = pd.to_numeric(df.above_average_weight)"
   ]
  },
  {
   "cell_type": "code",
   "execution_count": 4,
   "metadata": {},
   "outputs": [
    {
     "data": {
      "application/vnd.plotly.v1+json": {
       "config": {
        "plotlyServerURL": "https://plot.ly"
       },
       "data": [
        {
         "alignmentgroup": "True",
         "hovertemplate": "variable=species<br>index=%{x}<br>value=%{y}<br>text=%{text}<extra></extra>",
         "legendgroup": "species",
         "marker": {
          "color": "#636efa",
          "pattern": {
           "shape": ""
          }
         },
         "name": "species",
         "offsetgroup": "species",
         "orientation": "v",
         "showlegend": true,
         "text": [
          "44.19%",
          "36.05%",
          "19.77%"
         ],
         "textposition": "auto",
         "type": "bar",
         "x": [
          "Adelie",
          "Gentoo",
          "Chinstrap"
         ],
         "xaxis": "x",
         "y": [
          152,
          124,
          68
         ],
         "yaxis": "y"
        }
       ],
       "layout": {
        "barmode": "relative",
        "legend": {
         "title": {
          "text": "variable"
         },
         "tracegroupgap": 0
        },
        "margin": {
         "t": 60
        },
        "template": {
         "data": {
          "bar": [
           {
            "error_x": {
             "color": "#2a3f5f"
            },
            "error_y": {
             "color": "#2a3f5f"
            },
            "marker": {
             "line": {
              "color": "#E5ECF6",
              "width": 0.5
             },
             "pattern": {
              "fillmode": "overlay",
              "size": 10,
              "solidity": 0.2
             }
            },
            "type": "bar"
           }
          ],
          "barpolar": [
           {
            "marker": {
             "line": {
              "color": "#E5ECF6",
              "width": 0.5
             },
             "pattern": {
              "fillmode": "overlay",
              "size": 10,
              "solidity": 0.2
             }
            },
            "type": "barpolar"
           }
          ],
          "carpet": [
           {
            "aaxis": {
             "endlinecolor": "#2a3f5f",
             "gridcolor": "white",
             "linecolor": "white",
             "minorgridcolor": "white",
             "startlinecolor": "#2a3f5f"
            },
            "baxis": {
             "endlinecolor": "#2a3f5f",
             "gridcolor": "white",
             "linecolor": "white",
             "minorgridcolor": "white",
             "startlinecolor": "#2a3f5f"
            },
            "type": "carpet"
           }
          ],
          "choropleth": [
           {
            "colorbar": {
             "outlinewidth": 0,
             "ticks": ""
            },
            "type": "choropleth"
           }
          ],
          "contour": [
           {
            "colorbar": {
             "outlinewidth": 0,
             "ticks": ""
            },
            "colorscale": [
             [
              0,
              "#0d0887"
             ],
             [
              0.1111111111111111,
              "#46039f"
             ],
             [
              0.2222222222222222,
              "#7201a8"
             ],
             [
              0.3333333333333333,
              "#9c179e"
             ],
             [
              0.4444444444444444,
              "#bd3786"
             ],
             [
              0.5555555555555556,
              "#d8576b"
             ],
             [
              0.6666666666666666,
              "#ed7953"
             ],
             [
              0.7777777777777778,
              "#fb9f3a"
             ],
             [
              0.8888888888888888,
              "#fdca26"
             ],
             [
              1,
              "#f0f921"
             ]
            ],
            "type": "contour"
           }
          ],
          "contourcarpet": [
           {
            "colorbar": {
             "outlinewidth": 0,
             "ticks": ""
            },
            "type": "contourcarpet"
           }
          ],
          "heatmap": [
           {
            "colorbar": {
             "outlinewidth": 0,
             "ticks": ""
            },
            "colorscale": [
             [
              0,
              "#0d0887"
             ],
             [
              0.1111111111111111,
              "#46039f"
             ],
             [
              0.2222222222222222,
              "#7201a8"
             ],
             [
              0.3333333333333333,
              "#9c179e"
             ],
             [
              0.4444444444444444,
              "#bd3786"
             ],
             [
              0.5555555555555556,
              "#d8576b"
             ],
             [
              0.6666666666666666,
              "#ed7953"
             ],
             [
              0.7777777777777778,
              "#fb9f3a"
             ],
             [
              0.8888888888888888,
              "#fdca26"
             ],
             [
              1,
              "#f0f921"
             ]
            ],
            "type": "heatmap"
           }
          ],
          "heatmapgl": [
           {
            "colorbar": {
             "outlinewidth": 0,
             "ticks": ""
            },
            "colorscale": [
             [
              0,
              "#0d0887"
             ],
             [
              0.1111111111111111,
              "#46039f"
             ],
             [
              0.2222222222222222,
              "#7201a8"
             ],
             [
              0.3333333333333333,
              "#9c179e"
             ],
             [
              0.4444444444444444,
              "#bd3786"
             ],
             [
              0.5555555555555556,
              "#d8576b"
             ],
             [
              0.6666666666666666,
              "#ed7953"
             ],
             [
              0.7777777777777778,
              "#fb9f3a"
             ],
             [
              0.8888888888888888,
              "#fdca26"
             ],
             [
              1,
              "#f0f921"
             ]
            ],
            "type": "heatmapgl"
           }
          ],
          "histogram": [
           {
            "marker": {
             "pattern": {
              "fillmode": "overlay",
              "size": 10,
              "solidity": 0.2
             }
            },
            "type": "histogram"
           }
          ],
          "histogram2d": [
           {
            "colorbar": {
             "outlinewidth": 0,
             "ticks": ""
            },
            "colorscale": [
             [
              0,
              "#0d0887"
             ],
             [
              0.1111111111111111,
              "#46039f"
             ],
             [
              0.2222222222222222,
              "#7201a8"
             ],
             [
              0.3333333333333333,
              "#9c179e"
             ],
             [
              0.4444444444444444,
              "#bd3786"
             ],
             [
              0.5555555555555556,
              "#d8576b"
             ],
             [
              0.6666666666666666,
              "#ed7953"
             ],
             [
              0.7777777777777778,
              "#fb9f3a"
             ],
             [
              0.8888888888888888,
              "#fdca26"
             ],
             [
              1,
              "#f0f921"
             ]
            ],
            "type": "histogram2d"
           }
          ],
          "histogram2dcontour": [
           {
            "colorbar": {
             "outlinewidth": 0,
             "ticks": ""
            },
            "colorscale": [
             [
              0,
              "#0d0887"
             ],
             [
              0.1111111111111111,
              "#46039f"
             ],
             [
              0.2222222222222222,
              "#7201a8"
             ],
             [
              0.3333333333333333,
              "#9c179e"
             ],
             [
              0.4444444444444444,
              "#bd3786"
             ],
             [
              0.5555555555555556,
              "#d8576b"
             ],
             [
              0.6666666666666666,
              "#ed7953"
             ],
             [
              0.7777777777777778,
              "#fb9f3a"
             ],
             [
              0.8888888888888888,
              "#fdca26"
             ],
             [
              1,
              "#f0f921"
             ]
            ],
            "type": "histogram2dcontour"
           }
          ],
          "mesh3d": [
           {
            "colorbar": {
             "outlinewidth": 0,
             "ticks": ""
            },
            "type": "mesh3d"
           }
          ],
          "parcoords": [
           {
            "line": {
             "colorbar": {
              "outlinewidth": 0,
              "ticks": ""
             }
            },
            "type": "parcoords"
           }
          ],
          "pie": [
           {
            "automargin": true,
            "type": "pie"
           }
          ],
          "scatter": [
           {
            "marker": {
             "colorbar": {
              "outlinewidth": 0,
              "ticks": ""
             }
            },
            "type": "scatter"
           }
          ],
          "scatter3d": [
           {
            "line": {
             "colorbar": {
              "outlinewidth": 0,
              "ticks": ""
             }
            },
            "marker": {
             "colorbar": {
              "outlinewidth": 0,
              "ticks": ""
             }
            },
            "type": "scatter3d"
           }
          ],
          "scattercarpet": [
           {
            "marker": {
             "colorbar": {
              "outlinewidth": 0,
              "ticks": ""
             }
            },
            "type": "scattercarpet"
           }
          ],
          "scattergeo": [
           {
            "marker": {
             "colorbar": {
              "outlinewidth": 0,
              "ticks": ""
             }
            },
            "type": "scattergeo"
           }
          ],
          "scattergl": [
           {
            "marker": {
             "colorbar": {
              "outlinewidth": 0,
              "ticks": ""
             }
            },
            "type": "scattergl"
           }
          ],
          "scattermapbox": [
           {
            "marker": {
             "colorbar": {
              "outlinewidth": 0,
              "ticks": ""
             }
            },
            "type": "scattermapbox"
           }
          ],
          "scatterpolar": [
           {
            "marker": {
             "colorbar": {
              "outlinewidth": 0,
              "ticks": ""
             }
            },
            "type": "scatterpolar"
           }
          ],
          "scatterpolargl": [
           {
            "marker": {
             "colorbar": {
              "outlinewidth": 0,
              "ticks": ""
             }
            },
            "type": "scatterpolargl"
           }
          ],
          "scatterternary": [
           {
            "marker": {
             "colorbar": {
              "outlinewidth": 0,
              "ticks": ""
             }
            },
            "type": "scatterternary"
           }
          ],
          "surface": [
           {
            "colorbar": {
             "outlinewidth": 0,
             "ticks": ""
            },
            "colorscale": [
             [
              0,
              "#0d0887"
             ],
             [
              0.1111111111111111,
              "#46039f"
             ],
             [
              0.2222222222222222,
              "#7201a8"
             ],
             [
              0.3333333333333333,
              "#9c179e"
             ],
             [
              0.4444444444444444,
              "#bd3786"
             ],
             [
              0.5555555555555556,
              "#d8576b"
             ],
             [
              0.6666666666666666,
              "#ed7953"
             ],
             [
              0.7777777777777778,
              "#fb9f3a"
             ],
             [
              0.8888888888888888,
              "#fdca26"
             ],
             [
              1,
              "#f0f921"
             ]
            ],
            "type": "surface"
           }
          ],
          "table": [
           {
            "cells": {
             "fill": {
              "color": "#EBF0F8"
             },
             "line": {
              "color": "white"
             }
            },
            "header": {
             "fill": {
              "color": "#C8D4E3"
             },
             "line": {
              "color": "white"
             }
            },
            "type": "table"
           }
          ]
         },
         "layout": {
          "annotationdefaults": {
           "arrowcolor": "#2a3f5f",
           "arrowhead": 0,
           "arrowwidth": 1
          },
          "autotypenumbers": "strict",
          "coloraxis": {
           "colorbar": {
            "outlinewidth": 0,
            "ticks": ""
           }
          },
          "colorscale": {
           "diverging": [
            [
             0,
             "#8e0152"
            ],
            [
             0.1,
             "#c51b7d"
            ],
            [
             0.2,
             "#de77ae"
            ],
            [
             0.3,
             "#f1b6da"
            ],
            [
             0.4,
             "#fde0ef"
            ],
            [
             0.5,
             "#f7f7f7"
            ],
            [
             0.6,
             "#e6f5d0"
            ],
            [
             0.7,
             "#b8e186"
            ],
            [
             0.8,
             "#7fbc41"
            ],
            [
             0.9,
             "#4d9221"
            ],
            [
             1,
             "#276419"
            ]
           ],
           "sequential": [
            [
             0,
             "#0d0887"
            ],
            [
             0.1111111111111111,
             "#46039f"
            ],
            [
             0.2222222222222222,
             "#7201a8"
            ],
            [
             0.3333333333333333,
             "#9c179e"
            ],
            [
             0.4444444444444444,
             "#bd3786"
            ],
            [
             0.5555555555555556,
             "#d8576b"
            ],
            [
             0.6666666666666666,
             "#ed7953"
            ],
            [
             0.7777777777777778,
             "#fb9f3a"
            ],
            [
             0.8888888888888888,
             "#fdca26"
            ],
            [
             1,
             "#f0f921"
            ]
           ],
           "sequentialminus": [
            [
             0,
             "#0d0887"
            ],
            [
             0.1111111111111111,
             "#46039f"
            ],
            [
             0.2222222222222222,
             "#7201a8"
            ],
            [
             0.3333333333333333,
             "#9c179e"
            ],
            [
             0.4444444444444444,
             "#bd3786"
            ],
            [
             0.5555555555555556,
             "#d8576b"
            ],
            [
             0.6666666666666666,
             "#ed7953"
            ],
            [
             0.7777777777777778,
             "#fb9f3a"
            ],
            [
             0.8888888888888888,
             "#fdca26"
            ],
            [
             1,
             "#f0f921"
            ]
           ]
          },
          "colorway": [
           "#636efa",
           "#EF553B",
           "#00cc96",
           "#ab63fa",
           "#FFA15A",
           "#19d3f3",
           "#FF6692",
           "#B6E880",
           "#FF97FF",
           "#FECB52"
          ],
          "font": {
           "color": "#2a3f5f"
          },
          "geo": {
           "bgcolor": "white",
           "lakecolor": "white",
           "landcolor": "#E5ECF6",
           "showlakes": true,
           "showland": true,
           "subunitcolor": "white"
          },
          "hoverlabel": {
           "align": "left"
          },
          "hovermode": "closest",
          "mapbox": {
           "style": "light"
          },
          "paper_bgcolor": "white",
          "plot_bgcolor": "#E5ECF6",
          "polar": {
           "angularaxis": {
            "gridcolor": "white",
            "linecolor": "white",
            "ticks": ""
           },
           "bgcolor": "#E5ECF6",
           "radialaxis": {
            "gridcolor": "white",
            "linecolor": "white",
            "ticks": ""
           }
          },
          "scene": {
           "xaxis": {
            "backgroundcolor": "#E5ECF6",
            "gridcolor": "white",
            "gridwidth": 2,
            "linecolor": "white",
            "showbackground": true,
            "ticks": "",
            "zerolinecolor": "white"
           },
           "yaxis": {
            "backgroundcolor": "#E5ECF6",
            "gridcolor": "white",
            "gridwidth": 2,
            "linecolor": "white",
            "showbackground": true,
            "ticks": "",
            "zerolinecolor": "white"
           },
           "zaxis": {
            "backgroundcolor": "#E5ECF6",
            "gridcolor": "white",
            "gridwidth": 2,
            "linecolor": "white",
            "showbackground": true,
            "ticks": "",
            "zerolinecolor": "white"
           }
          },
          "shapedefaults": {
           "line": {
            "color": "#2a3f5f"
           }
          },
          "ternary": {
           "aaxis": {
            "gridcolor": "white",
            "linecolor": "white",
            "ticks": ""
           },
           "baxis": {
            "gridcolor": "white",
            "linecolor": "white",
            "ticks": ""
           },
           "bgcolor": "#E5ECF6",
           "caxis": {
            "gridcolor": "white",
            "linecolor": "white",
            "ticks": ""
           }
          },
          "title": {
           "x": 0.05
          },
          "xaxis": {
           "automargin": true,
           "gridcolor": "white",
           "linecolor": "white",
           "ticks": "",
           "title": {
            "standoff": 15
           },
           "zerolinecolor": "white",
           "zerolinewidth": 2
          },
          "yaxis": {
           "automargin": true,
           "gridcolor": "white",
           "linecolor": "white",
           "ticks": "",
           "title": {
            "standoff": 15
           },
           "zerolinecolor": "white",
           "zerolinewidth": 2
          }
         }
        },
        "xaxis": {
         "anchor": "y",
         "domain": [
          0,
          1
         ],
         "title": {
          "text": "index"
         }
        },
        "yaxis": {
         "anchor": "x",
         "domain": [
          0,
          1
         ],
         "title": {
          "text": "value"
         }
        }
       }
      }
     },
     "metadata": {},
     "output_type": "display_data"
    }
   ],
   "source": [
    "px.bar(df.species.value_counts(), text=[f'{len(df[df.species==s])*100/len(df):.2f}%' for s in df.species.unique()])"
   ]
  },
  {
   "cell_type": "code",
   "execution_count": 5,
   "metadata": {},
   "outputs": [],
   "source": [
    "def fillna_with_species_median(row):\n",
    "    cols_with_na = row[row.isna()].index\n",
    "    species = row.species\n",
    "    for col in cols_with_na:\n",
    "        species_median = df.loc[df.species==species, col].median()\n",
    "        row[col] = species_median\n",
    "    return row\n",
    "\n",
    "df.loc[df.isna().any(axis=1)] = df.loc[df.isna().any(axis=1)].apply(fillna_with_species_median, axis=1)"
   ]
  },
  {
   "cell_type": "markdown",
   "metadata": {},
   "source": [
    "# Model"
   ]
  },
  {
   "cell_type": "markdown",
   "metadata": {},
   "source": [
    "## Categorical Feature"
   ]
  },
  {
   "cell_type": "markdown",
   "metadata": {},
   "source": [
    "Consider we find a penguin that is **below average weight**:"
   ]
  },
  {
   "cell_type": "code",
   "execution_count": 6,
   "metadata": {},
   "outputs": [
    {
     "data": {
      "application/vnd.plotly.v1+json": {
       "config": {
        "plotlyServerURL": "https://plot.ly"
       },
       "data": [
        {
         "name": "below avg",
         "text": [
          127,
          61,
          6
         ],
         "type": "bar",
         "x": [
          "Adelie",
          "Chinstrap",
          "Gentoo"
         ],
         "y": [
          127,
          61,
          6
         ]
        },
        {
         "name": "above avg",
         "text": [
          25,
          7,
          118
         ],
         "type": "bar",
         "x": [
          "Adelie",
          "Chinstrap",
          "Gentoo"
         ],
         "y": [
          25,
          7,
          118
         ]
        }
       ],
       "layout": {
        "barmode": "stack",
        "template": {
         "data": {
          "bar": [
           {
            "error_x": {
             "color": "#2a3f5f"
            },
            "error_y": {
             "color": "#2a3f5f"
            },
            "marker": {
             "line": {
              "color": "#E5ECF6",
              "width": 0.5
             },
             "pattern": {
              "fillmode": "overlay",
              "size": 10,
              "solidity": 0.2
             }
            },
            "type": "bar"
           }
          ],
          "barpolar": [
           {
            "marker": {
             "line": {
              "color": "#E5ECF6",
              "width": 0.5
             },
             "pattern": {
              "fillmode": "overlay",
              "size": 10,
              "solidity": 0.2
             }
            },
            "type": "barpolar"
           }
          ],
          "carpet": [
           {
            "aaxis": {
             "endlinecolor": "#2a3f5f",
             "gridcolor": "white",
             "linecolor": "white",
             "minorgridcolor": "white",
             "startlinecolor": "#2a3f5f"
            },
            "baxis": {
             "endlinecolor": "#2a3f5f",
             "gridcolor": "white",
             "linecolor": "white",
             "minorgridcolor": "white",
             "startlinecolor": "#2a3f5f"
            },
            "type": "carpet"
           }
          ],
          "choropleth": [
           {
            "colorbar": {
             "outlinewidth": 0,
             "ticks": ""
            },
            "type": "choropleth"
           }
          ],
          "contour": [
           {
            "colorbar": {
             "outlinewidth": 0,
             "ticks": ""
            },
            "colorscale": [
             [
              0,
              "#0d0887"
             ],
             [
              0.1111111111111111,
              "#46039f"
             ],
             [
              0.2222222222222222,
              "#7201a8"
             ],
             [
              0.3333333333333333,
              "#9c179e"
             ],
             [
              0.4444444444444444,
              "#bd3786"
             ],
             [
              0.5555555555555556,
              "#d8576b"
             ],
             [
              0.6666666666666666,
              "#ed7953"
             ],
             [
              0.7777777777777778,
              "#fb9f3a"
             ],
             [
              0.8888888888888888,
              "#fdca26"
             ],
             [
              1,
              "#f0f921"
             ]
            ],
            "type": "contour"
           }
          ],
          "contourcarpet": [
           {
            "colorbar": {
             "outlinewidth": 0,
             "ticks": ""
            },
            "type": "contourcarpet"
           }
          ],
          "heatmap": [
           {
            "colorbar": {
             "outlinewidth": 0,
             "ticks": ""
            },
            "colorscale": [
             [
              0,
              "#0d0887"
             ],
             [
              0.1111111111111111,
              "#46039f"
             ],
             [
              0.2222222222222222,
              "#7201a8"
             ],
             [
              0.3333333333333333,
              "#9c179e"
             ],
             [
              0.4444444444444444,
              "#bd3786"
             ],
             [
              0.5555555555555556,
              "#d8576b"
             ],
             [
              0.6666666666666666,
              "#ed7953"
             ],
             [
              0.7777777777777778,
              "#fb9f3a"
             ],
             [
              0.8888888888888888,
              "#fdca26"
             ],
             [
              1,
              "#f0f921"
             ]
            ],
            "type": "heatmap"
           }
          ],
          "heatmapgl": [
           {
            "colorbar": {
             "outlinewidth": 0,
             "ticks": ""
            },
            "colorscale": [
             [
              0,
              "#0d0887"
             ],
             [
              0.1111111111111111,
              "#46039f"
             ],
             [
              0.2222222222222222,
              "#7201a8"
             ],
             [
              0.3333333333333333,
              "#9c179e"
             ],
             [
              0.4444444444444444,
              "#bd3786"
             ],
             [
              0.5555555555555556,
              "#d8576b"
             ],
             [
              0.6666666666666666,
              "#ed7953"
             ],
             [
              0.7777777777777778,
              "#fb9f3a"
             ],
             [
              0.8888888888888888,
              "#fdca26"
             ],
             [
              1,
              "#f0f921"
             ]
            ],
            "type": "heatmapgl"
           }
          ],
          "histogram": [
           {
            "marker": {
             "pattern": {
              "fillmode": "overlay",
              "size": 10,
              "solidity": 0.2
             }
            },
            "type": "histogram"
           }
          ],
          "histogram2d": [
           {
            "colorbar": {
             "outlinewidth": 0,
             "ticks": ""
            },
            "colorscale": [
             [
              0,
              "#0d0887"
             ],
             [
              0.1111111111111111,
              "#46039f"
             ],
             [
              0.2222222222222222,
              "#7201a8"
             ],
             [
              0.3333333333333333,
              "#9c179e"
             ],
             [
              0.4444444444444444,
              "#bd3786"
             ],
             [
              0.5555555555555556,
              "#d8576b"
             ],
             [
              0.6666666666666666,
              "#ed7953"
             ],
             [
              0.7777777777777778,
              "#fb9f3a"
             ],
             [
              0.8888888888888888,
              "#fdca26"
             ],
             [
              1,
              "#f0f921"
             ]
            ],
            "type": "histogram2d"
           }
          ],
          "histogram2dcontour": [
           {
            "colorbar": {
             "outlinewidth": 0,
             "ticks": ""
            },
            "colorscale": [
             [
              0,
              "#0d0887"
             ],
             [
              0.1111111111111111,
              "#46039f"
             ],
             [
              0.2222222222222222,
              "#7201a8"
             ],
             [
              0.3333333333333333,
              "#9c179e"
             ],
             [
              0.4444444444444444,
              "#bd3786"
             ],
             [
              0.5555555555555556,
              "#d8576b"
             ],
             [
              0.6666666666666666,
              "#ed7953"
             ],
             [
              0.7777777777777778,
              "#fb9f3a"
             ],
             [
              0.8888888888888888,
              "#fdca26"
             ],
             [
              1,
              "#f0f921"
             ]
            ],
            "type": "histogram2dcontour"
           }
          ],
          "mesh3d": [
           {
            "colorbar": {
             "outlinewidth": 0,
             "ticks": ""
            },
            "type": "mesh3d"
           }
          ],
          "parcoords": [
           {
            "line": {
             "colorbar": {
              "outlinewidth": 0,
              "ticks": ""
             }
            },
            "type": "parcoords"
           }
          ],
          "pie": [
           {
            "automargin": true,
            "type": "pie"
           }
          ],
          "scatter": [
           {
            "marker": {
             "colorbar": {
              "outlinewidth": 0,
              "ticks": ""
             }
            },
            "type": "scatter"
           }
          ],
          "scatter3d": [
           {
            "line": {
             "colorbar": {
              "outlinewidth": 0,
              "ticks": ""
             }
            },
            "marker": {
             "colorbar": {
              "outlinewidth": 0,
              "ticks": ""
             }
            },
            "type": "scatter3d"
           }
          ],
          "scattercarpet": [
           {
            "marker": {
             "colorbar": {
              "outlinewidth": 0,
              "ticks": ""
             }
            },
            "type": "scattercarpet"
           }
          ],
          "scattergeo": [
           {
            "marker": {
             "colorbar": {
              "outlinewidth": 0,
              "ticks": ""
             }
            },
            "type": "scattergeo"
           }
          ],
          "scattergl": [
           {
            "marker": {
             "colorbar": {
              "outlinewidth": 0,
              "ticks": ""
             }
            },
            "type": "scattergl"
           }
          ],
          "scattermapbox": [
           {
            "marker": {
             "colorbar": {
              "outlinewidth": 0,
              "ticks": ""
             }
            },
            "type": "scattermapbox"
           }
          ],
          "scatterpolar": [
           {
            "marker": {
             "colorbar": {
              "outlinewidth": 0,
              "ticks": ""
             }
            },
            "type": "scatterpolar"
           }
          ],
          "scatterpolargl": [
           {
            "marker": {
             "colorbar": {
              "outlinewidth": 0,
              "ticks": ""
             }
            },
            "type": "scatterpolargl"
           }
          ],
          "scatterternary": [
           {
            "marker": {
             "colorbar": {
              "outlinewidth": 0,
              "ticks": ""
             }
            },
            "type": "scatterternary"
           }
          ],
          "surface": [
           {
            "colorbar": {
             "outlinewidth": 0,
             "ticks": ""
            },
            "colorscale": [
             [
              0,
              "#0d0887"
             ],
             [
              0.1111111111111111,
              "#46039f"
             ],
             [
              0.2222222222222222,
              "#7201a8"
             ],
             [
              0.3333333333333333,
              "#9c179e"
             ],
             [
              0.4444444444444444,
              "#bd3786"
             ],
             [
              0.5555555555555556,
              "#d8576b"
             ],
             [
              0.6666666666666666,
              "#ed7953"
             ],
             [
              0.7777777777777778,
              "#fb9f3a"
             ],
             [
              0.8888888888888888,
              "#fdca26"
             ],
             [
              1,
              "#f0f921"
             ]
            ],
            "type": "surface"
           }
          ],
          "table": [
           {
            "cells": {
             "fill": {
              "color": "#EBF0F8"
             },
             "line": {
              "color": "white"
             }
            },
            "header": {
             "fill": {
              "color": "#C8D4E3"
             },
             "line": {
              "color": "white"
             }
            },
            "type": "table"
           }
          ]
         },
         "layout": {
          "annotationdefaults": {
           "arrowcolor": "#2a3f5f",
           "arrowhead": 0,
           "arrowwidth": 1
          },
          "autotypenumbers": "strict",
          "coloraxis": {
           "colorbar": {
            "outlinewidth": 0,
            "ticks": ""
           }
          },
          "colorscale": {
           "diverging": [
            [
             0,
             "#8e0152"
            ],
            [
             0.1,
             "#c51b7d"
            ],
            [
             0.2,
             "#de77ae"
            ],
            [
             0.3,
             "#f1b6da"
            ],
            [
             0.4,
             "#fde0ef"
            ],
            [
             0.5,
             "#f7f7f7"
            ],
            [
             0.6,
             "#e6f5d0"
            ],
            [
             0.7,
             "#b8e186"
            ],
            [
             0.8,
             "#7fbc41"
            ],
            [
             0.9,
             "#4d9221"
            ],
            [
             1,
             "#276419"
            ]
           ],
           "sequential": [
            [
             0,
             "#0d0887"
            ],
            [
             0.1111111111111111,
             "#46039f"
            ],
            [
             0.2222222222222222,
             "#7201a8"
            ],
            [
             0.3333333333333333,
             "#9c179e"
            ],
            [
             0.4444444444444444,
             "#bd3786"
            ],
            [
             0.5555555555555556,
             "#d8576b"
            ],
            [
             0.6666666666666666,
             "#ed7953"
            ],
            [
             0.7777777777777778,
             "#fb9f3a"
            ],
            [
             0.8888888888888888,
             "#fdca26"
            ],
            [
             1,
             "#f0f921"
            ]
           ],
           "sequentialminus": [
            [
             0,
             "#0d0887"
            ],
            [
             0.1111111111111111,
             "#46039f"
            ],
            [
             0.2222222222222222,
             "#7201a8"
            ],
            [
             0.3333333333333333,
             "#9c179e"
            ],
            [
             0.4444444444444444,
             "#bd3786"
            ],
            [
             0.5555555555555556,
             "#d8576b"
            ],
            [
             0.6666666666666666,
             "#ed7953"
            ],
            [
             0.7777777777777778,
             "#fb9f3a"
            ],
            [
             0.8888888888888888,
             "#fdca26"
            ],
            [
             1,
             "#f0f921"
            ]
           ]
          },
          "colorway": [
           "#636efa",
           "#EF553B",
           "#00cc96",
           "#ab63fa",
           "#FFA15A",
           "#19d3f3",
           "#FF6692",
           "#B6E880",
           "#FF97FF",
           "#FECB52"
          ],
          "font": {
           "color": "#2a3f5f"
          },
          "geo": {
           "bgcolor": "white",
           "lakecolor": "white",
           "landcolor": "#E5ECF6",
           "showlakes": true,
           "showland": true,
           "subunitcolor": "white"
          },
          "hoverlabel": {
           "align": "left"
          },
          "hovermode": "closest",
          "mapbox": {
           "style": "light"
          },
          "paper_bgcolor": "white",
          "plot_bgcolor": "#E5ECF6",
          "polar": {
           "angularaxis": {
            "gridcolor": "white",
            "linecolor": "white",
            "ticks": ""
           },
           "bgcolor": "#E5ECF6",
           "radialaxis": {
            "gridcolor": "white",
            "linecolor": "white",
            "ticks": ""
           }
          },
          "scene": {
           "xaxis": {
            "backgroundcolor": "#E5ECF6",
            "gridcolor": "white",
            "gridwidth": 2,
            "linecolor": "white",
            "showbackground": true,
            "ticks": "",
            "zerolinecolor": "white"
           },
           "yaxis": {
            "backgroundcolor": "#E5ECF6",
            "gridcolor": "white",
            "gridwidth": 2,
            "linecolor": "white",
            "showbackground": true,
            "ticks": "",
            "zerolinecolor": "white"
           },
           "zaxis": {
            "backgroundcolor": "#E5ECF6",
            "gridcolor": "white",
            "gridwidth": 2,
            "linecolor": "white",
            "showbackground": true,
            "ticks": "",
            "zerolinecolor": "white"
           }
          },
          "shapedefaults": {
           "line": {
            "color": "#2a3f5f"
           }
          },
          "ternary": {
           "aaxis": {
            "gridcolor": "white",
            "linecolor": "white",
            "ticks": ""
           },
           "baxis": {
            "gridcolor": "white",
            "linecolor": "white",
            "ticks": ""
           },
           "bgcolor": "#E5ECF6",
           "caxis": {
            "gridcolor": "white",
            "linecolor": "white",
            "ticks": ""
           }
          },
          "title": {
           "x": 0.05
          },
          "xaxis": {
           "automargin": true,
           "gridcolor": "white",
           "linecolor": "white",
           "ticks": "",
           "title": {
            "standoff": 15
           },
           "zerolinecolor": "white",
           "zerolinewidth": 2
          },
          "yaxis": {
           "automargin": true,
           "gridcolor": "white",
           "linecolor": "white",
           "ticks": "",
           "title": {
            "standoff": 15
           },
           "zerolinecolor": "white",
           "zerolinewidth": 2
          }
         }
        }
       }
      }
     },
     "metadata": {},
     "output_type": "display_data"
    }
   ],
   "source": [
    "above_avg_counts = df[['species', 'above_average_weight']].groupby('species').sum()\n",
    "species_counts   = df.species.value_counts()\n",
    "leftover         = above_avg_counts.apply(lambda s: species_counts[s.name] - s, axis=1)\n",
    "\n",
    "fig = go.Figure()\n",
    "fig.add_trace(go.Bar(x=above_avg_counts.index, y=leftover.values.squeeze(), text=leftover.values.squeeze(), name='below avg'))\n",
    "fig.add_trace(go.Bar(x=above_avg_counts.index, y=above_avg_counts.values.squeeze(), text=above_avg_counts.values.squeeze(), name='above avg'))\n",
    "fig.update_layout(barmode='stack')\n",
    "fig"
   ]
  },
  {
   "cell_type": "markdown",
   "metadata": {},
   "source": [
    "We can apply the Bayes rule for each of these:\n",
    "\n",
    "$P(s|ba) = \\frac{P(ba|s) * P(s)}{P(ba)}$"
   ]
  },
  {
   "cell_type": "code",
   "execution_count": 7,
   "metadata": {},
   "outputs": [],
   "source": [
    "def calc_bayes_posteriors():\n",
    "    results = []\n",
    "    for species in df.species.unique():\n",
    "        prior = len(df.loc[df.species==species]) / len(df)\n",
    "        likelihood = len(df.loc[(df.above_average_weight==0.)&(df.species==species)]) / len(df.loc[df.species==species])\n",
    "        norm = len(df.loc[(df.above_average_weight==0.)]) / len(df)\n",
    "        posterior = (likelihood * prior)/norm\n",
    "        results.append((species, posterior))\n",
    "    return results"
   ]
  },
  {
   "cell_type": "code",
   "execution_count": 8,
   "metadata": {},
   "outputs": [
    {
     "data": {
      "application/vnd.plotly.v1+json": {
       "config": {
        "plotlyServerURL": "https://plot.ly"
       },
       "data": [
        {
         "name": "posterior",
         "text": [
          "65.46%",
          "3.09%",
          "31.44%"
         ],
         "type": "bar",
         "x": [
          "Adelie",
          "Gentoo",
          "Chinstrap"
         ],
         "y": [
          0.654639175257732,
          0.030927835051546393,
          0.31443298969072164
         ]
        },
        {
         "name": "prior",
         "text": [
          "44.19%",
          "36.05%",
          "19.77%"
         ],
         "type": "bar",
         "x": [
          "Adelie",
          "Gentoo",
          "Chinstrap"
         ],
         "y": [
          0.4418604651162791,
          0.36046511627906974,
          0.19767441860465115
         ]
        }
       ],
       "layout": {
        "template": {
         "data": {
          "bar": [
           {
            "error_x": {
             "color": "#2a3f5f"
            },
            "error_y": {
             "color": "#2a3f5f"
            },
            "marker": {
             "line": {
              "color": "#E5ECF6",
              "width": 0.5
             },
             "pattern": {
              "fillmode": "overlay",
              "size": 10,
              "solidity": 0.2
             }
            },
            "type": "bar"
           }
          ],
          "barpolar": [
           {
            "marker": {
             "line": {
              "color": "#E5ECF6",
              "width": 0.5
             },
             "pattern": {
              "fillmode": "overlay",
              "size": 10,
              "solidity": 0.2
             }
            },
            "type": "barpolar"
           }
          ],
          "carpet": [
           {
            "aaxis": {
             "endlinecolor": "#2a3f5f",
             "gridcolor": "white",
             "linecolor": "white",
             "minorgridcolor": "white",
             "startlinecolor": "#2a3f5f"
            },
            "baxis": {
             "endlinecolor": "#2a3f5f",
             "gridcolor": "white",
             "linecolor": "white",
             "minorgridcolor": "white",
             "startlinecolor": "#2a3f5f"
            },
            "type": "carpet"
           }
          ],
          "choropleth": [
           {
            "colorbar": {
             "outlinewidth": 0,
             "ticks": ""
            },
            "type": "choropleth"
           }
          ],
          "contour": [
           {
            "colorbar": {
             "outlinewidth": 0,
             "ticks": ""
            },
            "colorscale": [
             [
              0,
              "#0d0887"
             ],
             [
              0.1111111111111111,
              "#46039f"
             ],
             [
              0.2222222222222222,
              "#7201a8"
             ],
             [
              0.3333333333333333,
              "#9c179e"
             ],
             [
              0.4444444444444444,
              "#bd3786"
             ],
             [
              0.5555555555555556,
              "#d8576b"
             ],
             [
              0.6666666666666666,
              "#ed7953"
             ],
             [
              0.7777777777777778,
              "#fb9f3a"
             ],
             [
              0.8888888888888888,
              "#fdca26"
             ],
             [
              1,
              "#f0f921"
             ]
            ],
            "type": "contour"
           }
          ],
          "contourcarpet": [
           {
            "colorbar": {
             "outlinewidth": 0,
             "ticks": ""
            },
            "type": "contourcarpet"
           }
          ],
          "heatmap": [
           {
            "colorbar": {
             "outlinewidth": 0,
             "ticks": ""
            },
            "colorscale": [
             [
              0,
              "#0d0887"
             ],
             [
              0.1111111111111111,
              "#46039f"
             ],
             [
              0.2222222222222222,
              "#7201a8"
             ],
             [
              0.3333333333333333,
              "#9c179e"
             ],
             [
              0.4444444444444444,
              "#bd3786"
             ],
             [
              0.5555555555555556,
              "#d8576b"
             ],
             [
              0.6666666666666666,
              "#ed7953"
             ],
             [
              0.7777777777777778,
              "#fb9f3a"
             ],
             [
              0.8888888888888888,
              "#fdca26"
             ],
             [
              1,
              "#f0f921"
             ]
            ],
            "type": "heatmap"
           }
          ],
          "heatmapgl": [
           {
            "colorbar": {
             "outlinewidth": 0,
             "ticks": ""
            },
            "colorscale": [
             [
              0,
              "#0d0887"
             ],
             [
              0.1111111111111111,
              "#46039f"
             ],
             [
              0.2222222222222222,
              "#7201a8"
             ],
             [
              0.3333333333333333,
              "#9c179e"
             ],
             [
              0.4444444444444444,
              "#bd3786"
             ],
             [
              0.5555555555555556,
              "#d8576b"
             ],
             [
              0.6666666666666666,
              "#ed7953"
             ],
             [
              0.7777777777777778,
              "#fb9f3a"
             ],
             [
              0.8888888888888888,
              "#fdca26"
             ],
             [
              1,
              "#f0f921"
             ]
            ],
            "type": "heatmapgl"
           }
          ],
          "histogram": [
           {
            "marker": {
             "pattern": {
              "fillmode": "overlay",
              "size": 10,
              "solidity": 0.2
             }
            },
            "type": "histogram"
           }
          ],
          "histogram2d": [
           {
            "colorbar": {
             "outlinewidth": 0,
             "ticks": ""
            },
            "colorscale": [
             [
              0,
              "#0d0887"
             ],
             [
              0.1111111111111111,
              "#46039f"
             ],
             [
              0.2222222222222222,
              "#7201a8"
             ],
             [
              0.3333333333333333,
              "#9c179e"
             ],
             [
              0.4444444444444444,
              "#bd3786"
             ],
             [
              0.5555555555555556,
              "#d8576b"
             ],
             [
              0.6666666666666666,
              "#ed7953"
             ],
             [
              0.7777777777777778,
              "#fb9f3a"
             ],
             [
              0.8888888888888888,
              "#fdca26"
             ],
             [
              1,
              "#f0f921"
             ]
            ],
            "type": "histogram2d"
           }
          ],
          "histogram2dcontour": [
           {
            "colorbar": {
             "outlinewidth": 0,
             "ticks": ""
            },
            "colorscale": [
             [
              0,
              "#0d0887"
             ],
             [
              0.1111111111111111,
              "#46039f"
             ],
             [
              0.2222222222222222,
              "#7201a8"
             ],
             [
              0.3333333333333333,
              "#9c179e"
             ],
             [
              0.4444444444444444,
              "#bd3786"
             ],
             [
              0.5555555555555556,
              "#d8576b"
             ],
             [
              0.6666666666666666,
              "#ed7953"
             ],
             [
              0.7777777777777778,
              "#fb9f3a"
             ],
             [
              0.8888888888888888,
              "#fdca26"
             ],
             [
              1,
              "#f0f921"
             ]
            ],
            "type": "histogram2dcontour"
           }
          ],
          "mesh3d": [
           {
            "colorbar": {
             "outlinewidth": 0,
             "ticks": ""
            },
            "type": "mesh3d"
           }
          ],
          "parcoords": [
           {
            "line": {
             "colorbar": {
              "outlinewidth": 0,
              "ticks": ""
             }
            },
            "type": "parcoords"
           }
          ],
          "pie": [
           {
            "automargin": true,
            "type": "pie"
           }
          ],
          "scatter": [
           {
            "marker": {
             "colorbar": {
              "outlinewidth": 0,
              "ticks": ""
             }
            },
            "type": "scatter"
           }
          ],
          "scatter3d": [
           {
            "line": {
             "colorbar": {
              "outlinewidth": 0,
              "ticks": ""
             }
            },
            "marker": {
             "colorbar": {
              "outlinewidth": 0,
              "ticks": ""
             }
            },
            "type": "scatter3d"
           }
          ],
          "scattercarpet": [
           {
            "marker": {
             "colorbar": {
              "outlinewidth": 0,
              "ticks": ""
             }
            },
            "type": "scattercarpet"
           }
          ],
          "scattergeo": [
           {
            "marker": {
             "colorbar": {
              "outlinewidth": 0,
              "ticks": ""
             }
            },
            "type": "scattergeo"
           }
          ],
          "scattergl": [
           {
            "marker": {
             "colorbar": {
              "outlinewidth": 0,
              "ticks": ""
             }
            },
            "type": "scattergl"
           }
          ],
          "scattermapbox": [
           {
            "marker": {
             "colorbar": {
              "outlinewidth": 0,
              "ticks": ""
             }
            },
            "type": "scattermapbox"
           }
          ],
          "scatterpolar": [
           {
            "marker": {
             "colorbar": {
              "outlinewidth": 0,
              "ticks": ""
             }
            },
            "type": "scatterpolar"
           }
          ],
          "scatterpolargl": [
           {
            "marker": {
             "colorbar": {
              "outlinewidth": 0,
              "ticks": ""
             }
            },
            "type": "scatterpolargl"
           }
          ],
          "scatterternary": [
           {
            "marker": {
             "colorbar": {
              "outlinewidth": 0,
              "ticks": ""
             }
            },
            "type": "scatterternary"
           }
          ],
          "surface": [
           {
            "colorbar": {
             "outlinewidth": 0,
             "ticks": ""
            },
            "colorscale": [
             [
              0,
              "#0d0887"
             ],
             [
              0.1111111111111111,
              "#46039f"
             ],
             [
              0.2222222222222222,
              "#7201a8"
             ],
             [
              0.3333333333333333,
              "#9c179e"
             ],
             [
              0.4444444444444444,
              "#bd3786"
             ],
             [
              0.5555555555555556,
              "#d8576b"
             ],
             [
              0.6666666666666666,
              "#ed7953"
             ],
             [
              0.7777777777777778,
              "#fb9f3a"
             ],
             [
              0.8888888888888888,
              "#fdca26"
             ],
             [
              1,
              "#f0f921"
             ]
            ],
            "type": "surface"
           }
          ],
          "table": [
           {
            "cells": {
             "fill": {
              "color": "#EBF0F8"
             },
             "line": {
              "color": "white"
             }
            },
            "header": {
             "fill": {
              "color": "#C8D4E3"
             },
             "line": {
              "color": "white"
             }
            },
            "type": "table"
           }
          ]
         },
         "layout": {
          "annotationdefaults": {
           "arrowcolor": "#2a3f5f",
           "arrowhead": 0,
           "arrowwidth": 1
          },
          "autotypenumbers": "strict",
          "coloraxis": {
           "colorbar": {
            "outlinewidth": 0,
            "ticks": ""
           }
          },
          "colorscale": {
           "diverging": [
            [
             0,
             "#8e0152"
            ],
            [
             0.1,
             "#c51b7d"
            ],
            [
             0.2,
             "#de77ae"
            ],
            [
             0.3,
             "#f1b6da"
            ],
            [
             0.4,
             "#fde0ef"
            ],
            [
             0.5,
             "#f7f7f7"
            ],
            [
             0.6,
             "#e6f5d0"
            ],
            [
             0.7,
             "#b8e186"
            ],
            [
             0.8,
             "#7fbc41"
            ],
            [
             0.9,
             "#4d9221"
            ],
            [
             1,
             "#276419"
            ]
           ],
           "sequential": [
            [
             0,
             "#0d0887"
            ],
            [
             0.1111111111111111,
             "#46039f"
            ],
            [
             0.2222222222222222,
             "#7201a8"
            ],
            [
             0.3333333333333333,
             "#9c179e"
            ],
            [
             0.4444444444444444,
             "#bd3786"
            ],
            [
             0.5555555555555556,
             "#d8576b"
            ],
            [
             0.6666666666666666,
             "#ed7953"
            ],
            [
             0.7777777777777778,
             "#fb9f3a"
            ],
            [
             0.8888888888888888,
             "#fdca26"
            ],
            [
             1,
             "#f0f921"
            ]
           ],
           "sequentialminus": [
            [
             0,
             "#0d0887"
            ],
            [
             0.1111111111111111,
             "#46039f"
            ],
            [
             0.2222222222222222,
             "#7201a8"
            ],
            [
             0.3333333333333333,
             "#9c179e"
            ],
            [
             0.4444444444444444,
             "#bd3786"
            ],
            [
             0.5555555555555556,
             "#d8576b"
            ],
            [
             0.6666666666666666,
             "#ed7953"
            ],
            [
             0.7777777777777778,
             "#fb9f3a"
            ],
            [
             0.8888888888888888,
             "#fdca26"
            ],
            [
             1,
             "#f0f921"
            ]
           ]
          },
          "colorway": [
           "#636efa",
           "#EF553B",
           "#00cc96",
           "#ab63fa",
           "#FFA15A",
           "#19d3f3",
           "#FF6692",
           "#B6E880",
           "#FF97FF",
           "#FECB52"
          ],
          "font": {
           "color": "#2a3f5f"
          },
          "geo": {
           "bgcolor": "white",
           "lakecolor": "white",
           "landcolor": "#E5ECF6",
           "showlakes": true,
           "showland": true,
           "subunitcolor": "white"
          },
          "hoverlabel": {
           "align": "left"
          },
          "hovermode": "closest",
          "mapbox": {
           "style": "light"
          },
          "paper_bgcolor": "white",
          "plot_bgcolor": "#E5ECF6",
          "polar": {
           "angularaxis": {
            "gridcolor": "white",
            "linecolor": "white",
            "ticks": ""
           },
           "bgcolor": "#E5ECF6",
           "radialaxis": {
            "gridcolor": "white",
            "linecolor": "white",
            "ticks": ""
           }
          },
          "scene": {
           "xaxis": {
            "backgroundcolor": "#E5ECF6",
            "gridcolor": "white",
            "gridwidth": 2,
            "linecolor": "white",
            "showbackground": true,
            "ticks": "",
            "zerolinecolor": "white"
           },
           "yaxis": {
            "backgroundcolor": "#E5ECF6",
            "gridcolor": "white",
            "gridwidth": 2,
            "linecolor": "white",
            "showbackground": true,
            "ticks": "",
            "zerolinecolor": "white"
           },
           "zaxis": {
            "backgroundcolor": "#E5ECF6",
            "gridcolor": "white",
            "gridwidth": 2,
            "linecolor": "white",
            "showbackground": true,
            "ticks": "",
            "zerolinecolor": "white"
           }
          },
          "shapedefaults": {
           "line": {
            "color": "#2a3f5f"
           }
          },
          "ternary": {
           "aaxis": {
            "gridcolor": "white",
            "linecolor": "white",
            "ticks": ""
           },
           "baxis": {
            "gridcolor": "white",
            "linecolor": "white",
            "ticks": ""
           },
           "bgcolor": "#E5ECF6",
           "caxis": {
            "gridcolor": "white",
            "linecolor": "white",
            "ticks": ""
           }
          },
          "title": {
           "x": 0.05
          },
          "xaxis": {
           "automargin": true,
           "gridcolor": "white",
           "linecolor": "white",
           "ticks": "",
           "title": {
            "standoff": 15
           },
           "zerolinecolor": "white",
           "zerolinewidth": 2
          },
          "yaxis": {
           "automargin": true,
           "gridcolor": "white",
           "linecolor": "white",
           "ticks": "",
           "title": {
            "standoff": 15
           },
           "zerolinecolor": "white",
           "zerolinewidth": 2
          }
         }
        }
       }
      }
     },
     "metadata": {},
     "output_type": "display_data"
    }
   ],
   "source": [
    "results = calc_bayes_posteriors()\n",
    "fig1 = go.Figure()\n",
    "fig1.add_trace(\n",
    "    go.Bar(x=[r[0] for r in results], y=[r[1] for r in results], text=[f'{r[1]*100:.2f}%' for r in results], name='posterior')\n",
    ")\n",
    "fig1.add_trace(\n",
    "    go.Bar(x=[r[0] for r in results], y=[len(df.loc[df.species==r[0]])/len(df) for r in results], text=[f'{len(df.loc[df.species==r[0]])*100/len(df):.2f}%' for r in results], name='prior')\n",
    ")\n",
    "fig1"
   ]
  },
  {
   "cell_type": "markdown",
   "metadata": {},
   "source": [
    "## Quantitative Feature"
   ]
  },
  {
   "cell_type": "markdown",
   "metadata": {},
   "source": [
    "Consider a penguin with `bill_length_mm == 50.`"
   ]
  },
  {
   "cell_type": "code",
   "execution_count": 9,
   "metadata": {},
   "outputs": [
    {
     "data": {
      "application/vnd.plotly.v1+json": {
       "config": {
        "plotlyServerURL": "https://plot.ly"
       },
       "data": [
        {
         "autobinx": false,
         "histnorm": "probability density",
         "legendgroup": "Adelie",
         "marker": {
          "color": "rgb(31, 119, 180)"
         },
         "name": "Adelie",
         "opacity": 0.7,
         "type": "histogram",
         "x": [
          39.1,
          39.5,
          40.3,
          38.8,
          36.7,
          39.3,
          38.9,
          39.2,
          34.1,
          42,
          37.8,
          37.8,
          41.1,
          38.6,
          34.6,
          36.6,
          38.7,
          42.5,
          34.4,
          46,
          37.8,
          37.7,
          35.9,
          38.2,
          38.8,
          35.3,
          40.6,
          40.5,
          37.9,
          40.5,
          39.5,
          37.2,
          39.5,
          40.9,
          36.4,
          39.2,
          38.8,
          42.2,
          37.6,
          39.8,
          36.5,
          40.8,
          36,
          44.1,
          37,
          39.6,
          41.1,
          37.5,
          36,
          42.3,
          39.6,
          40.1,
          35,
          42,
          34.5,
          41.4,
          39,
          40.6,
          36.5,
          37.6,
          35.7,
          41.3,
          37.6,
          41.1,
          36.4,
          41.6,
          35.5,
          41.1,
          35.9,
          41.8,
          33.5,
          39.7,
          39.6,
          45.8,
          35.5,
          42.8,
          40.9,
          37.2,
          36.2,
          42.1,
          34.6,
          42.9,
          36.7,
          35.1,
          37.3,
          41.3,
          36.3,
          36.9,
          38.3,
          38.9,
          35.7,
          41.1,
          34,
          39.6,
          36.2,
          40.8,
          38.1,
          40.3,
          33.1,
          43.2,
          35,
          41,
          37.7,
          37.8,
          37.9,
          39.7,
          38.6,
          38.2,
          38.1,
          43.2,
          38.1,
          45.6,
          39.7,
          42.2,
          39.6,
          42.7,
          38.6,
          37.3,
          35.7,
          41.1,
          36.2,
          37.7,
          40.2,
          41.4,
          35.2,
          40.6,
          38.8,
          41.5,
          39,
          44.1,
          38.5,
          43.1,
          36.8,
          37.5,
          38.1,
          41.1,
          35.6,
          40.2,
          37,
          39.7,
          40.2,
          40.6,
          32.1,
          40.7,
          37.3,
          39,
          39.2,
          36.6,
          36,
          37.8,
          36,
          41.5
         ],
         "xaxis": "x",
         "xbins": {
          "end": 46,
          "size": 1,
          "start": 32.1
         },
         "yaxis": "y"
        },
        {
         "autobinx": false,
         "histnorm": "probability density",
         "legendgroup": "Gentoo",
         "marker": {
          "color": "rgb(255, 127, 14)"
         },
         "name": "Gentoo",
         "opacity": 0.7,
         "type": "histogram",
         "x": [
          46.1,
          50,
          48.7,
          50,
          47.6,
          46.5,
          45.4,
          46.7,
          43.3,
          46.8,
          40.9,
          49,
          45.5,
          48.4,
          45.8,
          49.3,
          42,
          49.2,
          46.2,
          48.7,
          50.2,
          45.1,
          46.5,
          46.3,
          42.9,
          46.1,
          44.5,
          47.8,
          48.2,
          50,
          47.3,
          42.8,
          45.1,
          59.6,
          49.1,
          48.4,
          42.6,
          44.4,
          44,
          48.7,
          42.7,
          49.6,
          45.3,
          49.6,
          50.5,
          43.6,
          45.5,
          50.5,
          44.9,
          45.2,
          46.6,
          48.5,
          45.1,
          50.1,
          46.5,
          45,
          43.8,
          45.5,
          43.2,
          50.4,
          45.3,
          46.2,
          45.7,
          54.3,
          45.8,
          49.8,
          46.2,
          49.5,
          43.5,
          50.7,
          47.7,
          46.4,
          48.2,
          46.5,
          46.4,
          48.6,
          47.5,
          51.1,
          45.2,
          45.2,
          49.1,
          52.5,
          47.4,
          50,
          44.9,
          50.8,
          43.4,
          51.3,
          47.5,
          52.1,
          47.5,
          52.2,
          45.5,
          49.5,
          44.5,
          50.8,
          49.4,
          46.9,
          48.4,
          51.1,
          48.5,
          55.9,
          47.2,
          49.1,
          47.3,
          46.8,
          41.7,
          53.4,
          43.3,
          48.1,
          50.5,
          49.8,
          43.5,
          51.5,
          46.2,
          55.1,
          44.5,
          48.8,
          47.2,
          47.3,
          46.8,
          50.4,
          45.2,
          49.9
         ],
         "xaxis": "x",
         "xbins": {
          "end": 59.6,
          "size": 1,
          "start": 40.9
         },
         "yaxis": "y"
        },
        {
         "autobinx": false,
         "histnorm": "probability density",
         "legendgroup": "Chinstrap",
         "marker": {
          "color": "rgb(44, 160, 44)"
         },
         "name": "Chinstrap",
         "opacity": 0.7,
         "type": "histogram",
         "x": [
          46.5,
          50,
          51.3,
          45.4,
          52.7,
          45.2,
          46.1,
          51.3,
          46,
          51.3,
          46.6,
          51.7,
          47,
          52,
          45.9,
          50.5,
          50.3,
          58,
          46.4,
          49.2,
          42.4,
          48.5,
          43.2,
          50.6,
          46.7,
          52,
          50.5,
          49.5,
          46.4,
          52.8,
          40.9,
          54.2,
          42.5,
          51,
          49.7,
          47.5,
          47.6,
          52,
          46.9,
          53.5,
          49,
          46.2,
          50.9,
          45.5,
          50.9,
          50.8,
          50.1,
          49,
          51.5,
          49.8,
          48.1,
          51.4,
          45.7,
          50.7,
          42.5,
          52.2,
          45.2,
          49.3,
          50.2,
          45.6,
          51.9,
          46.8,
          45.7,
          55.8,
          43.5,
          49.6,
          50.8,
          50.2
         ],
         "xaxis": "x",
         "xbins": {
          "end": 58,
          "size": 1,
          "start": 40.9
         },
         "yaxis": "y"
        },
        {
         "legendgroup": "Adelie",
         "marker": {
          "color": "rgb(31, 119, 180)"
         },
         "mode": "lines",
         "name": "Adelie",
         "showlegend": false,
         "type": "scatter",
         "x": [
          32.1,
          32.1278,
          32.1556,
          32.1834,
          32.2112,
          32.239000000000004,
          32.2668,
          32.2946,
          32.3224,
          32.3502,
          32.378,
          32.4058,
          32.4336,
          32.461400000000005,
          32.489200000000004,
          32.517,
          32.5448,
          32.5726,
          32.6004,
          32.6282,
          32.656,
          32.6838,
          32.711600000000004,
          32.7394,
          32.7672,
          32.795,
          32.8228,
          32.8506,
          32.8784,
          32.9062,
          32.934000000000005,
          32.961800000000004,
          32.9896,
          33.0174,
          33.0452,
          33.073,
          33.1008,
          33.1286,
          33.1564,
          33.184200000000004,
          33.212,
          33.2398,
          33.2676,
          33.2954,
          33.3232,
          33.351,
          33.3788,
          33.406600000000005,
          33.434400000000004,
          33.4622,
          33.49,
          33.5178,
          33.5456,
          33.5734,
          33.6012,
          33.629,
          33.656800000000004,
          33.6846,
          33.7124,
          33.7402,
          33.768,
          33.7958,
          33.8236,
          33.8514,
          33.879200000000004,
          33.907000000000004,
          33.9348,
          33.9626,
          33.9904,
          34.0182,
          34.046,
          34.0738,
          34.101600000000005,
          34.129400000000004,
          34.1572,
          34.185,
          34.2128,
          34.2406,
          34.2684,
          34.2962,
          34.324,
          34.351800000000004,
          34.3796,
          34.4074,
          34.4352,
          34.463,
          34.4908,
          34.5186,
          34.5464,
          34.574200000000005,
          34.602000000000004,
          34.6298,
          34.6576,
          34.6854,
          34.7132,
          34.741,
          34.7688,
          34.7966,
          34.824400000000004,
          34.8522,
          34.88,
          34.9078,
          34.9356,
          34.9634,
          34.9912,
          35.019,
          35.046800000000005,
          35.074600000000004,
          35.1024,
          35.1302,
          35.158,
          35.1858,
          35.2136,
          35.2414,
          35.2692,
          35.297000000000004,
          35.3248,
          35.3526,
          35.3804,
          35.4082,
          35.436,
          35.4638,
          35.4916,
          35.519400000000005,
          35.547200000000004,
          35.575,
          35.6028,
          35.6306,
          35.6584,
          35.6862,
          35.714,
          35.7418,
          35.769600000000004,
          35.7974,
          35.8252,
          35.853,
          35.8808,
          35.9086,
          35.9364,
          35.9642,
          35.992000000000004,
          36.019800000000004,
          36.0476,
          36.0754,
          36.1032,
          36.131,
          36.1588,
          36.1866,
          36.2144,
          36.242200000000004,
          36.27,
          36.2978,
          36.3256,
          36.3534,
          36.3812,
          36.409,
          36.4368,
          36.464600000000004,
          36.4924,
          36.5202,
          36.548,
          36.5758,
          36.6036,
          36.6314,
          36.6592,
          36.687,
          36.7148,
          36.7426,
          36.7704,
          36.7982,
          36.826,
          36.8538,
          36.8816,
          36.9094,
          36.937200000000004,
          36.965,
          36.9928,
          37.0206,
          37.0484,
          37.0762,
          37.104,
          37.1318,
          37.1596,
          37.187400000000004,
          37.2152,
          37.243,
          37.2708,
          37.2986,
          37.3264,
          37.3542,
          37.382,
          37.409800000000004,
          37.4376,
          37.4654,
          37.4932,
          37.521,
          37.5488,
          37.5766,
          37.6044,
          37.6322,
          37.66,
          37.6878,
          37.7156,
          37.7434,
          37.7712,
          37.799,
          37.8268,
          37.8546,
          37.882400000000004,
          37.9102,
          37.938,
          37.9658,
          37.9936,
          38.0214,
          38.0492,
          38.077,
          38.1048,
          38.132600000000004,
          38.1604,
          38.1882,
          38.216,
          38.2438,
          38.2716,
          38.2994,
          38.3272,
          38.355000000000004,
          38.3828,
          38.4106,
          38.4384,
          38.4662,
          38.494,
          38.5218,
          38.5496,
          38.5774,
          38.605199999999996,
          38.633,
          38.6608,
          38.6886,
          38.7164,
          38.7442,
          38.772,
          38.7998,
          38.827600000000004,
          38.8554,
          38.8832,
          38.911,
          38.9388,
          38.9666,
          38.9944,
          39.0222,
          39.05,
          39.0778,
          39.1056,
          39.1334,
          39.1612,
          39.189,
          39.2168,
          39.2446,
          39.272400000000005,
          39.300200000000004,
          39.328,
          39.3558,
          39.3836,
          39.4114,
          39.4392,
          39.467,
          39.4948,
          39.5226,
          39.5504,
          39.5782,
          39.606,
          39.6338,
          39.6616,
          39.6894,
          39.7172,
          39.745,
          39.772800000000004,
          39.8006,
          39.8284,
          39.8562,
          39.884,
          39.9118,
          39.9396,
          39.9674,
          39.9952,
          40.023,
          40.0508,
          40.0786,
          40.1064,
          40.1342,
          40.162,
          40.1898,
          40.217600000000004,
          40.245400000000004,
          40.2732,
          40.301,
          40.3288,
          40.3566,
          40.3844,
          40.4122,
          40.44,
          40.4678,
          40.495599999999996,
          40.5234,
          40.5512,
          40.579,
          40.6068,
          40.6346,
          40.662400000000005,
          40.690200000000004,
          40.718,
          40.7458,
          40.7736,
          40.8014,
          40.8292,
          40.857,
          40.8848,
          40.9126,
          40.9404,
          40.968199999999996,
          40.996,
          41.0238,
          41.0516,
          41.0794,
          41.1072,
          41.135,
          41.162800000000004,
          41.1906,
          41.2184,
          41.2462,
          41.274,
          41.3018,
          41.3296,
          41.3574,
          41.3852,
          41.413,
          41.4408,
          41.4686,
          41.4964,
          41.5242,
          41.552,
          41.5798,
          41.6076,
          41.635400000000004,
          41.6632,
          41.691,
          41.7188,
          41.7466,
          41.7744,
          41.8022,
          41.83,
          41.8578,
          41.8856,
          41.9134,
          41.9412,
          41.969,
          41.9968,
          42.0246,
          42.0524,
          42.0802,
          42.108,
          42.1358,
          42.1636,
          42.1914,
          42.2192,
          42.247,
          42.2748,
          42.3026,
          42.3304,
          42.3582,
          42.385999999999996,
          42.4138,
          42.4416,
          42.4694,
          42.4972,
          42.525,
          42.552800000000005,
          42.580600000000004,
          42.6084,
          42.6362,
          42.664,
          42.6918,
          42.7196,
          42.7474,
          42.7752,
          42.803,
          42.830799999999996,
          42.858599999999996,
          42.8864,
          42.9142,
          42.942,
          42.9698,
          42.9976,
          43.025400000000005,
          43.053200000000004,
          43.081,
          43.1088,
          43.1366,
          43.1644,
          43.1922,
          43.22,
          43.2478,
          43.2756,
          43.3034,
          43.3312,
          43.359,
          43.3868,
          43.4146,
          43.4424,
          43.4702,
          43.498,
          43.525800000000004,
          43.5536,
          43.5814,
          43.6092,
          43.637,
          43.6648,
          43.6926,
          43.7204,
          43.7482,
          43.775999999999996,
          43.8038,
          43.8316,
          43.8594,
          43.8872,
          43.915,
          43.9428,
          43.9706,
          43.998400000000004,
          44.0262,
          44.054,
          44.0818,
          44.1096,
          44.1374,
          44.1652,
          44.193,
          44.2208,
          44.248599999999996,
          44.2764,
          44.3042,
          44.332,
          44.3598,
          44.3876,
          44.415400000000005,
          44.443200000000004,
          44.471000000000004,
          44.4988,
          44.5266,
          44.5544,
          44.5822,
          44.61,
          44.6378,
          44.6656,
          44.6934,
          44.721199999999996,
          44.748999999999995,
          44.7768,
          44.8046,
          44.8324,
          44.8602,
          44.888,
          44.915800000000004,
          44.9436,
          44.9714,
          44.9992,
          45.027,
          45.0548,
          45.0826,
          45.1104,
          45.1382,
          45.166,
          45.1938,
          45.2216,
          45.2494,
          45.2772,
          45.305,
          45.3328,
          45.3606,
          45.3884,
          45.4162,
          45.444,
          45.4718,
          45.4996,
          45.5274,
          45.5552,
          45.583,
          45.6108,
          45.6386,
          45.666399999999996,
          45.6942,
          45.722,
          45.7498,
          45.7776,
          45.8054,
          45.8332,
          45.861,
          45.8888,
          45.9166,
          45.9444,
          45.9722
         ],
         "xaxis": "x",
         "y": [
          0.006609659874262775,
          0.006787441782538859,
          0.006969011722838941,
          0.007154479105516875,
          0.0073439570765892965,
          0.007537562408045368,
          0.00773541537355891,
          0.007937639610091404,
          0.008144361965944936,
          0.008355712335898281,
          0.008571823484120248,
          0.008792830855618064,
          0.009018872377029514,
          0.009250088247619657,
          0.009486620721381447,
          0.009728613881178821,
          0.009976213405897171,
          0.010229566331588568,
          0.010488820807615335,
          0.010754125848800086,
          0.011025631084594133,
          0.011303486506265198,
          0.011587842213094966,
          0.011878848158551397,
          0.012176653897376015,
          0.012481408334488811,
          0.012793259476571167,
          0.01311235418714204,
          0.013438837945884161,
          0.01377285461292229,
          0.014114546198685846,
          0.014464052639923104,
          0.014821511582357871,
          0.015187058170401599,
          0.015560824844256981,
          0.015942941144660244,
          0.01633353352543082,
          0.01673272517390346,
          0.01714063583923813,
          0.017557381668508815,
          0.017983075050391678,
          0.018417824466184854,
          0.018861734347808592,
          0.019314904942358543,
          0.01977743218270261,
          0.020249407563546006,
          0.020730918022315407,
          0.021222045824159347,
          0.02172286845029838,
          0.02223345848892141,
          0.022753883527774015,
          0.02328420604756121,
          0.023824483315263163,
          0.024374767276445844,
          0.02493510444565379,
          0.02550553579397144,
          0.026086096632868767,
          0.026676816493466288,
          0.027277719000409758,
          0.02788882173958538,
          0.0285101361189815,
          0.029141667222078407,
          0.029783413653231276,
          0.030435367374621398,
          0.031097513534451404,
          0.03176983028619214,
          0.03245228859881314,
          0.03314485205807496,
          0.03384747665910664,
          0.03456011059065267,
          0.035282694011536296,
          0.036015158820049784,
          0.036757428417164416,
          0.03750941746461437,
          0.03827103163910212,
          0.039042167384026834,
          0.03982271166033165,
          0.040612541698217645,
          0.04141152475164474,
          0.042219517857693865,
          0.0430363676030044,
          0.04386190989964642,
          0.044695969772893314,
          0.04553836116348541,
          0.04638888674704096,
          0.04724733777336566,
          0.04811349392844132,
          0.04898712322191569,
          0.04986798190291709,
          0.05075581440699449,
          0.051650353336946335,
          0.052551319480223777,
          0.05345842186550255,
          0.05437135786088387,
          0.05528981331604425,
          0.05621346275046056,
          0.057141969589636944,
          0.058074986451026454,
          0.05901215548107161,
          0.05995310874451332,
          0.060897468666801374,
          0.061844848530113086,
          0.06279485302313291,
          0.06374707884438553,
          0.06470111535852115,
          0.06565654530456592,
          0.06661294555474238,
          0.06756988792204754,
          0.0685269400143764,
          0.06948366613254374,
          0.07043962820916942,
          0.07139438678496882,
          0.07234750201861635,
          0.0732985347259596,
          0.07424704744401113,
          0.07519260551481267,
          0.07613477818394478,
          0.07707313970819475,
          0.07800727046662795,
          0.07893675806911572,
          0.07986119845618923,
          0.08078019698396875,
          0.08169336948782273,
          0.08260034331838058,
          0.08350075834352841,
          0.08439426791007348,
          0.08528053975887452,
          0.08615925688738797,
          0.08703011835379977,
          0.0878928400171573,
          0.08874715520823613,
          0.08959281532622917,
          0.09042959035674321,
          0.0912572693070401,
          0.09207566055494407,
          0.09288459210835907,
          0.09368391177290172,
          0.09447348722574382,
          0.09525320599436897,
          0.09602297533958788,
          0.09678272204280976,
          0.09753239209821771,
          0.09827195031118552,
          0.09900137980491636,
          0.09972068143796568,
          0.10042987313594802,
          0.10112898914137095,
          0.10181807918613715,
          0.1024972075918502,
          0.10316645230359846,
          0.10382590386340133,
          0.10447566432997461,
          0.105115846151873,
          0.10574657100144896,
          0.10636796857735899,
          0.10698017538360924,
          0.107583333493306,
          0.10817758930540669,
          0.10876309230281715,
          0.10933999382016961,
          0.10990844582953732,
          0.11046859975218913,
          0.11102060530428318,
          0.11156460938410999,
          0.11210075500816176,
          0.11262918030289619,
          0.11315001755861105,
          0.11366339235133203,
          0.1141694227380516,
          0.11466821853006633,
          0.1151598806484996,
          0.11564450056544584,
          0.11612215983344772,
          0.11659292970531962,
          0.11705687084558149,
          0.11751403313403241,
          0.11796445556125955,
          0.11840816621512916,
          0.11884518235660589,
          0.11927551058253148,
          0.11969914707233445,
          0.12011607791499357,
          0.12052627951198501,
          0.1209297190513847,
          0.12132635504778709,
          0.12171613794226133,
          0.12209901075615347,
          0.12247490979222783,
          0.12284376537635806,
          0.12320550263278311,
          0.12356004228580245,
          0.12390730148072004,
          0.12424719461684364,
          0.12457963418541589,
          0.12490453160548476,
          0.12522179805091688,
          0.12553134526201765,
          0.12583308633553292,
          0.1261269364871785,
          0.12641281378125802,
          0.12669063982239334,
          0.1269603404048883,
          0.12722184611577875,
          0.12747509288818237,
          0.12772002250213393,
          0.12795658303068833,
          0.12818472922966825,
          0.12840442287003062,
          0.12861563301241907,
          0.12881833622404573,
          0.12901251673860328,
          0.12919816656044425,
          0.1293752855147633,
          0.12954388124598407,
          0.1297039691669801,
          0.12985557236213455,
          0.12999872144757668,
          0.1301334543922101,
          0.1302598163033743,
          0.13037785918114603,
          0.13048764164540003,
          0.13058922863980482,
          0.13068269111691982,
          0.13076810570850778,
          0.13084555438505854,
          0.1309151241083567,
          0.1309769064807121,
          0.13103099739421115,
          0.13107749668305085,
          0.13111650778167439,
          0.1311481373910689,
          0.1311724951551819,
          0.13118969334900812,
          0.13119984657946707,
          0.13120307149975602,
          0.13119948653742783,
          0.1311892116360096,
          0.1311723680095577,
          0.1311490779091385,
          0.131119464399843,
          0.13108365114659332,
          0.13104176220667152,
          0.13099392182662697,
          0.13094025424097666,
          0.1308808834699157,
          0.1308159331131219,
          0.13074552613663584,
          0.13066978464977153,
          0.13058882966902,
          0.13050278086599554,
          0.1304117562965909,
          0.13031587210870352,
          0.13021524222612757,
          0.13010997800649682,
          0.13000018787150228,
          0.129885976907991,
          0.1297674464389743,
          0.12964469356403296,
          0.12951781066909634,
          0.12938688490609054,
          0.1292519976434758,
          0.129113223889251,
          0.12897063168854758,
          0.12882428149848965,
          0.12867422554354388,
          0.12852050715511043,
          0.12836316009961782,
          0.12820220789986617,
          0.1280376631548077,
          0.12786952686336953,
          0.12769778775827303,
          0.1275224216561282,
          0.1273433908303213,
          0.127160643413422,
          0.12697411283595134,
          0.12678371730842553,
          0.12658935935357687,
          0.126390925395573,
          0.12618828541291177,
          0.125981292661434,
          0.12576978347361403,
          0.12555357713991042,
          0.1253324758775323,
          0.12510626489147764,
          0.124874712532131,
          0.12463757055310204,
          0.12439457447230083,
          0.12414544403854133,
          0.12388988380519417,
          0.12362758381162263,
          0.12335822037231471,
          0.12308145697277756,
          0.12279694527041589,
          0.12250432619774668,
          0.12220323116446,
          0.1218932833539802,
          0.12157409910936558,
          0.12124528940258247,
          0.12090646138042874,
          0.1205572199796594,
          0.12019716960319572,
          0.11982591584868202,
          0.11944306728009955,
          0.11904823723266132,
          0.11864104564078859,
          0.11822112087864331,
          0.11778810160241547,
          0.11734163858340473,
          0.11688139652082989,
          0.11640705582330148,
          0.11591831434797782,
          0.11541488908658264,
          0.11489651778772708,
          0.11436296050530766,
          0.11381400106317718,
          0.1132494484267739,
          0.11266913797297252,
          0.11207293265005056,
          0.11146072402037206,
          0.1108324331791475,
          0.11018801154343913,
          0.10952744150644089,
          0.10885073695294632,
          0.10815794363285265,
          0.10744913939048137,
          0.10672443424846342,
          0.10598397034590024,
          0.10522792173146962,
          0.10445649401311015,
          0.10366992386684114,
          0.10286847840820233,
          0.1020524544306586,
          0.10122217751617404,
          0.10037800102394073,
          0.09952030496399782,
          0.09864949476316535,
          0.0977659999313318,
          0.09687027263670896,
          0.09596278619913728,
          0.09504403351096001,
          0.09411452539530786,
          0.09317478891191375,
          0.09222536562074701,
          0.09126680981388176,
          0.09029968672602891,
          0.08932457073411453,
          0.08834204355617985,
          0.08735269245965904,
          0.0863571084888477,
          0.08535588472102563,
          0.08434961456031725,
          0.08333889007790789,
          0.08232430040673978,
          0.08130643019825011,
          0.08028585814811946,
          0.07926315559736859,
          0.07823888521447184,
          0.07721359976347576,
          0.07618784096239073,
          0.07516213843541934,
          0.07413700876184269,
          0.07311295462367112,
          0.07209046405343993,
          0.07107000978281107,
          0.07005204869196702,
          0.06903702135908657,
          0.0680253517085644,
          0.06701744675600566,
          0.06601369644745601,
          0.06501447358977161,
          0.06402013386854381,
          0.06303101594952197,
          0.06204744165907278,
          0.061069716238844635,
          0.06009812866949191,
          0.05913295205804722,
          0.05817444408330736,
          0.057222847493444334,
          0.05627839064991623,
          0.05534128811170486,
          0.05441174125386924,
          0.053489938914428686,
          0.052576058063664,
          0.05167026449001829,
          0.0507727134969361,
          0.04988355060514565,
          0.049002912255114724,
          0.04813092650463453,
          0.04726771371676684,
          0.04641338723366753,
          0.045568054032103185,
          0.044731815356813025,
          0.04390476732818038,
          0.043087001521038226,
          0.04227860551176454,
          0.041479663391180206,
          0.04069025624110348,
          0.03991046257276259,
          0.039140358725599615,
          0.03838001922532758,
          0.037629517100424045,
          0.03688892415653864,
          0.03615831120859235,
          0.03543774827060844,
          0.034727304703583615,
          0.03402704932193164,
          0.033337050459268804,
          0.03265737599449883,
          0.03198809333934269,
          0.03132926938862629,
          0.03068097043477729,
          0.03004326204811907,
          0.02941620892465355,
          0.028799874703124746,
          0.028194321753231735,
          0.02759961093692782,
          0.02701580134479349,
          0.02644295000951173,
          0.025881111598508887,
          0.025330338087839764,
          0.02479067841941659,
          0.02426217814368128,
          0.02374487904983113,
          0.023238818785694854,
          0.02274403046936236,
          0.02226054229465385,
          0.02178837713250805,
          0.021327552130361076,
          0.02087807831157086,
          0.020439960176938516,
          0.02001319531035781,
          0.019597773990624328,
          0.019193678811414813,
          0.018800884311444905,
          0.018419356616798173,
          0.018049053097407224,
          0.01768992203965915,
          0.01734190233707411,
          0.017004923200995996,
          0.016678903893203794,
          0.016363753482330448,
          0.016059370625939616,
          0.015765643380073066,
          0.01548244903803231,
          0.015209654000102147,
          0.014947113675858853,
          0.014694672420628708,
          0.014452163507576568,
          0.014219409136802613,
          0.013996220482718173,
          0.013782397780844051,
          0.013577730455039788,
          0.013381997286023219,
          0.013194966621875224,
          0.013016396631052331,
          0.012846035598239464,
          0.012683622263179942,
          0.012528886202407675,
          0.012381548253589317,
          0.012241320981956877,
          0.01210790918807511,
          0.011981010455950373,
          0.0118603157402411,
          0.011745509991085432,
          0.011636272814813725,
          0.01153227916856928,
          0.011433200086618293,
          0.011338703435894779,
          0.011248454698098343,
          0.011162117775443554,
          0.011079355816955287,
          0.010999832062010405,
          0.010923210697652314,
          0.010849157726044629,
          0.010777341838294183,
          0.010707435290754604,
          0.010639114779828818,
          0.010572062311218433,
          0.010505966059522722,
          0.010440521214072278,
          0.01037543080688951,
          0.010310406518704499,
          0.010245169459017406,
          0.01017945091628935,
          0.010112993074461191,
          0.01004554969214448,
          0.009976886740999462,
          0.009906783000009889,
          0.009835030602584633,
          0.009761435533656694,
          0.009685818074213592,
          0.009608013190972967,
          0.00952787086921688,
          0.009445256387109255,
          0.009360050530147447,
          0.00927214974473293,
          0.009181466230189174,
          0.009087927968902136,
          0.008991478694607797,
          0.008892077799201918
         ],
         "yaxis": "y"
        },
        {
         "legendgroup": "Gentoo",
         "marker": {
          "color": "rgb(255, 127, 14)"
         },
         "mode": "lines",
         "name": "Gentoo",
         "showlegend": false,
         "type": "scatter",
         "x": [
          40.9,
          40.9374,
          40.9748,
          41.0122,
          41.0496,
          41.086999999999996,
          41.1244,
          41.1618,
          41.1992,
          41.236599999999996,
          41.274,
          41.3114,
          41.3488,
          41.386199999999995,
          41.4236,
          41.461,
          41.4984,
          41.5358,
          41.5732,
          41.6106,
          41.647999999999996,
          41.6854,
          41.7228,
          41.7602,
          41.797599999999996,
          41.835,
          41.8724,
          41.9098,
          41.9472,
          41.9846,
          42.022,
          42.0594,
          42.0968,
          42.1342,
          42.1716,
          42.208999999999996,
          42.2464,
          42.2838,
          42.3212,
          42.358599999999996,
          42.396,
          42.4334,
          42.4708,
          42.5082,
          42.5456,
          42.583,
          42.6204,
          42.6578,
          42.6952,
          42.7326,
          42.769999999999996,
          42.8074,
          42.8448,
          42.8822,
          42.9196,
          42.957,
          42.9944,
          43.0318,
          43.0692,
          43.1066,
          43.144,
          43.1814,
          43.2188,
          43.2562,
          43.2936,
          43.330999999999996,
          43.3684,
          43.4058,
          43.4432,
          43.480599999999995,
          43.518,
          43.5554,
          43.5928,
          43.6302,
          43.6676,
          43.705,
          43.742399999999996,
          43.7798,
          43.8172,
          43.8546,
          43.891999999999996,
          43.9294,
          43.9668,
          44.0042,
          44.0416,
          44.079,
          44.1164,
          44.1538,
          44.1912,
          44.2286,
          44.266,
          44.303399999999996,
          44.3408,
          44.3782,
          44.4156,
          44.452999999999996,
          44.4904,
          44.5278,
          44.5652,
          44.602599999999995,
          44.64,
          44.6774,
          44.7148,
          44.7522,
          44.7896,
          44.827,
          44.864399999999996,
          44.9018,
          44.9392,
          44.9766,
          45.013999999999996,
          45.0514,
          45.0888,
          45.1262,
          45.1636,
          45.201,
          45.2384,
          45.2758,
          45.3132,
          45.3506,
          45.388,
          45.425399999999996,
          45.4628,
          45.5002,
          45.5376,
          45.575,
          45.6124,
          45.6498,
          45.6872,
          45.724599999999995,
          45.762,
          45.7994,
          45.8368,
          45.8742,
          45.9116,
          45.949,
          45.986399999999996,
          46.0238,
          46.0612,
          46.0986,
          46.135999999999996,
          46.1734,
          46.2108,
          46.2482,
          46.2856,
          46.323,
          46.3604,
          46.3978,
          46.4352,
          46.4726,
          46.51,
          46.547399999999996,
          46.5848,
          46.6222,
          46.6596,
          46.697,
          46.7344,
          46.7718,
          46.8092,
          46.8466,
          46.884,
          46.9214,
          46.9588,
          46.9962,
          47.0336,
          47.071,
          47.108399999999996,
          47.1458,
          47.1832,
          47.2206,
          47.257999999999996,
          47.2954,
          47.3328,
          47.3702,
          47.4076,
          47.445,
          47.4824,
          47.519800000000004,
          47.5572,
          47.5946,
          47.632,
          47.6694,
          47.7068,
          47.7442,
          47.7816,
          47.819,
          47.8564,
          47.8938,
          47.9312,
          47.9686,
          48.006,
          48.0434,
          48.080799999999996,
          48.1182,
          48.1556,
          48.193,
          48.2304,
          48.2678,
          48.3052,
          48.3426,
          48.38,
          48.4174,
          48.4548,
          48.4922,
          48.5296,
          48.567,
          48.6044,
          48.6418,
          48.6792,
          48.7166,
          48.754,
          48.7914,
          48.8288,
          48.8662,
          48.9036,
          48.941,
          48.9784,
          49.0158,
          49.053200000000004,
          49.0906,
          49.128,
          49.1654,
          49.202799999999996,
          49.2402,
          49.2776,
          49.315,
          49.3524,
          49.3898,
          49.4272,
          49.464600000000004,
          49.502,
          49.5394,
          49.5768,
          49.6142,
          49.6516,
          49.689,
          49.7264,
          49.7638,
          49.8012,
          49.8386,
          49.876000000000005,
          49.913399999999996,
          49.9508,
          49.9882,
          50.0256,
          50.063,
          50.1004,
          50.1378,
          50.1752,
          50.2126,
          50.25,
          50.2874,
          50.324799999999996,
          50.3622,
          50.3996,
          50.437,
          50.4744,
          50.5118,
          50.5492,
          50.586600000000004,
          50.624,
          50.6614,
          50.6988,
          50.7362,
          50.7736,
          50.811,
          50.8484,
          50.8858,
          50.9232,
          50.9606,
          50.998000000000005,
          51.035399999999996,
          51.0728,
          51.1102,
          51.1476,
          51.185,
          51.2224,
          51.2598,
          51.297200000000004,
          51.3346,
          51.372,
          51.4094,
          51.446799999999996,
          51.4842,
          51.5216,
          51.559,
          51.5964,
          51.6338,
          51.6712,
          51.708600000000004,
          51.746,
          51.7834,
          51.8208,
          51.858200000000004,
          51.8956,
          51.933,
          51.9704,
          52.0078,
          52.0452,
          52.0826,
          52.120000000000005,
          52.1574,
          52.1948,
          52.2322,
          52.2696,
          52.307,
          52.3444,
          52.3818,
          52.419200000000004,
          52.4566,
          52.494,
          52.5314,
          52.568799999999996,
          52.6062,
          52.6436,
          52.681,
          52.7184,
          52.7558,
          52.7932,
          52.830600000000004,
          52.868,
          52.9054,
          52.9428,
          52.9802,
          53.0176,
          53.055,
          53.0924,
          53.1298,
          53.1672,
          53.2046,
          53.242000000000004,
          53.2794,
          53.3168,
          53.3542,
          53.3916,
          53.429,
          53.4664,
          53.5038,
          53.5412,
          53.5786,
          53.616,
          53.6534,
          53.690799999999996,
          53.7282,
          53.7656,
          53.803,
          53.8404,
          53.8778,
          53.9152,
          53.952600000000004,
          53.99,
          54.0274,
          54.064800000000005,
          54.1022,
          54.1396,
          54.177,
          54.2144,
          54.2518,
          54.2892,
          54.3266,
          54.364000000000004,
          54.4014,
          54.4388,
          54.4762,
          54.5136,
          54.551,
          54.5884,
          54.6258,
          54.6632,
          54.7006,
          54.738,
          54.7754,
          54.8128,
          54.8502,
          54.8876,
          54.925,
          54.9624,
          54.9998,
          55.0372,
          55.074600000000004,
          55.112,
          55.1494,
          55.186800000000005,
          55.2242,
          55.2616,
          55.299,
          55.3364,
          55.3738,
          55.4112,
          55.4486,
          55.486000000000004,
          55.5234,
          55.5608,
          55.5982,
          55.6356,
          55.673,
          55.7104,
          55.7478,
          55.7852,
          55.8226,
          55.86,
          55.8974,
          55.9348,
          55.9722,
          56.0096,
          56.047,
          56.0844,
          56.1218,
          56.1592,
          56.196600000000004,
          56.234,
          56.2714,
          56.308800000000005,
          56.3462,
          56.3836,
          56.421,
          56.4584,
          56.4958,
          56.5332,
          56.5706,
          56.608000000000004,
          56.6454,
          56.6828,
          56.720200000000006,
          56.7576,
          56.795,
          56.8324,
          56.8698,
          56.9072,
          56.9446,
          56.982,
          57.019400000000005,
          57.0568,
          57.0942,
          57.131600000000006,
          57.169,
          57.2064,
          57.2438,
          57.2812,
          57.3186,
          57.356,
          57.3934,
          57.430800000000005,
          57.468199999999996,
          57.5056,
          57.543000000000006,
          57.5804,
          57.6178,
          57.65520000000001,
          57.6926,
          57.730000000000004,
          57.767399999999995,
          57.8048,
          57.842200000000005,
          57.879599999999996,
          57.917,
          57.9544,
          57.9918,
          58.0292,
          58.0666,
          58.104,
          58.141400000000004,
          58.1788,
          58.2162,
          58.253600000000006,
          58.291000000000004,
          58.3284,
          58.3658,
          58.4032,
          58.4406,
          58.478,
          58.5154,
          58.552800000000005,
          58.5902,
          58.6276,
          58.665000000000006,
          58.7024,
          58.7398,
          58.77720000000001,
          58.8146,
          58.852000000000004,
          58.889399999999995,
          58.9268,
          58.964200000000005,
          59.001599999999996,
          59.039,
          59.0764,
          59.1138,
          59.1512,
          59.1886,
          59.226,
          59.263400000000004,
          59.3008,
          59.3382,
          59.375600000000006,
          59.413000000000004,
          59.4504,
          59.4878,
          59.5252,
          59.5626
         ],
         "xaxis": "x",
         "y": [
          0.012252600345973806,
          0.012687199921513398,
          0.013132353581962932,
          0.013588134309771476,
          0.014054605956715071,
          0.01453182264617449,
          0.0150198281871754,
          0.015518655505992645,
          0.016028326101365203,
          0.016548849529561396,
          0.017080222925671944,
          0.017622430567592034,
          0.01817544348916738,
          0.01873921914893085,
          0.01931370116073598,
          0.019898819092395402,
          0.020494488338170413,
          0.0211006100705994,
          0.021717071276739282,
          0.022343744883385044,
          0.02298048997525845,
          0.023627152109501438,
          0.024283563729091896,
          0.024949544677005078,
          0.02562490281209441,
          0.0263094347267591,
          0.027002926565503408,
          0.027705154942505313,
          0.02841588795526639,
          0.029134886290374258,
          0.029861904416331783,
          0.03059669185734214,
          0.0313389945408718,
          0.03208855621077863,
          0.03284511989677653,
          0.033608429430046466,
          0.03437823099389519,
          0.03515427469751854,
          0.0359363161601768,
          0.036724118092406104,
          0.0375174518603423,
          0.038316099018764115,
          0.03911985279814831,
          0.039928519530816026,
          0.04074192000119328,
          0.041559890705294984,
          0.042382285004757166,
          0.043208974161139925,
          0.04403984823674074,
          0.04487481684886014,
          0.045713809765281735,
          0.046556777329728904,
          0.04740369070717636,
          0.048254541940161946,
          0.04910934380863193,
          0.04996812948735338,
          0.050830951996547795,
          0.051697883443083056,
          0.052569014051355646,
          0.05344445098481464,
          0.05432431696097558,
          0.05520874866465909,
          0.05609789496611783,
          0.05699191495260219,
          0.057890975783786866,
          0.05879525038329602,
          0.05970491498030376,
          0.06062014651684764,
          0.06154111993803123,
          0.0624680053837132,
          0.06340096530155953,
          0.0643401515024446,
          0.065285702180149,
          0.06623773891804452,
          0.06719636370604504,
          0.0681616559914543,
          0.0691336697875077,
          0.07011243086334353,
          0.07109793403887828,
          0.07209014060756996,
          0.07308897590936418,
          0.07409432707521822,
          0.0751060409634952,
          0.07612392230724761,
          0.07714773208992597,
          0.0781771861654448,
          0.07921195413674527,
          0.08025165850510227,
          0.08129587410039758,
          0.08234412780047987,
          0.08339589854554452,
          0.0844506176512386,
          0.08550766942193616,
          0.08656639206335691,
          0.08762607889146383,
          0.08868597983233802,
          0.08974530320559915,
          0.090803217781835,
          0.09185885510254589,
          0.09291131204922284,
          0.09395965364645409,
          0.09500291608236343,
          0.09604010992824608,
          0.09707022353801437,
          0.09809222660696802,
          0.09910507386852276,
          0.10010770890679506,
          0.1010990680624463,
          0.10207808440884014,
          0.10304369177544069,
          0.10399482879541744,
          0.1049304429546487,
          0.10584949461971478,
          0.10675096102302241,
          0.10763384018391865,
          0.10849715474548641,
          0.10933995570770311,
          0.11016132603870424,
          0.11096038414708954,
          0.11173628719945748,
          0.11248823426867674,
          0.113215469299779,
          0.1139172838817542,
          0.11459301981496163,
          0.11524207146528795,
          0.11586388789760495,
          0.11645797478247444,
          0.11702389607140057,
          0.11756127543725674,
          0.11806979747776035,
          0.11854920868108146,
          0.11899931815378849,
          0.11941999811240311,
          0.11981118414080383,
          0.12017287521662595,
          0.12050513351062149,
          0.12080808396367908,
          0.12108191364687006,
          0.12132687091046335,
          0.12154326432837076,
          0.12173146144492132,
          0.12189188733124985,
          0.1220250229589022,
          0.12213140339853702,
          0.12221161585182862,
          0.12226629752486422,
          0.12229613335148824,
          0.12230185357517588,
          0.12228423119813224,
          0.12224407930641053,
          0.12218224827993161,
          0.12209962289637563,
          0.12199711933799443,
          0.1218756821104898,
          0.12173628088318413,
          0.12157990725981506,
          0.12140757148939037,
          0.12122029912664545,
          0.12101912765177068,
          0.12080510305919268,
          0.1205792764253215,
          0.12034270046529441,
          0.1200964260888714,
          0.11984149896574348,
          0.1195789561106175,
          0.11930982249851792,
          0.11903510772081356,
          0.11875580269250607,
          0.11847287642132266,
          0.1181872728491272,
          0.11789990777609279,
          0.11761166587796888,
          0.11732339782661559,
          0.11703591752377746,
          0.11674999945780844,
          0.1164663761927541,
          0.11618573599883734,
          0.11590872063297773,
          0.1156359232775124,
          0.11536788664476869,
          0.11510510125457282,
          0.11484800389117045,
          0.11459697624537932,
          0.11435234374710243,
          0.11411437459260441,
          0.11388327897019812,
          0.11365920848720597,
          0.11344225580026761,
          0.11323245445024976,
          0.11302977890220035,
          0.11283414478996863,
          0.11264540936430319,
          0.11246337214243643,
          0.11228777575637905,
          0.11211830699638785,
          0.11195459804533024,
          0.11179622789896897,
          0.11164272396651621,
          0.11149356384517876,
          0.11134817726182591,
          0.11120594817436655,
          0.11106621702491991,
          0.11092828313641481,
          0.11079140724384429,
          0.11065481415104048,
          0.1105176955035285,
          0.11037921266774288,
          0.11023849970667225,
          0.11009466644181205,
          0.10994680159116407,
          0.10979397597291515,
          0.10963524576435624,
          0.10946965580556149,
          0.10929624293733509,
          0.10911403936294847,
          0.10892207602322321,
          0.10871938597457415,
          0.10850500775969697,
          0.10827798876067823,
          0.10803738852440121,
          0.10778228205024276,
          0.10751176303017605,
          0.10722494703153303,
          0.10692097461282483,
          0.10659901436317536,
          0.1062582658560898,
          0.10589796250846086,
          0.10551737433590444,
          0.10511581059572668,
          0.10469262230905069,
          0.1042472046538693,
          0.10377899922106126,
          0.10328749612569758,
          0.10277223596627694,
          0.10223281162488275,
          0.10166886990162365,
          0.10108011297713947,
          0.10046629969739564,
          0.09982724667547903,
          0.0991628292056323,
          0.09847298198532424,
          0.09775769964176688,
          0.09701703705991983,
          0.09625110950972875,
          0.09546009257103685,
          0.09464422185539587,
          0.09380379252476818,
          0.09293915860794721,
          0.09205073211636122,
          0.0911389819617945,
          0.09020443267944471,
          0.08924766296061945,
          0.08826930400028836,
          0.08727003766558192,
          0.08625059449223514,
          0.08521175151682148,
          0.08415432995349134,
          0.08307919272472605,
          0.08198724185640426,
          0.08087941574820806,
          0.07975668633107272,
          0.07862005612400358,
          0.0774705552031379,
          0.07630923809641298,
          0.07513718061759779,
          0.07395547665378412,
          0.07276523492064789,
          0.07156757569996011,
          0.07036362757387261,
          0.06915452417045635,
          0.06794140093486413,
          0.06672539194023369,
          0.06550762675214936,
          0.06428922736006372,
          0.06307130518857873,
          0.06185495820091006,
          0.06064126810619254,
          0.0594312976815479,
          0.058226088219030636,
          0.05702665710670629,
          0.05583399555218118,
          0.054649066455956054,
          0.05347280244094772,
          0.052306104043506156,
          0.05114983807018275,
          0.05000483612344878,
          0.048871893298484195,
          0.047751767052095405,
          0.04664517624376897,
          0.04555280034783986,
          0.04447527883476407,
          0.04341321071851413,
          0.0423671542662282,
          0.041337626865365636,
          0.04032510504283943,
          0.03933002462985749,
          0.03835278106554138,
          0.03739372983180608,
          0.036453187011462794,
          0.03553142996107922,
          0.03462869808976995,
          0.03374519373482227,
          0.032881083124853924,
          0.032036497421102754,
          0.031211533827391096,
          0.030406256759355408,
          0.02962069906364006,
          0.028854863277919814,
          0.028108722922872965,
          0.027382223817509557,
          0.026675285409623297,
          0.025987802113531848,
          0.02531964464771835,
          0.024670661365461886,
          0.024040679572061335,
          0.023429506822789336,
          0.022836932196266323,
          0.022262727538514018,
          0.02170664867351128,
          0.02116843657665944,
          0.020647818508119985,
          0.02014450910355303,
          0.019658211420324086,
          0.01918861793777098,
          0.018735411510626007,
          0.018298266275156558,
          0.017876848508041856,
          0.017470817438406304,
          0.01707982601381829,
          0.016703521621397818,
          0.016341546765492564,
          0.015993539703642815,
          0.015659135042793995,
          0.015337964297906981,
          0.015029656415275296,
          0.014733838262981332,
          0.01445013509100901,
          0.014178170963587698,
          0.01391756916636296,
          0.01366795259098627,
          0.013428944099678892,
          0.01320016687227223,
          0.012981244738141096,
          0.01277180249534914,
          0.012571466219206821,
          0.01237986356230641,
          0.012196624047956139,
          0.012021379358774752,
          0.011853763622045222,
          0.011693413693254289,
          0.011539969439068938,
          0.01139307402082426,
          0.011252374179418266,
          0.01111752052233375,
          0.01098816781333113,
          0.010863975265188586,
          0.010744606835697492,
          0.01062973152696434,
          0.010519023687915647,
          0.010412163319758649,
          0.0103088363840125,
          0.010208735112596547,
          0.010111558319342209,
          0.010017011712184136,
          0.00992480820518551,
          0.009834668229458998,
          0.009746320041964027,
          0.009659500031085701,
          0.009573953017839266,
          0.009489432551487563,
          0.009405701198315337,
          0.0093225308222678,
          0.009239702856134306,
          0.009157008561941104,
          0.009074249279207315,
          0.00899123665972079,
          0.008907792887497714,
          0.008823750882609921,
          0.008738954487589158,
          0.008653258635154442,
          0.008566529496052171,
          0.008478644605850547,
          0.008389492969592302,
          0.008298975143276799,
          0.008207003291220757,
          0.008113501218430425,
          0.008018404377210523,
          0.007921659847333144,
          0.007823226289195875,
          0.00772307386950922,
          0.007621184159170217,
          0.007517550003101452,
          0.0074121753619591085,
          0.007305075125745049,
          0.007196274899487645,
          0.00708581076129155,
          0.006973728993189766,
          0.006860085785366398,
          0.006744946914451336,
          0.0066283873967189965,
          0.006510491117151019,
          0.006391350435445948,
          0.006271065770177357,
          0.006149745162412751,
          0.006027503820210479,
          0.005904463645507473,
          0.005780752744997186,
          0.005656504926674742,
          0.005531859183790491,
          0.005406959168010519,
          0.0052819526536231065,
          0.005156990994662588,
          0.00503222857683949,
          0.004907822266172605,
          0.004783930856210194,
          0.004660714515710961,
          0.004538334238621881,
          0.004416951298148755,
          0.004296726706661663,
          0.004177820683111959,
          0.004060392129566428,
          0.003944598118379771,
          0.003830593391438775,
          0.0037185298728148195,
          0.0036085561960612755,
          0.003500817247286024,
          0.003395453725024071,
          0.003292601717824509,
          0.0031923923003586746,
          0.0030949511487492285,
          0.003000398175713891,
          0.002908847186018875,
          0.0028204055526391126,
          0.002735173913933861,
          0.0026532458920626605,
          0.002574707832791459,
          0.002499638566771582,
          0.0024281091923165172,
          0.0023601828796518723,
          0.0022959146965749137,
          0.0022353514554298982,
          0.002178531581283824,
          0.002125485001176452,
          0.0020762330543136615,
          0.0020307884230782143,
          0.0019891550847431043,
          0.001951328283789443,
          0.0019172945247536797,
          0.0018870315855546175,
          0.0018605085512792376,
          0.0018376858684361114,
          0.0018185154197151456,
          0.001802940619319626,
          0.001790896528962385,
          0.0017823099946378891,
          0.0017770998042972448,
          0.0017751768665609181,
          0.0017764444106035291,
          0.0017807982073356388,
          0.0017881268119874741,
          0.001798311828168791,
          0.0018112281934366628,
          0.0018267444863484168,
          0.0018447232549102905,
          0.0018650213662532824,
          0.0018874903772763997,
          0.001911976925894887,
          0.0019383231424166135,
          0.0019663670804460015,
          0.0019959431665809565,
          0.0020268826680271165,
          0.002059014177105418,
          0.0020921641114760134,
          0.0021261572287452086,
          0.0021608171539642704,
          0.0021959669183718514,
          0.0022314295075768972,
          0.002267028417229477,
          0.002302588214082913,
          0.002337935100217448,
          0.002372897478071378,
          0.0024073065138157314,
          0.0024409966965131366,
          0.0024738063904222903,
          0.002505578377749411,
          0.0025361603891067546,
          0.0025654056189186856,
          0.0025931732230179937,
          0.0026193287957000187,
          0.0026437448235505294,
          0.002666301113435447,
          0.002686885192135904,
          0.002705392675231237,
          0.0027217276029745186,
          0.002735802741068675,
          0.0027475398444363366,
          0.0027568698822806577,
          0.002763733222956615,
          0.0027680797774107726,
          0.002769869100199904
         ],
         "yaxis": "y"
        },
        {
         "legendgroup": "Chinstrap",
         "marker": {
          "color": "rgb(44, 160, 44)"
         },
         "mode": "lines",
         "name": "Chinstrap",
         "showlegend": false,
         "type": "scatter",
         "x": [
          40.9,
          40.9342,
          40.968399999999995,
          41.0026,
          41.0368,
          41.071,
          41.105199999999996,
          41.1394,
          41.1736,
          41.2078,
          41.242,
          41.276199999999996,
          41.3104,
          41.3446,
          41.3788,
          41.413,
          41.447199999999995,
          41.4814,
          41.5156,
          41.5498,
          41.583999999999996,
          41.6182,
          41.6524,
          41.6866,
          41.7208,
          41.754999999999995,
          41.7892,
          41.8234,
          41.8576,
          41.891799999999996,
          41.926,
          41.9602,
          41.9944,
          42.0286,
          42.062799999999996,
          42.097,
          42.1312,
          42.1654,
          42.1996,
          42.2338,
          42.268,
          42.3022,
          42.3364,
          42.370599999999996,
          42.4048,
          42.439,
          42.4732,
          42.5074,
          42.541599999999995,
          42.5758,
          42.61,
          42.6442,
          42.678399999999996,
          42.7126,
          42.7468,
          42.781,
          42.8152,
          42.849399999999996,
          42.8836,
          42.9178,
          42.952,
          42.9862,
          43.020399999999995,
          43.0546,
          43.0888,
          43.123,
          43.157199999999996,
          43.1914,
          43.2256,
          43.2598,
          43.294,
          43.328199999999995,
          43.3624,
          43.3966,
          43.4308,
          43.464999999999996,
          43.4992,
          43.5334,
          43.5676,
          43.6018,
          43.635999999999996,
          43.6702,
          43.7044,
          43.7386,
          43.7728,
          43.807,
          43.8412,
          43.8754,
          43.9096,
          43.943799999999996,
          43.978,
          44.0122,
          44.0464,
          44.0806,
          44.1148,
          44.149,
          44.1832,
          44.2174,
          44.251599999999996,
          44.2858,
          44.32,
          44.3542,
          44.3884,
          44.422599999999996,
          44.4568,
          44.491,
          44.5252,
          44.5594,
          44.5936,
          44.6278,
          44.662,
          44.6962,
          44.730399999999996,
          44.7646,
          44.7988,
          44.833,
          44.8672,
          44.901399999999995,
          44.9356,
          44.9698,
          45.004,
          45.038199999999996,
          45.0724,
          45.1066,
          45.1408,
          45.175,
          45.209199999999996,
          45.2434,
          45.2776,
          45.3118,
          45.346,
          45.3802,
          45.4144,
          45.4486,
          45.4828,
          45.516999999999996,
          45.5512,
          45.5854,
          45.6196,
          45.6538,
          45.688,
          45.7222,
          45.7564,
          45.7906,
          45.824799999999996,
          45.858999999999995,
          45.8932,
          45.9274,
          45.9616,
          45.9958,
          46.03,
          46.0642,
          46.0984,
          46.1326,
          46.166799999999995,
          46.201,
          46.2352,
          46.2694,
          46.303599999999996,
          46.3378,
          46.372,
          46.4062,
          46.4404,
          46.474599999999995,
          46.5088,
          46.543,
          46.5772,
          46.611399999999996,
          46.6456,
          46.6798,
          46.714,
          46.7482,
          46.782399999999996,
          46.8166,
          46.8508,
          46.885,
          46.9192,
          46.9534,
          46.9876,
          47.0218,
          47.056,
          47.090199999999996,
          47.1244,
          47.1586,
          47.1928,
          47.227,
          47.2612,
          47.2954,
          47.3296,
          47.3638,
          47.397999999999996,
          47.4322,
          47.4664,
          47.5006,
          47.5348,
          47.569,
          47.6032,
          47.6374,
          47.6716,
          47.705799999999996,
          47.74,
          47.7742,
          47.8084,
          47.8426,
          47.876799999999996,
          47.911,
          47.9452,
          47.9794,
          48.0136,
          48.047799999999995,
          48.082,
          48.1162,
          48.1504,
          48.184599999999996,
          48.2188,
          48.253,
          48.2872,
          48.3214,
          48.355599999999995,
          48.3898,
          48.424,
          48.4582,
          48.492399999999996,
          48.5266,
          48.5608,
          48.595,
          48.6292,
          48.663399999999996,
          48.6976,
          48.7318,
          48.766,
          48.8002,
          48.8344,
          48.8686,
          48.9028,
          48.937,
          48.971199999999996,
          49.0054,
          49.0396,
          49.0738,
          49.108,
          49.1422,
          49.1764,
          49.2106,
          49.2448,
          49.278999999999996,
          49.3132,
          49.3474,
          49.3816,
          49.4158,
          49.45,
          49.4842,
          49.5184,
          49.5526,
          49.5868,
          49.620999999999995,
          49.6552,
          49.6894,
          49.7236,
          49.7578,
          49.792,
          49.8262,
          49.8604,
          49.8946,
          49.928799999999995,
          49.963,
          49.9972,
          50.0314,
          50.065599999999996,
          50.0998,
          50.134,
          50.1682,
          50.2024,
          50.236599999999996,
          50.2708,
          50.305,
          50.3392,
          50.373400000000004,
          50.4076,
          50.4418,
          50.476,
          50.5102,
          50.544399999999996,
          50.5786,
          50.6128,
          50.647,
          50.6812,
          50.7154,
          50.7496,
          50.7838,
          50.818,
          50.852199999999996,
          50.8864,
          50.9206,
          50.9548,
          50.989,
          51.0232,
          51.0574,
          51.0916,
          51.1258,
          51.16,
          51.194199999999995,
          51.2284,
          51.2626,
          51.2968,
          51.330999999999996,
          51.3652,
          51.3994,
          51.4336,
          51.4678,
          51.501999999999995,
          51.5362,
          51.5704,
          51.6046,
          51.6388,
          51.673,
          51.7072,
          51.7414,
          51.7756,
          51.809799999999996,
          51.844,
          51.8782,
          51.9124,
          51.9466,
          51.9808,
          52.015,
          52.0492,
          52.0834,
          52.117599999999996,
          52.1518,
          52.186,
          52.2202,
          52.254400000000004,
          52.2886,
          52.3228,
          52.357,
          52.3912,
          52.425399999999996,
          52.459599999999995,
          52.4938,
          52.528,
          52.5622,
          52.5964,
          52.6306,
          52.6648,
          52.699,
          52.7332,
          52.7674,
          52.8016,
          52.8358,
          52.870000000000005,
          52.9042,
          52.9384,
          52.9726,
          53.0068,
          53.041,
          53.075199999999995,
          53.1094,
          53.1436,
          53.1778,
          53.212,
          53.2462,
          53.2804,
          53.3146,
          53.3488,
          53.383,
          53.4172,
          53.4514,
          53.4856,
          53.519800000000004,
          53.554,
          53.5882,
          53.6224,
          53.6566,
          53.690799999999996,
          53.725,
          53.7592,
          53.7934,
          53.8276,
          53.8618,
          53.896,
          53.9302,
          53.9644,
          53.998599999999996,
          54.0328,
          54.067,
          54.1012,
          54.135400000000004,
          54.1696,
          54.2038,
          54.238,
          54.2722,
          54.3064,
          54.340599999999995,
          54.3748,
          54.409,
          54.4432,
          54.4774,
          54.5116,
          54.5458,
          54.58,
          54.6142,
          54.6484,
          54.6826,
          54.7168,
          54.751000000000005,
          54.7852,
          54.8194,
          54.8536,
          54.8878,
          54.922,
          54.956199999999995,
          54.9904,
          55.0246,
          55.0588,
          55.093,
          55.1272,
          55.1614,
          55.1956,
          55.2298,
          55.264,
          55.2982,
          55.3324,
          55.3666,
          55.400800000000004,
          55.435,
          55.4692,
          55.5034,
          55.5376,
          55.571799999999996,
          55.606,
          55.6402,
          55.6744,
          55.7086,
          55.7428,
          55.777,
          55.8112,
          55.8454,
          55.879599999999996,
          55.9138,
          55.948,
          55.9822,
          56.016400000000004,
          56.0506,
          56.0848,
          56.119,
          56.1532,
          56.1874,
          56.2216,
          56.2558,
          56.29,
          56.3242,
          56.3584,
          56.3926,
          56.4268,
          56.461,
          56.4952,
          56.5294,
          56.5636,
          56.5978,
          56.632,
          56.6662,
          56.7004,
          56.7346,
          56.7688,
          56.803,
          56.837199999999996,
          56.8714,
          56.9056,
          56.9398,
          56.974000000000004,
          57.0082,
          57.0424,
          57.0766,
          57.1108,
          57.144999999999996,
          57.179199999999994,
          57.2134,
          57.247600000000006,
          57.281800000000004,
          57.316,
          57.3502,
          57.3844,
          57.4186,
          57.452799999999996,
          57.486999999999995,
          57.5212,
          57.5554,
          57.589600000000004,
          57.6238,
          57.658,
          57.6922,
          57.7264,
          57.7606,
          57.7948,
          57.82899999999999,
          57.8632,
          57.897400000000005,
          57.9316,
          57.9658
         ],
         "xaxis": "x",
         "y": [
          0.013007639800816225,
          0.0132794389342845,
          0.013552827930310473,
          0.013827696924626251,
          0.014103934983361953,
          0.014381430409495133,
          0.014660071066594194,
          0.014939744719570526,
          0.015220339392058932,
          0.015501743739950053,
          0.015783847440496178,
          0.016066541596311847,
          0.01634971915348341,
          0.01663327533289605,
          0.016917108073780017,
          0.017201118488368052,
          0.01748521132644849,
          0.017769295448492255,
          0.01805328430592313,
          0.0183370964269994,
          0.018620655906670277,
          0.018903892898673842,
          0.019186744108048246,
          0.019469153282137646,
          0.0197510716980894,
          0.020032458644760817,
          0.020313281896881613,
          0.02059351817925229,
          0.020873153618704076,
          0.02115218418149489,
          0.021430616093778918,
          0.021708466242756578,
          0.02198576255609341,
          0.022262544357186928,
          0.022538862693863706,
          0.022814780638103722,
          0.023090373554413908,
          0.023365729334512874,
          0.02364094859603781,
          0.02391614484304951,
          0.024191444586187244,
          0.024466987420413807,
          0.024742926058393244,
          0.025019426317657852,
          0.025296667059848787,
          0.02557484008045174,
          0.025854149947603808,
          0.02613481378870639,
          0.026417061023755996,
          0.026701133044487922,
          0.026987282838621715,
          0.027275774558704304,
          0.027566883035254144,
          0.02786089323413566,
          0.02815809965831692,
          0.02845880569439901,
          0.028763322904543392,
          0.02907197026466767,
          0.029385073350024563,
          0.029702963469528866,
          0.030025976750445483,
          0.03035445317529946,
          0.03068873557311827,
          0.031029168567359645,
          0.03137609748312026,
          0.03172986721645644,
          0.03209082106887711,
          0.03245929955029188,
          0.032835639153911036,
          0.03322017110679819,
          0.03361322009996726,
          0.03401510300209944,
          0.034426127561120574,
          0.03484659109803425,
          0.03527677919754394,
          0.03571696440011971,
          0.03616740490026909,
          0.036628343255861645,
          0.037100005113423824,
          0.03758259795437025,
          0.038076309867170255,
          0.038581308350454764,
          0.03909773915206225,
          0.03962572514898812,
          0.040165365273150386,
          0.040716733487810956,
          0.04127987781939703,
          0.041854819449352376,
          0.04244155187050772,
          0.0430400401123076,
          0.04365022003904864,
          0.04427199772508902,
          0.044905248910773146,
          0.045549818542577926,
          0.04620552040073628,
          0.04687213681732394,
          0.047549418487509654,
          0.04823708437636754,
          0.04893482172333857,
          0.049642286146098655,
          0.050359101845255105,
          0.051084861910944857,
          0.051819128732048504,
          0.05256143450837393,
          0.05331128186579207,
          0.05406814457393031,
          0.05483146836565983,
          0.055600671857225815,
          0.05637514756749957,
          0.05715426303445079,
          0.057937362026571064,
          0.05872376584660677,
          0.05951277472460367,
          0.06030366929691305,
          0.061095712167463054,
          0.061888149547273306,
          0.06268021296786674,
          0.06347112106393057,
          0.06426008142028966,
          0.06504629247797983,
          0.06582894549395699,
          0.06660722654873744,
          0.06738031859605292,
          0.06814740354840305,
          0.06890766439222047,
          0.06966028732620572,
          0.07040446391626477,
          0.07113939326037758,
          0.07186428415664076,
          0.07257835726768155,
          0.07328084727459518,
          0.07397100501356549,
          0.0746480995883372,
          0.07531142045175983,
          0.07596027944968384,
          0.07659401282059161,
          0.07721198314445524,
          0.07781358123445974,
          0.07839822796539216,
          0.07896537603268268,
          0.07951451163629514,
          0.08004515608388911,
          0.08055686730793164,
          0.08104924129169581,
          0.08152191339937714,
          0.08197455960585741,
          0.08240689762196436,
          0.08281868791140684,
          0.08320973459591387,
          0.08357988624545809,
          0.08392903655081271,
          0.08425712487607033,
          0.08456413668912681,
          0.08485010386853044,
          0.08511510488548311,
          0.08535926486017971,
          0.08558275549206638,
          0.08578579486399705,
          0.08596864712066082,
          0.08613162202204584,
          0.08627507437309213,
          0.08639940333106853,
          0.08650505159258005,
          0.08659250446248185,
          0.08666228880732821,
          0.0867149718963307,
          0.08675116013313365,
          0.08677149768203153,
          0.08677666499256097,
          0.08676737722668598,
          0.08674438259307365,
          0.08670846059320811,
          0.0866604201843356,
          0.0866010978644489,
          0.08653135568472572,
          0.08645207919501495,
          0.08636417532812854,
          0.08626857022884084,
          0.08616620703361724,
          0.08605804360719778,
          0.08594505024224258,
          0.08582820732830664,
          0.08570850299645226,
          0.08558693074582877,
          0.0854644870585468,
          0.08534216900916017,
          0.0852209718750245,
          0.0851018867537478,
          0.08498589819387074,
          0.08487398184482338,
          0.08476710213209125,
          0.08466620996339835,
          0.0845722404715742,
          0.08448611079960835,
          0.0844087179332315,
          0.08434093658617164,
          0.08428361714303809,
          0.0842375836645784,
          0.084203631959832,
          0.08418252772947533,
          0.08417500478441714,
          0.0841817633434546,
          0.08420346841355027,
          0.08424074825603162,
          0.08429419294175047,
          0.08436435299797578,
          0.08445173814952026,
          0.08455681615633137,
          0.08468001174950493,
          0.08482170566740477,
          0.08498223379330087,
          0.08516188639566727,
          0.08536090747201121,
          0.08557949419684235,
          0.08581779647412467,
          0.08607591659429983,
          0.08635390899571861,
          0.08665178013006562,
          0.08696948843112957,
          0.08730694438603132,
          0.08766401070779949,
          0.08804050260796385,
          0.08843618816762598,
          0.08885078880526458,
          0.08928397983934012,
          0.08973539114358163,
          0.09020460789265729,
          0.090691171395772,
          0.09119458001557436,
          0.09171429016961165,
          0.09224971741143534,
          0.09280023758832867,
          0.0933651880725163,
          0.09394386906260513,
          0.09453554495190865,
          0.09513944576021835,
          0.0957547686255082,
          0.0963806793519867,
          0.09701631401085233,
          0.09766078059005431,
          0.09831316068932085,
          0.09897251125667805,
          0.09963786636266105,
          0.10030823900839647,
          0.10098262296372766,
          0.1016599946315485,
          0.10233931493451771,
          0.10301953122033433,
          0.10369957918177493,
          0.1043783847877137,
          0.10505486622138163,
          0.10572793582214866,
          0.10639650202716702,
          0.10705947130924369,
          0.10771575010737888,
          0.10836424674645245,
          0.10900387334260661,
          0.10963354769093761,
          0.11025219513218268,
          0.1108587503951537,
          0.11145215941175901,
          0.11203138110152847,
          0.11259538912264178,
          0.11314317358655475,
          0.11367374273340192,
          0.11418612456545614,
          0.11467936843601814,
          0.11515254659121235,
          0.11560475566226706,
          0.11603511810596409,
          0.11644278359104929,
          0.11682693032851062,
          0.11718676634373582,
          0.11752153068868476,
          0.1178304945923245,
          0.11811296254769257,
          0.11836827333408297,
          0.11859580097296109,
          0.1187949556163489,
          0.11896518436654109,
          0.11910597202614343,
          0.11921684177755314,
          0.11929735579113136,
          0.11934711576144874,
          0.1193657633711183,
          0.11935298068186122,
          0.11930849045258712,
          0.11923205638440292,
          0.1191234832925986,
          0.11898261720579441,
          0.11880934539256582,
          0.11860359631599966,
          0.11836533951676506,
          0.11809458542541781,
          0.11779138510478661,
          0.11745582992342202,
          0.11708805116121435,
          0.11668821954841754,
          0.11625654473943638,
          0.11579327472285997,
          0.11529869516934325,
          0.11477312871905317,
          0.11421693421051152,
          0.11363050585277515,
          0.11301427234299903,
          0.11236869593153037,
          0.11169427143678266,
          0.11099152521222169,
          0.11026101406789081,
          0.10950332414898462,
          0.10871906977405153,
          0.10790889223547871,
          0.10707345856498426,
          0.10621346026688233,
          0.10532961202196142,
          0.10442265036484162,
          0.10349333233772569,
          0.10254243412348735,
          0.10157074966106158,
          0.10057908924612234,
          0.0995682781200398,
          0.0985391550501118,
          0.09749257090405891,
          0.09642938722175819,
          0.09535047478717229,
          0.09425671220339912,
          0.09314898447373585,
          0.09202818159160359,
          0.09089519714213398,
          0.08975092691815738,
          0.08859626755327106,
          0.0874321151745946,
          0.0862593640777419,
          0.08507890542645787,
          0.08389162597927335,
          0.08269840684544552,
          0.08150012227234134,
          0.08029763846632573,
          0.079091812449096,
          0.0778834909512987,
          0.07667350934514527,
          0.07546269061761197,
          0.07425184438570556,
          0.07304176595512528,
          0.07183323542353719,
          0.07062701682954553,
          0.06942385734830697,
          0.06822448653460272,
          0.0670296156140591,
          0.06583993682305363,
          0.06465612279773575,
          0.06347882601243987,
          0.06230867826764858,
          0.06114629022753132,
          0.05999225100695958,
          0.05884712780777487,
          0.05771146560396636,
          0.05658578687529743,
          0.05547059138880726,
          0.05436635602750484,
          0.05327353466546791,
          0.05219255808845872,
          0.05112383395907498,
          0.05006774682536241,
          0.04902465817173218,
          0.04799490651094761,
          0.04697880751586998,
          0.04597665418958714,
          0.04498871707248593,
          0.044015244484774736,
          0.04305646280291318,
          0.04211257676835863,
          0.04118376982700809,
          0.04027020449767838,
          0.0393720227679395,
          0.03848934651560113,
          0.037622277954136626,
          0.03677090010031333,
          0.035935277262309724,
          0.03511545554658275,
          0.034311463381772045,
          0.03352331205792675,
          0.032750996279368096,
          0.03199449472951048,
          0.031253770645998366,
          0.03052877240453709,
          0.029819434109830324,
          0.029125676192076663,
          0.028447406007508894,
          0.027784518441506215,
          0.02713689651285133,
          0.02650441197775118,
          0.025886925932287804,
          0.025284289412016648,
          0.024696343987478775,
          0.02412292235445216,
          0.023563848917810493,
          0.02301894036792544,
          0.022488006248593585,
          0.021970849515530407,
          0.021467267084527755,
          0.020977050368428434,
          0.02049998580212715,
          0.020035855354863432,
          0.01958443702912767,
          0.019145505345556684,
          0.01871883181325072,
          0.018304185384995512,
          0.017901332896929984,
          0.017510039492250877,
          0.01713006902859583,
          0.016761184468800764,
          0.016403148254774916,
          0.01605572266428728,
          0.01571867015050387,
          0.015391753664167092,
          0.015074736958348772,
          0.014767384875756542,
          0.014469463618617947,
          0.01418074100120635,
          0.013900986685118013,
          0.013629972397447229,
          0.013367472132047444,
          0.013113262334105511,
          0.012867122068291605,
          0.012628833170784491,
          0.012398180385506758,
          0.012174951484937807,
          0.011958937375905124,
          0.011749932190785382,
          0.01154773336457605,
          0.011352141698328308,
          0.011162961409455373,
          0.010980000169459957,
          0.010803069129644788,
          0.010631982935393882,
          0.010466559729631923,
          0.01030662114608781,
          0.010151992293004694,
          0.010002501727953663,
          0.009857981424420447,
          0.00971826673084519,
          0.009583196322803222,
          0.009452612149021081,
          0.009326359371924489,
          0.009204286303418326,
          0.009086244336594622,
          0.008972087874062952,
          0.008861674253590298,
          0.00875486367172895,
          0.008651519106098945,
          0.00855150623697906,
          0.008454693368841736,
          0.008360951352450205,
          0.0082701535081131,
          0.008182175550668795,
          0.008096895516745065,
          0.00801419369481064,
          0.007933952558505165,
          0.00785605670370046,
          0.0077803927897120515,
          0.007706849485042283,
          0.007635317417999404,
          0.007565689132495802,
          0.007497859049289204,
          0.0074317234328874875,
          0.007367180364295364,
          0.007304129719737351,
          0.0072424731554481024,
          0.007182114098575693,
          0.007122957744200826,
          0.007064911058429852,
          0.0070078827874765545,
          0.006951783472605051,
          0.006896525470764293,
          0.006842022980704364,
          0.006788192074325655,
          0.006734950732974857,
          0.0066822188883661066,
          0.00662991846777247,
          0.006577973443101744,
          0.006526309883442245,
          0.006474856010638351,
          0.006423542257432074,
          0.006372301327687456,
          0.0063210682581968675,
          0.00626978048155478,
          0.006218377889573623,
          0.006166802896708972,
          0.006115000502957383,
          0.006062918355689017,
          0.0060105068098805165,
          0.00595771898621861,
          0.005904510826554971,
          0.005850841146204547,
          0.005796671682595622,
          0.005741967139797681,
          0.005686695228475682,
          0.005630826700841947,
          0.005574335380204866
         ],
         "yaxis": "y"
        }
       ],
       "layout": {
        "barmode": "overlay",
        "hovermode": "closest",
        "legend": {
         "traceorder": "reversed"
        },
        "shapes": [
         {
          "line": {
           "color": "black",
           "dash": "dot",
           "width": 3
          },
          "type": "line",
          "x0": 50,
          "x1": 50,
          "y0": 0,
          "y1": 0.16
         }
        ],
        "template": {
         "data": {
          "bar": [
           {
            "error_x": {
             "color": "#2a3f5f"
            },
            "error_y": {
             "color": "#2a3f5f"
            },
            "marker": {
             "line": {
              "color": "#E5ECF6",
              "width": 0.5
             },
             "pattern": {
              "fillmode": "overlay",
              "size": 10,
              "solidity": 0.2
             }
            },
            "type": "bar"
           }
          ],
          "barpolar": [
           {
            "marker": {
             "line": {
              "color": "#E5ECF6",
              "width": 0.5
             },
             "pattern": {
              "fillmode": "overlay",
              "size": 10,
              "solidity": 0.2
             }
            },
            "type": "barpolar"
           }
          ],
          "carpet": [
           {
            "aaxis": {
             "endlinecolor": "#2a3f5f",
             "gridcolor": "white",
             "linecolor": "white",
             "minorgridcolor": "white",
             "startlinecolor": "#2a3f5f"
            },
            "baxis": {
             "endlinecolor": "#2a3f5f",
             "gridcolor": "white",
             "linecolor": "white",
             "minorgridcolor": "white",
             "startlinecolor": "#2a3f5f"
            },
            "type": "carpet"
           }
          ],
          "choropleth": [
           {
            "colorbar": {
             "outlinewidth": 0,
             "ticks": ""
            },
            "type": "choropleth"
           }
          ],
          "contour": [
           {
            "colorbar": {
             "outlinewidth": 0,
             "ticks": ""
            },
            "colorscale": [
             [
              0,
              "#0d0887"
             ],
             [
              0.1111111111111111,
              "#46039f"
             ],
             [
              0.2222222222222222,
              "#7201a8"
             ],
             [
              0.3333333333333333,
              "#9c179e"
             ],
             [
              0.4444444444444444,
              "#bd3786"
             ],
             [
              0.5555555555555556,
              "#d8576b"
             ],
             [
              0.6666666666666666,
              "#ed7953"
             ],
             [
              0.7777777777777778,
              "#fb9f3a"
             ],
             [
              0.8888888888888888,
              "#fdca26"
             ],
             [
              1,
              "#f0f921"
             ]
            ],
            "type": "contour"
           }
          ],
          "contourcarpet": [
           {
            "colorbar": {
             "outlinewidth": 0,
             "ticks": ""
            },
            "type": "contourcarpet"
           }
          ],
          "heatmap": [
           {
            "colorbar": {
             "outlinewidth": 0,
             "ticks": ""
            },
            "colorscale": [
             [
              0,
              "#0d0887"
             ],
             [
              0.1111111111111111,
              "#46039f"
             ],
             [
              0.2222222222222222,
              "#7201a8"
             ],
             [
              0.3333333333333333,
              "#9c179e"
             ],
             [
              0.4444444444444444,
              "#bd3786"
             ],
             [
              0.5555555555555556,
              "#d8576b"
             ],
             [
              0.6666666666666666,
              "#ed7953"
             ],
             [
              0.7777777777777778,
              "#fb9f3a"
             ],
             [
              0.8888888888888888,
              "#fdca26"
             ],
             [
              1,
              "#f0f921"
             ]
            ],
            "type": "heatmap"
           }
          ],
          "heatmapgl": [
           {
            "colorbar": {
             "outlinewidth": 0,
             "ticks": ""
            },
            "colorscale": [
             [
              0,
              "#0d0887"
             ],
             [
              0.1111111111111111,
              "#46039f"
             ],
             [
              0.2222222222222222,
              "#7201a8"
             ],
             [
              0.3333333333333333,
              "#9c179e"
             ],
             [
              0.4444444444444444,
              "#bd3786"
             ],
             [
              0.5555555555555556,
              "#d8576b"
             ],
             [
              0.6666666666666666,
              "#ed7953"
             ],
             [
              0.7777777777777778,
              "#fb9f3a"
             ],
             [
              0.8888888888888888,
              "#fdca26"
             ],
             [
              1,
              "#f0f921"
             ]
            ],
            "type": "heatmapgl"
           }
          ],
          "histogram": [
           {
            "marker": {
             "pattern": {
              "fillmode": "overlay",
              "size": 10,
              "solidity": 0.2
             }
            },
            "type": "histogram"
           }
          ],
          "histogram2d": [
           {
            "colorbar": {
             "outlinewidth": 0,
             "ticks": ""
            },
            "colorscale": [
             [
              0,
              "#0d0887"
             ],
             [
              0.1111111111111111,
              "#46039f"
             ],
             [
              0.2222222222222222,
              "#7201a8"
             ],
             [
              0.3333333333333333,
              "#9c179e"
             ],
             [
              0.4444444444444444,
              "#bd3786"
             ],
             [
              0.5555555555555556,
              "#d8576b"
             ],
             [
              0.6666666666666666,
              "#ed7953"
             ],
             [
              0.7777777777777778,
              "#fb9f3a"
             ],
             [
              0.8888888888888888,
              "#fdca26"
             ],
             [
              1,
              "#f0f921"
             ]
            ],
            "type": "histogram2d"
           }
          ],
          "histogram2dcontour": [
           {
            "colorbar": {
             "outlinewidth": 0,
             "ticks": ""
            },
            "colorscale": [
             [
              0,
              "#0d0887"
             ],
             [
              0.1111111111111111,
              "#46039f"
             ],
             [
              0.2222222222222222,
              "#7201a8"
             ],
             [
              0.3333333333333333,
              "#9c179e"
             ],
             [
              0.4444444444444444,
              "#bd3786"
             ],
             [
              0.5555555555555556,
              "#d8576b"
             ],
             [
              0.6666666666666666,
              "#ed7953"
             ],
             [
              0.7777777777777778,
              "#fb9f3a"
             ],
             [
              0.8888888888888888,
              "#fdca26"
             ],
             [
              1,
              "#f0f921"
             ]
            ],
            "type": "histogram2dcontour"
           }
          ],
          "mesh3d": [
           {
            "colorbar": {
             "outlinewidth": 0,
             "ticks": ""
            },
            "type": "mesh3d"
           }
          ],
          "parcoords": [
           {
            "line": {
             "colorbar": {
              "outlinewidth": 0,
              "ticks": ""
             }
            },
            "type": "parcoords"
           }
          ],
          "pie": [
           {
            "automargin": true,
            "type": "pie"
           }
          ],
          "scatter": [
           {
            "marker": {
             "colorbar": {
              "outlinewidth": 0,
              "ticks": ""
             }
            },
            "type": "scatter"
           }
          ],
          "scatter3d": [
           {
            "line": {
             "colorbar": {
              "outlinewidth": 0,
              "ticks": ""
             }
            },
            "marker": {
             "colorbar": {
              "outlinewidth": 0,
              "ticks": ""
             }
            },
            "type": "scatter3d"
           }
          ],
          "scattercarpet": [
           {
            "marker": {
             "colorbar": {
              "outlinewidth": 0,
              "ticks": ""
             }
            },
            "type": "scattercarpet"
           }
          ],
          "scattergeo": [
           {
            "marker": {
             "colorbar": {
              "outlinewidth": 0,
              "ticks": ""
             }
            },
            "type": "scattergeo"
           }
          ],
          "scattergl": [
           {
            "marker": {
             "colorbar": {
              "outlinewidth": 0,
              "ticks": ""
             }
            },
            "type": "scattergl"
           }
          ],
          "scattermapbox": [
           {
            "marker": {
             "colorbar": {
              "outlinewidth": 0,
              "ticks": ""
             }
            },
            "type": "scattermapbox"
           }
          ],
          "scatterpolar": [
           {
            "marker": {
             "colorbar": {
              "outlinewidth": 0,
              "ticks": ""
             }
            },
            "type": "scatterpolar"
           }
          ],
          "scatterpolargl": [
           {
            "marker": {
             "colorbar": {
              "outlinewidth": 0,
              "ticks": ""
             }
            },
            "type": "scatterpolargl"
           }
          ],
          "scatterternary": [
           {
            "marker": {
             "colorbar": {
              "outlinewidth": 0,
              "ticks": ""
             }
            },
            "type": "scatterternary"
           }
          ],
          "surface": [
           {
            "colorbar": {
             "outlinewidth": 0,
             "ticks": ""
            },
            "colorscale": [
             [
              0,
              "#0d0887"
             ],
             [
              0.1111111111111111,
              "#46039f"
             ],
             [
              0.2222222222222222,
              "#7201a8"
             ],
             [
              0.3333333333333333,
              "#9c179e"
             ],
             [
              0.4444444444444444,
              "#bd3786"
             ],
             [
              0.5555555555555556,
              "#d8576b"
             ],
             [
              0.6666666666666666,
              "#ed7953"
             ],
             [
              0.7777777777777778,
              "#fb9f3a"
             ],
             [
              0.8888888888888888,
              "#fdca26"
             ],
             [
              1,
              "#f0f921"
             ]
            ],
            "type": "surface"
           }
          ],
          "table": [
           {
            "cells": {
             "fill": {
              "color": "#EBF0F8"
             },
             "line": {
              "color": "white"
             }
            },
            "header": {
             "fill": {
              "color": "#C8D4E3"
             },
             "line": {
              "color": "white"
             }
            },
            "type": "table"
           }
          ]
         },
         "layout": {
          "annotationdefaults": {
           "arrowcolor": "#2a3f5f",
           "arrowhead": 0,
           "arrowwidth": 1
          },
          "autotypenumbers": "strict",
          "coloraxis": {
           "colorbar": {
            "outlinewidth": 0,
            "ticks": ""
           }
          },
          "colorscale": {
           "diverging": [
            [
             0,
             "#8e0152"
            ],
            [
             0.1,
             "#c51b7d"
            ],
            [
             0.2,
             "#de77ae"
            ],
            [
             0.3,
             "#f1b6da"
            ],
            [
             0.4,
             "#fde0ef"
            ],
            [
             0.5,
             "#f7f7f7"
            ],
            [
             0.6,
             "#e6f5d0"
            ],
            [
             0.7,
             "#b8e186"
            ],
            [
             0.8,
             "#7fbc41"
            ],
            [
             0.9,
             "#4d9221"
            ],
            [
             1,
             "#276419"
            ]
           ],
           "sequential": [
            [
             0,
             "#0d0887"
            ],
            [
             0.1111111111111111,
             "#46039f"
            ],
            [
             0.2222222222222222,
             "#7201a8"
            ],
            [
             0.3333333333333333,
             "#9c179e"
            ],
            [
             0.4444444444444444,
             "#bd3786"
            ],
            [
             0.5555555555555556,
             "#d8576b"
            ],
            [
             0.6666666666666666,
             "#ed7953"
            ],
            [
             0.7777777777777778,
             "#fb9f3a"
            ],
            [
             0.8888888888888888,
             "#fdca26"
            ],
            [
             1,
             "#f0f921"
            ]
           ],
           "sequentialminus": [
            [
             0,
             "#0d0887"
            ],
            [
             0.1111111111111111,
             "#46039f"
            ],
            [
             0.2222222222222222,
             "#7201a8"
            ],
            [
             0.3333333333333333,
             "#9c179e"
            ],
            [
             0.4444444444444444,
             "#bd3786"
            ],
            [
             0.5555555555555556,
             "#d8576b"
            ],
            [
             0.6666666666666666,
             "#ed7953"
            ],
            [
             0.7777777777777778,
             "#fb9f3a"
            ],
            [
             0.8888888888888888,
             "#fdca26"
            ],
            [
             1,
             "#f0f921"
            ]
           ]
          },
          "colorway": [
           "#636efa",
           "#EF553B",
           "#00cc96",
           "#ab63fa",
           "#FFA15A",
           "#19d3f3",
           "#FF6692",
           "#B6E880",
           "#FF97FF",
           "#FECB52"
          ],
          "font": {
           "color": "#2a3f5f"
          },
          "geo": {
           "bgcolor": "white",
           "lakecolor": "white",
           "landcolor": "#E5ECF6",
           "showlakes": true,
           "showland": true,
           "subunitcolor": "white"
          },
          "hoverlabel": {
           "align": "left"
          },
          "hovermode": "closest",
          "mapbox": {
           "style": "light"
          },
          "paper_bgcolor": "white",
          "plot_bgcolor": "#E5ECF6",
          "polar": {
           "angularaxis": {
            "gridcolor": "white",
            "linecolor": "white",
            "ticks": ""
           },
           "bgcolor": "#E5ECF6",
           "radialaxis": {
            "gridcolor": "white",
            "linecolor": "white",
            "ticks": ""
           }
          },
          "scene": {
           "xaxis": {
            "backgroundcolor": "#E5ECF6",
            "gridcolor": "white",
            "gridwidth": 2,
            "linecolor": "white",
            "showbackground": true,
            "ticks": "",
            "zerolinecolor": "white"
           },
           "yaxis": {
            "backgroundcolor": "#E5ECF6",
            "gridcolor": "white",
            "gridwidth": 2,
            "linecolor": "white",
            "showbackground": true,
            "ticks": "",
            "zerolinecolor": "white"
           },
           "zaxis": {
            "backgroundcolor": "#E5ECF6",
            "gridcolor": "white",
            "gridwidth": 2,
            "linecolor": "white",
            "showbackground": true,
            "ticks": "",
            "zerolinecolor": "white"
           }
          },
          "shapedefaults": {
           "line": {
            "color": "#2a3f5f"
           }
          },
          "ternary": {
           "aaxis": {
            "gridcolor": "white",
            "linecolor": "white",
            "ticks": ""
           },
           "baxis": {
            "gridcolor": "white",
            "linecolor": "white",
            "ticks": ""
           },
           "bgcolor": "#E5ECF6",
           "caxis": {
            "gridcolor": "white",
            "linecolor": "white",
            "ticks": ""
           }
          },
          "title": {
           "x": 0.05
          },
          "xaxis": {
           "automargin": true,
           "gridcolor": "white",
           "linecolor": "white",
           "ticks": "",
           "title": {
            "standoff": 15
           },
           "zerolinecolor": "white",
           "zerolinewidth": 2
          },
          "yaxis": {
           "automargin": true,
           "gridcolor": "white",
           "linecolor": "white",
           "ticks": "",
           "title": {
            "standoff": 15
           },
           "zerolinecolor": "white",
           "zerolinewidth": 2
          }
         }
        },
        "xaxis": {
         "anchor": "y2",
         "domain": [
          0,
          1
         ],
         "zeroline": false
        },
        "yaxis": {
         "anchor": "free",
         "domain": [
          0,
          1
         ],
         "position": 0
        }
       }
      }
     },
     "metadata": {},
     "output_type": "display_data"
    }
   ],
   "source": [
    "fig = ff.create_distplot(\n",
    "    [df.loc[df.species=='Adelie', 'bill_length_mm'], df.loc[df.species=='Gentoo', 'bill_length_mm'], df.loc[df.species=='Chinstrap', 'bill_length_mm']],\n",
    "    ['Adelie', 'Gentoo', 'Chinstrap'],\n",
    "    show_rug=False, bin_size=1\n",
    ")\n",
    "fig.add_shape(type=\"line\",\n",
    "    x0=50, y0=0, x1=50, y1=.16,\n",
    "    line=dict(color=\"black\",width=3, dash=\"dot\")\n",
    ")\n",
    "fig"
   ]
  },
  {
   "cell_type": "markdown",
   "metadata": {},
   "source": [
    ">The naive Bayes method typically assumes that any quantitative predictor is **continuous and conditionally Normal**.\n",
    "\n",
    "So our next task is to create 3 Normal distributions that represent each species."
   ]
  },
  {
   "cell_type": "code",
   "execution_count": 10,
   "metadata": {},
   "outputs": [],
   "source": [
    "gentoo_bill_dist    = norm(loc=df.loc[df.species=='Gentoo', 'bill_length_mm'].mean(),    scale=df.loc[df.species=='Gentoo', 'bill_length_mm'].std())\n",
    "adelie_bill_dist    = norm(loc=df.loc[df.species=='Adelie', 'bill_length_mm'].mean(),    scale=df.loc[df.species=='Adelie', 'bill_length_mm'].std())\n",
    "chinstrap_bill_dist = norm(loc=df.loc[df.species=='Chinstrap', 'bill_length_mm'].mean(), scale=df.loc[df.species=='Chinstrap', 'bill_length_mm'].std())\n",
    "\n",
    "penguin_bill_dists = {'Gentoo': gentoo_bill_dist, 'Adelie': adelie_bill_dist, 'Chinstrap': chinstrap_bill_dist}"
   ]
  },
  {
   "cell_type": "code",
   "execution_count": 11,
   "metadata": {},
   "outputs": [
    {
     "data": {
      "application/vnd.plotly.v1+json": {
       "config": {
        "plotlyServerURL": "https://plot.ly"
       },
       "data": [
        {
         "autobinx": false,
         "histnorm": "probability density",
         "legendgroup": "Adelie",
         "marker": {
          "color": "rgb(31, 119, 180)"
         },
         "name": "Adelie",
         "opacity": 0.7,
         "type": "histogram",
         "x": [
          39.1,
          39.5,
          40.3,
          38.8,
          36.7,
          39.3,
          38.9,
          39.2,
          34.1,
          42,
          37.8,
          37.8,
          41.1,
          38.6,
          34.6,
          36.6,
          38.7,
          42.5,
          34.4,
          46,
          37.8,
          37.7,
          35.9,
          38.2,
          38.8,
          35.3,
          40.6,
          40.5,
          37.9,
          40.5,
          39.5,
          37.2,
          39.5,
          40.9,
          36.4,
          39.2,
          38.8,
          42.2,
          37.6,
          39.8,
          36.5,
          40.8,
          36,
          44.1,
          37,
          39.6,
          41.1,
          37.5,
          36,
          42.3,
          39.6,
          40.1,
          35,
          42,
          34.5,
          41.4,
          39,
          40.6,
          36.5,
          37.6,
          35.7,
          41.3,
          37.6,
          41.1,
          36.4,
          41.6,
          35.5,
          41.1,
          35.9,
          41.8,
          33.5,
          39.7,
          39.6,
          45.8,
          35.5,
          42.8,
          40.9,
          37.2,
          36.2,
          42.1,
          34.6,
          42.9,
          36.7,
          35.1,
          37.3,
          41.3,
          36.3,
          36.9,
          38.3,
          38.9,
          35.7,
          41.1,
          34,
          39.6,
          36.2,
          40.8,
          38.1,
          40.3,
          33.1,
          43.2,
          35,
          41,
          37.7,
          37.8,
          37.9,
          39.7,
          38.6,
          38.2,
          38.1,
          43.2,
          38.1,
          45.6,
          39.7,
          42.2,
          39.6,
          42.7,
          38.6,
          37.3,
          35.7,
          41.1,
          36.2,
          37.7,
          40.2,
          41.4,
          35.2,
          40.6,
          38.8,
          41.5,
          39,
          44.1,
          38.5,
          43.1,
          36.8,
          37.5,
          38.1,
          41.1,
          35.6,
          40.2,
          37,
          39.7,
          40.2,
          40.6,
          32.1,
          40.7,
          37.3,
          39,
          39.2,
          36.6,
          36,
          37.8,
          36,
          41.5
         ],
         "xaxis": "x",
         "xbins": {
          "end": 46,
          "size": 1,
          "start": 32.1
         },
         "yaxis": "y"
        },
        {
         "autobinx": false,
         "histnorm": "probability density",
         "legendgroup": "Adelie Dist",
         "marker": {
          "color": "rgb(255, 127, 14)"
         },
         "name": "Adelie Dist",
         "opacity": 0.7,
         "type": "histogram",
         "x": [
          36.66102497051176,
          38.536172602864376,
          38.48302825880867,
          40.87905042747483,
          39.055936133670805,
          34.27691030999898,
          38.054610720479644,
          37.20003759176676,
          37.21479307473339,
          36.89881987213179,
          39.66508576156556,
          45.25400992845012,
          39.56921640610767,
          36.72897165844441,
          38.25226218191191,
          37.53641357743624,
          37.324008757863815,
          41.3254730366358,
          38.38321596547709,
          41.34107279582505,
          38.59511424241264,
          40.20121180993129,
          36.77858368861123,
          39.23354441242274,
          37.3922213829463,
          38.45976903539496,
          38.94527414190866,
          34.7559494373184,
          35.98698619600739,
          36.65999173847585,
          36.11597304983506,
          41.289629930388905,
          36.1218918892411,
          41.57406923996952,
          36.82621261592911,
          36.341736674365954,
          40.76656782284724,
          39.407212953322485,
          36.44056559866155,
          38.398874342651574,
          39.52637170807527,
          33.34132899227942,
          41.55676005966711,
          37.2781195587892,
          39.18162548409834,
          37.39363430020602,
          36.54468436253791,
          42.004208402263046,
          37.37623770866611,
          33.35703345020619,
          38.95739330887422,
          32.432437916647665,
          38.26785824626024,
          35.97405339309045,
          38.4342695024351,
          38.2363715902194,
          39.086924878177186,
          39.218880468960066,
          37.012771360670335,
          36.01148624219717,
          41.03037665382533,
          42.307828169048626,
          37.353329479886675,
          40.39513768193216,
          40.3299152398901,
          34.21005879350366,
          39.373719787835434,
          36.59444324726877,
          38.969383572614944,
          35.077419772715814,
          41.29690348042564,
          39.04843323052657,
          40.05227256177982,
          42.63522756003899,
          36.872456166244746,
          35.45507565940023,
          44.76500990801256,
          40.637056718018854,
          35.08637956328027,
          33.8487817720687,
          34.73745517305435,
          40.66590905253335,
          32.98737239750596,
          36.61732380536239,
          41.812701056093516,
          41.42432713675007,
          39.61710149053356,
          43.92000921211848,
          37.3404924173565,
          40.37057505558975,
          38.285598022573794,
          39.752154815263616,
          36.252257625828655,
          36.82404450117585,
          36.855878251991385,
          35.55264390733957,
          35.911968843814826,
          37.23827633349887,
          42.637207332559065,
          40.20611331086281,
          39.585107166344116,
          35.447260287168156,
          37.46246921043321,
          37.82437436104187,
          37.41160169045724,
          41.328599572406766,
          31.501621417718077,
          38.811487569521304,
          36.400663282458325,
          38.31772713486082,
          39.10176303275339,
          41.75892742596214,
          40.549482462086374,
          38.82886948595788,
          39.860578716935535,
          40.55916844737786,
          37.45002393131796,
          40.32018360798053,
          38.26062614346043,
          38.62344967575749,
          39.843572849302255,
          40.37633998723971,
          37.27655952176306,
          42.80966492652267,
          39.75511347225315,
          41.88325106822796,
          40.717138984285405,
          38.09453177012238,
          42.559257248558865,
          38.44114552617387,
          42.0235993092531,
          38.05230200446933,
          35.6973416783069,
          37.86931193692187,
          39.70520107082059,
          35.011102187024676,
          38.9300136569382,
          38.791429387697626,
          37.36954465563423,
          34.112951364269165,
          40.05926249883646,
          41.473504475579695,
          37.763650380271905,
          36.61132859098498,
          39.14031798408026,
          33.50648400141924,
          42.245933116442274,
          36.57391011392786,
          39.7402273647371,
          37.241332765074354,
          32.45926308878346,
          38.68945308060822,
          41.39316134003799,
          44.1437436261007,
          42.02914385452581,
          40.92291776279872,
          42.75135508905557,
          36.07098387627696,
          38.26045448594353,
          38.59579600222605,
          37.42846930618435,
          36.935525879229246,
          42.29479415016916,
          40.530134738404804,
          35.2402272917769,
          38.71784625732218,
          39.651738487435054,
          35.453138149537146,
          33.7199162718136,
          41.01898393508219,
          38.89484900554467,
          36.636278244381614,
          45.79430958437699,
          39.19457282588145,
          38.59870425148891,
          40.006138082643545,
          38.52684273021473,
          41.15244504932083,
          40.34866314892395,
          37.84762361834258,
          39.687865630714235,
          42.14478607726991,
          41.51472641177347,
          37.162401017550934,
          40.81008214688287,
          43.412682265828465,
          36.58813827603079,
          40.72909465837703,
          37.622700300219044,
          39.63510327257198,
          41.6040544717321,
          41.39735534709065,
          44.08398075993661,
          38.4914000092084,
          37.47194256077522,
          37.70855286965052,
          41.239282847266125,
          37.170659649000854,
          34.65376189328579,
          40.30634872494422,
          38.76642675854922,
          40.90423187673983,
          36.61135586791411,
          41.868757791883205,
          37.951666257887446,
          36.79932587193519,
          43.75935966825272,
          39.699224971271946,
          38.765102488698034,
          39.08887431533069,
          34.48799048860458,
          38.762437123437515,
          39.49731395174383,
          37.82037335314034,
          34.82579545655731,
          44.19114234605454,
          40.03963394557476,
          38.44807461381822,
          39.70010604930754,
          42.13217112411929,
          38.701172212620854,
          37.345884369271026,
          40.135338651847604,
          35.207053853828995,
          34.27837809750408,
          43.424314701156995,
          37.29682115035934,
          38.41660430675778,
          34.650838457250096,
          43.059789033338205,
          39.00442854297197,
          39.59647869947938,
          38.90685326574051,
          40.267422733747175,
          38.835548855502935,
          37.649603842182614,
          37.97583349469568,
          45.24260679576968,
          39.93735273213031,
          36.102069436145,
          40.55998028420033,
          41.9816570532981,
          41.24603561354652,
          35.58244815162147,
          34.8591762342489,
          37.93826158638199,
          43.83112111506238,
          38.54313337743703,
          36.43796231343872,
          40.48220649505521,
          36.70986017775453,
          40.40719168887919,
          41.38774099287296,
          41.775724769295735,
          40.660857362553756,
          42.47795739179123,
          39.091715911754996,
          38.79618301828281,
          36.75255304570692,
          38.34479958890626,
          36.40947944666232,
          37.22299690077086,
          36.602791273115166,
          36.73569995711974,
          36.000740709126305,
          38.388848953205176,
          41.51965687228581,
          42.187430757847146,
          41.40964290574923,
          40.5205946521895,
          37.98186221823499,
          37.12300964793473,
          37.44623621413624,
          39.458467089350066,
          38.90156203481687,
          38.309790509837505,
          36.007069115444075,
          33.0127334120523,
          40.92115834632407,
          43.45020527622999,
          38.48057740901682,
          39.0446829879475,
          38.63677895516149,
          39.51684874124558,
          43.12913443751515,
          33.77220942254184,
          39.52202848832622,
          34.870091448705914,
          40.259083661186885,
          34.25290457458371,
          41.391457186106045,
          35.9824230726594,
          37.510154635001065,
          38.6537542410517,
          36.09668954036344,
          36.85248482858122,
          39.33013484014869,
          43.39587526230474,
          44.85770069453031,
          38.06260121497132,
          31.92514481145933,
          44.055939483129336,
          39.76226965072174,
          42.051004063479276,
          40.29477249654449,
          40.1031077290691,
          36.58699206770906,
          43.91319716365595,
          38.13902021245902,
          33.359825696859154,
          39.64762831092623,
          37.67001551628132,
          40.251309614516295,
          33.422076411732405,
          38.54738932940192,
          39.04666780815218,
          40.94308004707349,
          36.39712396323026,
          37.92058082389855,
          39.47323171990097,
          42.46814636680735,
          39.44774537199048,
          32.883048588352636,
          39.77320006995662,
          37.88349256232511,
          37.36607095938293,
          35.5076709173161,
          42.24344646381666,
          40.82705636602643,
          39.68937786098512,
          36.91019528089967,
          39.07005976613577,
          36.56010198718914,
          39.832009449600356,
          39.15369240412624,
          39.139227824891584,
          40.84232303053683,
          40.483204653289455,
          37.72102410107364,
          39.32117330988087,
          36.93448884723944,
          39.48234159517303,
          38.21894309959011,
          38.95035413910633
         ],
         "xaxis": "x",
         "xbins": {
          "end": 45.79430958437699,
          "size": 1,
          "start": 31.501621417718077
         },
         "yaxis": "y"
        },
        {
         "autobinx": false,
         "histnorm": "probability density",
         "legendgroup": "Gentoo",
         "marker": {
          "color": "rgb(44, 160, 44)"
         },
         "name": "Gentoo",
         "opacity": 0.7,
         "type": "histogram",
         "x": [
          46.1,
          50,
          48.7,
          50,
          47.6,
          46.5,
          45.4,
          46.7,
          43.3,
          46.8,
          40.9,
          49,
          45.5,
          48.4,
          45.8,
          49.3,
          42,
          49.2,
          46.2,
          48.7,
          50.2,
          45.1,
          46.5,
          46.3,
          42.9,
          46.1,
          44.5,
          47.8,
          48.2,
          50,
          47.3,
          42.8,
          45.1,
          59.6,
          49.1,
          48.4,
          42.6,
          44.4,
          44,
          48.7,
          42.7,
          49.6,
          45.3,
          49.6,
          50.5,
          43.6,
          45.5,
          50.5,
          44.9,
          45.2,
          46.6,
          48.5,
          45.1,
          50.1,
          46.5,
          45,
          43.8,
          45.5,
          43.2,
          50.4,
          45.3,
          46.2,
          45.7,
          54.3,
          45.8,
          49.8,
          46.2,
          49.5,
          43.5,
          50.7,
          47.7,
          46.4,
          48.2,
          46.5,
          46.4,
          48.6,
          47.5,
          51.1,
          45.2,
          45.2,
          49.1,
          52.5,
          47.4,
          50,
          44.9,
          50.8,
          43.4,
          51.3,
          47.5,
          52.1,
          47.5,
          52.2,
          45.5,
          49.5,
          44.5,
          50.8,
          49.4,
          46.9,
          48.4,
          51.1,
          48.5,
          55.9,
          47.2,
          49.1,
          47.3,
          46.8,
          41.7,
          53.4,
          43.3,
          48.1,
          50.5,
          49.8,
          43.5,
          51.5,
          46.2,
          55.1,
          44.5,
          48.8,
          47.2,
          47.3,
          46.8,
          50.4,
          45.2,
          49.9
         ],
         "xaxis": "x",
         "xbins": {
          "end": 59.6,
          "size": 1,
          "start": 40.9
         },
         "yaxis": "y"
        },
        {
         "autobinx": false,
         "histnorm": "probability density",
         "legendgroup": "Gentoo Dist",
         "marker": {
          "color": "rgb(214, 39, 40)"
         },
         "name": "Gentoo Dist",
         "opacity": 0.7,
         "type": "histogram",
         "x": [
          47.21087898595766,
          49.27742057527496,
          46.81167996112944,
          45.62875065451116,
          48.3063578937257,
          45.690509728619595,
          48.58379617635636,
          50.46491838778663,
          48.81332311994682,
          50.774880360377246,
          48.659842925497664,
          52.80188934062128,
          47.79354492835035,
          47.51746476062804,
          45.29809039614215,
          49.66550449226238,
          48.32725976711547,
          43.57794589782761,
          48.05963160479248,
          42.87822759920395,
          48.437030475441816,
          49.845861333137094,
          43.80099605587998,
          48.55987790088768,
          51.865197852500835,
          49.57496301140108,
          43.34579385082833,
          46.44210334232794,
          43.53465881568757,
          55.3420152186455,
          49.77061992492417,
          42.28624633717306,
          49.69279925510911,
          45.8384296002186,
          52.08327475827426,
          48.37744530250516,
          50.875640864617075,
          50.397795544666735,
          52.105881216735554,
          50.65652124662157,
          47.35037656030228,
          43.60284016321611,
          51.22984838948719,
          52.525797022044415,
          41.896346895911094,
          49.302965852971106,
          50.306261086922035,
          49.79795033563874,
          45.067326693312445,
          47.15701423802237,
          43.5909400033114,
          45.79088255361612,
          49.69473050599425,
          42.200651255484445,
          44.244513230024694,
          47.55714860126178,
          44.48603637180415,
          46.605367094534785,
          51.13783876014688,
          42.041225360776046,
          48.97932712821124,
          50.93709493375941,
          46.12148464582499,
          47.31240703141065,
          49.89481937154261,
          50.698152435596846,
          44.39528757789549,
          51.41147841771896,
          49.67307969256306,
          47.86665036132081,
          48.04197804370053,
          49.64481102591225,
          41.97285479697325,
          51.8139542050867,
          50.52173601938365,
          48.96427421718893,
          42.924224640395515,
          49.02763422395565,
          47.642706256316444,
          46.638868257398705,
          43.65709218044894,
          46.56340968343485,
          37.09990155135973,
          42.645514831802856,
          50.24996067294685,
          45.80009795669208,
          50.14123779509997,
          47.31330465671513,
          45.04552370851416,
          47.46541781260996,
          49.52336161567998,
          51.17906949518544,
          51.32508780005356,
          45.47710806864042,
          50.096187496827795,
          53.619559741657135,
          48.740772619935036,
          47.486388980725906,
          43.17234425611646,
          45.552211687691575,
          50.22943505611768,
          46.48669871722253,
          50.15576827605839,
          46.47431296347244,
          46.74618742455251,
          44.07422951424745,
          47.182748969889396,
          52.14839006935483,
          48.69897671318351,
          43.58438720027076,
          45.67835755652505,
          45.67175275878426,
          45.66579145036938,
          49.2426878441626,
          45.2006028459795,
          48.33913896654027,
          48.75483101433429,
          51.75987643478313,
          46.55370593925796,
          41.10971634114051,
          44.70751300087528,
          42.19283061813056,
          44.11060022348833,
          41.01930006421413,
          50.86270934968191,
          49.10748965584877,
          45.60319927960616,
          44.47045686545468,
          45.34763850244857,
          43.79770435800307,
          46.66408093814056,
          45.817024556688,
          48.67610821904501,
          43.674595718260704,
          50.019496820228376,
          49.01895269947618,
          44.73123746786789,
          43.773097623114616,
          50.675722241318034,
          44.79424855655085,
          48.84128793102104,
          45.39620661688272,
          49.889697319636866,
          43.50998231437792,
          50.6207712236653,
          41.23303781192226,
          49.049318762485704,
          43.341413107865556,
          42.5774596445646,
          43.328538636973406,
          48.067379426516744,
          45.9290959236144,
          51.854189287607326,
          48.27783737675005,
          47.95300447026825,
          43.87967800142714,
          46.009990056671214,
          50.66642592064855,
          48.538891330754595,
          45.926205301296115,
          48.83277549536886,
          44.95960984386026,
          47.57938415451831,
          45.96217930493503,
          50.172647810979804,
          52.55933417204511,
          40.47639195705128,
          46.808334850043785,
          48.39372425589597,
          50.825623911300184,
          53.91139605088679,
          41.76939230485788,
          50.31332555805609,
          48.81068932916697,
          47.458585837814574,
          45.09871279221901,
          47.47877659774953,
          48.929711986032856,
          49.70386675538041,
          49.543131499665876,
          48.86880412240071,
          47.37763410648526,
          51.43519342753078,
          50.2173492976598,
          47.88823369052192,
          51.70699071007354,
          46.382132137110254,
          47.691483260468175,
          52.66085031075214,
          41.89512595173874,
          50.07084424260925,
          50.007117727507925,
          47.16885776886795,
          50.47167857528355,
          42.07072676302773,
          50.512105126859076,
          51.06847901910757,
          48.80502372142658,
          49.75821274914125,
          48.648063357802464,
          44.91896481600227,
          49.73624761933024,
          51.46815659680114,
          48.535022160476835,
          50.62133870619844,
          47.046658843908475,
          50.50408194491738,
          43.21033414085554,
          47.04786260311849,
          50.634089240935964,
          41.8967556999862,
          50.24224948675688,
          52.11909687902171,
          48.3743028774401,
          50.58155404532882,
          42.57005667745523,
          48.61413522067313,
          46.1708849461679,
          48.459175741057365,
          41.03818899489355,
          45.60101810937864,
          47.39788964735006,
          44.98028330290032,
          45.326085221480135,
          50.41752309116079,
          55.336216724030876,
          46.95226457383764,
          47.09692451992602,
          46.67275064644106,
          49.85263652375483,
          51.699364560474535,
          47.245501784452294,
          45.07790818107713,
          41.66699410400885,
          47.41572274403976,
          50.67521328717964,
          43.1827738492326,
          47.411930463426216,
          47.334446784207934,
          46.2749925302272,
          49.70269336019436,
          52.413663808736615,
          49.84169313498728,
          46.447812400462084,
          47.571499131580616,
          53.282066414633086,
          46.07428492710548,
          45.864796779273746,
          44.192194115629356,
          48.0511985784518,
          49.631889247810506,
          47.27474761552744,
          48.61358813797694,
          40.69821916291647,
          42.982893577478606,
          51.4143746508495,
          41.140579044721875,
          48.53633066765229,
          42.9858106943945,
          48.36093236793416,
          44.217523662263794,
          48.709355667127134,
          50.69579971044895,
          47.424819963806314,
          47.050561498528666,
          45.338138199143216,
          47.79273370484438,
          44.83812162468381,
          44.636932803306685,
          49.64228051804561,
          48.82213053018338,
          49.16270541052558,
          43.30670599877521,
          47.343643671312364,
          48.99202139300187,
          45.504751712901225,
          48.56710522381396,
          51.06306873345602,
          44.46481085703243,
          47.902267640206134,
          46.81808222761513,
          45.537361558226394,
          51.10904368653319,
          45.105516112030074,
          45.972120993923866,
          53.02942024745039,
          38.65084116186637,
          44.93009780609802,
          48.739448613359144,
          46.78788487549995,
          51.27234007733274,
          44.087293287511436,
          47.0068359079684,
          42.4169034101084,
          43.85898107616439,
          53.038862829992105,
          45.384393775176534,
          49.01217189754342,
          48.84491329722725,
          49.209695577301176,
          47.874193843519095,
          47.74795848365132,
          44.15548756663506,
          44.44574204771012,
          55.19442512431927,
          46.76401533334884,
          50.50889452615013,
          51.21203156912689,
          50.43156954346607,
          43.236686060342066,
          47.5565968186694,
          37.91037767627039,
          48.0855074611886,
          47.33085722762882,
          48.66230462564689,
          48.6951488015004,
          46.19713180742124,
          49.269847319708965,
          51.73729125908541,
          48.95376705378197,
          43.72858638977148,
          43.4742706061023,
          46.953683993810564,
          46.72935535799712,
          45.60449832173912,
          54.633469370210086,
          53.07856351127255,
          44.6825069857227,
          43.6373243591935,
          48.824031586301125,
          44.35247336440729,
          42.41245711766848,
          50.17887428378285,
          51.40375841602548,
          46.48824023996677,
          48.18951010833733,
          46.52617054624089,
          49.95019410066818,
          47.28151831837744,
          43.114076918400414,
          46.87461039958176,
          45.72453896548822,
          46.01297018236894,
          49.94548670064704
         ],
         "xaxis": "x",
         "xbins": {
          "end": 55.3420152186455,
          "size": 1,
          "start": 37.09990155135973
         },
         "yaxis": "y"
        },
        {
         "autobinx": false,
         "histnorm": "probability density",
         "legendgroup": "Chinstrap",
         "marker": {
          "color": "rgb(148, 103, 189)"
         },
         "name": "Chinstrap",
         "opacity": 0.7,
         "type": "histogram",
         "x": [
          46.5,
          50,
          51.3,
          45.4,
          52.7,
          45.2,
          46.1,
          51.3,
          46,
          51.3,
          46.6,
          51.7,
          47,
          52,
          45.9,
          50.5,
          50.3,
          58,
          46.4,
          49.2,
          42.4,
          48.5,
          43.2,
          50.6,
          46.7,
          52,
          50.5,
          49.5,
          46.4,
          52.8,
          40.9,
          54.2,
          42.5,
          51,
          49.7,
          47.5,
          47.6,
          52,
          46.9,
          53.5,
          49,
          46.2,
          50.9,
          45.5,
          50.9,
          50.8,
          50.1,
          49,
          51.5,
          49.8,
          48.1,
          51.4,
          45.7,
          50.7,
          42.5,
          52.2,
          45.2,
          49.3,
          50.2,
          45.6,
          51.9,
          46.8,
          45.7,
          55.8,
          43.5,
          49.6,
          50.8,
          50.2
         ],
         "xaxis": "x",
         "xbins": {
          "end": 58,
          "size": 1,
          "start": 40.9
         },
         "yaxis": "y"
        },
        {
         "autobinx": false,
         "histnorm": "probability density",
         "legendgroup": "Chinstrap Dist",
         "marker": {
          "color": "rgb(140, 86, 75)"
         },
         "name": "Chinstrap Dist",
         "opacity": 0.7,
         "type": "histogram",
         "x": [
          49.24263771691189,
          47.69911891715092,
          44.657039451500566,
          54.68536860489177,
          46.31788641194619,
          43.20364858602025,
          48.747238625643874,
          48.69046523223816,
          47.79676163845357,
          49.98127735076867,
          50.58476164086676,
          46.06140888261326,
          49.59813670751909,
          48.368416891201385,
          48.58007547520416,
          45.84697834871296,
          51.239100527209516,
          57.99361058271891,
          46.97266149053073,
          44.527316938257016,
          50.19464293244978,
          52.24832301723691,
          50.72819720866058,
          49.05470441430458,
          49.325695809360504,
          43.938322055722594,
          49.058447638052954,
          46.80375233819227,
          49.36367090656864,
          48.750147333862856,
          50.5435354879119,
          47.22079245509496,
          48.047245477266635,
          55.13968763934656,
          45.23648651849709,
          45.86553444980651,
          48.17181122324967,
          46.294763211326554,
          43.730776617575465,
          46.67523035131694,
          53.98720763158205,
          52.56583214259191,
          47.90039467557245,
          47.249409026090575,
          51.879186329971624,
          47.91667144628382,
          46.29552296960433,
          51.40881532656857,
          43.592985958161734,
          50.74327671285791,
          46.24465001985814,
          48.90042456089632,
          47.252739855108956,
          46.190822175116125,
          49.206511184168946,
          47.4989936853594,
          48.21474486030032,
          48.091720231650314,
          43.357175890417395,
          43.74123114129154,
          55.31815826603031,
          45.787146112793785,
          48.34234201818802,
          49.72873864113846,
          49.72125539491633,
          50.8083958426887,
          54.91682291130358,
          46.14048582288348,
          48.51580309290815,
          46.437390678862215,
          44.18744881091535,
          48.500763782970786,
          47.08268833915151,
          51.077666225018405,
          49.695306148798295,
          47.15361391679871,
          45.77837060425795,
          47.61363336502965,
          48.536595575173656,
          51.12577190378216,
          49.2329830045517,
          48.02826346029046,
          46.03263916796116,
          48.31835749372773,
          44.89003466914399,
          48.80047524166436,
          46.888317410187696,
          44.528451310413814,
          48.24416435351334,
          51.3992609010023,
          53.85094633013616,
          48.75344143301177,
          45.12922475789419,
          51.26562159119063,
          49.94463259215207,
          52.5593441717522,
          42.94144435517175,
          50.330073457897115,
          50.41399773587322,
          52.279821809674736,
          45.200303746027394,
          44.494133094176505,
          51.56442358952841,
          50.86211827905423,
          45.97470960052852,
          48.32288244089695,
          47.18109178660484,
          46.55729071116234,
          47.22507833526401,
          46.38761729809385,
          44.43384900307831,
          48.525687536385675,
          46.083582654148955,
          45.744359371538835,
          44.85686704796347,
          53.2744316648363,
          46.78385091249264,
          46.916701305144876,
          47.40866054172762,
          49.45834828422649,
          48.5096860162197,
          48.43770138772273,
          46.915441719854954,
          50.35645176847119,
          48.630741287808775,
          48.11802915886994,
          40.94378944572386,
          54.7179582360969,
          52.397102924699695,
          45.401727126452535,
          53.4821250742701,
          50.795892936838925,
          53.97398419721158,
          49.222170501375636,
          53.451065659136184,
          50.19177420306315,
          48.3703623779672,
          51.756112510907045,
          43.82327748671281,
          50.42930406309201,
          49.22058926277366,
          43.57232451136592,
          46.81583487999205,
          51.61529505814775,
          52.504068488350406,
          49.62703028313443,
          50.057688489191236,
          46.84567373783756,
          53.71032591954988,
          47.084762705766536,
          50.959016490279694,
          50.81720137095039,
          46.948423988492586,
          47.12804737852091,
          47.4251566585225,
          45.9563932686308,
          51.332641656660705,
          54.580844497994065,
          45.28180772396365,
          48.550897700621825,
          44.257872591874204,
          44.71781256941356,
          46.57909845407597,
          47.01099622668348,
          51.88013211261601,
          44.91327679052689,
          45.47091593155323,
          41.31536934719115,
          47.747023313800554,
          44.23909408264622,
          48.97057240101785,
          50.86319306347743,
          45.31612958403073,
          44.43147289925351,
          49.6463343859209,
          51.2563908159073,
          51.77583607437413,
          47.0820150902298,
          49.66488684929913,
          49.324624765372235,
          47.653385880504274,
          55.2204136334782,
          48.69525826309303,
          43.209965778936954,
          41.72256353046572,
          46.0691675392218,
          42.728359347758264,
          52.28068855145155,
          50.59758703573052,
          51.526560889384655,
          48.977389598567925,
          49.360513587887766,
          48.48024649698265,
          48.723963676764804,
          44.42625644086189,
          49.15152214575945,
          51.04861087079822,
          50.97023169172747,
          46.76028493385027,
          45.28555921761157,
          42.88441231933664,
          50.04999262159187,
          47.43527888617519,
          48.42649309165075,
          50.43080864744396,
          43.521769287451065,
          47.02443607618904,
          47.92470996267607,
          53.094617637821145,
          49.08042702972059,
          48.88453889928434,
          50.711734399215445,
          50.30911271711392,
          45.07494178559497,
          47.130071968394354,
          51.60816681954299,
          44.107089527271185,
          46.252537653435105,
          40.401630197344815,
          49.24623747095527,
          50.34930877048878,
          47.35682520186497,
          43.16955363928908,
          48.20600671437057,
          56.298687438171676,
          45.41628331231836,
          49.85801025417703,
          54.204944196584734,
          51.9736613218479,
          52.09848473403972,
          47.08879802757651,
          44.242936375300694,
          46.53539552606282,
          48.15040247782074,
          53.11344239044968,
          48.674362352773365,
          46.16245010997515,
          48.70639965868617,
          47.33094125866146,
          46.596747996079564,
          51.1354786601841,
          48.706264933198675,
          45.49522452083835,
          52.416790927621676,
          53.14752397786472,
          46.12332860123577,
          47.05332881092629,
          49.937967496111476,
          47.64466086863954,
          45.03788581475012,
          47.28036165536393,
          52.08186206259964,
          52.042621119845094,
          50.319755498465355,
          51.55523245002118,
          50.09075139979672,
          51.339801066538925,
          52.02766039141099,
          51.37919334333852,
          48.559637119322346,
          47.53546091305223,
          46.975580586433104,
          49.806451489092005,
          47.35192454246233,
          48.88181990856668,
          51.03448374061985,
          52.57729343149106,
          49.66200216538635,
          49.74895713005195,
          48.199984574279476,
          46.42523055803982,
          49.01433165398711,
          47.326761413351406,
          54.006960952964995,
          47.863272315825,
          50.36705262130535,
          46.20616751817423,
          45.23896857841705,
          49.54097434506245,
          48.53531833556374,
          49.02988317388121,
          40.780495078577744,
          49.83917266000629,
          48.25424656748592,
          49.871740265336356,
          42.775353521689794,
          42.63240136233125,
          51.21457073626905,
          44.34090554727903,
          50.33613716028223,
          52.32825280567307,
          44.23418590881417,
          44.95474495054248,
          44.666588049493186,
          47.244129979781896,
          48.59877144219769,
          48.31218519850816,
          40.91458517490227,
          49.98729090569013,
          47.922397501033835,
          53.357895008948994,
          47.00976464564272,
          51.141539917388194,
          47.152751106831126,
          47.74610957486155,
          50.32458023478617,
          51.67583941765715,
          49.300270918742875,
          50.70918437981342,
          42.83127965501289,
          46.87607671664608,
          49.531505568736165,
          49.532978565835165,
          47.456833496554616,
          47.27406379138442,
          47.77592099335533,
          50.721858813036086,
          52.51001123709321,
          44.30782166266755,
          48.11441462026699,
          50.640749549391735,
          44.49906298651564,
          50.27780211642303,
          53.84456814317389,
          51.76642913918171,
          47.15678107103503,
          45.54807054359287,
          57.7575214817371,
          54.21169127764064,
          49.59913839112706,
          52.74923063922792,
          50.2386096796065,
          59.727329346260824,
          50.74594916309729,
          46.49904930379724,
          51.58030253998827,
          50.28706804337932,
          50.53726488859742,
          41.666310753094564,
          44.76845571259719,
          51.736126857459396,
          48.833170688029355,
          46.073846288417414,
          44.44397637034983
         ],
         "xaxis": "x",
         "xbins": {
          "end": 59.727329346260824,
          "size": 1,
          "start": 40.401630197344815
         },
         "yaxis": "y"
        },
        {
         "legendgroup": "Adelie",
         "marker": {
          "color": "rgb(31, 119, 180)"
         },
         "mode": "lines",
         "name": "Adelie",
         "showlegend": false,
         "type": "scatter",
         "x": [
          32.1,
          32.1278,
          32.1556,
          32.1834,
          32.2112,
          32.239000000000004,
          32.2668,
          32.2946,
          32.3224,
          32.3502,
          32.378,
          32.4058,
          32.4336,
          32.461400000000005,
          32.489200000000004,
          32.517,
          32.5448,
          32.5726,
          32.6004,
          32.6282,
          32.656,
          32.6838,
          32.711600000000004,
          32.7394,
          32.7672,
          32.795,
          32.8228,
          32.8506,
          32.8784,
          32.9062,
          32.934000000000005,
          32.961800000000004,
          32.9896,
          33.0174,
          33.0452,
          33.073,
          33.1008,
          33.1286,
          33.1564,
          33.184200000000004,
          33.212,
          33.2398,
          33.2676,
          33.2954,
          33.3232,
          33.351,
          33.3788,
          33.406600000000005,
          33.434400000000004,
          33.4622,
          33.49,
          33.5178,
          33.5456,
          33.5734,
          33.6012,
          33.629,
          33.656800000000004,
          33.6846,
          33.7124,
          33.7402,
          33.768,
          33.7958,
          33.8236,
          33.8514,
          33.879200000000004,
          33.907000000000004,
          33.9348,
          33.9626,
          33.9904,
          34.0182,
          34.046,
          34.0738,
          34.101600000000005,
          34.129400000000004,
          34.1572,
          34.185,
          34.2128,
          34.2406,
          34.2684,
          34.2962,
          34.324,
          34.351800000000004,
          34.3796,
          34.4074,
          34.4352,
          34.463,
          34.4908,
          34.5186,
          34.5464,
          34.574200000000005,
          34.602000000000004,
          34.6298,
          34.6576,
          34.6854,
          34.7132,
          34.741,
          34.7688,
          34.7966,
          34.824400000000004,
          34.8522,
          34.88,
          34.9078,
          34.9356,
          34.9634,
          34.9912,
          35.019,
          35.046800000000005,
          35.074600000000004,
          35.1024,
          35.1302,
          35.158,
          35.1858,
          35.2136,
          35.2414,
          35.2692,
          35.297000000000004,
          35.3248,
          35.3526,
          35.3804,
          35.4082,
          35.436,
          35.4638,
          35.4916,
          35.519400000000005,
          35.547200000000004,
          35.575,
          35.6028,
          35.6306,
          35.6584,
          35.6862,
          35.714,
          35.7418,
          35.769600000000004,
          35.7974,
          35.8252,
          35.853,
          35.8808,
          35.9086,
          35.9364,
          35.9642,
          35.992000000000004,
          36.019800000000004,
          36.0476,
          36.0754,
          36.1032,
          36.131,
          36.1588,
          36.1866,
          36.2144,
          36.242200000000004,
          36.27,
          36.2978,
          36.3256,
          36.3534,
          36.3812,
          36.409,
          36.4368,
          36.464600000000004,
          36.4924,
          36.5202,
          36.548,
          36.5758,
          36.6036,
          36.6314,
          36.6592,
          36.687,
          36.7148,
          36.7426,
          36.7704,
          36.7982,
          36.826,
          36.8538,
          36.8816,
          36.9094,
          36.937200000000004,
          36.965,
          36.9928,
          37.0206,
          37.0484,
          37.0762,
          37.104,
          37.1318,
          37.1596,
          37.187400000000004,
          37.2152,
          37.243,
          37.2708,
          37.2986,
          37.3264,
          37.3542,
          37.382,
          37.409800000000004,
          37.4376,
          37.4654,
          37.4932,
          37.521,
          37.5488,
          37.5766,
          37.6044,
          37.6322,
          37.66,
          37.6878,
          37.7156,
          37.7434,
          37.7712,
          37.799,
          37.8268,
          37.8546,
          37.882400000000004,
          37.9102,
          37.938,
          37.9658,
          37.9936,
          38.0214,
          38.0492,
          38.077,
          38.1048,
          38.132600000000004,
          38.1604,
          38.1882,
          38.216,
          38.2438,
          38.2716,
          38.2994,
          38.3272,
          38.355000000000004,
          38.3828,
          38.4106,
          38.4384,
          38.4662,
          38.494,
          38.5218,
          38.5496,
          38.5774,
          38.605199999999996,
          38.633,
          38.6608,
          38.6886,
          38.7164,
          38.7442,
          38.772,
          38.7998,
          38.827600000000004,
          38.8554,
          38.8832,
          38.911,
          38.9388,
          38.9666,
          38.9944,
          39.0222,
          39.05,
          39.0778,
          39.1056,
          39.1334,
          39.1612,
          39.189,
          39.2168,
          39.2446,
          39.272400000000005,
          39.300200000000004,
          39.328,
          39.3558,
          39.3836,
          39.4114,
          39.4392,
          39.467,
          39.4948,
          39.5226,
          39.5504,
          39.5782,
          39.606,
          39.6338,
          39.6616,
          39.6894,
          39.7172,
          39.745,
          39.772800000000004,
          39.8006,
          39.8284,
          39.8562,
          39.884,
          39.9118,
          39.9396,
          39.9674,
          39.9952,
          40.023,
          40.0508,
          40.0786,
          40.1064,
          40.1342,
          40.162,
          40.1898,
          40.217600000000004,
          40.245400000000004,
          40.2732,
          40.301,
          40.3288,
          40.3566,
          40.3844,
          40.4122,
          40.44,
          40.4678,
          40.495599999999996,
          40.5234,
          40.5512,
          40.579,
          40.6068,
          40.6346,
          40.662400000000005,
          40.690200000000004,
          40.718,
          40.7458,
          40.7736,
          40.8014,
          40.8292,
          40.857,
          40.8848,
          40.9126,
          40.9404,
          40.968199999999996,
          40.996,
          41.0238,
          41.0516,
          41.0794,
          41.1072,
          41.135,
          41.162800000000004,
          41.1906,
          41.2184,
          41.2462,
          41.274,
          41.3018,
          41.3296,
          41.3574,
          41.3852,
          41.413,
          41.4408,
          41.4686,
          41.4964,
          41.5242,
          41.552,
          41.5798,
          41.6076,
          41.635400000000004,
          41.6632,
          41.691,
          41.7188,
          41.7466,
          41.7744,
          41.8022,
          41.83,
          41.8578,
          41.8856,
          41.9134,
          41.9412,
          41.969,
          41.9968,
          42.0246,
          42.0524,
          42.0802,
          42.108,
          42.1358,
          42.1636,
          42.1914,
          42.2192,
          42.247,
          42.2748,
          42.3026,
          42.3304,
          42.3582,
          42.385999999999996,
          42.4138,
          42.4416,
          42.4694,
          42.4972,
          42.525,
          42.552800000000005,
          42.580600000000004,
          42.6084,
          42.6362,
          42.664,
          42.6918,
          42.7196,
          42.7474,
          42.7752,
          42.803,
          42.830799999999996,
          42.858599999999996,
          42.8864,
          42.9142,
          42.942,
          42.9698,
          42.9976,
          43.025400000000005,
          43.053200000000004,
          43.081,
          43.1088,
          43.1366,
          43.1644,
          43.1922,
          43.22,
          43.2478,
          43.2756,
          43.3034,
          43.3312,
          43.359,
          43.3868,
          43.4146,
          43.4424,
          43.4702,
          43.498,
          43.525800000000004,
          43.5536,
          43.5814,
          43.6092,
          43.637,
          43.6648,
          43.6926,
          43.7204,
          43.7482,
          43.775999999999996,
          43.8038,
          43.8316,
          43.8594,
          43.8872,
          43.915,
          43.9428,
          43.9706,
          43.998400000000004,
          44.0262,
          44.054,
          44.0818,
          44.1096,
          44.1374,
          44.1652,
          44.193,
          44.2208,
          44.248599999999996,
          44.2764,
          44.3042,
          44.332,
          44.3598,
          44.3876,
          44.415400000000005,
          44.443200000000004,
          44.471000000000004,
          44.4988,
          44.5266,
          44.5544,
          44.5822,
          44.61,
          44.6378,
          44.6656,
          44.6934,
          44.721199999999996,
          44.748999999999995,
          44.7768,
          44.8046,
          44.8324,
          44.8602,
          44.888,
          44.915800000000004,
          44.9436,
          44.9714,
          44.9992,
          45.027,
          45.0548,
          45.0826,
          45.1104,
          45.1382,
          45.166,
          45.1938,
          45.2216,
          45.2494,
          45.2772,
          45.305,
          45.3328,
          45.3606,
          45.3884,
          45.4162,
          45.444,
          45.4718,
          45.4996,
          45.5274,
          45.5552,
          45.583,
          45.6108,
          45.6386,
          45.666399999999996,
          45.6942,
          45.722,
          45.7498,
          45.7776,
          45.8054,
          45.8332,
          45.861,
          45.8888,
          45.9166,
          45.9444,
          45.9722
         ],
         "xaxis": "x",
         "y": [
          0.006609659874262775,
          0.006787441782538859,
          0.006969011722838941,
          0.007154479105516875,
          0.0073439570765892965,
          0.007537562408045368,
          0.00773541537355891,
          0.007937639610091404,
          0.008144361965944936,
          0.008355712335898281,
          0.008571823484120248,
          0.008792830855618064,
          0.009018872377029514,
          0.009250088247619657,
          0.009486620721381447,
          0.009728613881178821,
          0.009976213405897171,
          0.010229566331588568,
          0.010488820807615335,
          0.010754125848800086,
          0.011025631084594133,
          0.011303486506265198,
          0.011587842213094966,
          0.011878848158551397,
          0.012176653897376015,
          0.012481408334488811,
          0.012793259476571167,
          0.01311235418714204,
          0.013438837945884161,
          0.01377285461292229,
          0.014114546198685846,
          0.014464052639923104,
          0.014821511582357871,
          0.015187058170401599,
          0.015560824844256981,
          0.015942941144660244,
          0.01633353352543082,
          0.01673272517390346,
          0.01714063583923813,
          0.017557381668508815,
          0.017983075050391678,
          0.018417824466184854,
          0.018861734347808592,
          0.019314904942358543,
          0.01977743218270261,
          0.020249407563546006,
          0.020730918022315407,
          0.021222045824159347,
          0.02172286845029838,
          0.02223345848892141,
          0.022753883527774015,
          0.02328420604756121,
          0.023824483315263163,
          0.024374767276445844,
          0.02493510444565379,
          0.02550553579397144,
          0.026086096632868767,
          0.026676816493466288,
          0.027277719000409758,
          0.02788882173958538,
          0.0285101361189815,
          0.029141667222078407,
          0.029783413653231276,
          0.030435367374621398,
          0.031097513534451404,
          0.03176983028619214,
          0.03245228859881314,
          0.03314485205807496,
          0.03384747665910664,
          0.03456011059065267,
          0.035282694011536296,
          0.036015158820049784,
          0.036757428417164416,
          0.03750941746461437,
          0.03827103163910212,
          0.039042167384026834,
          0.03982271166033165,
          0.040612541698217645,
          0.04141152475164474,
          0.042219517857693865,
          0.0430363676030044,
          0.04386190989964642,
          0.044695969772893314,
          0.04553836116348541,
          0.04638888674704096,
          0.04724733777336566,
          0.04811349392844132,
          0.04898712322191569,
          0.04986798190291709,
          0.05075581440699449,
          0.051650353336946335,
          0.052551319480223777,
          0.05345842186550255,
          0.05437135786088387,
          0.05528981331604425,
          0.05621346275046056,
          0.057141969589636944,
          0.058074986451026454,
          0.05901215548107161,
          0.05995310874451332,
          0.060897468666801374,
          0.061844848530113086,
          0.06279485302313291,
          0.06374707884438553,
          0.06470111535852115,
          0.06565654530456592,
          0.06661294555474238,
          0.06756988792204754,
          0.0685269400143764,
          0.06948366613254374,
          0.07043962820916942,
          0.07139438678496882,
          0.07234750201861635,
          0.0732985347259596,
          0.07424704744401113,
          0.07519260551481267,
          0.07613477818394478,
          0.07707313970819475,
          0.07800727046662795,
          0.07893675806911572,
          0.07986119845618923,
          0.08078019698396875,
          0.08169336948782273,
          0.08260034331838058,
          0.08350075834352841,
          0.08439426791007348,
          0.08528053975887452,
          0.08615925688738797,
          0.08703011835379977,
          0.0878928400171573,
          0.08874715520823613,
          0.08959281532622917,
          0.09042959035674321,
          0.0912572693070401,
          0.09207566055494407,
          0.09288459210835907,
          0.09368391177290172,
          0.09447348722574382,
          0.09525320599436897,
          0.09602297533958788,
          0.09678272204280976,
          0.09753239209821771,
          0.09827195031118552,
          0.09900137980491636,
          0.09972068143796568,
          0.10042987313594802,
          0.10112898914137095,
          0.10181807918613715,
          0.1024972075918502,
          0.10316645230359846,
          0.10382590386340133,
          0.10447566432997461,
          0.105115846151873,
          0.10574657100144896,
          0.10636796857735899,
          0.10698017538360924,
          0.107583333493306,
          0.10817758930540669,
          0.10876309230281715,
          0.10933999382016961,
          0.10990844582953732,
          0.11046859975218913,
          0.11102060530428318,
          0.11156460938410999,
          0.11210075500816176,
          0.11262918030289619,
          0.11315001755861105,
          0.11366339235133203,
          0.1141694227380516,
          0.11466821853006633,
          0.1151598806484996,
          0.11564450056544584,
          0.11612215983344772,
          0.11659292970531962,
          0.11705687084558149,
          0.11751403313403241,
          0.11796445556125955,
          0.11840816621512916,
          0.11884518235660589,
          0.11927551058253148,
          0.11969914707233445,
          0.12011607791499357,
          0.12052627951198501,
          0.1209297190513847,
          0.12132635504778709,
          0.12171613794226133,
          0.12209901075615347,
          0.12247490979222783,
          0.12284376537635806,
          0.12320550263278311,
          0.12356004228580245,
          0.12390730148072004,
          0.12424719461684364,
          0.12457963418541589,
          0.12490453160548476,
          0.12522179805091688,
          0.12553134526201765,
          0.12583308633553292,
          0.1261269364871785,
          0.12641281378125802,
          0.12669063982239334,
          0.1269603404048883,
          0.12722184611577875,
          0.12747509288818237,
          0.12772002250213393,
          0.12795658303068833,
          0.12818472922966825,
          0.12840442287003062,
          0.12861563301241907,
          0.12881833622404573,
          0.12901251673860328,
          0.12919816656044425,
          0.1293752855147633,
          0.12954388124598407,
          0.1297039691669801,
          0.12985557236213455,
          0.12999872144757668,
          0.1301334543922101,
          0.1302598163033743,
          0.13037785918114603,
          0.13048764164540003,
          0.13058922863980482,
          0.13068269111691982,
          0.13076810570850778,
          0.13084555438505854,
          0.1309151241083567,
          0.1309769064807121,
          0.13103099739421115,
          0.13107749668305085,
          0.13111650778167439,
          0.1311481373910689,
          0.1311724951551819,
          0.13118969334900812,
          0.13119984657946707,
          0.13120307149975602,
          0.13119948653742783,
          0.1311892116360096,
          0.1311723680095577,
          0.1311490779091385,
          0.131119464399843,
          0.13108365114659332,
          0.13104176220667152,
          0.13099392182662697,
          0.13094025424097666,
          0.1308808834699157,
          0.1308159331131219,
          0.13074552613663584,
          0.13066978464977153,
          0.13058882966902,
          0.13050278086599554,
          0.1304117562965909,
          0.13031587210870352,
          0.13021524222612757,
          0.13010997800649682,
          0.13000018787150228,
          0.129885976907991,
          0.1297674464389743,
          0.12964469356403296,
          0.12951781066909634,
          0.12938688490609054,
          0.1292519976434758,
          0.129113223889251,
          0.12897063168854758,
          0.12882428149848965,
          0.12867422554354388,
          0.12852050715511043,
          0.12836316009961782,
          0.12820220789986617,
          0.1280376631548077,
          0.12786952686336953,
          0.12769778775827303,
          0.1275224216561282,
          0.1273433908303213,
          0.127160643413422,
          0.12697411283595134,
          0.12678371730842553,
          0.12658935935357687,
          0.126390925395573,
          0.12618828541291177,
          0.125981292661434,
          0.12576978347361403,
          0.12555357713991042,
          0.1253324758775323,
          0.12510626489147764,
          0.124874712532131,
          0.12463757055310204,
          0.12439457447230083,
          0.12414544403854133,
          0.12388988380519417,
          0.12362758381162263,
          0.12335822037231471,
          0.12308145697277756,
          0.12279694527041589,
          0.12250432619774668,
          0.12220323116446,
          0.1218932833539802,
          0.12157409910936558,
          0.12124528940258247,
          0.12090646138042874,
          0.1205572199796594,
          0.12019716960319572,
          0.11982591584868202,
          0.11944306728009955,
          0.11904823723266132,
          0.11864104564078859,
          0.11822112087864331,
          0.11778810160241547,
          0.11734163858340473,
          0.11688139652082989,
          0.11640705582330148,
          0.11591831434797782,
          0.11541488908658264,
          0.11489651778772708,
          0.11436296050530766,
          0.11381400106317718,
          0.1132494484267739,
          0.11266913797297252,
          0.11207293265005056,
          0.11146072402037206,
          0.1108324331791475,
          0.11018801154343913,
          0.10952744150644089,
          0.10885073695294632,
          0.10815794363285265,
          0.10744913939048137,
          0.10672443424846342,
          0.10598397034590024,
          0.10522792173146962,
          0.10445649401311015,
          0.10366992386684114,
          0.10286847840820233,
          0.1020524544306586,
          0.10122217751617404,
          0.10037800102394073,
          0.09952030496399782,
          0.09864949476316535,
          0.0977659999313318,
          0.09687027263670896,
          0.09596278619913728,
          0.09504403351096001,
          0.09411452539530786,
          0.09317478891191375,
          0.09222536562074701,
          0.09126680981388176,
          0.09029968672602891,
          0.08932457073411453,
          0.08834204355617985,
          0.08735269245965904,
          0.0863571084888477,
          0.08535588472102563,
          0.08434961456031725,
          0.08333889007790789,
          0.08232430040673978,
          0.08130643019825011,
          0.08028585814811946,
          0.07926315559736859,
          0.07823888521447184,
          0.07721359976347576,
          0.07618784096239073,
          0.07516213843541934,
          0.07413700876184269,
          0.07311295462367112,
          0.07209046405343993,
          0.07107000978281107,
          0.07005204869196702,
          0.06903702135908657,
          0.0680253517085644,
          0.06701744675600566,
          0.06601369644745601,
          0.06501447358977161,
          0.06402013386854381,
          0.06303101594952197,
          0.06204744165907278,
          0.061069716238844635,
          0.06009812866949191,
          0.05913295205804722,
          0.05817444408330736,
          0.057222847493444334,
          0.05627839064991623,
          0.05534128811170486,
          0.05441174125386924,
          0.053489938914428686,
          0.052576058063664,
          0.05167026449001829,
          0.0507727134969361,
          0.04988355060514565,
          0.049002912255114724,
          0.04813092650463453,
          0.04726771371676684,
          0.04641338723366753,
          0.045568054032103185,
          0.044731815356813025,
          0.04390476732818038,
          0.043087001521038226,
          0.04227860551176454,
          0.041479663391180206,
          0.04069025624110348,
          0.03991046257276259,
          0.039140358725599615,
          0.03838001922532758,
          0.037629517100424045,
          0.03688892415653864,
          0.03615831120859235,
          0.03543774827060844,
          0.034727304703583615,
          0.03402704932193164,
          0.033337050459268804,
          0.03265737599449883,
          0.03198809333934269,
          0.03132926938862629,
          0.03068097043477729,
          0.03004326204811907,
          0.02941620892465355,
          0.028799874703124746,
          0.028194321753231735,
          0.02759961093692782,
          0.02701580134479349,
          0.02644295000951173,
          0.025881111598508887,
          0.025330338087839764,
          0.02479067841941659,
          0.02426217814368128,
          0.02374487904983113,
          0.023238818785694854,
          0.02274403046936236,
          0.02226054229465385,
          0.02178837713250805,
          0.021327552130361076,
          0.02087807831157086,
          0.020439960176938516,
          0.02001319531035781,
          0.019597773990624328,
          0.019193678811414813,
          0.018800884311444905,
          0.018419356616798173,
          0.018049053097407224,
          0.01768992203965915,
          0.01734190233707411,
          0.017004923200995996,
          0.016678903893203794,
          0.016363753482330448,
          0.016059370625939616,
          0.015765643380073066,
          0.01548244903803231,
          0.015209654000102147,
          0.014947113675858853,
          0.014694672420628708,
          0.014452163507576568,
          0.014219409136802613,
          0.013996220482718173,
          0.013782397780844051,
          0.013577730455039788,
          0.013381997286023219,
          0.013194966621875224,
          0.013016396631052331,
          0.012846035598239464,
          0.012683622263179942,
          0.012528886202407675,
          0.012381548253589317,
          0.012241320981956877,
          0.01210790918807511,
          0.011981010455950373,
          0.0118603157402411,
          0.011745509991085432,
          0.011636272814813725,
          0.01153227916856928,
          0.011433200086618293,
          0.011338703435894779,
          0.011248454698098343,
          0.011162117775443554,
          0.011079355816955287,
          0.010999832062010405,
          0.010923210697652314,
          0.010849157726044629,
          0.010777341838294183,
          0.010707435290754604,
          0.010639114779828818,
          0.010572062311218433,
          0.010505966059522722,
          0.010440521214072278,
          0.01037543080688951,
          0.010310406518704499,
          0.010245169459017406,
          0.01017945091628935,
          0.010112993074461191,
          0.01004554969214448,
          0.009976886740999462,
          0.009906783000009889,
          0.009835030602584633,
          0.009761435533656694,
          0.009685818074213592,
          0.009608013190972967,
          0.00952787086921688,
          0.009445256387109255,
          0.009360050530147447,
          0.00927214974473293,
          0.009181466230189174,
          0.009087927968902136,
          0.008991478694607797,
          0.008892077799201918
         ],
         "yaxis": "y"
        },
        {
         "legendgroup": "Adelie Dist",
         "marker": {
          "color": "rgb(255, 127, 14)"
         },
         "mode": "lines",
         "name": "Adelie Dist",
         "showlegend": false,
         "type": "scatter",
         "x": [
          31.501621417718077,
          31.530206794051395,
          31.558792170384713,
          31.58737754671803,
          31.61596292305135,
          31.644548299384667,
          31.673133675717985,
          31.701719052051303,
          31.73030442838462,
          31.75888980471794,
          31.787475181051256,
          31.816060557384574,
          31.844645933717892,
          31.87323131005121,
          31.901816686384528,
          31.930402062717846,
          31.958987439051164,
          31.987572815384482,
          32.0161581917178,
          32.04474356805112,
          32.073328944384436,
          32.10191432071775,
          32.13049969705107,
          32.15908507338439,
          32.18767044971771,
          32.216255826051025,
          32.24484120238434,
          32.27342657871766,
          32.30201195505098,
          32.3305973313843,
          32.359182707717615,
          32.38776808405093,
          32.41635346038425,
          32.44493883671757,
          32.47352421305089,
          32.502109589384204,
          32.530694965717515,
          32.55928034205084,
          32.58786571838415,
          32.61645109471747,
          32.64503647105079,
          32.673621847384105,
          32.70220722371742,
          32.73079260005074,
          32.75937797638406,
          32.78796335271738,
          32.816548729050695,
          32.84513410538401,
          32.87371948171733,
          32.90230485805065,
          32.930890234383966,
          32.959475610717284,
          32.9880609870506,
          33.01664636338392,
          33.04523173971724,
          33.073817116050556,
          33.102402492383874,
          33.13098786871719,
          33.15957324505051,
          33.18815862138383,
          33.216743997717145,
          33.24532937405046,
          33.27391475038378,
          33.3025001267171,
          33.33108550305042,
          33.359670879383735,
          33.38825625571705,
          33.41684163205037,
          33.44542700838369,
          33.47401238471701,
          33.502597761050325,
          33.53118313738364,
          33.55976851371696,
          33.58835389005028,
          33.616939266383596,
          33.645524642716914,
          33.67411001905023,
          33.70269539538355,
          33.73128077171687,
          33.759866148050186,
          33.788451524383504,
          33.81703690071682,
          33.84562227705014,
          33.87420765338346,
          33.902793029716776,
          33.931378406050094,
          33.95996378238341,
          33.98854915871673,
          34.01713453505005,
          34.045719911383365,
          34.07430528771668,
          34.10289066405,
          34.13147604038332,
          34.16006141671664,
          34.188646793049955,
          34.21723216938327,
          34.24581754571659,
          34.27440292204991,
          34.30298829838323,
          34.331573674716545,
          34.36015905104986,
          34.38874442738318,
          34.4173298037165,
          34.445915180049816,
          34.474500556383134,
          34.50308593271645,
          34.53167130904977,
          34.56025668538308,
          34.588842061716406,
          34.61742743804972,
          34.646012814383035,
          34.67459819071635,
          34.70318356704967,
          34.73176894338299,
          34.760354319716306,
          34.788939696049624,
          34.81752507238294,
          34.84611044871626,
          34.87469582504958,
          34.903281201382896,
          34.931866577716214,
          34.96045195404953,
          34.98903733038285,
          35.01762270671617,
          35.046208083049486,
          35.0747934593828,
          35.10337883571612,
          35.13196421204944,
          35.16054958838276,
          35.189134964716075,
          35.21772034104939,
          35.24630571738271,
          35.27489109371603,
          35.30347647004935,
          35.332061846382665,
          35.36064722271598,
          35.3892325990493,
          35.41781797538262,
          35.44640335171594,
          35.474988728049254,
          35.50357410438257,
          35.53215948071589,
          35.56074485704921,
          35.589330233382526,
          35.617915609715844,
          35.64650098604916,
          35.67508636238248,
          35.7036717387158,
          35.732257115049116,
          35.760842491382434,
          35.78942786771575,
          35.81801324404907,
          35.84659862038239,
          35.875183996715705,
          35.90376937304902,
          35.93235474938234,
          35.96094012571566,
          35.98952550204898,
          36.018110878382295,
          36.04669625471561,
          36.07528163104893,
          36.10386700738225,
          36.13245238371557,
          36.161037760048885,
          36.1896231363822,
          36.21820851271552,
          36.24679388904884,
          36.275379265382156,
          36.303964641715474,
          36.33255001804879,
          36.36113539438211,
          36.38972077071543,
          36.41830614704874,
          36.446891523382064,
          36.475476899715375,
          36.5040622760487,
          36.53264765238202,
          36.561233028715336,
          36.589818405048646,
          36.61840378138197,
          36.64698915771528,
          36.67557453404861,
          36.70415991038192,
          36.73274528671524,
          36.761330663048554,
          36.78991603938187,
          36.81850141571519,
          36.84708679204851,
          36.875672168381826,
          36.90425754471514,
          36.93284292104846,
          36.96142829738178,
          36.9900136737151,
          37.018599050048415,
          37.04718442638173,
          37.07576980271505,
          37.10435517904837,
          37.13294055538169,
          37.161525931715005,
          37.19011130804832,
          37.21869668438164,
          37.24728206071496,
          37.27586743704828,
          37.304452813381594,
          37.33303818971491,
          37.36162356604823,
          37.39020894238155,
          37.418794318714866,
          37.447379695048184,
          37.4759650713815,
          37.50455044771482,
          37.53313582404814,
          37.561721200381456,
          37.590306576714774,
          37.61889195304809,
          37.64747732938141,
          37.67606270571473,
          37.704648082048045,
          37.73323345838136,
          37.76181883471468,
          37.790404211048,
          37.81898958738132,
          37.847574963714635,
          37.87616034004795,
          37.90474571638127,
          37.93333109271459,
          37.96191646904791,
          37.990501845381225,
          38.01908722171454,
          38.04767259804786,
          38.07625797438118,
          38.104843350714496,
          38.133428727047814,
          38.16201410338113,
          38.19059947971445,
          38.21918485604777,
          38.247770232381086,
          38.276355608714404,
          38.30494098504772,
          38.33352636138104,
          38.36211173771436,
          38.390697114047676,
          38.41928249038099,
          38.44786786671431,
          38.47645324304763,
          38.50503861938095,
          38.533623995714265,
          38.56220937204758,
          38.5907947483809,
          38.61938012471421,
          38.64796550104754,
          38.67655087738085,
          38.70513625371417,
          38.733721630047484,
          38.7623070063808,
          38.79089238271412,
          38.81947775904744,
          38.848063135380755,
          38.87664851171407,
          38.90523388804739,
          38.93381926438071,
          38.96240464071403,
          38.990990017047345,
          39.01957539338066,
          39.04816076971398,
          39.0767461460473,
          39.10533152238062,
          39.133916898713935,
          39.16250227504725,
          39.19108765138057,
          39.21967302771389,
          39.248258404047206,
          39.276843780380524,
          39.30542915671384,
          39.33401453304716,
          39.36259990938048,
          39.391185285713796,
          39.419770662047114,
          39.44835603838043,
          39.47694141471375,
          39.50552679104707,
          39.534112167380385,
          39.5626975437137,
          39.59128292004702,
          39.61986829638034,
          39.64845367271366,
          39.677039049046975,
          39.70562442538029,
          39.73420980171361,
          39.76279517804693,
          39.79138055438025,
          39.819965930713565,
          39.84855130704688,
          39.8771366833802,
          39.90572205971352,
          39.934307436046836,
          39.962892812380154,
          39.99147818871347,
          40.02006356504679,
          40.04864894138011,
          40.077234317713426,
          40.105819694046744,
          40.13440507038006,
          40.16299044671338,
          40.1915758230467,
          40.220161199380016,
          40.248746575713334,
          40.27733195204665,
          40.30591732837997,
          40.33450270471329,
          40.3630880810466,
          40.39167345737992,
          40.420258833713234,
          40.44884421004656,
          40.47742958637987,
          40.506014962713195,
          40.534600339046506,
          40.56318571537983,
          40.59177109171315,
          40.62035646804647,
          40.64894184437978,
          40.6775272207131,
          40.70611259704641,
          40.73469797337974,
          40.76328334971305,
          40.791868726046374,
          40.820454102379685,
          40.84903947871301,
          40.87762485504632,
          40.906210231379646,
          40.93479560771296,
          40.96338098404628,
          40.99196636037959,
          41.02055173671291,
          41.04913711304623,
          41.077722489379546,
          41.106307865712864,
          41.13489324204618,
          41.1634786183795,
          41.19206399471282,
          41.220649371046136,
          41.249234747379454,
          41.27782012371277,
          41.30640550004609,
          41.33499087637941,
          41.363576252712726,
          41.39216162904604,
          41.42074700537936,
          41.44933238171268,
          41.477917758046,
          41.506503134379315,
          41.53508851071263,
          41.56367388704595,
          41.59225926337927,
          41.62084463971259,
          41.649430016045905,
          41.67801539237922,
          41.70660076871254,
          41.73518614504586,
          41.76377152137918,
          41.792356897712494,
          41.82094227404581,
          41.84952765037913,
          41.87811302671245,
          41.906698403045766,
          41.935283779379084,
          41.9638691557124,
          41.99245453204572,
          42.02103990837904,
          42.049625284712356,
          42.078210661045674,
          42.10679603737899,
          42.13538141371231,
          42.16396679004563,
          42.192552166378945,
          42.22113754271226,
          42.24972291904558,
          42.2783082953789,
          42.30689367171222,
          42.33547904804553,
          42.36406442437885,
          42.392649800712164,
          42.42123517704549,
          42.4498205533788,
          42.478405929712125,
          42.50699130604544,
          42.53557668237876,
          42.56416205871208,
          42.592747435045396,
          42.621332811378714,
          42.64991818771203,
          42.67850356404534,
          42.70708894037867,
          42.73567431671198,
          42.764259693045304,
          42.792845069378615,
          42.82143044571194,
          42.85001582204525,
          42.878601198378576,
          42.907186574711886,
          42.93577195104521,
          42.96435732737852,
          42.99294270371184,
          43.02152808004516,
          43.050113456378476,
          43.078698832711794,
          43.10728420904511,
          43.13586958537843,
          43.16445496171175,
          43.193040338045066,
          43.22162571437838,
          43.2502110907117,
          43.27879646704502,
          43.30738184337834,
          43.335967219711655,
          43.36455259604497,
          43.39313797237829,
          43.42172334871161,
          43.45030872504493,
          43.478894101378245,
          43.50747947771156,
          43.53606485404488,
          43.5646502303782,
          43.59323560671152,
          43.621820983044834,
          43.65040635937815,
          43.67899173571147,
          43.70757711204479,
          43.736162488378106,
          43.764747864711424,
          43.79333324104474,
          43.82191861737806,
          43.85050399371138,
          43.879089370044696,
          43.907674746378014,
          43.93626012271133,
          43.96484549904465,
          43.99343087537797,
          44.022016251711285,
          44.0506016280446,
          44.07918700437792,
          44.10777238071124,
          44.13635775704456,
          44.164943133377875,
          44.19352850971119,
          44.22211388604451,
          44.25069926237783,
          44.27928463871115,
          44.307870015044465,
          44.33645539137778,
          44.36504076771109,
          44.39362614404442,
          44.422211520377736,
          44.450796896711054,
          44.47938227304437,
          44.50796764937769,
          44.53655302571101,
          44.565138402044326,
          44.593723778377644,
          44.62230915471096,
          44.65089453104427,
          44.6794799073776,
          44.70806528371091,
          44.73665066004423,
          44.765236036377544,
          44.79382141271087,
          44.82240678904418,
          44.850992165377505,
          44.879577541710816,
          44.90816291804414,
          44.93674829437745,
          44.96533367071078,
          44.99391904704409,
          45.022504423377406,
          45.051089799710724,
          45.07967517604404,
          45.10826055237736,
          45.13684592871068,
          45.165431305043995,
          45.19401668137731,
          45.22260205771063,
          45.25118743404395,
          45.27977281037727,
          45.308358186710585,
          45.3369435630439,
          45.36552893937722,
          45.39411431571054,
          45.42269969204386,
          45.451285068377175,
          45.47987044471049,
          45.50845582104381,
          45.53704119737713,
          45.565626573710446,
          45.594211950043764,
          45.62279732637708,
          45.6513827027104,
          45.67996807904372,
          45.708553455377036,
          45.737138831710354,
          45.76572420804367
         ],
         "xaxis": "x",
         "y": [
          0.005572879133121991,
          0.005761977194539815,
          0.005954904756350654,
          0.006151685849273643,
          0.006352344253323054,
          0.0065569032491630515,
          0.006765385339628477,
          0.006977811943102061,
          0.007194203060849265,
          0.007414576920814871,
          0.0076389496007747484,
          0.007867334634107194,
          0.008099742601796052,
          0.008336180714596981,
          0.00857665238958516,
          0.008821156825551449,
          0.009069688581922095,
          0.009322237166039051,
          0.009578786633751812,
          0.009839315208333274,
          0.01010379492274039,
          0.010372191290191712,
          0.010644463007929133,
          0.01092056169886769,
          0.011200431695616561,
          0.011484009871076584,
          0.011771225519486192,
          0.012062000291400938,
          0.012356248185654721,
          0.012653875600866452,
          0.012954781448529556,
          0.013258857329156982,
          0.01356598777235785,
          0.013876050541099506,
          0.014188916999766233,
          0.014504452544971668,
          0.014822517097422392,
          0.015142965652473944,
          0.015465648886372823,
          0.015790413814554965,
          0.016117104497764465,
          0.016445562791197417,
          0.016775629131348002,
          0.017107143354762887,
          0.01743994554249402,
          0.01777387688368714,
          0.01810878055146087,
          0.018444502584022957,
          0.018780892763841667,
          0.019117805487643805,
          0.01945510062004961,
          0.019792644323780202,
          0.020130309859585922,
          0.020467978349342268,
          0.020805539496143177,
          0.021142892255686118,
          0.02147994545378393,
          0.02181661834545262,
          0.02215284111170155,
          0.02248855529088899,
          0.022823714142291368,
          0.023158282940359137,
          0.023492239198987658,
          0.023825572826004355,
          0.02415828620895571,
          0.02449039423415327,
          0.024821924241799423,
          0.025152915920845977,
          0.025483421148029678,
          0.02581350377626924,
          0.026143239378284465,
          0.02647271495189911,
          0.026802028594007394,
          0.02713128915060657,
          0.02746061585062092,
          0.027790137931454344,
          0.02811999426430847,
          0.028450332987282646,
          0.028781311154129935,
          0.02911309440628104,
          0.029445856675359015,
          0.02977977992290344,
          0.03011505392339792,
          0.03045187609596208,
          0.030790451389229572,
          0.03113099222300193,
          0.031473718489246905,
          0.0318188576139177,
          0.03216664467991512,
          0.03251732261031072,
          0.03287114240971543,
          0.033228363460423106,
          0.03358925386870494,
          0.03395409085539167,
          0.03432316118367085,
          0.034696761615869334,
          0.03507519938989464,
          0.035458792704996446,
          0.03584787120559249,
          0.03624277645109564,
          0.03664386235899896,
          0.03705149560792984,
          0.037466055986988184,
          0.03788793667744361,
          0.03831754445279442,
          0.03875529978328568,
          0.03920163683125976,
          0.039657003324159834,
          0.04012186029263868,
          0.040596681662024924,
          0.041081953686381144,
          0.04157817421552463,
          0.042085851786687105,
          0.04260550453393734,
          0.043137658910075684,
          0.043682848217421244,
          0.04424161094572845,
          0.044814488917379575,
          0.0454020252419843,
          0.046004762084555256,
          0.04662323825350264,
          0.04725798661678134,
          0.04790953135660269,
          0.048578385075182355,
          0.049265045765997335,
          0.049969993666960796,
          0.05069368801376797,
          0.0514365637133935,
          0.05219902795932533,
          0.05298145681156151,
          0.05378419176568609,
          0.05460753633642885,
          0.05545175268201891,
          0.05631705829632663,
          0.05720362279625415,
          0.05811156483207062,
          0.05904094914838373,
          0.059991783823192674,
          0.06096401771197815,
          0.06195753812304605,
          0.06297216874936153,
          0.06400766788089288,
          0.06506372692002797,
          0.06613996922095401,
          0.06723594927199901,
          0.06835115223784385,
          0.06948499387623831,
          0.0706368208414103,
          0.07180591138375979,
          0.07299147645270372,
          0.07419266120669979,
          0.07540854693155057,
          0.07663815336510092,
          0.07788044142340483,
          0.07913431632039321,
          0.08039863107002714,
          0.08167219035691299,
          0.08295375475840111,
          0.08424204529831508,
          0.08553574830969227,
          0.08683352058127082,
          0.08813399475996875,
          0.08943578497927586,
          0.09073749268135176,
          0.09203771259869156,
          0.09333503885953172,
          0.09462807117970207,
          0.09591542110243113,
          0.09719571824666927,
          0.0984676165238322,
          0.09972980028248275,
          0.10098099034038051,
          0.10221994986351807,
          0.10344549005226811,
          0.10465647559552814,
          0.10585182985485343,
          0.10703053974189161,
          0.1081916602541093,
          0.10933431863567185,
          0.1104577181325365,
          0.11156114131320001,
          0.11264395292923281,
          0.11370560229253693,
          0.11474562514938952,
          0.11576364503451592,
          0.11675937409189303,
          0.11773261335247087,
          0.11868325246269358,
          0.1196112688614174,
          0.1205167264066383,
          0.1213997734572844,
          0.1222606404191817,
          0.123099636768138,
          0.12391714756688275,
          0.12471362949631618,
          0.12548960642514073,
          0.12624566454543013,
          0.12698244710501427,
          0.12770064877070822,
          0.12840100965932807,
          0.12908430907613164,
          0.1297513590027442,
          0.13040299737876002,
          0.13104008122304575,
          0.1316634796422632,
          0.1322740667752874,
          0.13287271472298307,
          0.133460286513224,
          0.13403762915107872,
          0.13460556680372304,
          0.13516489416890998,
          0.13571637007467696,
          0.1362607113564539,
          0.13679858705582779,
          0.1373306129829448,
          0.1378573466819032,
          0.1383792828355215,
          0.13889684914258996,
          0.13941040269714355,
          0.1399202268954615,
          0.1404265288924456,
          0.14092943762477245,
          0.141429002413805,
          0.1419251921567199,
          0.1424178951096962,
          0.14290691926237117,
          0.14339199329812374,
          0.14387276813016112,
          0.1443488189988881,
          0.14481964811166456,
          0.14528468780188397,
          0.14574330418031944,
          0.14619480124796538,
          0.14663842543617606,
          0.14707337053677338,
          0.14749878298203886,
          0.1479137674321031,
          0.14831739262524574,
          0.1487086974450159,
          0.1490866971569234,
          0.14945038976669367,
          0.14979876245176965,
          0.15013079801786341,
          0.15044548133288904,
          0.15074180569156384,
          0.15101877906530956,
          0.15127543019380113,
          0.1515108144765864,
          0.15172401962560159,
          0.15191417104210225,
          0.15208043688447845,
          0.15222203279662896,
          0.15233822626992435,
          0.1524283406153434,
          0.15249175852599525,
          0.1525279252139821,
          0.15253635110930266,
          0.15251661411227177,
          0.15246836139464442,
          0.1523913107482948,
          0.15228525148383545,
          0.15215004488498157,
          0.1519856242276998,
          0.15179199437623644,
          0.15156923097095443,
          0.1513174792255184,
          0.1510369523533093,
          0.1507279296450572,
          0.15039075422148143,
          0.15002583048628437,
          0.14963362130609553,
          0.14921464494494385,
          0.14876947178153738,
          0.14829872083806306,
          0.14780305614938213,
          0.14728318300141693,
          0.1467398440671999,
          0.14617381546851713,
          0.14558590279031886,
          0.1449769370741356,
          0.1443477708156272,
          0.14369927399013427,
          0.14303233012870872,
          0.14234783246560792,
          0.14164668017664306,
          0.1409297747261236,
          0.14019801633842835,
          0.13945230060850314,
          0.1386935152638396,
          0.13792253708874533,
          0.13714022902000034,
          0.13634743742131425,
          0.13554498954236405,
          0.13473369116663342,
          0.13391432445077367,
          0.13308764595680755,
          0.13225438487717386,
          0.13141524145140457,
          0.13057088557210392,
          0.12972195557691008,
          0.12886905722221687,
          0.1280127628336624,
          0.1271536106277251,
          0.1262921041982079,
          0.12542871216095253,
          0.1245638679497783,
          0.12369796975640587,
          0.12283138060697724,
          0.1219644285677286,
          0.12109740707239952,
          0.12023057536406258,
          0.11936415904421903,
          0.11849835072224293,
          0.11763331075850925,
          0.11676916809487753,
          0.11590602116652303,
          0.11504393888949425,
          0.11418296171873078,
          0.11332310277168013,
          0.11246434901300739,
          0.11160666249627295,
          0.11074998165878668,
          0.10989422266617557,
          0.10903928080347393,
          0.10818503190981137,
          0.10733133385395655,
          0.10647802804815845,
          0.10562494099781267,
          0.10477188588456295,
          0.10391866418043412,
          0.10306506729056825,
          0.10221087822202483,
          0.10135587327597516,
          0.10049982376041756,
          0.09964249772031886,
          0.0987836616818033,
          0.09792308240671045,
          0.09706052865349962,
          0.09619577294012505,
          0.09532859330412068,
          0.09445877505475116,
          0.09358611251168998,
          0.09271041072429556,
          0.09183148716517865,
          0.09094917339139211,
          0.09006331666623289,
          0.08917378153434376,
          0.08828045134252438,
          0.08738322969844331,
          0.08648204185925731,
          0.08557683604202515,
          0.08466758464773942,
          0.08375428539079854,
          0.08283696232581114,
          0.08191566676376093,
          0.08099047806977629,
          0.08006150433503142,
          0.07912888291567467,
          0.07819278083211376,
          0.0772533950225135,
          0.0763109524449455,
          0.07536571002330247,
          0.07441795443282798,
          0.07346800172191556,
          0.07251619676770893,
          0.07156291256396242,
          0.07060854934061087,
          0.06965353351553218,
          0.06869831648006597,
          0.06774337322096237,
          0.0667892007825786,
          0.06583631657429657,
          0.06488525652930797,
          0.0639365731220762,
          0.0629908332529493,
          0.06204861600953478,
          0.061110510315554194,
          0.06017711247896662,
          0.059249023652162655,
          0.058326847217982015,
          0.05741118611618842,
          0.05650264012583551,
          0.05560180311963622,
          0.05470926030708119,
          0.05382558548348837,
          0.05295133830257583,
          0.05208706159033564,
          0.051233278718120716,
          0.05039049105278716,
          0.049559175501554205,
          0.04873978216890401,
          0.04793273214234961,
          0.04713841542326261,
          0.046357189018168064,
          0.045589375204959544,
          0.04483525998744226,
          0.044095091750362386,
          0.04336908012577733,
          0.04265739508013264,
          0.041960166229870755,
          0.04127748239171595,
          0.040609391372058004,
          0.039955899998029565,
          0.03931697439103403,
          0.03869254048157213,
          0.03808248476232213,
          0.03748665527451572,
          0.03690486282077558,
          0.036336882395734384,
          0.03578245482397491,
          0.03524128859312392,
          0.03471306186832521,
          0.034197424672817306,
          0.033694001217977256,
          0.03320239236496567,
          0.03272217819904478,
          0.032252920696744465,
          0.03179416646533762,
          0.03134544953355885,
          0.030906294172172083,
          0.030476217722860275,
          0.030054733413983084,
          0.02964135314202199,
          0.029235590198005184,
          0.02883696191887275,
          0.028444992244599704,
          0.028059214162929728,
          0.027679172024775812,
          0.02730442371470381,
          0.026934542662413675,
          0.026569119682755774,
          0.026207764633549752,
          0.02585010788228949,
          0.02549580157469999,
          0.025144520700043634,
          0.02479596395002593,
          0.0244498543701116,
          0.024105939804000987,
          0.02376399313392143,
          0.023423812321230905,
          0.023085220253596963,
          0.022748064406684188,
          0.022412216329836556,
          0.02207757096666883,
          0.02174404582276241,
          0.02141157999378938,
          0.021080133068350704,
          0.02074968392060347,
          0.020420229408364143,
          0.020091782992802558,
          0.0197643732960881,
          0.01943804261341254,
          0.019112845395701128,
          0.018788846719031325,
          0.018466120756329914,
          0.018144749266303984,
          0.017824820113807767,
          0.017506425834957384,
          0.017189662259297606,
          0.016874627200212777,
          0.016561419223573955,
          0.016250136503343324,
          0.015940875771532838,
          0.015633731368548835,
          0.015328794398578774,
          0.015026151993286021,
          0.01472588668571657,
          0.014428075894975925,
          0.014132791520948146,
          0.01384009964708791,
          0.013550060348162835,
          0.013262727598736052,
          0.012978149277206714,
          0.012696367259330711,
          0.012417417594385324,
          0.01214133075647142,
          0.011868131962914521,
          0.011597841551302307,
          0.011330475406397015,
          0.011066045427980516,
          0.010804560030625243,
          0.010546024666431848,
          0.010290442361929514,
          0.010037814260589849,
          0.009788140162753452,
          0.009541419055200815,
          0.009297649623107343,
          0.009056830737695932,
          0.008818961913530037,
          0.00858404373006416,
          0.008352078212779527,
          0.008123069169964966,
          0.007897022481952235,
          0.007673946340366856,
          0.00745385143570254,
          0.0072367510922605235,
          0.0070226613502048915,
          0.006811600995165432,
          0.006603591536462427,
          0.006398657135627552
         ],
         "yaxis": "y"
        },
        {
         "legendgroup": "Gentoo",
         "marker": {
          "color": "rgb(44, 160, 44)"
         },
         "mode": "lines",
         "name": "Gentoo",
         "showlegend": false,
         "type": "scatter",
         "x": [
          40.9,
          40.9374,
          40.9748,
          41.0122,
          41.0496,
          41.086999999999996,
          41.1244,
          41.1618,
          41.1992,
          41.236599999999996,
          41.274,
          41.3114,
          41.3488,
          41.386199999999995,
          41.4236,
          41.461,
          41.4984,
          41.5358,
          41.5732,
          41.6106,
          41.647999999999996,
          41.6854,
          41.7228,
          41.7602,
          41.797599999999996,
          41.835,
          41.8724,
          41.9098,
          41.9472,
          41.9846,
          42.022,
          42.0594,
          42.0968,
          42.1342,
          42.1716,
          42.208999999999996,
          42.2464,
          42.2838,
          42.3212,
          42.358599999999996,
          42.396,
          42.4334,
          42.4708,
          42.5082,
          42.5456,
          42.583,
          42.6204,
          42.6578,
          42.6952,
          42.7326,
          42.769999999999996,
          42.8074,
          42.8448,
          42.8822,
          42.9196,
          42.957,
          42.9944,
          43.0318,
          43.0692,
          43.1066,
          43.144,
          43.1814,
          43.2188,
          43.2562,
          43.2936,
          43.330999999999996,
          43.3684,
          43.4058,
          43.4432,
          43.480599999999995,
          43.518,
          43.5554,
          43.5928,
          43.6302,
          43.6676,
          43.705,
          43.742399999999996,
          43.7798,
          43.8172,
          43.8546,
          43.891999999999996,
          43.9294,
          43.9668,
          44.0042,
          44.0416,
          44.079,
          44.1164,
          44.1538,
          44.1912,
          44.2286,
          44.266,
          44.303399999999996,
          44.3408,
          44.3782,
          44.4156,
          44.452999999999996,
          44.4904,
          44.5278,
          44.5652,
          44.602599999999995,
          44.64,
          44.6774,
          44.7148,
          44.7522,
          44.7896,
          44.827,
          44.864399999999996,
          44.9018,
          44.9392,
          44.9766,
          45.013999999999996,
          45.0514,
          45.0888,
          45.1262,
          45.1636,
          45.201,
          45.2384,
          45.2758,
          45.3132,
          45.3506,
          45.388,
          45.425399999999996,
          45.4628,
          45.5002,
          45.5376,
          45.575,
          45.6124,
          45.6498,
          45.6872,
          45.724599999999995,
          45.762,
          45.7994,
          45.8368,
          45.8742,
          45.9116,
          45.949,
          45.986399999999996,
          46.0238,
          46.0612,
          46.0986,
          46.135999999999996,
          46.1734,
          46.2108,
          46.2482,
          46.2856,
          46.323,
          46.3604,
          46.3978,
          46.4352,
          46.4726,
          46.51,
          46.547399999999996,
          46.5848,
          46.6222,
          46.6596,
          46.697,
          46.7344,
          46.7718,
          46.8092,
          46.8466,
          46.884,
          46.9214,
          46.9588,
          46.9962,
          47.0336,
          47.071,
          47.108399999999996,
          47.1458,
          47.1832,
          47.2206,
          47.257999999999996,
          47.2954,
          47.3328,
          47.3702,
          47.4076,
          47.445,
          47.4824,
          47.519800000000004,
          47.5572,
          47.5946,
          47.632,
          47.6694,
          47.7068,
          47.7442,
          47.7816,
          47.819,
          47.8564,
          47.8938,
          47.9312,
          47.9686,
          48.006,
          48.0434,
          48.080799999999996,
          48.1182,
          48.1556,
          48.193,
          48.2304,
          48.2678,
          48.3052,
          48.3426,
          48.38,
          48.4174,
          48.4548,
          48.4922,
          48.5296,
          48.567,
          48.6044,
          48.6418,
          48.6792,
          48.7166,
          48.754,
          48.7914,
          48.8288,
          48.8662,
          48.9036,
          48.941,
          48.9784,
          49.0158,
          49.053200000000004,
          49.0906,
          49.128,
          49.1654,
          49.202799999999996,
          49.2402,
          49.2776,
          49.315,
          49.3524,
          49.3898,
          49.4272,
          49.464600000000004,
          49.502,
          49.5394,
          49.5768,
          49.6142,
          49.6516,
          49.689,
          49.7264,
          49.7638,
          49.8012,
          49.8386,
          49.876000000000005,
          49.913399999999996,
          49.9508,
          49.9882,
          50.0256,
          50.063,
          50.1004,
          50.1378,
          50.1752,
          50.2126,
          50.25,
          50.2874,
          50.324799999999996,
          50.3622,
          50.3996,
          50.437,
          50.4744,
          50.5118,
          50.5492,
          50.586600000000004,
          50.624,
          50.6614,
          50.6988,
          50.7362,
          50.7736,
          50.811,
          50.8484,
          50.8858,
          50.9232,
          50.9606,
          50.998000000000005,
          51.035399999999996,
          51.0728,
          51.1102,
          51.1476,
          51.185,
          51.2224,
          51.2598,
          51.297200000000004,
          51.3346,
          51.372,
          51.4094,
          51.446799999999996,
          51.4842,
          51.5216,
          51.559,
          51.5964,
          51.6338,
          51.6712,
          51.708600000000004,
          51.746,
          51.7834,
          51.8208,
          51.858200000000004,
          51.8956,
          51.933,
          51.9704,
          52.0078,
          52.0452,
          52.0826,
          52.120000000000005,
          52.1574,
          52.1948,
          52.2322,
          52.2696,
          52.307,
          52.3444,
          52.3818,
          52.419200000000004,
          52.4566,
          52.494,
          52.5314,
          52.568799999999996,
          52.6062,
          52.6436,
          52.681,
          52.7184,
          52.7558,
          52.7932,
          52.830600000000004,
          52.868,
          52.9054,
          52.9428,
          52.9802,
          53.0176,
          53.055,
          53.0924,
          53.1298,
          53.1672,
          53.2046,
          53.242000000000004,
          53.2794,
          53.3168,
          53.3542,
          53.3916,
          53.429,
          53.4664,
          53.5038,
          53.5412,
          53.5786,
          53.616,
          53.6534,
          53.690799999999996,
          53.7282,
          53.7656,
          53.803,
          53.8404,
          53.8778,
          53.9152,
          53.952600000000004,
          53.99,
          54.0274,
          54.064800000000005,
          54.1022,
          54.1396,
          54.177,
          54.2144,
          54.2518,
          54.2892,
          54.3266,
          54.364000000000004,
          54.4014,
          54.4388,
          54.4762,
          54.5136,
          54.551,
          54.5884,
          54.6258,
          54.6632,
          54.7006,
          54.738,
          54.7754,
          54.8128,
          54.8502,
          54.8876,
          54.925,
          54.9624,
          54.9998,
          55.0372,
          55.074600000000004,
          55.112,
          55.1494,
          55.186800000000005,
          55.2242,
          55.2616,
          55.299,
          55.3364,
          55.3738,
          55.4112,
          55.4486,
          55.486000000000004,
          55.5234,
          55.5608,
          55.5982,
          55.6356,
          55.673,
          55.7104,
          55.7478,
          55.7852,
          55.8226,
          55.86,
          55.8974,
          55.9348,
          55.9722,
          56.0096,
          56.047,
          56.0844,
          56.1218,
          56.1592,
          56.196600000000004,
          56.234,
          56.2714,
          56.308800000000005,
          56.3462,
          56.3836,
          56.421,
          56.4584,
          56.4958,
          56.5332,
          56.5706,
          56.608000000000004,
          56.6454,
          56.6828,
          56.720200000000006,
          56.7576,
          56.795,
          56.8324,
          56.8698,
          56.9072,
          56.9446,
          56.982,
          57.019400000000005,
          57.0568,
          57.0942,
          57.131600000000006,
          57.169,
          57.2064,
          57.2438,
          57.2812,
          57.3186,
          57.356,
          57.3934,
          57.430800000000005,
          57.468199999999996,
          57.5056,
          57.543000000000006,
          57.5804,
          57.6178,
          57.65520000000001,
          57.6926,
          57.730000000000004,
          57.767399999999995,
          57.8048,
          57.842200000000005,
          57.879599999999996,
          57.917,
          57.9544,
          57.9918,
          58.0292,
          58.0666,
          58.104,
          58.141400000000004,
          58.1788,
          58.2162,
          58.253600000000006,
          58.291000000000004,
          58.3284,
          58.3658,
          58.4032,
          58.4406,
          58.478,
          58.5154,
          58.552800000000005,
          58.5902,
          58.6276,
          58.665000000000006,
          58.7024,
          58.7398,
          58.77720000000001,
          58.8146,
          58.852000000000004,
          58.889399999999995,
          58.9268,
          58.964200000000005,
          59.001599999999996,
          59.039,
          59.0764,
          59.1138,
          59.1512,
          59.1886,
          59.226,
          59.263400000000004,
          59.3008,
          59.3382,
          59.375600000000006,
          59.413000000000004,
          59.4504,
          59.4878,
          59.5252,
          59.5626
         ],
         "xaxis": "x",
         "y": [
          0.012252600345973806,
          0.012687199921513398,
          0.013132353581962932,
          0.013588134309771476,
          0.014054605956715071,
          0.01453182264617449,
          0.0150198281871754,
          0.015518655505992645,
          0.016028326101365203,
          0.016548849529561396,
          0.017080222925671944,
          0.017622430567592034,
          0.01817544348916738,
          0.01873921914893085,
          0.01931370116073598,
          0.019898819092395402,
          0.020494488338170413,
          0.0211006100705994,
          0.021717071276739282,
          0.022343744883385044,
          0.02298048997525845,
          0.023627152109501438,
          0.024283563729091896,
          0.024949544677005078,
          0.02562490281209441,
          0.0263094347267591,
          0.027002926565503408,
          0.027705154942505313,
          0.02841588795526639,
          0.029134886290374258,
          0.029861904416331783,
          0.03059669185734214,
          0.0313389945408718,
          0.03208855621077863,
          0.03284511989677653,
          0.033608429430046466,
          0.03437823099389519,
          0.03515427469751854,
          0.0359363161601768,
          0.036724118092406104,
          0.0375174518603423,
          0.038316099018764115,
          0.03911985279814831,
          0.039928519530816026,
          0.04074192000119328,
          0.041559890705294984,
          0.042382285004757166,
          0.043208974161139925,
          0.04403984823674074,
          0.04487481684886014,
          0.045713809765281735,
          0.046556777329728904,
          0.04740369070717636,
          0.048254541940161946,
          0.04910934380863193,
          0.04996812948735338,
          0.050830951996547795,
          0.051697883443083056,
          0.052569014051355646,
          0.05344445098481464,
          0.05432431696097558,
          0.05520874866465909,
          0.05609789496611783,
          0.05699191495260219,
          0.057890975783786866,
          0.05879525038329602,
          0.05970491498030376,
          0.06062014651684764,
          0.06154111993803123,
          0.0624680053837132,
          0.06340096530155953,
          0.0643401515024446,
          0.065285702180149,
          0.06623773891804452,
          0.06719636370604504,
          0.0681616559914543,
          0.0691336697875077,
          0.07011243086334353,
          0.07109793403887828,
          0.07209014060756996,
          0.07308897590936418,
          0.07409432707521822,
          0.0751060409634952,
          0.07612392230724761,
          0.07714773208992597,
          0.0781771861654448,
          0.07921195413674527,
          0.08025165850510227,
          0.08129587410039758,
          0.08234412780047987,
          0.08339589854554452,
          0.0844506176512386,
          0.08550766942193616,
          0.08656639206335691,
          0.08762607889146383,
          0.08868597983233802,
          0.08974530320559915,
          0.090803217781835,
          0.09185885510254589,
          0.09291131204922284,
          0.09395965364645409,
          0.09500291608236343,
          0.09604010992824608,
          0.09707022353801437,
          0.09809222660696802,
          0.09910507386852276,
          0.10010770890679506,
          0.1010990680624463,
          0.10207808440884014,
          0.10304369177544069,
          0.10399482879541744,
          0.1049304429546487,
          0.10584949461971478,
          0.10675096102302241,
          0.10763384018391865,
          0.10849715474548641,
          0.10933995570770311,
          0.11016132603870424,
          0.11096038414708954,
          0.11173628719945748,
          0.11248823426867674,
          0.113215469299779,
          0.1139172838817542,
          0.11459301981496163,
          0.11524207146528795,
          0.11586388789760495,
          0.11645797478247444,
          0.11702389607140057,
          0.11756127543725674,
          0.11806979747776035,
          0.11854920868108146,
          0.11899931815378849,
          0.11941999811240311,
          0.11981118414080383,
          0.12017287521662595,
          0.12050513351062149,
          0.12080808396367908,
          0.12108191364687006,
          0.12132687091046335,
          0.12154326432837076,
          0.12173146144492132,
          0.12189188733124985,
          0.1220250229589022,
          0.12213140339853702,
          0.12221161585182862,
          0.12226629752486422,
          0.12229613335148824,
          0.12230185357517588,
          0.12228423119813224,
          0.12224407930641053,
          0.12218224827993161,
          0.12209962289637563,
          0.12199711933799443,
          0.1218756821104898,
          0.12173628088318413,
          0.12157990725981506,
          0.12140757148939037,
          0.12122029912664545,
          0.12101912765177068,
          0.12080510305919268,
          0.1205792764253215,
          0.12034270046529441,
          0.1200964260888714,
          0.11984149896574348,
          0.1195789561106175,
          0.11930982249851792,
          0.11903510772081356,
          0.11875580269250607,
          0.11847287642132266,
          0.1181872728491272,
          0.11789990777609279,
          0.11761166587796888,
          0.11732339782661559,
          0.11703591752377746,
          0.11674999945780844,
          0.1164663761927541,
          0.11618573599883734,
          0.11590872063297773,
          0.1156359232775124,
          0.11536788664476869,
          0.11510510125457282,
          0.11484800389117045,
          0.11459697624537932,
          0.11435234374710243,
          0.11411437459260441,
          0.11388327897019812,
          0.11365920848720597,
          0.11344225580026761,
          0.11323245445024976,
          0.11302977890220035,
          0.11283414478996863,
          0.11264540936430319,
          0.11246337214243643,
          0.11228777575637905,
          0.11211830699638785,
          0.11195459804533024,
          0.11179622789896897,
          0.11164272396651621,
          0.11149356384517876,
          0.11134817726182591,
          0.11120594817436655,
          0.11106621702491991,
          0.11092828313641481,
          0.11079140724384429,
          0.11065481415104048,
          0.1105176955035285,
          0.11037921266774288,
          0.11023849970667225,
          0.11009466644181205,
          0.10994680159116407,
          0.10979397597291515,
          0.10963524576435624,
          0.10946965580556149,
          0.10929624293733509,
          0.10911403936294847,
          0.10892207602322321,
          0.10871938597457415,
          0.10850500775969697,
          0.10827798876067823,
          0.10803738852440121,
          0.10778228205024276,
          0.10751176303017605,
          0.10722494703153303,
          0.10692097461282483,
          0.10659901436317536,
          0.1062582658560898,
          0.10589796250846086,
          0.10551737433590444,
          0.10511581059572668,
          0.10469262230905069,
          0.1042472046538693,
          0.10377899922106126,
          0.10328749612569758,
          0.10277223596627694,
          0.10223281162488275,
          0.10166886990162365,
          0.10108011297713947,
          0.10046629969739564,
          0.09982724667547903,
          0.0991628292056323,
          0.09847298198532424,
          0.09775769964176688,
          0.09701703705991983,
          0.09625110950972875,
          0.09546009257103685,
          0.09464422185539587,
          0.09380379252476818,
          0.09293915860794721,
          0.09205073211636122,
          0.0911389819617945,
          0.09020443267944471,
          0.08924766296061945,
          0.08826930400028836,
          0.08727003766558192,
          0.08625059449223514,
          0.08521175151682148,
          0.08415432995349134,
          0.08307919272472605,
          0.08198724185640426,
          0.08087941574820806,
          0.07975668633107272,
          0.07862005612400358,
          0.0774705552031379,
          0.07630923809641298,
          0.07513718061759779,
          0.07395547665378412,
          0.07276523492064789,
          0.07156757569996011,
          0.07036362757387261,
          0.06915452417045635,
          0.06794140093486413,
          0.06672539194023369,
          0.06550762675214936,
          0.06428922736006372,
          0.06307130518857873,
          0.06185495820091006,
          0.06064126810619254,
          0.0594312976815479,
          0.058226088219030636,
          0.05702665710670629,
          0.05583399555218118,
          0.054649066455956054,
          0.05347280244094772,
          0.052306104043506156,
          0.05114983807018275,
          0.05000483612344878,
          0.048871893298484195,
          0.047751767052095405,
          0.04664517624376897,
          0.04555280034783986,
          0.04447527883476407,
          0.04341321071851413,
          0.0423671542662282,
          0.041337626865365636,
          0.04032510504283943,
          0.03933002462985749,
          0.03835278106554138,
          0.03739372983180608,
          0.036453187011462794,
          0.03553142996107922,
          0.03462869808976995,
          0.03374519373482227,
          0.032881083124853924,
          0.032036497421102754,
          0.031211533827391096,
          0.030406256759355408,
          0.02962069906364006,
          0.028854863277919814,
          0.028108722922872965,
          0.027382223817509557,
          0.026675285409623297,
          0.025987802113531848,
          0.02531964464771835,
          0.024670661365461886,
          0.024040679572061335,
          0.023429506822789336,
          0.022836932196266323,
          0.022262727538514018,
          0.02170664867351128,
          0.02116843657665944,
          0.020647818508119985,
          0.02014450910355303,
          0.019658211420324086,
          0.01918861793777098,
          0.018735411510626007,
          0.018298266275156558,
          0.017876848508041856,
          0.017470817438406304,
          0.01707982601381829,
          0.016703521621397818,
          0.016341546765492564,
          0.015993539703642815,
          0.015659135042793995,
          0.015337964297906981,
          0.015029656415275296,
          0.014733838262981332,
          0.01445013509100901,
          0.014178170963587698,
          0.01391756916636296,
          0.01366795259098627,
          0.013428944099678892,
          0.01320016687227223,
          0.012981244738141096,
          0.01277180249534914,
          0.012571466219206821,
          0.01237986356230641,
          0.012196624047956139,
          0.012021379358774752,
          0.011853763622045222,
          0.011693413693254289,
          0.011539969439068938,
          0.01139307402082426,
          0.011252374179418266,
          0.01111752052233375,
          0.01098816781333113,
          0.010863975265188586,
          0.010744606835697492,
          0.01062973152696434,
          0.010519023687915647,
          0.010412163319758649,
          0.0103088363840125,
          0.010208735112596547,
          0.010111558319342209,
          0.010017011712184136,
          0.00992480820518551,
          0.009834668229458998,
          0.009746320041964027,
          0.009659500031085701,
          0.009573953017839266,
          0.009489432551487563,
          0.009405701198315337,
          0.0093225308222678,
          0.009239702856134306,
          0.009157008561941104,
          0.009074249279207315,
          0.00899123665972079,
          0.008907792887497714,
          0.008823750882609921,
          0.008738954487589158,
          0.008653258635154442,
          0.008566529496052171,
          0.008478644605850547,
          0.008389492969592302,
          0.008298975143276799,
          0.008207003291220757,
          0.008113501218430425,
          0.008018404377210523,
          0.007921659847333144,
          0.007823226289195875,
          0.00772307386950922,
          0.007621184159170217,
          0.007517550003101452,
          0.0074121753619591085,
          0.007305075125745049,
          0.007196274899487645,
          0.00708581076129155,
          0.006973728993189766,
          0.006860085785366398,
          0.006744946914451336,
          0.0066283873967189965,
          0.006510491117151019,
          0.006391350435445948,
          0.006271065770177357,
          0.006149745162412751,
          0.006027503820210479,
          0.005904463645507473,
          0.005780752744997186,
          0.005656504926674742,
          0.005531859183790491,
          0.005406959168010519,
          0.0052819526536231065,
          0.005156990994662588,
          0.00503222857683949,
          0.004907822266172605,
          0.004783930856210194,
          0.004660714515710961,
          0.004538334238621881,
          0.004416951298148755,
          0.004296726706661663,
          0.004177820683111959,
          0.004060392129566428,
          0.003944598118379771,
          0.003830593391438775,
          0.0037185298728148195,
          0.0036085561960612755,
          0.003500817247286024,
          0.003395453725024071,
          0.003292601717824509,
          0.0031923923003586746,
          0.0030949511487492285,
          0.003000398175713891,
          0.002908847186018875,
          0.0028204055526391126,
          0.002735173913933861,
          0.0026532458920626605,
          0.002574707832791459,
          0.002499638566771582,
          0.0024281091923165172,
          0.0023601828796518723,
          0.0022959146965749137,
          0.0022353514554298982,
          0.002178531581283824,
          0.002125485001176452,
          0.0020762330543136615,
          0.0020307884230782143,
          0.0019891550847431043,
          0.001951328283789443,
          0.0019172945247536797,
          0.0018870315855546175,
          0.0018605085512792376,
          0.0018376858684361114,
          0.0018185154197151456,
          0.001802940619319626,
          0.001790896528962385,
          0.0017823099946378891,
          0.0017770998042972448,
          0.0017751768665609181,
          0.0017764444106035291,
          0.0017807982073356388,
          0.0017881268119874741,
          0.001798311828168791,
          0.0018112281934366628,
          0.0018267444863484168,
          0.0018447232549102905,
          0.0018650213662532824,
          0.0018874903772763997,
          0.001911976925894887,
          0.0019383231424166135,
          0.0019663670804460015,
          0.0019959431665809565,
          0.0020268826680271165,
          0.002059014177105418,
          0.0020921641114760134,
          0.0021261572287452086,
          0.0021608171539642704,
          0.0021959669183718514,
          0.0022314295075768972,
          0.002267028417229477,
          0.002302588214082913,
          0.002337935100217448,
          0.002372897478071378,
          0.0024073065138157314,
          0.0024409966965131366,
          0.0024738063904222903,
          0.002505578377749411,
          0.0025361603891067546,
          0.0025654056189186856,
          0.0025931732230179937,
          0.0026193287957000187,
          0.0026437448235505294,
          0.002666301113435447,
          0.002686885192135904,
          0.002705392675231237,
          0.0027217276029745186,
          0.002735802741068675,
          0.0027475398444363366,
          0.0027568698822806577,
          0.002763733222956615,
          0.0027680797774107726,
          0.002769869100199904
         ],
         "yaxis": "y"
        },
        {
         "legendgroup": "Gentoo Dist",
         "marker": {
          "color": "rgb(214, 39, 40)"
         },
         "mode": "lines",
         "name": "Gentoo Dist",
         "showlegend": false,
         "type": "scatter",
         "x": [
          37.09990155135973,
          37.1363857786943,
          37.17287000602887,
          37.20935423336344,
          37.24583846069802,
          37.282322688032586,
          37.318806915367155,
          37.35529114270173,
          37.3917753700363,
          37.428259597370875,
          37.464743824705444,
          37.50122805204001,
          37.53771227937459,
          37.57419650670916,
          37.61068073404373,
          37.6471649613783,
          37.68364918871287,
          37.720133416047446,
          37.756617643382015,
          37.79310187071659,
          37.82958609805116,
          37.86607032538573,
          37.902554552720304,
          37.93903878005487,
          37.97552300738945,
          38.01200723472402,
          38.048491462058585,
          38.08497568939316,
          38.12145991672773,
          38.157944144062306,
          38.194428371396874,
          38.23091259873144,
          38.26739682606602,
          38.30388105340059,
          38.34036528073516,
          38.37684950806973,
          38.4133337354043,
          38.44981796273888,
          38.486302190073445,
          38.52278641740802,
          38.55927064474259,
          38.59575487207716,
          38.632239099411734,
          38.6687233267463,
          38.70520755408088,
          38.74169178141545,
          38.77817600875002,
          38.81466023608459,
          38.85114446341916,
          38.887628690753736,
          38.924112918088305,
          38.96059714542288,
          38.99708137275745,
          39.03356560009202,
          39.070049827426594,
          39.10653405476116,
          39.14301828209574,
          39.17950250943031,
          39.215986736764876,
          39.25247096409945,
          39.28895519143402,
          39.325439418768596,
          39.361923646103165,
          39.39840787343773,
          39.43489210077231,
          39.47137632810688,
          39.507860555441454,
          39.54434478277602,
          39.58082901011059,
          39.61731323744517,
          39.653797464779736,
          39.69028169211431,
          39.72676591944888,
          39.76325014678345,
          39.799734374118025,
          39.83621860145259,
          39.87270282878717,
          39.90918705612174,
          39.945671283456306,
          39.98215551079088,
          40.01863973812545,
          40.05512396546003,
          40.091608192794595,
          40.128092420129164,
          40.16457664746374,
          40.20106087479831,
          40.237545102132884,
          40.27402932946745,
          40.31051355680202,
          40.3469977841366,
          40.383482011471166,
          40.41996623880574,
          40.45645046614031,
          40.49293469347488,
          40.529418920809455,
          40.565903148144024,
          40.6023873754786,
          40.63887160281317,
          40.67535583014774,
          40.71184005748231,
          40.74832428481688,
          40.78480851215146,
          40.821292739486026,
          40.857776966820595,
          40.89426119415517,
          40.93074542148974,
          40.967229648824315,
          41.00371387615888,
          41.04019810349345,
          41.07668233082803,
          41.1131665581626,
          41.14965078549717,
          41.18613501283174,
          41.22261924016631,
          41.259103467500886,
          41.295587694835454,
          41.33207192217003,
          41.3685561495046,
          41.40504037683917,
          41.44152460417374,
          41.47800883150831,
          41.51449305884289,
          41.55097728617746,
          41.587461513512025,
          41.6239457408466,
          41.66042996818117,
          41.696914195515745,
          41.733398422850314,
          41.76988265018488,
          41.80636687751946,
          41.84285110485403,
          41.8793353321886,
          41.91581955952317,
          41.95230378685774,
          41.988788014192316,
          42.025272241526885,
          42.06175646886146,
          42.09824069619603,
          42.1347249235306,
          42.171209150865174,
          42.20769337819974,
          42.24417760553432,
          42.28066183286889,
          42.317146060203456,
          42.35363028753803,
          42.3901145148726,
          42.426598742207176,
          42.463082969541745,
          42.49956719687631,
          42.53605142421089,
          42.57253565154546,
          42.609019878880034,
          42.6455041062146,
          42.68198833354917,
          42.71847256088375,
          42.754956788218315,
          42.79144101555289,
          42.82792524288746,
          42.86440947022203,
          42.900893697556604,
          42.93737792489117,
          42.97386215222575,
          43.01034637956032,
          43.04683060689489,
          43.08331483422946,
          43.11979906156403,
          43.15628328889861,
          43.192767516233175,
          43.22925174356775,
          43.26573597090232,
          43.30222019823689,
          43.338704425571464,
          43.37518865290603,
          43.41167288024061,
          43.44815710757518,
          43.484641334909746,
          43.52112556224432,
          43.55760978957889,
          43.594094016913466,
          43.630578244248035,
          43.667062471582604,
          43.70354669891718,
          43.74003092625175,
          43.77651515358632,
          43.81299938092089,
          43.84948360825546,
          43.88596783559004,
          43.922452062924606,
          43.958936290259174,
          43.99542051759375,
          44.03190474492832,
          44.068388972262895,
          44.10487319959746,
          44.14135742693203,
          44.17784165426661,
          44.21432588160118,
          44.25081010893575,
          44.28729433627032,
          44.32377856360489,
          44.360262790939466,
          44.396747018274034,
          44.43323124560861,
          44.46971547294318,
          44.506199700277755,
          44.54268392761232,
          44.57916815494689,
          44.61565238228147,
          44.652136609616036,
          44.68862083695061,
          44.72510506428518,
          44.76158929161975,
          44.798073518954325,
          44.834557746288894,
          44.87104197362347,
          44.90752620095804,
          44.94401042829261,
          44.98049465562718,
          45.01697888296175,
          45.05346311029633,
          45.089947337630896,
          45.12643156496547,
          45.16291579230004,
          45.19940001963461,
          45.235884246969185,
          45.272368474303754,
          45.30885270163833,
          45.3453369289729,
          45.38182115630747,
          45.41830538364204,
          45.45478961097661,
          45.49127383831119,
          45.527758065645756,
          45.564242292980325,
          45.6007265203149,
          45.63721074764947,
          45.673694974984045,
          45.71017920231861,
          45.74666342965318,
          45.78314765698775,
          45.81963188432233,
          45.8561161116569,
          45.89260033899147,
          45.92908456632604,
          45.96556879366061,
          46.002053020995184,
          46.03853724832976,
          46.07502147566433,
          46.1115057029989,
          46.147989930333466,
          46.18447415766804,
          46.22095838500262,
          46.25744261233719,
          46.293926839671755,
          46.330411067006324,
          46.3668952943409,
          46.403379521675475,
          46.439863749010044,
          46.47634797634461,
          46.51283220367918,
          46.54931643101376,
          46.58580065834833,
          46.6222848856829,
          46.65876911301747,
          46.695253340352046,
          46.731737567686615,
          46.76822179502119,
          46.80470602235576,
          46.84119024969033,
          46.877674477024904,
          46.91415870435947,
          46.95064293169405,
          46.98712715902862,
          47.023611386363186,
          47.06009561369776,
          47.09657984103233,
          47.133064068366906,
          47.169548295701475,
          47.20603252303604,
          47.24251675037062,
          47.27900097770519,
          47.315485205039764,
          47.35196943237433,
          47.3884536597089,
          47.42493788704348,
          47.461422114378045,
          47.49790634171262,
          47.53439056904719,
          47.57087479638176,
          47.607359023716334,
          47.6438432510509,
          47.68032747838548,
          47.71681170572005,
          47.753295933054616,
          47.78978016038919,
          47.82626438772376,
          47.86274861505834,
          47.899232842392905,
          47.935717069727474,
          47.97220129706205,
          48.00868552439662,
          48.045169751731194,
          48.08165397906576,
          48.11813820640033,
          48.15462243373491,
          48.191106661069476,
          48.22759088840405,
          48.26407511573862,
          48.30055934307319,
          48.337043570407765,
          48.373527797742334,
          48.41001202507691,
          48.44649625241148,
          48.48298047974605,
          48.51946470708062,
          48.55594893441519,
          48.59243316174977,
          48.628917389084336,
          48.665401616418904,
          48.70188584375348,
          48.73837007108805,
          48.774854298422625,
          48.81133852575719,
          48.84782275309176,
          48.88430698042634,
          48.92079120776091,
          48.95727543509548,
          48.99375966243005,
          49.03024388976462,
          49.066728117099196,
          49.103212344433764,
          49.13969657176834,
          49.17618079910291,
          49.21266502643748,
          49.24914925377205,
          49.28563348110662,
          49.3221177084412,
          49.358601935775766,
          49.395086163110335,
          49.43157039044491,
          49.46805461777948,
          49.504538845114055,
          49.541023072448624,
          49.57750729978319,
          49.61399152711777,
          49.65047575445234,
          49.68695998178691,
          49.72344420912148,
          49.75992843645605,
          49.796412663790626,
          49.832896891125195,
          49.86938111845977,
          49.90586534579434,
          49.94234957312891,
          49.978833800463484,
          50.01531802779805,
          50.05180225513263,
          50.0882864824672,
          50.124770709801766,
          50.16125493713634,
          50.19773916447091,
          50.234223391805486,
          50.270707619140055,
          50.30719184647462,
          50.3436760738092,
          50.38016030114377,
          50.41664452847834,
          50.45312875581291,
          50.48961298314748,
          50.52609721048206,
          50.562581437816625,
          50.5990656651512,
          50.63554989248577,
          50.672034119820346,
          50.708518347154914,
          50.74500257448948,
          50.78148680182406,
          50.81797102915863,
          50.8544552564932,
          50.89093948382777,
          50.92742371116234,
          50.96390793849692,
          51.000392165831485,
          51.03687639316606,
          51.07336062050063,
          51.1098448478352,
          51.146329075169774,
          51.18281330250434,
          51.21929752983892,
          51.25578175717349,
          51.29226598450806,
          51.32875021184263,
          51.3652344391772,
          51.401718666511776,
          51.438202893846345,
          51.47468712118092,
          51.51117134851549,
          51.54765557585006,
          51.584139803184634,
          51.6206240305192,
          51.65710825785378,
          51.69359248518835,
          51.730076712522916,
          51.76656093985749,
          51.80304516719206,
          51.839529394526636,
          51.876013621861205,
          51.91249784919577,
          51.94898207653034,
          51.98546630386492,
          52.021950531199494,
          52.05843475853406,
          52.09491898586863,
          52.1314032132032,
          52.167887440537775,
          52.20437166787235,
          52.24085589520692,
          52.27734012254149,
          52.31382434987606,
          52.35030857721063,
          52.38679280454521,
          52.42327703187978,
          52.459761259214346,
          52.496245486548915,
          52.53272971388349,
          52.56921394121807,
          52.605698168552635,
          52.642182395887204,
          52.67866662322177,
          52.71515085055635,
          52.751635077890924,
          52.78811930522549,
          52.82460353256006,
          52.86108775989463,
          52.897571987229206,
          52.93405621456378,
          52.97054044189835,
          53.00702466923292,
          53.04350889656749,
          53.079993123902064,
          53.11647735123664,
          53.15296157857121,
          53.18944580590578,
          53.225930033240346,
          53.26241426057492,
          53.2988984879095,
          53.335382715244066,
          53.371866942578635,
          53.4083511699132,
          53.44483539724778,
          53.481319624582355,
          53.51780385191692,
          53.55428807925149,
          53.59077230658606,
          53.62725653392064,
          53.66374076125521,
          53.70022498858978,
          53.73670921592435,
          53.773193443258926,
          53.8096776705935,
          53.84616189792807,
          53.88264612526264,
          53.91913035259721,
          53.955614579931776,
          53.99209880726635,
          54.02858303460093,
          54.065067261935496,
          54.101551489270065,
          54.13803571660464,
          54.17451994393922,
          54.211004171273785,
          54.247488398608354,
          54.28397262594292,
          54.32045685327749,
          54.35694108061207,
          54.39342530794664,
          54.42990953528121,
          54.46639376261578,
          54.502877989950356,
          54.53936221728493,
          54.5758464446195,
          54.61233067195407,
          54.64881489928864,
          54.68529912662321,
          54.72178335395778,
          54.75826758129236,
          54.79475180862693,
          54.831236035961496,
          54.86772026329607,
          54.90420449063065,
          54.940688717965216,
          54.977172945299785,
          55.01365717263435,
          55.05014139996893,
          55.0866256273035,
          55.123109854638074,
          55.15959408197264,
          55.19607830930721,
          55.23256253664179,
          55.26904676397636,
          55.30553099131093
         ],
         "xaxis": "x",
         "y": [
          0.002368105788052063,
          0.0024141142068640157,
          0.002458842667899367,
          0.002502212173215573,
          0.002544147837613593,
          0.0025845792792287235,
          0.0026234410070464743,
          0.0026606728051144233,
          0.0026962201132649587,
          0.002730034404188351,
          0.0027620735566989,
          0.0027923022250185736,
          0.0028206922038611203,
          0.0028472227890354793,
          0.002871881133200545,
          0.002894662596294255,
          0.0029155710900309285,
          0.002934619415711866,
          0.002951829594429288,
          0.00296723318856404,
          0.0029808716132866766,
          0.0029927964365731767,
          0.0030030696660434597,
          0.003011764020727898,
          0.0030189631856677506,
          0.0030247620470641085,
          0.0030292669055112837,
          0.0030325956646883702,
          0.0030348779927416533,
          0.0030362554534744744,
          0.003036881604374111,
          0.0030369220584507382,
          0.003036554506844964,
          0.0030359686991804757,
          0.0030353663786996583,
          0.0030349611693242535,
          0.003034978411931797,
          0.0030356549473322643,
          0.0030372388436683494,
          0.0030399890662464383,
          0.0030441750881325617,
          0.0030500764402165005,
          0.003057982199855383,
          0.003068190417652359,
          0.0030810074824026523,
          0.0030967474247440294,
          0.0031157311605768674,
          0.003138285675865057,
          0.0031647431549873023,
          0.003195440055372955,
          0.00323071613172081,
          0.0032709134136569675,
          0.0033163751412319097,
          0.003367444663180981,
          0.003424464303369577,
          0.003487774201307903,
          0.0035577111330445266,
          0.0036346073191255283,
          0.0037187892266340736,
          0.003810576372594848,
          0.003910280136238182,
          0.004018202587763871,
          0.004134635341320686,
          0.004259858439926083,
          0.004394139279983765,
          0.004537731582919942,
          0.004690874421249053,
          0.0048537913060964204,
          0.005026689342856323,
          0.005209758461243212,
          0.005403170725514175,
          0.005607079730099701,
          0.005821620085285637,
          0.006046906996948529,
          0.0062830359436617566,
          0.006530082453773648,
          0.0067881019843131435,
          0.00705712990281418,
          0.007337181572375012,
          0.007628252539487137,
          0.00793031882339446,
          0.008243337304978582,
          0.008567246212421031,
          0.00890196570017592,
          0.009247398517099055,
          0.0096034307589321,
          0.009969932699739944,
          0.01034675969633923,
          0.010733753159258255,
          0.011130741583316933,
          0.011537541630525392,
          0.011953959257670602,
          0.012379790880681188,
          0.012814824567652063,
          0.013258841252248604,
          0.013711615959110307,
          0.014172919032829513,
          0.014642517362078847,
          0.015120175590520786,
          0.015605657306223533,
          0.01609872620145399,
          0.01659914719489558,
          0.017106687508553108,
          0.017621117691862538,
          0.018142212585798657,
          0.018669752220091772,
          0.019203522637004235,
          0.01974331663548414,
          0.02028893442991928,
          0.020840184218134696,
          0.021396882653743256,
          0.021958855218446958,
          0.022525936490413026,
          0.023097970305415792,
          0.02367480980803791,
          0.02425631739087332,
          0.02484236452036911,
          0.025432831448682313,
          0.02602760681172267,
          0.026626587114392516,
          0.027229676104927717,
          0.027836784041188466,
          0.02844782685273338,
          0.029062725203547024,
          0.029681403461356972,
          0.030303788580575326,
          0.03092980890702219,
          0.031559392913708545,
          0.032192467878093135,
          0.032828958512322204,
          0.03346878555904225,
          0.03411186436639568,
          0.034758103456755764,
          0.03540740310462858,
          0.0360596539398929,
          0.03671473559317879,
          0.03737251540066056,
          0.03803284718583929,
          0.038695570136022095,
          0.03936050779111262,
          0.04002746716203507,
          0.04069623799558627,
          0.041366592201743,
          0.04203828345844805,
          0.0427110470076411,
          0.043384599654805976,
          0.04405863998257133,
          0.044732848786936605,
          0.045406889742522674,
          0.04608041030087116,
          0.04675304282327735,
          0.04742440594695235,
          0.048094106180505206,
          0.04876173972185807,
          0.04942689448877563,
          0.050089152349262006,
          0.050748091536188505,
          0.051403289227696464,
          0.05205432427223617,
          0.05270078003457622,
          0.053342247336803,
          0.053978327466269474,
          0.054608635220668174,
          0.055232801958954775,
          0.055850478625744625,
          0.05646133871608765,
          0.05706508114721301,
          0.05766143300393663,
          0.05825015212496825,
          0.058831029498318546,
          0.059403891435423725,
          0.05996860149542834,
          0.06052506213331646,
          0.06107321604821332,
          0.06161304721116803,
          0.06214458155506034,
          0.0626678873128736,
          0.06318307499443837,
          0.06369029699580024,
          0.06418974683955424,
          0.06468165804877629,
          0.0651663026614863,
          0.06564398939686623,
          0.06611506148864327,
          0.06657989420510392,
          0.0670388920790389,
          0.0674924858745108,
          0.06794112932060033,
          0.06838529564520653,
          0.06882547394448088,
          0.06926216542554843,
          0.06969587956176414,
          0.07012713020085139,
          0.07055643166685423,
          0.07098429489689109,
          0.07141122365322174,
          0.07183771085014112,
          0.0722642350336957,
          0.07269125705020983,
          0.07311921693712668,
          0.07354853106675467,
          0.07397958957019685,
          0.07441275406507623,
          0.07484835570671089,
          0.07528669357817883,
          0.07572803343032317,
          0.07617260677822747,
          0.07662061035610976,
          0.07707220592801542,
          0.077527520447173,
          0.07798664655251364,
          0.07844964338666675,
          0.07891653771582594,
          0.07938732532826205,
          0.07986197268500317,
          0.08034041879335865,
          0.08082257727155592,
          0.0813083385708426,
          0.08179757231998923,
          0.08229012975623051,
          0.08278584620633479,
          0.08328454358166182,
          0.08378603285179059,
          0.08429011646251806,
          0.08479659066576545,
          0.08530524773111271,
          0.08581587801130963,
          0.086328271837118,
          0.08684222122018602,
          0.08735752134628409,
          0.0878739718450819,
          0.0883913778266559,
          0.08890955067902724,
          0.08942830862515366,
          0.08994747704189986,
          0.09046688854749343,
          0.09098638286778442,
          0.09150580649521077,
          0.09202501215765507,
          0.0925438581173169,
          0.09306220732227583,
          0.09357992643552565,
          0.09409688476790588,
          0.09461295314250198,
          0.09512800271872393,
          0.09564190380438818,
          0.09615452468372444,
          0.09666573048832294,
          0.09717538213662975,
          0.09768333536574178,
          0.0981894398769635,
          0.09869353861391825,
          0.09919546718900547,
          0.09969505347072367,
          0.1001921173408937,
          0.10068647062718412,
          0.10117791721263723,
          0.10166625332017859,
          0.10215126796644865,
          0.10263274357577912,
          0.10311045674183233,
          0.10358417912137466,
          0.10405367844193814,
          0.10451871960278342,
          0.10497906584666428,
          0.10543447997843694,
          0.10588472560558969,
          0.10632956837532055,
          0.10676877718284881,
          0.10720212532623047,
          0.1076293915840372,
          0.10805036119383377,
          0.10846482671141676,
          0.10887258873322846,
          0.10927345646716263,
          0.10966724814010878,
          0.11005379123394289,
          0.11043292254522345,
          0.11080448806750451,
          0.11116834269885958,
          0.11152434978085976,
          0.11187238047875764,
          0.11221231301597466,
          0.11254403177903881,
          0.11286742631187179,
          0.11318239022066856,
          0.11348882001252826,
          0.11378661389243427,
          0.11407567054410091,
          0.1143558879205896,
          0.11462716207044603,
          0.11488938602440021,
          0.11514244876643352,
          0.11538623431126797,
          0.11562062090809866,
          0.11584548038772809,
          0.1160606776672106,
          0.11626607042274546,
          0.11646150893793512,
          0.11664683613072369,
          0.1168218877584295,
          0.11698649279636392,
          0.11714047398167388,
          0.11728364851033246,
          0.11741582887171162,
          0.1175368238019878,
          0.11764643933480314,
          0.11774447992522412,
          0.11783074962112887,
          0.11790505325478341,
          0.11796719762655652,
          0.11801699265249473,
          0.1180542524478563,
          0.11807879631966302,
          0.11809044964288885,
          0.11808904459699733,
          0.11807442074218003,
          0.11804642541773551,
          0.11800491394854969,
          0.11794974964949839,
          0.11788080362173244,
          0.11779795433914513,
          0.11770108702776462,
          0.11759009284529848,
          0.11746486787247018,
          0.11732531193205557,
          0.1171713272555761,
          0.11700281702132631,
          0.11681968379077079,
          0.11662182787323375,
          0.11640914565119778,
          0.11618152790035864,
          0.11593885813981061,
          0.11568101104835779,
          0.1154078509829071,
          0.11511923063423438,
          0.11481498985410435,
          0.11449495468580313,
          0.11415893662763683,
          0.11380673215589882,
          0.11343812253026177,
          0.11305287390058527,
          0.1126507377297767,
          0.11223145154272196,
          0.11179474000644612,
          0.11134031634168719,
          0.11086788406103504,
          0.11037713902378388,
          0.10986777179276497,
          0.10933947027373062,
          0.1087919226134335,
          0.108224820328462,
          0.10763786163319389,
          0.10703075493200384,
          0.1064032224381246,
          0.10575500387936612,
          0.10508586024928022,
          0.10439557756131043,
          0.10368397056303721,
          0.10295088636777507,
          0.10219620796152094,
          0.10141985754456308,
          0.10062179966889079,
          0.0998020441349092,
          0.09896064861375063,
          0.09809772096470126,
          0.09721342122083224,
          0.09630796321979118,
          0.0953816158608269,
          0.09443470397340001,
          0.0934676087871343,
          0.09248076799730427,
          0.09147467542449292,
          0.09044988027141795,
          0.08940698598414432,
          0.08834664872897567,
          0.08726957550011558,
          0.08617652187676034,
          0.08506828945151876,
          0.08394572295496265,
          0.08280970710364341,
          0.08166116320107902,
          0.08050104552295594,
          0.0793303375191679,
          0.07815004786625347,
          0.07696120640435668,
          0.0757648599930045,
          0.07456206831978984,
          0.07335389969549574,
          0.0721414268683064,
          0.07092572288856722,
          0.06970785705408074,
          0.06848889096422814,
          0.06726987470927837,
          0.06605184321913544,
          0.06483581279354758,
          0.06362277783341246,
          0.06241370779038881,
          0.06120954434951604,
          0.060011198857020547,
          0.05881955000298703,
          0.05763544176607043,
          0.056459681625006995,
          0.055293039039322235,
          0.05413624419935886,
          0.05298998704360903,
          0.0518549165392797,
          0.0507316402201335,
          0.04962072397386768,
          0.04852269206969009,
          0.04743802741527601,
          0.04636717203097855,
          0.04531052772801627,
          0.04426845697633968,
          0.0432412839470428,
          0.042229295713470553,
          0.041232743594620425,
          0.04025184462402042,
          0.0392867831269775,
          0.03833771238894963,
          0.03740475639776271,
          0.03648801164249584,
          0.03558754895206377,
          0.03470341535684749,
          0.033835635957146296,
          0.032984215782743284,
          0.03214914162849464,
          0.03133038385154833,
          0.030527898116583366,
          0.029741627076321216,
          0.028971501975486532,
          0.028217444167397514,
          0.027479366533415407,
          0.026757174796595555,
          0.026050768722038525,
          0.025360043197638227,
          0.024684889190151972,
          0.024025194572780358,
          0.023380844821714653,
          0.02275172358039866,
          0.022137713091537857,
          0.02153869449816603,
          0.02095454801634389,
          0.020385152983296344,
          0.019830387785993688,
          0.019290129676334002,
          0.01876425448017473,
          0.018252636208493784,
          0.017755146579906046,
          0.017271654464631754,
          0.016802025260778418,
          0.016346120214470367,
          0.015903795695915563,
          0.015474902443938612,
          0.015059284791829282,
          0.014656779887541075,
          0.014267216921337544,
          0.013890416373906355,
          0.01352618929775211,
          0.013174336644335828,
          0.012834648648951853,
          0.012506904284729852,
          0.012190870796417739,
          0.011886303323755837,
          0.011592944623292068,
          0.011310524896428881,
          0.01103876173034008,
          0.010777360157163459,
          0.01052601283557527,
          0.010284400357496169,
          0.010052191681285686,
          0.00982904469136084,
          0.009614606882744115,
          0.009408516167623279,
          0.009210401799601739,
          0.009019885409954293,
          0.0088365821488917,
          0.008660101923594744,
          0.00849005072361771,
          0.008326032023198569,
          0.008167648249059013,
          0.008014502301444572,
          0.00786619911545289,
          0.007722347249135774,
          0.007582560484445762,
          0.007446459426834126,
          0.007313673089199726,
          0.007183840445938568,
          0.007056611943049535,
          0.006931650950614467,
          0.006808635144482833,
          0.0066872578046493015,
          0.00656722901860596,
          0.006448276778874093,
          0.006330147964958377,
          0.00621260920110981,
          0.006095447582515932,
          0.00597847126384591,
          0.005861509905445755,
          0.005744414973890053
         ],
         "yaxis": "y"
        },
        {
         "legendgroup": "Chinstrap",
         "marker": {
          "color": "rgb(148, 103, 189)"
         },
         "mode": "lines",
         "name": "Chinstrap",
         "showlegend": false,
         "type": "scatter",
         "x": [
          40.9,
          40.9342,
          40.968399999999995,
          41.0026,
          41.0368,
          41.071,
          41.105199999999996,
          41.1394,
          41.1736,
          41.2078,
          41.242,
          41.276199999999996,
          41.3104,
          41.3446,
          41.3788,
          41.413,
          41.447199999999995,
          41.4814,
          41.5156,
          41.5498,
          41.583999999999996,
          41.6182,
          41.6524,
          41.6866,
          41.7208,
          41.754999999999995,
          41.7892,
          41.8234,
          41.8576,
          41.891799999999996,
          41.926,
          41.9602,
          41.9944,
          42.0286,
          42.062799999999996,
          42.097,
          42.1312,
          42.1654,
          42.1996,
          42.2338,
          42.268,
          42.3022,
          42.3364,
          42.370599999999996,
          42.4048,
          42.439,
          42.4732,
          42.5074,
          42.541599999999995,
          42.5758,
          42.61,
          42.6442,
          42.678399999999996,
          42.7126,
          42.7468,
          42.781,
          42.8152,
          42.849399999999996,
          42.8836,
          42.9178,
          42.952,
          42.9862,
          43.020399999999995,
          43.0546,
          43.0888,
          43.123,
          43.157199999999996,
          43.1914,
          43.2256,
          43.2598,
          43.294,
          43.328199999999995,
          43.3624,
          43.3966,
          43.4308,
          43.464999999999996,
          43.4992,
          43.5334,
          43.5676,
          43.6018,
          43.635999999999996,
          43.6702,
          43.7044,
          43.7386,
          43.7728,
          43.807,
          43.8412,
          43.8754,
          43.9096,
          43.943799999999996,
          43.978,
          44.0122,
          44.0464,
          44.0806,
          44.1148,
          44.149,
          44.1832,
          44.2174,
          44.251599999999996,
          44.2858,
          44.32,
          44.3542,
          44.3884,
          44.422599999999996,
          44.4568,
          44.491,
          44.5252,
          44.5594,
          44.5936,
          44.6278,
          44.662,
          44.6962,
          44.730399999999996,
          44.7646,
          44.7988,
          44.833,
          44.8672,
          44.901399999999995,
          44.9356,
          44.9698,
          45.004,
          45.038199999999996,
          45.0724,
          45.1066,
          45.1408,
          45.175,
          45.209199999999996,
          45.2434,
          45.2776,
          45.3118,
          45.346,
          45.3802,
          45.4144,
          45.4486,
          45.4828,
          45.516999999999996,
          45.5512,
          45.5854,
          45.6196,
          45.6538,
          45.688,
          45.7222,
          45.7564,
          45.7906,
          45.824799999999996,
          45.858999999999995,
          45.8932,
          45.9274,
          45.9616,
          45.9958,
          46.03,
          46.0642,
          46.0984,
          46.1326,
          46.166799999999995,
          46.201,
          46.2352,
          46.2694,
          46.303599999999996,
          46.3378,
          46.372,
          46.4062,
          46.4404,
          46.474599999999995,
          46.5088,
          46.543,
          46.5772,
          46.611399999999996,
          46.6456,
          46.6798,
          46.714,
          46.7482,
          46.782399999999996,
          46.8166,
          46.8508,
          46.885,
          46.9192,
          46.9534,
          46.9876,
          47.0218,
          47.056,
          47.090199999999996,
          47.1244,
          47.1586,
          47.1928,
          47.227,
          47.2612,
          47.2954,
          47.3296,
          47.3638,
          47.397999999999996,
          47.4322,
          47.4664,
          47.5006,
          47.5348,
          47.569,
          47.6032,
          47.6374,
          47.6716,
          47.705799999999996,
          47.74,
          47.7742,
          47.8084,
          47.8426,
          47.876799999999996,
          47.911,
          47.9452,
          47.9794,
          48.0136,
          48.047799999999995,
          48.082,
          48.1162,
          48.1504,
          48.184599999999996,
          48.2188,
          48.253,
          48.2872,
          48.3214,
          48.355599999999995,
          48.3898,
          48.424,
          48.4582,
          48.492399999999996,
          48.5266,
          48.5608,
          48.595,
          48.6292,
          48.663399999999996,
          48.6976,
          48.7318,
          48.766,
          48.8002,
          48.8344,
          48.8686,
          48.9028,
          48.937,
          48.971199999999996,
          49.0054,
          49.0396,
          49.0738,
          49.108,
          49.1422,
          49.1764,
          49.2106,
          49.2448,
          49.278999999999996,
          49.3132,
          49.3474,
          49.3816,
          49.4158,
          49.45,
          49.4842,
          49.5184,
          49.5526,
          49.5868,
          49.620999999999995,
          49.6552,
          49.6894,
          49.7236,
          49.7578,
          49.792,
          49.8262,
          49.8604,
          49.8946,
          49.928799999999995,
          49.963,
          49.9972,
          50.0314,
          50.065599999999996,
          50.0998,
          50.134,
          50.1682,
          50.2024,
          50.236599999999996,
          50.2708,
          50.305,
          50.3392,
          50.373400000000004,
          50.4076,
          50.4418,
          50.476,
          50.5102,
          50.544399999999996,
          50.5786,
          50.6128,
          50.647,
          50.6812,
          50.7154,
          50.7496,
          50.7838,
          50.818,
          50.852199999999996,
          50.8864,
          50.9206,
          50.9548,
          50.989,
          51.0232,
          51.0574,
          51.0916,
          51.1258,
          51.16,
          51.194199999999995,
          51.2284,
          51.2626,
          51.2968,
          51.330999999999996,
          51.3652,
          51.3994,
          51.4336,
          51.4678,
          51.501999999999995,
          51.5362,
          51.5704,
          51.6046,
          51.6388,
          51.673,
          51.7072,
          51.7414,
          51.7756,
          51.809799999999996,
          51.844,
          51.8782,
          51.9124,
          51.9466,
          51.9808,
          52.015,
          52.0492,
          52.0834,
          52.117599999999996,
          52.1518,
          52.186,
          52.2202,
          52.254400000000004,
          52.2886,
          52.3228,
          52.357,
          52.3912,
          52.425399999999996,
          52.459599999999995,
          52.4938,
          52.528,
          52.5622,
          52.5964,
          52.6306,
          52.6648,
          52.699,
          52.7332,
          52.7674,
          52.8016,
          52.8358,
          52.870000000000005,
          52.9042,
          52.9384,
          52.9726,
          53.0068,
          53.041,
          53.075199999999995,
          53.1094,
          53.1436,
          53.1778,
          53.212,
          53.2462,
          53.2804,
          53.3146,
          53.3488,
          53.383,
          53.4172,
          53.4514,
          53.4856,
          53.519800000000004,
          53.554,
          53.5882,
          53.6224,
          53.6566,
          53.690799999999996,
          53.725,
          53.7592,
          53.7934,
          53.8276,
          53.8618,
          53.896,
          53.9302,
          53.9644,
          53.998599999999996,
          54.0328,
          54.067,
          54.1012,
          54.135400000000004,
          54.1696,
          54.2038,
          54.238,
          54.2722,
          54.3064,
          54.340599999999995,
          54.3748,
          54.409,
          54.4432,
          54.4774,
          54.5116,
          54.5458,
          54.58,
          54.6142,
          54.6484,
          54.6826,
          54.7168,
          54.751000000000005,
          54.7852,
          54.8194,
          54.8536,
          54.8878,
          54.922,
          54.956199999999995,
          54.9904,
          55.0246,
          55.0588,
          55.093,
          55.1272,
          55.1614,
          55.1956,
          55.2298,
          55.264,
          55.2982,
          55.3324,
          55.3666,
          55.400800000000004,
          55.435,
          55.4692,
          55.5034,
          55.5376,
          55.571799999999996,
          55.606,
          55.6402,
          55.6744,
          55.7086,
          55.7428,
          55.777,
          55.8112,
          55.8454,
          55.879599999999996,
          55.9138,
          55.948,
          55.9822,
          56.016400000000004,
          56.0506,
          56.0848,
          56.119,
          56.1532,
          56.1874,
          56.2216,
          56.2558,
          56.29,
          56.3242,
          56.3584,
          56.3926,
          56.4268,
          56.461,
          56.4952,
          56.5294,
          56.5636,
          56.5978,
          56.632,
          56.6662,
          56.7004,
          56.7346,
          56.7688,
          56.803,
          56.837199999999996,
          56.8714,
          56.9056,
          56.9398,
          56.974000000000004,
          57.0082,
          57.0424,
          57.0766,
          57.1108,
          57.144999999999996,
          57.179199999999994,
          57.2134,
          57.247600000000006,
          57.281800000000004,
          57.316,
          57.3502,
          57.3844,
          57.4186,
          57.452799999999996,
          57.486999999999995,
          57.5212,
          57.5554,
          57.589600000000004,
          57.6238,
          57.658,
          57.6922,
          57.7264,
          57.7606,
          57.7948,
          57.82899999999999,
          57.8632,
          57.897400000000005,
          57.9316,
          57.9658
         ],
         "xaxis": "x",
         "y": [
          0.013007639800816225,
          0.0132794389342845,
          0.013552827930310473,
          0.013827696924626251,
          0.014103934983361953,
          0.014381430409495133,
          0.014660071066594194,
          0.014939744719570526,
          0.015220339392058932,
          0.015501743739950053,
          0.015783847440496178,
          0.016066541596311847,
          0.01634971915348341,
          0.01663327533289605,
          0.016917108073780017,
          0.017201118488368052,
          0.01748521132644849,
          0.017769295448492255,
          0.01805328430592313,
          0.0183370964269994,
          0.018620655906670277,
          0.018903892898673842,
          0.019186744108048246,
          0.019469153282137646,
          0.0197510716980894,
          0.020032458644760817,
          0.020313281896881613,
          0.02059351817925229,
          0.020873153618704076,
          0.02115218418149489,
          0.021430616093778918,
          0.021708466242756578,
          0.02198576255609341,
          0.022262544357186928,
          0.022538862693863706,
          0.022814780638103722,
          0.023090373554413908,
          0.023365729334512874,
          0.02364094859603781,
          0.02391614484304951,
          0.024191444586187244,
          0.024466987420413807,
          0.024742926058393244,
          0.025019426317657852,
          0.025296667059848787,
          0.02557484008045174,
          0.025854149947603808,
          0.02613481378870639,
          0.026417061023755996,
          0.026701133044487922,
          0.026987282838621715,
          0.027275774558704304,
          0.027566883035254144,
          0.02786089323413566,
          0.02815809965831692,
          0.02845880569439901,
          0.028763322904543392,
          0.02907197026466767,
          0.029385073350024563,
          0.029702963469528866,
          0.030025976750445483,
          0.03035445317529946,
          0.03068873557311827,
          0.031029168567359645,
          0.03137609748312026,
          0.03172986721645644,
          0.03209082106887711,
          0.03245929955029188,
          0.032835639153911036,
          0.03322017110679819,
          0.03361322009996726,
          0.03401510300209944,
          0.034426127561120574,
          0.03484659109803425,
          0.03527677919754394,
          0.03571696440011971,
          0.03616740490026909,
          0.036628343255861645,
          0.037100005113423824,
          0.03758259795437025,
          0.038076309867170255,
          0.038581308350454764,
          0.03909773915206225,
          0.03962572514898812,
          0.040165365273150386,
          0.040716733487810956,
          0.04127987781939703,
          0.041854819449352376,
          0.04244155187050772,
          0.0430400401123076,
          0.04365022003904864,
          0.04427199772508902,
          0.044905248910773146,
          0.045549818542577926,
          0.04620552040073628,
          0.04687213681732394,
          0.047549418487509654,
          0.04823708437636754,
          0.04893482172333857,
          0.049642286146098655,
          0.050359101845255105,
          0.051084861910944857,
          0.051819128732048504,
          0.05256143450837393,
          0.05331128186579207,
          0.05406814457393031,
          0.05483146836565983,
          0.055600671857225815,
          0.05637514756749957,
          0.05715426303445079,
          0.057937362026571064,
          0.05872376584660677,
          0.05951277472460367,
          0.06030366929691305,
          0.061095712167463054,
          0.061888149547273306,
          0.06268021296786674,
          0.06347112106393057,
          0.06426008142028966,
          0.06504629247797983,
          0.06582894549395699,
          0.06660722654873744,
          0.06738031859605292,
          0.06814740354840305,
          0.06890766439222047,
          0.06966028732620572,
          0.07040446391626477,
          0.07113939326037758,
          0.07186428415664076,
          0.07257835726768155,
          0.07328084727459518,
          0.07397100501356549,
          0.0746480995883372,
          0.07531142045175983,
          0.07596027944968384,
          0.07659401282059161,
          0.07721198314445524,
          0.07781358123445974,
          0.07839822796539216,
          0.07896537603268268,
          0.07951451163629514,
          0.08004515608388911,
          0.08055686730793164,
          0.08104924129169581,
          0.08152191339937714,
          0.08197455960585741,
          0.08240689762196436,
          0.08281868791140684,
          0.08320973459591387,
          0.08357988624545809,
          0.08392903655081271,
          0.08425712487607033,
          0.08456413668912681,
          0.08485010386853044,
          0.08511510488548311,
          0.08535926486017971,
          0.08558275549206638,
          0.08578579486399705,
          0.08596864712066082,
          0.08613162202204584,
          0.08627507437309213,
          0.08639940333106853,
          0.08650505159258005,
          0.08659250446248185,
          0.08666228880732821,
          0.0867149718963307,
          0.08675116013313365,
          0.08677149768203153,
          0.08677666499256097,
          0.08676737722668598,
          0.08674438259307365,
          0.08670846059320811,
          0.0866604201843356,
          0.0866010978644489,
          0.08653135568472572,
          0.08645207919501495,
          0.08636417532812854,
          0.08626857022884084,
          0.08616620703361724,
          0.08605804360719778,
          0.08594505024224258,
          0.08582820732830664,
          0.08570850299645226,
          0.08558693074582877,
          0.0854644870585468,
          0.08534216900916017,
          0.0852209718750245,
          0.0851018867537478,
          0.08498589819387074,
          0.08487398184482338,
          0.08476710213209125,
          0.08466620996339835,
          0.0845722404715742,
          0.08448611079960835,
          0.0844087179332315,
          0.08434093658617164,
          0.08428361714303809,
          0.0842375836645784,
          0.084203631959832,
          0.08418252772947533,
          0.08417500478441714,
          0.0841817633434546,
          0.08420346841355027,
          0.08424074825603162,
          0.08429419294175047,
          0.08436435299797578,
          0.08445173814952026,
          0.08455681615633137,
          0.08468001174950493,
          0.08482170566740477,
          0.08498223379330087,
          0.08516188639566727,
          0.08536090747201121,
          0.08557949419684235,
          0.08581779647412467,
          0.08607591659429983,
          0.08635390899571861,
          0.08665178013006562,
          0.08696948843112957,
          0.08730694438603132,
          0.08766401070779949,
          0.08804050260796385,
          0.08843618816762598,
          0.08885078880526458,
          0.08928397983934012,
          0.08973539114358163,
          0.09020460789265729,
          0.090691171395772,
          0.09119458001557436,
          0.09171429016961165,
          0.09224971741143534,
          0.09280023758832867,
          0.0933651880725163,
          0.09394386906260513,
          0.09453554495190865,
          0.09513944576021835,
          0.0957547686255082,
          0.0963806793519867,
          0.09701631401085233,
          0.09766078059005431,
          0.09831316068932085,
          0.09897251125667805,
          0.09963786636266105,
          0.10030823900839647,
          0.10098262296372766,
          0.1016599946315485,
          0.10233931493451771,
          0.10301953122033433,
          0.10369957918177493,
          0.1043783847877137,
          0.10505486622138163,
          0.10572793582214866,
          0.10639650202716702,
          0.10705947130924369,
          0.10771575010737888,
          0.10836424674645245,
          0.10900387334260661,
          0.10963354769093761,
          0.11025219513218268,
          0.1108587503951537,
          0.11145215941175901,
          0.11203138110152847,
          0.11259538912264178,
          0.11314317358655475,
          0.11367374273340192,
          0.11418612456545614,
          0.11467936843601814,
          0.11515254659121235,
          0.11560475566226706,
          0.11603511810596409,
          0.11644278359104929,
          0.11682693032851062,
          0.11718676634373582,
          0.11752153068868476,
          0.1178304945923245,
          0.11811296254769257,
          0.11836827333408297,
          0.11859580097296109,
          0.1187949556163489,
          0.11896518436654109,
          0.11910597202614343,
          0.11921684177755314,
          0.11929735579113136,
          0.11934711576144874,
          0.1193657633711183,
          0.11935298068186122,
          0.11930849045258712,
          0.11923205638440292,
          0.1191234832925986,
          0.11898261720579441,
          0.11880934539256582,
          0.11860359631599966,
          0.11836533951676506,
          0.11809458542541781,
          0.11779138510478661,
          0.11745582992342202,
          0.11708805116121435,
          0.11668821954841754,
          0.11625654473943638,
          0.11579327472285997,
          0.11529869516934325,
          0.11477312871905317,
          0.11421693421051152,
          0.11363050585277515,
          0.11301427234299903,
          0.11236869593153037,
          0.11169427143678266,
          0.11099152521222169,
          0.11026101406789081,
          0.10950332414898462,
          0.10871906977405153,
          0.10790889223547871,
          0.10707345856498426,
          0.10621346026688233,
          0.10532961202196142,
          0.10442265036484162,
          0.10349333233772569,
          0.10254243412348735,
          0.10157074966106158,
          0.10057908924612234,
          0.0995682781200398,
          0.0985391550501118,
          0.09749257090405891,
          0.09642938722175819,
          0.09535047478717229,
          0.09425671220339912,
          0.09314898447373585,
          0.09202818159160359,
          0.09089519714213398,
          0.08975092691815738,
          0.08859626755327106,
          0.0874321151745946,
          0.0862593640777419,
          0.08507890542645787,
          0.08389162597927335,
          0.08269840684544552,
          0.08150012227234134,
          0.08029763846632573,
          0.079091812449096,
          0.0778834909512987,
          0.07667350934514527,
          0.07546269061761197,
          0.07425184438570556,
          0.07304176595512528,
          0.07183323542353719,
          0.07062701682954553,
          0.06942385734830697,
          0.06822448653460272,
          0.0670296156140591,
          0.06583993682305363,
          0.06465612279773575,
          0.06347882601243987,
          0.06230867826764858,
          0.06114629022753132,
          0.05999225100695958,
          0.05884712780777487,
          0.05771146560396636,
          0.05658578687529743,
          0.05547059138880726,
          0.05436635602750484,
          0.05327353466546791,
          0.05219255808845872,
          0.05112383395907498,
          0.05006774682536241,
          0.04902465817173218,
          0.04799490651094761,
          0.04697880751586998,
          0.04597665418958714,
          0.04498871707248593,
          0.044015244484774736,
          0.04305646280291318,
          0.04211257676835863,
          0.04118376982700809,
          0.04027020449767838,
          0.0393720227679395,
          0.03848934651560113,
          0.037622277954136626,
          0.03677090010031333,
          0.035935277262309724,
          0.03511545554658275,
          0.034311463381772045,
          0.03352331205792675,
          0.032750996279368096,
          0.03199449472951048,
          0.031253770645998366,
          0.03052877240453709,
          0.029819434109830324,
          0.029125676192076663,
          0.028447406007508894,
          0.027784518441506215,
          0.02713689651285133,
          0.02650441197775118,
          0.025886925932287804,
          0.025284289412016648,
          0.024696343987478775,
          0.02412292235445216,
          0.023563848917810493,
          0.02301894036792544,
          0.022488006248593585,
          0.021970849515530407,
          0.021467267084527755,
          0.020977050368428434,
          0.02049998580212715,
          0.020035855354863432,
          0.01958443702912767,
          0.019145505345556684,
          0.01871883181325072,
          0.018304185384995512,
          0.017901332896929984,
          0.017510039492250877,
          0.01713006902859583,
          0.016761184468800764,
          0.016403148254774916,
          0.01605572266428728,
          0.01571867015050387,
          0.015391753664167092,
          0.015074736958348772,
          0.014767384875756542,
          0.014469463618617947,
          0.01418074100120635,
          0.013900986685118013,
          0.013629972397447229,
          0.013367472132047444,
          0.013113262334105511,
          0.012867122068291605,
          0.012628833170784491,
          0.012398180385506758,
          0.012174951484937807,
          0.011958937375905124,
          0.011749932190785382,
          0.01154773336457605,
          0.011352141698328308,
          0.011162961409455373,
          0.010980000169459957,
          0.010803069129644788,
          0.010631982935393882,
          0.010466559729631923,
          0.01030662114608781,
          0.010151992293004694,
          0.010002501727953663,
          0.009857981424420447,
          0.00971826673084519,
          0.009583196322803222,
          0.009452612149021081,
          0.009326359371924489,
          0.009204286303418326,
          0.009086244336594622,
          0.008972087874062952,
          0.008861674253590298,
          0.00875486367172895,
          0.008651519106098945,
          0.00855150623697906,
          0.008454693368841736,
          0.008360951352450205,
          0.0082701535081131,
          0.008182175550668795,
          0.008096895516745065,
          0.00801419369481064,
          0.007933952558505165,
          0.00785605670370046,
          0.0077803927897120515,
          0.007706849485042283,
          0.007635317417999404,
          0.007565689132495802,
          0.007497859049289204,
          0.0074317234328874875,
          0.007367180364295364,
          0.007304129719737351,
          0.0072424731554481024,
          0.007182114098575693,
          0.007122957744200826,
          0.007064911058429852,
          0.0070078827874765545,
          0.006951783472605051,
          0.006896525470764293,
          0.006842022980704364,
          0.006788192074325655,
          0.006734950732974857,
          0.0066822188883661066,
          0.00662991846777247,
          0.006577973443101744,
          0.006526309883442245,
          0.006474856010638351,
          0.006423542257432074,
          0.006372301327687456,
          0.0063210682581968675,
          0.00626978048155478,
          0.006218377889573623,
          0.006166802896708972,
          0.006115000502957383,
          0.006062918355689017,
          0.0060105068098805165,
          0.00595771898621861,
          0.005904510826554971,
          0.005850841146204547,
          0.005796671682595622,
          0.005741967139797681,
          0.005686695228475682,
          0.005630826700841947,
          0.005574335380204866
         ],
         "yaxis": "y"
        },
        {
         "legendgroup": "Chinstrap Dist",
         "marker": {
          "color": "rgb(140, 86, 75)"
         },
         "mode": "lines",
         "name": "Chinstrap Dist",
         "showlegend": false,
         "type": "scatter",
         "x": [
          40.401630197344815,
          40.440281595642645,
          40.47893299394048,
          40.51758439223831,
          40.55623579053614,
          40.59488718883397,
          40.63353858713181,
          40.67218998542964,
          40.71084138372747,
          40.74949278202531,
          40.78814418032314,
          40.82679557862097,
          40.8654469769188,
          40.904098375216634,
          40.942749773514464,
          40.981401171812294,
          41.020052570110124,
          41.05870396840796,
          41.09735536670579,
          41.13600676500362,
          41.17465816330146,
          41.21330956159929,
          41.25196095989712,
          41.29061235819495,
          41.329263756492786,
          41.367915154790616,
          41.406566553088446,
          41.44521795138628,
          41.48386934968411,
          41.52252074798194,
          41.56117214627977,
          41.59982354457761,
          41.63847494287544,
          41.67712634117327,
          41.7157777394711,
          41.75442913776894,
          41.79308053606677,
          41.8317319343646,
          41.870383332662435,
          41.909034730960265,
          41.947686129258095,
          41.986337527555925,
          42.02498892585376,
          42.06364032415159,
          42.10229172244942,
          42.14094312074725,
          42.17959451904509,
          42.21824591734292,
          42.25689731564075,
          42.29554871393859,
          42.33420011223642,
          42.37285151053425,
          42.41150290883208,
          42.450154307129914,
          42.488805705427744,
          42.527457103725574,
          42.56610850202341,
          42.60475990032124,
          42.64341129861907,
          42.6820626969169,
          42.72071409521474,
          42.75936549351257,
          42.7980168918104,
          42.836668290108236,
          42.875319688406066,
          42.913971086703896,
          42.952622485001726,
          42.99127388329956,
          43.02992528159739,
          43.06857667989522,
          43.10722807819306,
          43.14587947649089,
          43.18453087478872,
          43.22318227308655,
          43.26183367138439,
          43.30048506968222,
          43.33913646798005,
          43.37778786627788,
          43.416439264575715,
          43.455090662873545,
          43.493742061171375,
          43.532393459469205,
          43.57104485776704,
          43.60969625606487,
          43.6483476543627,
          43.68699905266054,
          43.72565045095837,
          43.7643018492562,
          43.80295324755403,
          43.84160464585187,
          43.8802560441497,
          43.91890744244753,
          43.957558840745364,
          43.996210239043194,
          44.034861637341024,
          44.073513035638854,
          44.11216443393669,
          44.15081583223452,
          44.18946723053235,
          44.22811862883019,
          44.26677002712802,
          44.30542142542585,
          44.34407282372368,
          44.382724222021515,
          44.421375620319346,
          44.460027018617176,
          44.498678416915006,
          44.53732981521284,
          44.57598121351067,
          44.6146326118085,
          44.65328401010634,
          44.69193540840417,
          44.730586806702,
          44.76923820499983,
          44.80788960329767,
          44.8465410015955,
          44.88519239989333,
          44.92384379819116,
          44.962495196488995,
          45.001146594786825,
          45.039797993084655,
          45.07844939138249,
          45.11710078968032,
          45.15575218797815,
          45.19440358627598,
          45.23305498457382,
          45.27170638287165,
          45.31035778116948,
          45.349009179467316,
          45.387660577765146,
          45.426311976062976,
          45.464963374360806,
          45.50361477265864,
          45.542266170956474,
          45.580917569254304,
          45.61956896755214,
          45.65822036584997,
          45.6968717641478,
          45.73552316244563,
          45.77417456074347,
          45.8128259590413,
          45.85147735733913,
          45.890128755636965,
          45.928780153934795,
          45.967431552232625,
          46.006082950530455,
          46.044734348828285,
          46.08338574712612,
          46.12203714542395,
          46.16068854372179,
          46.19933994201962,
          46.23799134031745,
          46.27664273861528,
          46.31529413691311,
          46.35394553521095,
          46.39259693350878,
          46.43124833180661,
          46.469899730104444,
          46.508551128402274,
          46.547202526700104,
          46.585853924997934,
          46.62450532329577,
          46.6631567215936,
          46.70180811989143,
          46.74045951818927,
          46.7791109164871,
          46.81776231478493,
          46.85641371308276,
          46.895065111380596,
          46.933716509678426,
          46.972367907976256,
          47.01101930627409,
          47.04967070457192,
          47.08832210286975,
          47.12697350116758,
          47.16562489946542,
          47.20427629776325,
          47.24292769606108,
          47.28157909435892,
          47.32023049265675,
          47.35888189095458,
          47.39753328925241,
          47.436184687550245,
          47.474836085848075,
          47.513487484145905,
          47.552138882443735,
          47.59079028074157,
          47.6294416790394,
          47.66809307733723,
          47.70674447563507,
          47.7453958739329,
          47.78404727223073,
          47.82269867052856,
          47.8613500688264,
          47.90000146712423,
          47.93865286542206,
          47.97730426371989,
          48.015955662017724,
          48.054607060315554,
          48.093258458613384,
          48.13190985691122,
          48.17056125520905,
          48.20921265350688,
          48.24786405180471,
          48.28651545010255,
          48.32516684840038,
          48.36381824669821,
          48.402469644996046,
          48.441121043293876,
          48.479772441591706,
          48.518423839889536,
          48.55707523818737,
          48.5957266364852,
          48.63437803478303,
          48.67302943308087,
          48.7116808313787,
          48.75033222967653,
          48.78898362797436,
          48.8276350262722,
          48.86628642457003,
          48.90493782286786,
          48.943589221165695,
          48.982240619463525,
          49.020892017761355,
          49.059543416059185,
          49.098194814357015,
          49.13684621265485,
          49.17549761095268,
          49.21414900925052,
          49.25280040754835,
          49.29145180584618,
          49.33010320414401,
          49.36875460244184,
          49.40740600073968,
          49.44605739903751,
          49.48470879733534,
          49.523360195633174,
          49.562011593931004,
          49.600662992228834,
          49.639314390526664,
          49.6779657888245,
          49.71661718712233,
          49.75526858542016,
          49.793919983718,
          49.83257138201583,
          49.87122278031366,
          49.90987417861149,
          49.948525576909326,
          49.987176975207156,
          50.025828373504986,
          50.06447977180282,
          50.10313117010065,
          50.14178256839848,
          50.18043396669631,
          50.21908536499414,
          50.25773676329198,
          50.29638816158981,
          50.33503955988765,
          50.37369095818548,
          50.41234235648331,
          50.45099375478114,
          50.48964515307897,
          50.528296551376805,
          50.566947949674635,
          50.605599347972465,
          50.6442507462703,
          50.68290214456813,
          50.72155354286596,
          50.76020494116379,
          50.79885633946163,
          50.83750773775946,
          50.87615913605729,
          50.91481053435513,
          50.95346193265296,
          50.99211333095079,
          51.03076472924862,
          51.069416127546454,
          51.108067525844284,
          51.146718924142114,
          51.18537032243995,
          51.22402172073778,
          51.26267311903561,
          51.30132451733344,
          51.33997591563127,
          51.37862731392911,
          51.41727871222694,
          51.455930110524776,
          51.494581508822606,
          51.533232907120436,
          51.571884305418266,
          51.6105357037161,
          51.64918710201393,
          51.68783850031176,
          51.7264898986096,
          51.76514129690743,
          51.80379269520526,
          51.84244409350309,
          51.88109549180092,
          51.91974689009876,
          51.95839828839659,
          51.997049686694425,
          52.035701084992255,
          52.074352483290085,
          52.113003881587915,
          52.151655279885745,
          52.19030667818358,
          52.22895807648141,
          52.26760947477925,
          52.30626087307708,
          52.34491227137491,
          52.38356366967274,
          52.42221506797057,
          52.460866466268406,
          52.499517864566236,
          52.538169262864066,
          52.576820661161904,
          52.615472059459734,
          52.654123457757564,
          52.692774856055394,
          52.73142625435323,
          52.77007765265106,
          52.80872905094889,
          52.84738044924673,
          52.88603184754456,
          52.92468324584239,
          52.96333464414022,
          53.001986042438055,
          53.040637440735885,
          53.079288839033715,
          53.11794023733155,
          53.15659163562938,
          53.19524303392721,
          53.23389443222504,
          53.27254583052287,
          53.31119722882071,
          53.34984862711854,
          53.38850002541638,
          53.42715142371421,
          53.46580282201204,
          53.50445422030987,
          53.5431056186077,
          53.581757016905534,
          53.620408415203364,
          53.659059813501194,
          53.69771121179903,
          53.73636261009686,
          53.77501400839469,
          53.81366540669252,
          53.85231680499036,
          53.89096820328819,
          53.92961960158602,
          53.968270999883856,
          54.006922398181686,
          54.045573796479516,
          54.084225194777346,
          54.12287659307518,
          54.16152799137301,
          54.20017938967084,
          54.23883078796868,
          54.27748218626651,
          54.31613358456434,
          54.35478498286217,
          54.39343638116,
          54.43208777945784,
          54.47073917775567,
          54.509390576053505,
          54.548041974351335,
          54.586693372649165,
          54.625344770946995,
          54.66399616924483,
          54.70264756754266,
          54.74129896584049,
          54.77995036413832,
          54.81860176243616,
          54.85725316073399,
          54.89590455903182,
          54.93455595732965,
          54.97320735562749,
          55.01185875392532,
          55.050510152223154,
          55.089161550520984,
          55.127812948818814,
          55.166464347116644,
          55.205115745414474,
          55.24376714371231,
          55.28241854201014,
          55.32106994030797,
          55.35972133860581,
          55.39837273690364,
          55.43702413520147,
          55.4756755334993,
          55.51432693179713,
          55.552978330094966,
          55.591629728392796,
          55.63028112669063,
          55.66893252498846,
          55.70758392328629,
          55.74623532158412,
          55.78488671988196,
          55.82353811817979,
          55.86218951647762,
          55.90084091477546,
          55.93949231307329,
          55.97814371137112,
          56.01679510966895,
          56.05544650796678,
          56.094097906264615,
          56.132749304562445,
          56.17140070286028,
          56.21005210115811,
          56.24870349945594,
          56.28735489775377,
          56.3260062960516,
          56.36465769434944,
          56.40330909264727,
          56.44196049094511,
          56.48061188924294,
          56.51926328754077,
          56.5579146858386,
          56.59656608413643,
          56.63521748243426,
          56.673868880732094,
          56.71252027902993,
          56.75117167732776,
          56.78982307562559,
          56.82847447392342,
          56.86712587222125,
          56.90577727051908,
          56.94442866881692,
          56.98308006711475,
          57.021731465412586,
          57.060382863710416,
          57.099034262008246,
          57.137685660306076,
          57.176337058603906,
          57.21498845690174,
          57.25363985519958,
          57.29229125349741,
          57.33094265179524,
          57.36959405009307,
          57.4082454483909,
          57.44689684668874,
          57.48554824498657,
          57.524199643284405,
          57.56285104158223,
          57.601502439880065,
          57.640153838177895,
          57.678805236475725,
          57.717456634773555,
          57.756108033071385,
          57.79475943136922,
          57.83341082966706,
          57.87206222796489,
          57.91071362626272,
          57.94936502456055,
          57.98801642285838,
          58.02666782115622,
          58.06531921945405,
          58.103970617751884,
          58.142622016049714,
          58.181273414347544,
          58.219924812645374,
          58.258576210943204,
          58.297227609241034,
          58.33587900753887,
          58.3745304058367,
          58.41318180413454,
          58.45183320243237,
          58.4904846007302,
          58.52913599902803,
          58.56778739732586,
          58.606438795623696,
          58.645090193921526,
          58.68374159221936,
          58.72239299051719,
          58.76104438881502,
          58.79969578711285,
          58.83834718541068,
          58.87699858370852,
          58.91564998200636,
          58.95430138030419,
          58.99295277860202,
          59.03160417689985,
          59.07025557519768,
          59.10890697349551,
          59.14755837179334,
          59.186209770091175,
          59.224861168389005,
          59.26351256668684,
          59.30216396498467,
          59.3408153632825,
          59.37946676158033,
          59.41811815987817,
          59.456769558176,
          59.495420956473836,
          59.534072354771666,
          59.572723753069496,
          59.61137515136733,
          59.65002654966516,
          59.688677947962994
         ],
         "xaxis": "x",
         "y": [
          0.006565782619289837,
          0.006754391532876166,
          0.006942479082558396,
          0.007129920791664011,
          0.007316617696980053,
          0.007502498330033824,
          0.007687520538896001,
          0.007871673129176984,
          0.008054977304133482,
          0.008237487885309232,
          0.008419294296895427,
          0.008600521298994204,
          0.008781329457183887,
          0.008961915338199828,
          0.009142511424127156,
          0.009323385740230495,
          0.009504841194382165,
          0.009687214628967655,
          0.009870875589103193,
          0.010056224813962868,
          0.010243692460938938,
          0.01043373607521415,
          0.010626838320067077,
          0.010823504485822926,
          0.011024259797768011,
          0.01122964654552786,
          0.01144022105833797,
          0.011656550552277295,
          0.011879209876869046,
          0.012108778189452968,
          0.012345835586382711,
          0.012590959720391866,
          0.01284472243339051,
          0.013107686433504347,
          0.013380402044350592,
          0.01366340405337403,
          0.013957208684553949,
          0.014262310718965342,
          0.014579180784556568,
          0.014908262834130938,
          0.015249971827923012,
          0.015604691634382765,
          0.015972773159874214,
          0.016354532714996182,
          0.01675025062220528,
          0.017160170066399402,
          0.017584496187172546,
          0.018023395408614067,
          0.018476994999858075,
          0.018945382857127654,
          0.0194286074958151,
          0.019926678239228238,
          0.020439565589041454,
          0.020967201761258648,
          0.021509481370627564,
          0.022066262245969952,
          0.02263736635879936,
          0.023222580847900808,
          0.023821659123223423,
          0.024434322033470027,
          0.025060259083140652,
          0.02569912968645254,
          0.026350564447491162,
          0.027014166458084816,
          0.027689512607203794,
          0.028376154898095664,
          0.02907362177182562,
          0.029781419438341287,
          0.03049903321855102,
          0.031225928903147192,
          0.03196155413594411,
          0.032705339831299564,
          0.03345670163667975,
          0.03421504145256894,
          0.03497974902268757,
          0.03575020360781346,
          0.036525775756403825,
          0.037305829184643605,
          0.03808972277752784,
          0.03887681272109639,
          0.039666454774019935,
          0.0404580066843828,
          0.04125083075478654,
          0.04204429655582194,
          0.04283778378460077,
          0.04363068526144138,
          0.044422410054045715,
          0.045212386714650804,
          0.0460000666117562,
          0.046784927334207034,
          0.04756647614171844,
          0.04834425343244281,
          0.0491178361949754,
          0.04988684140934915,
          0.05065092935914079,
          0.051409806814857816,
          0.052163230047369565,
          0.05291100762930156,
          0.05365300298209494,
          0.05438913662684025,
          0.05511938809806653,
          0.05584379748138674,
          0.05656246653826707,
          0.057275559384193875,
          0.05798330269010477,
          0.05868598538112116,
          0.059383957811286796,
          0.06007763039815354,
          0.0607674717065774,
          0.061454005976930966,
          0.06213781009902351,
          0.06281951003927158,
          0.06349977673499249,
          0.06417932147601578,
          0.0648588908000438,
          0.06553926093425305,
          0.06622123182143837,
          0.06690562077447092,
          0.06759325580792046,
          0.06828496870028558,
          0.06898158784434713,
          0.06968393094664076,
          0.07039279763989503,
          0.07110896207446707,
          0.07183316555628742,
          0.07256610929959388,
          0.07330844736276888,
          0.07406077983489667,
          0.07482364633922094,
          0.07559751991754551,
          0.07638280135677333,
          0.07717981401526249,
          0.07798879920253843,
          0.07880991216115067,
          0.07964321869417818,
          0.08048869247609107,
          0.0813462130784534,
          0.08221556473533917,
          0.08309643586639988,
          0.08398841936835039,
          0.08489101367827308,
          0.085803624604678,
          0.08672556791474281,
          0.08765607265869144,
          0.08859428520492688,
          0.08953927395234978,
          0.0904900346794166,
          0.09144549648291345,
          0.09240452825328321,
          0.0933659456276762,
          0.09432851835677182,
          0.09529097801693188,
          0.09625202599541081,
          0.09721034167325697,
          0.09816459072823176,
          0.09911343347856716,
          0.10005553318776483,
          0.10098956425086449,
          0.10191422018377244,
          0.10282822133927998,
          0.10373032227635182,
          0.10461931871310048,
          0.10549405399854396,
          0.1063534250437588,
          0.1071963876592932,
          0.10802196125267875,
          0.10882923284746147,
          0.10961736039329033,
          0.11038557534515892,
          0.11113318449877577,
          0.11185957107813313,
          0.11256419508053139,
          0.1132465928934537,
          0.1139063762066773,
          0.11454323025167451,
          0.11515691140861754,
          0.11574724422899206,
          0.11631411792885381,
          0.11685748241398519,
          0.11737734390357077,
          0.11787376022336198,
          0.11834683584262931,
          0.1187967167313888,
          0.1192235851154477,
          0.11962765420667631,
          0.12000916298460977,
          0.12036837110300241,
          0.12070555399136247,
          0.12102099821682076,
          0.12131499716602058,
          0.12158784710014428,
          0.12183984362882976,
          0.1220712786407033,
          0.12228243771967949,
          0.12247359806723934,
          0.12264502694170636,
          0.12279698061628212,
          0.12292970384843134,
          0.12304342984426844,
          0.12313838069306679,
          0.12321476823901173,
          0.12327279535000747,
          0.12331265753682688,
          0.1233345448702898,
          0.12333864413955227,
          0.1233251411910487,
          0.12329422338523185,
          0.12324608210699557,
          0.12318091526558808,
          0.12309892972089322,
          0.12300034357515581,
          0.12288538827249212,
          0.12275431045279912,
          0.12260737351185186,
          0.12244485882537123,
          0.1222670666015183,
          0.12207431633351355,
          0.1218669468317479,
          0.1216453158226952,
          0.12140979911003248,
          0.12116078930144505,
          0.12089869411253637,
          0.12062393426690146,
          0.12033694101865437,
          0.12003815333040461,
          0.11972801474571942,
          0.1194069700004442,
          0.11907546142174708,
          0.11873392516739306,
          0.11838278736046381,
          0.11802246017649545,
          0.11765333794082174,
          0.11727579329375176,
          0.11689017348014687,
          0.11649679681798632,
          0.11609594939772055,
          0.11568788206063663,
          0.11527280770020235,
          0.11485089892548951,
          0.11442228612041133,
          0.11398705592672265,
          0.11354525017265976,
          0.11309686526281615,
          0.11264185203849016,
          0.11218011611139501,
          0.11171151866738599,
          0.11123587773084641,
          0.11075296987465386,
          0.11026253235530258,
          0.10976426564787613,
          0.1092578363511741,
          0.1087428804294787,
          0.10821900675421439,
          0.10768580090615054,
          0.10714282919682053,
          0.1065896428665014,
          0.10602578241539123,
          0.10545078202453448,
          0.1048641740235304,
          0.10426549336311129,
          0.10365428205220811,
          0.10303009352112678,
          0.1023924968748463,
          0.101741081003182,
          0.10107545851755968,
          0.10039526948736492,
          0.09970018495218849,
          0.09898991018973374,
          0.09826418772261943,
          0.09752280005073646,
          0.09676557209915829,
          0.09599237337479902,
          0.09520311982803654,
          0.09439777541830435,
          0.09357635338520694,
          0.09273891722898238,
          0.09188558140611332,
          0.09101651174756921,
          0.0901319256085321,
          0.0892320917595421,
          0.08831733002977907,
          0.08738801071371112,
          0.08644455375260532,
          0.08548742770243035,
          0.08451714849951379,
          0.08353427803500342,
          0.08253942254870786,
          0.0815332308523617,
          0.0805163923917343,
          0.07948963515638306,
          0.07845372344522593,
          0.07740945549553643,
          0.07635766098246151,
          0.07529919839576468,
          0.07423495230021693,
          0.07316583048591674,
          0.0720927610148427,
          0.07101668917011587,
          0.06993857431478516,
          0.06885938666746504,
          0.06778010400280124,
          0.06670170828555548,
          0.06562518224801597,
          0.06455150592148898,
          0.06348165313373229,
          0.06241658798536717,
          0.06135726131949857,
          0.06030460719995561,
          0.059259539414715,
          0.058222948022132334,
          0.0571956959585785,
          0.056178615726895184,
          0.05517250618574557,
          0.05417812946039575,
          0.05319620799570347,
          0.05222742177209863,
          0.051272405705085525,
          0.05033174724827942,
          0.049405984219206764,
          0.04849560286603102,
          0.047601036192044414,
          0.04672266255316835,
          0.04586080454188609,
          0.04501572816896462,
          0.04418764235206983,
          0.043376698717954666,
          0.042582991722321134,
          0.041806559088789615,
          0.04104738256565483,
          0.04030538899633875,
          0.039580451696673805,
          0.03887239212942847,
          0.03818098186385402,
          0.03750594480550984,
          0.036846959679270486,
          0.03620366274624961,
          0.035575650733423655,
          0.03496248395303823,
          0.034363689587431696,
          0.03377876511375828,
          0.03320718184222031,
          0.032648388540852676,
          0.03210181511963658,
          0.03156687634674583,
          0.03104297557005217,
          0.030529508417609867,
          0.030025866451696432,
          0.029531440752086167,
          0.029045625405545398,
          0.028567820880045603,
          0.028097437263859975,
          0.027633897351514232,
          0.027176639560470423,
          0.02672512066440535,
          0.02627881833097461,
          0.025837233453995464,
          0.02539989227201547,
          0.024966348267227087,
          0.02453618384062831,
          0.024109011761181257,
          0.023684476388481222,
          0.023262254670094216,
          0.02284205691624372,
          0.022423627355918074,
          0.0220067444797254,
          0.021591221175934892,
          0.02117690466712408,
          0.020763676255686505,
          0.02035145088716755,
          0.019940176540978388,
          0.01952983345850783,
          0.019120433219012835,
          0.0187120176739342,
          0.01830465775046266,
          0.017898452135282197,
          0.017493525849454388,
          0.017090028725389256,
          0.016688133796778734,
          0.016288035612264194,
          0.01588994848346765,
          0.01549410467785305,
          0.015100752566690561,
          0.014710154738192724,
          0.014322586085662701,
          0.013938331880255788,
          0.013557685837699032,
          0.013180948188041467,
          0.012808423757222114,
          0.012440420068936489,
          0.01207724547496054,
          0.011719207321749527,
          0.011366610160767305,
          0.011019754009617926,
          0.010678932670650395,
          0.01034443211328283,
          0.010016528925853184,
          0.009695488842343369,
          0.009381565348854686,
          0.00907499837422849,
          0.008776013068718403,
          0.008484818674128237,
          0.008201607488341884,
          0.007926553926688507,
          0.007659813682115063,
          0.007401522985685132,
          0.007151797968486644,
          0.006910734125620825,
          0.006678405882560047,
          0.006454866263805148,
          0.0062401466634478524,
          0.006034256716944185,
          0.005837184273138842,
          0.005648895465336435,
          0.005469334879998027,
          0.005298425821442193,
          0.005136070670745019,
          0.004982151336859651,
          0.004836529797802606,
          0.004699048729581033,
          0.004569532220349992,
          0.004447786567090075,
          0.004333601151875097,
          0.004226749394553026,
          0.0041269897783864475,
          0.004034066944888355,
          0.003947712853744092,
          0.0038676480033287258,
          0.003793582706914419,
          0.0037252184192155357,
          0.0036622491074458827,
          0.0036043626605682644,
          0.003551242329909796,
          0.0035025681938051926,
          0.0034580186384269296,
          0.003417271846475122,
          0.0033800072849455728,
          0.003345907182783476,
          0.003314657988876166,
          0.0032859518005547614,
          0.003259487752573449,
          0.0032349733564288404,
          0.0032121257798812274,
          0.003190673056653675,
          0.0031703552165215326,
          0.0031509253263699295,
          0.003132150433292983,
          0.0031138124014377317,
          0.003095708635055367,
          0.00307765268110946,
          0.003059474705797502,
          0.0030410218404596334,
          0.003022158393564624,
          0.0030027659267639786,
          0.0029827431943740385,
          0.002962005947064995,
          0.0029404866019850837,
          0.002918133783006867,
          0.0028949117362290677,
          0.0028707996272791334,
          0.0028457907283171405,
          0.0028198915039184913,
          0.0027931206061907513,
          0.002765507790539091,
          0.0027370927644171056,
          0.0027079239821698317,
          0.00267805739967938,
          0.0026475552029501994,
          0.0026164845250123323,
          0.002584916165571689,
          0.002552923327694803,
          0.0025205803854823016,
          0.0024879616961651506,
          0.002455140469357764,
          0.0024221877053324284,
          0.0023891712131540632,
          0.0023561547183474237,
          0.0023231970684799525,
          0.002290351543651013,
          0.002257665277404599,
          0.0022251787920499946,
          0.002192925650806639,
          0.0021609322276097856,
          0.002129217593845839,
          0.002097793519753957,
          0.00206666458675625,
          0.0020358284055837336,
          0.002005275933769047,
          0.0019749918848973383,
          0.001944955220959622,
          0.0019151397182515634,
          0.0018855145965153092,
          0.0018560452004414312,
          0.0018266937222366135,
          0.0017974199537234574,
          0.0017681820563706942,
          0.0017389373377526126,
          0.001709643023198942,
          0.001680257011813632,
          0.001650738606601269,
          0.0016210492091315919
         ],
         "yaxis": "y"
        }
       ],
       "layout": {
        "barmode": "overlay",
        "hovermode": "closest",
        "legend": {
         "traceorder": "reversed"
        },
        "template": {
         "data": {
          "bar": [
           {
            "error_x": {
             "color": "#2a3f5f"
            },
            "error_y": {
             "color": "#2a3f5f"
            },
            "marker": {
             "line": {
              "color": "#E5ECF6",
              "width": 0.5
             },
             "pattern": {
              "fillmode": "overlay",
              "size": 10,
              "solidity": 0.2
             }
            },
            "type": "bar"
           }
          ],
          "barpolar": [
           {
            "marker": {
             "line": {
              "color": "#E5ECF6",
              "width": 0.5
             },
             "pattern": {
              "fillmode": "overlay",
              "size": 10,
              "solidity": 0.2
             }
            },
            "type": "barpolar"
           }
          ],
          "carpet": [
           {
            "aaxis": {
             "endlinecolor": "#2a3f5f",
             "gridcolor": "white",
             "linecolor": "white",
             "minorgridcolor": "white",
             "startlinecolor": "#2a3f5f"
            },
            "baxis": {
             "endlinecolor": "#2a3f5f",
             "gridcolor": "white",
             "linecolor": "white",
             "minorgridcolor": "white",
             "startlinecolor": "#2a3f5f"
            },
            "type": "carpet"
           }
          ],
          "choropleth": [
           {
            "colorbar": {
             "outlinewidth": 0,
             "ticks": ""
            },
            "type": "choropleth"
           }
          ],
          "contour": [
           {
            "colorbar": {
             "outlinewidth": 0,
             "ticks": ""
            },
            "colorscale": [
             [
              0,
              "#0d0887"
             ],
             [
              0.1111111111111111,
              "#46039f"
             ],
             [
              0.2222222222222222,
              "#7201a8"
             ],
             [
              0.3333333333333333,
              "#9c179e"
             ],
             [
              0.4444444444444444,
              "#bd3786"
             ],
             [
              0.5555555555555556,
              "#d8576b"
             ],
             [
              0.6666666666666666,
              "#ed7953"
             ],
             [
              0.7777777777777778,
              "#fb9f3a"
             ],
             [
              0.8888888888888888,
              "#fdca26"
             ],
             [
              1,
              "#f0f921"
             ]
            ],
            "type": "contour"
           }
          ],
          "contourcarpet": [
           {
            "colorbar": {
             "outlinewidth": 0,
             "ticks": ""
            },
            "type": "contourcarpet"
           }
          ],
          "heatmap": [
           {
            "colorbar": {
             "outlinewidth": 0,
             "ticks": ""
            },
            "colorscale": [
             [
              0,
              "#0d0887"
             ],
             [
              0.1111111111111111,
              "#46039f"
             ],
             [
              0.2222222222222222,
              "#7201a8"
             ],
             [
              0.3333333333333333,
              "#9c179e"
             ],
             [
              0.4444444444444444,
              "#bd3786"
             ],
             [
              0.5555555555555556,
              "#d8576b"
             ],
             [
              0.6666666666666666,
              "#ed7953"
             ],
             [
              0.7777777777777778,
              "#fb9f3a"
             ],
             [
              0.8888888888888888,
              "#fdca26"
             ],
             [
              1,
              "#f0f921"
             ]
            ],
            "type": "heatmap"
           }
          ],
          "heatmapgl": [
           {
            "colorbar": {
             "outlinewidth": 0,
             "ticks": ""
            },
            "colorscale": [
             [
              0,
              "#0d0887"
             ],
             [
              0.1111111111111111,
              "#46039f"
             ],
             [
              0.2222222222222222,
              "#7201a8"
             ],
             [
              0.3333333333333333,
              "#9c179e"
             ],
             [
              0.4444444444444444,
              "#bd3786"
             ],
             [
              0.5555555555555556,
              "#d8576b"
             ],
             [
              0.6666666666666666,
              "#ed7953"
             ],
             [
              0.7777777777777778,
              "#fb9f3a"
             ],
             [
              0.8888888888888888,
              "#fdca26"
             ],
             [
              1,
              "#f0f921"
             ]
            ],
            "type": "heatmapgl"
           }
          ],
          "histogram": [
           {
            "marker": {
             "pattern": {
              "fillmode": "overlay",
              "size": 10,
              "solidity": 0.2
             }
            },
            "type": "histogram"
           }
          ],
          "histogram2d": [
           {
            "colorbar": {
             "outlinewidth": 0,
             "ticks": ""
            },
            "colorscale": [
             [
              0,
              "#0d0887"
             ],
             [
              0.1111111111111111,
              "#46039f"
             ],
             [
              0.2222222222222222,
              "#7201a8"
             ],
             [
              0.3333333333333333,
              "#9c179e"
             ],
             [
              0.4444444444444444,
              "#bd3786"
             ],
             [
              0.5555555555555556,
              "#d8576b"
             ],
             [
              0.6666666666666666,
              "#ed7953"
             ],
             [
              0.7777777777777778,
              "#fb9f3a"
             ],
             [
              0.8888888888888888,
              "#fdca26"
             ],
             [
              1,
              "#f0f921"
             ]
            ],
            "type": "histogram2d"
           }
          ],
          "histogram2dcontour": [
           {
            "colorbar": {
             "outlinewidth": 0,
             "ticks": ""
            },
            "colorscale": [
             [
              0,
              "#0d0887"
             ],
             [
              0.1111111111111111,
              "#46039f"
             ],
             [
              0.2222222222222222,
              "#7201a8"
             ],
             [
              0.3333333333333333,
              "#9c179e"
             ],
             [
              0.4444444444444444,
              "#bd3786"
             ],
             [
              0.5555555555555556,
              "#d8576b"
             ],
             [
              0.6666666666666666,
              "#ed7953"
             ],
             [
              0.7777777777777778,
              "#fb9f3a"
             ],
             [
              0.8888888888888888,
              "#fdca26"
             ],
             [
              1,
              "#f0f921"
             ]
            ],
            "type": "histogram2dcontour"
           }
          ],
          "mesh3d": [
           {
            "colorbar": {
             "outlinewidth": 0,
             "ticks": ""
            },
            "type": "mesh3d"
           }
          ],
          "parcoords": [
           {
            "line": {
             "colorbar": {
              "outlinewidth": 0,
              "ticks": ""
             }
            },
            "type": "parcoords"
           }
          ],
          "pie": [
           {
            "automargin": true,
            "type": "pie"
           }
          ],
          "scatter": [
           {
            "marker": {
             "colorbar": {
              "outlinewidth": 0,
              "ticks": ""
             }
            },
            "type": "scatter"
           }
          ],
          "scatter3d": [
           {
            "line": {
             "colorbar": {
              "outlinewidth": 0,
              "ticks": ""
             }
            },
            "marker": {
             "colorbar": {
              "outlinewidth": 0,
              "ticks": ""
             }
            },
            "type": "scatter3d"
           }
          ],
          "scattercarpet": [
           {
            "marker": {
             "colorbar": {
              "outlinewidth": 0,
              "ticks": ""
             }
            },
            "type": "scattercarpet"
           }
          ],
          "scattergeo": [
           {
            "marker": {
             "colorbar": {
              "outlinewidth": 0,
              "ticks": ""
             }
            },
            "type": "scattergeo"
           }
          ],
          "scattergl": [
           {
            "marker": {
             "colorbar": {
              "outlinewidth": 0,
              "ticks": ""
             }
            },
            "type": "scattergl"
           }
          ],
          "scattermapbox": [
           {
            "marker": {
             "colorbar": {
              "outlinewidth": 0,
              "ticks": ""
             }
            },
            "type": "scattermapbox"
           }
          ],
          "scatterpolar": [
           {
            "marker": {
             "colorbar": {
              "outlinewidth": 0,
              "ticks": ""
             }
            },
            "type": "scatterpolar"
           }
          ],
          "scatterpolargl": [
           {
            "marker": {
             "colorbar": {
              "outlinewidth": 0,
              "ticks": ""
             }
            },
            "type": "scatterpolargl"
           }
          ],
          "scatterternary": [
           {
            "marker": {
             "colorbar": {
              "outlinewidth": 0,
              "ticks": ""
             }
            },
            "type": "scatterternary"
           }
          ],
          "surface": [
           {
            "colorbar": {
             "outlinewidth": 0,
             "ticks": ""
            },
            "colorscale": [
             [
              0,
              "#0d0887"
             ],
             [
              0.1111111111111111,
              "#46039f"
             ],
             [
              0.2222222222222222,
              "#7201a8"
             ],
             [
              0.3333333333333333,
              "#9c179e"
             ],
             [
              0.4444444444444444,
              "#bd3786"
             ],
             [
              0.5555555555555556,
              "#d8576b"
             ],
             [
              0.6666666666666666,
              "#ed7953"
             ],
             [
              0.7777777777777778,
              "#fb9f3a"
             ],
             [
              0.8888888888888888,
              "#fdca26"
             ],
             [
              1,
              "#f0f921"
             ]
            ],
            "type": "surface"
           }
          ],
          "table": [
           {
            "cells": {
             "fill": {
              "color": "#EBF0F8"
             },
             "line": {
              "color": "white"
             }
            },
            "header": {
             "fill": {
              "color": "#C8D4E3"
             },
             "line": {
              "color": "white"
             }
            },
            "type": "table"
           }
          ]
         },
         "layout": {
          "annotationdefaults": {
           "arrowcolor": "#2a3f5f",
           "arrowhead": 0,
           "arrowwidth": 1
          },
          "autotypenumbers": "strict",
          "coloraxis": {
           "colorbar": {
            "outlinewidth": 0,
            "ticks": ""
           }
          },
          "colorscale": {
           "diverging": [
            [
             0,
             "#8e0152"
            ],
            [
             0.1,
             "#c51b7d"
            ],
            [
             0.2,
             "#de77ae"
            ],
            [
             0.3,
             "#f1b6da"
            ],
            [
             0.4,
             "#fde0ef"
            ],
            [
             0.5,
             "#f7f7f7"
            ],
            [
             0.6,
             "#e6f5d0"
            ],
            [
             0.7,
             "#b8e186"
            ],
            [
             0.8,
             "#7fbc41"
            ],
            [
             0.9,
             "#4d9221"
            ],
            [
             1,
             "#276419"
            ]
           ],
           "sequential": [
            [
             0,
             "#0d0887"
            ],
            [
             0.1111111111111111,
             "#46039f"
            ],
            [
             0.2222222222222222,
             "#7201a8"
            ],
            [
             0.3333333333333333,
             "#9c179e"
            ],
            [
             0.4444444444444444,
             "#bd3786"
            ],
            [
             0.5555555555555556,
             "#d8576b"
            ],
            [
             0.6666666666666666,
             "#ed7953"
            ],
            [
             0.7777777777777778,
             "#fb9f3a"
            ],
            [
             0.8888888888888888,
             "#fdca26"
            ],
            [
             1,
             "#f0f921"
            ]
           ],
           "sequentialminus": [
            [
             0,
             "#0d0887"
            ],
            [
             0.1111111111111111,
             "#46039f"
            ],
            [
             0.2222222222222222,
             "#7201a8"
            ],
            [
             0.3333333333333333,
             "#9c179e"
            ],
            [
             0.4444444444444444,
             "#bd3786"
            ],
            [
             0.5555555555555556,
             "#d8576b"
            ],
            [
             0.6666666666666666,
             "#ed7953"
            ],
            [
             0.7777777777777778,
             "#fb9f3a"
            ],
            [
             0.8888888888888888,
             "#fdca26"
            ],
            [
             1,
             "#f0f921"
            ]
           ]
          },
          "colorway": [
           "#636efa",
           "#EF553B",
           "#00cc96",
           "#ab63fa",
           "#FFA15A",
           "#19d3f3",
           "#FF6692",
           "#B6E880",
           "#FF97FF",
           "#FECB52"
          ],
          "font": {
           "color": "#2a3f5f"
          },
          "geo": {
           "bgcolor": "white",
           "lakecolor": "white",
           "landcolor": "#E5ECF6",
           "showlakes": true,
           "showland": true,
           "subunitcolor": "white"
          },
          "hoverlabel": {
           "align": "left"
          },
          "hovermode": "closest",
          "mapbox": {
           "style": "light"
          },
          "paper_bgcolor": "white",
          "plot_bgcolor": "#E5ECF6",
          "polar": {
           "angularaxis": {
            "gridcolor": "white",
            "linecolor": "white",
            "ticks": ""
           },
           "bgcolor": "#E5ECF6",
           "radialaxis": {
            "gridcolor": "white",
            "linecolor": "white",
            "ticks": ""
           }
          },
          "scene": {
           "xaxis": {
            "backgroundcolor": "#E5ECF6",
            "gridcolor": "white",
            "gridwidth": 2,
            "linecolor": "white",
            "showbackground": true,
            "ticks": "",
            "zerolinecolor": "white"
           },
           "yaxis": {
            "backgroundcolor": "#E5ECF6",
            "gridcolor": "white",
            "gridwidth": 2,
            "linecolor": "white",
            "showbackground": true,
            "ticks": "",
            "zerolinecolor": "white"
           },
           "zaxis": {
            "backgroundcolor": "#E5ECF6",
            "gridcolor": "white",
            "gridwidth": 2,
            "linecolor": "white",
            "showbackground": true,
            "ticks": "",
            "zerolinecolor": "white"
           }
          },
          "shapedefaults": {
           "line": {
            "color": "#2a3f5f"
           }
          },
          "ternary": {
           "aaxis": {
            "gridcolor": "white",
            "linecolor": "white",
            "ticks": ""
           },
           "baxis": {
            "gridcolor": "white",
            "linecolor": "white",
            "ticks": ""
           },
           "bgcolor": "#E5ECF6",
           "caxis": {
            "gridcolor": "white",
            "linecolor": "white",
            "ticks": ""
           }
          },
          "title": {
           "x": 0.05
          },
          "xaxis": {
           "automargin": true,
           "gridcolor": "white",
           "linecolor": "white",
           "ticks": "",
           "title": {
            "standoff": 15
           },
           "zerolinecolor": "white",
           "zerolinewidth": 2
          },
          "yaxis": {
           "automargin": true,
           "gridcolor": "white",
           "linecolor": "white",
           "ticks": "",
           "title": {
            "standoff": 15
           },
           "zerolinecolor": "white",
           "zerolinewidth": 2
          }
         }
        },
        "xaxis": {
         "anchor": "y2",
         "domain": [
          0,
          1
         ],
         "zeroline": false
        },
        "yaxis": {
         "anchor": "free",
         "domain": [
          0,
          1
         ],
         "position": 0
        }
       }
      }
     },
     "metadata": {},
     "output_type": "display_data"
    }
   ],
   "source": [
    "fig = ff.create_distplot(\n",
    "    [\n",
    "        df.loc[df.species=='Adelie', 'bill_length_mm'], \n",
    "        adelie_bill_dist.rvs(len(df)),\n",
    "        df.loc[df.species=='Gentoo', 'bill_length_mm'], \n",
    "        gentoo_bill_dist.rvs(len(df)),\n",
    "        df.loc[df.species=='Chinstrap', 'bill_length_mm'],\n",
    "        chinstrap_bill_dist.rvs(len(df))\n",
    "    ],\n",
    "    ['Adelie', 'Adelie Dist', 'Gentoo', 'Gentoo Dist', 'Chinstrap', 'Chinstrap Dist'],\n",
    "    show_rug=False, bin_size=1\n",
    ")\n",
    "fig"
   ]
  },
  {
   "cell_type": "markdown",
   "metadata": {},
   "source": [
    "$P(s|x_1) = \\frac{P(x_1|s) * P(s)}{P(x_1)}$"
   ]
  },
  {
   "cell_type": "code",
   "execution_count": 12,
   "metadata": {},
   "outputs": [],
   "source": [
    "# P(x|s) * p(s) for each s\n",
    "normalizing_constant = \\\n",
    "    (adelie_bill_dist.pdf(50)    * df.species.value_counts()['Adelie']    / len(df)) + \\\n",
    "    (gentoo_bill_dist.pdf(50)    * df.species.value_counts()['Gentoo']    / len(df)) + \\\n",
    "    (chinstrap_bill_dist.pdf(50) * df.species.value_counts()['Chinstrap'] / len(df))\n",
    "\n",
    "def calc_bayes_posteriors():\n",
    "    results = []\n",
    "    for species in df.species.unique():\n",
    "        prior = len(df.loc[df.species==species]) / len(df)\n",
    "        likelihood = penguin_bill_dists[species].pdf(50) #given 50mm bill\n",
    "\n",
    "        posterior = (likelihood * prior)/normalizing_constant\n",
    "        results.append((species, posterior))\n",
    "\n",
    "    return results"
   ]
  },
  {
   "cell_type": "code",
   "execution_count": 13,
   "metadata": {},
   "outputs": [
    {
     "data": {
      "application/vnd.plotly.v1+json": {
       "config": {
        "plotlyServerURL": "https://plot.ly"
       },
       "data": [
        {
         "name": "posterior",
         "text": [
          "0.02%",
          "60.22%",
          "39.76%"
         ],
         "type": "bar",
         "x": [
          "Adelie",
          "Gentoo",
          "Chinstrap"
         ],
         "y": [
          0.00015979288548793828,
          0.6022338134897365,
          0.3976063936247756
         ]
        },
        {
         "name": "prior",
         "text": [
          "44.19%",
          "36.05%",
          "19.77%"
         ],
         "type": "bar",
         "x": [
          "Adelie",
          "Gentoo",
          "Chinstrap"
         ],
         "y": [
          0.4418604651162791,
          0.36046511627906974,
          0.19767441860465115
         ]
        }
       ],
       "layout": {
        "template": {
         "data": {
          "bar": [
           {
            "error_x": {
             "color": "#2a3f5f"
            },
            "error_y": {
             "color": "#2a3f5f"
            },
            "marker": {
             "line": {
              "color": "#E5ECF6",
              "width": 0.5
             },
             "pattern": {
              "fillmode": "overlay",
              "size": 10,
              "solidity": 0.2
             }
            },
            "type": "bar"
           }
          ],
          "barpolar": [
           {
            "marker": {
             "line": {
              "color": "#E5ECF6",
              "width": 0.5
             },
             "pattern": {
              "fillmode": "overlay",
              "size": 10,
              "solidity": 0.2
             }
            },
            "type": "barpolar"
           }
          ],
          "carpet": [
           {
            "aaxis": {
             "endlinecolor": "#2a3f5f",
             "gridcolor": "white",
             "linecolor": "white",
             "minorgridcolor": "white",
             "startlinecolor": "#2a3f5f"
            },
            "baxis": {
             "endlinecolor": "#2a3f5f",
             "gridcolor": "white",
             "linecolor": "white",
             "minorgridcolor": "white",
             "startlinecolor": "#2a3f5f"
            },
            "type": "carpet"
           }
          ],
          "choropleth": [
           {
            "colorbar": {
             "outlinewidth": 0,
             "ticks": ""
            },
            "type": "choropleth"
           }
          ],
          "contour": [
           {
            "colorbar": {
             "outlinewidth": 0,
             "ticks": ""
            },
            "colorscale": [
             [
              0,
              "#0d0887"
             ],
             [
              0.1111111111111111,
              "#46039f"
             ],
             [
              0.2222222222222222,
              "#7201a8"
             ],
             [
              0.3333333333333333,
              "#9c179e"
             ],
             [
              0.4444444444444444,
              "#bd3786"
             ],
             [
              0.5555555555555556,
              "#d8576b"
             ],
             [
              0.6666666666666666,
              "#ed7953"
             ],
             [
              0.7777777777777778,
              "#fb9f3a"
             ],
             [
              0.8888888888888888,
              "#fdca26"
             ],
             [
              1,
              "#f0f921"
             ]
            ],
            "type": "contour"
           }
          ],
          "contourcarpet": [
           {
            "colorbar": {
             "outlinewidth": 0,
             "ticks": ""
            },
            "type": "contourcarpet"
           }
          ],
          "heatmap": [
           {
            "colorbar": {
             "outlinewidth": 0,
             "ticks": ""
            },
            "colorscale": [
             [
              0,
              "#0d0887"
             ],
             [
              0.1111111111111111,
              "#46039f"
             ],
             [
              0.2222222222222222,
              "#7201a8"
             ],
             [
              0.3333333333333333,
              "#9c179e"
             ],
             [
              0.4444444444444444,
              "#bd3786"
             ],
             [
              0.5555555555555556,
              "#d8576b"
             ],
             [
              0.6666666666666666,
              "#ed7953"
             ],
             [
              0.7777777777777778,
              "#fb9f3a"
             ],
             [
              0.8888888888888888,
              "#fdca26"
             ],
             [
              1,
              "#f0f921"
             ]
            ],
            "type": "heatmap"
           }
          ],
          "heatmapgl": [
           {
            "colorbar": {
             "outlinewidth": 0,
             "ticks": ""
            },
            "colorscale": [
             [
              0,
              "#0d0887"
             ],
             [
              0.1111111111111111,
              "#46039f"
             ],
             [
              0.2222222222222222,
              "#7201a8"
             ],
             [
              0.3333333333333333,
              "#9c179e"
             ],
             [
              0.4444444444444444,
              "#bd3786"
             ],
             [
              0.5555555555555556,
              "#d8576b"
             ],
             [
              0.6666666666666666,
              "#ed7953"
             ],
             [
              0.7777777777777778,
              "#fb9f3a"
             ],
             [
              0.8888888888888888,
              "#fdca26"
             ],
             [
              1,
              "#f0f921"
             ]
            ],
            "type": "heatmapgl"
           }
          ],
          "histogram": [
           {
            "marker": {
             "pattern": {
              "fillmode": "overlay",
              "size": 10,
              "solidity": 0.2
             }
            },
            "type": "histogram"
           }
          ],
          "histogram2d": [
           {
            "colorbar": {
             "outlinewidth": 0,
             "ticks": ""
            },
            "colorscale": [
             [
              0,
              "#0d0887"
             ],
             [
              0.1111111111111111,
              "#46039f"
             ],
             [
              0.2222222222222222,
              "#7201a8"
             ],
             [
              0.3333333333333333,
              "#9c179e"
             ],
             [
              0.4444444444444444,
              "#bd3786"
             ],
             [
              0.5555555555555556,
              "#d8576b"
             ],
             [
              0.6666666666666666,
              "#ed7953"
             ],
             [
              0.7777777777777778,
              "#fb9f3a"
             ],
             [
              0.8888888888888888,
              "#fdca26"
             ],
             [
              1,
              "#f0f921"
             ]
            ],
            "type": "histogram2d"
           }
          ],
          "histogram2dcontour": [
           {
            "colorbar": {
             "outlinewidth": 0,
             "ticks": ""
            },
            "colorscale": [
             [
              0,
              "#0d0887"
             ],
             [
              0.1111111111111111,
              "#46039f"
             ],
             [
              0.2222222222222222,
              "#7201a8"
             ],
             [
              0.3333333333333333,
              "#9c179e"
             ],
             [
              0.4444444444444444,
              "#bd3786"
             ],
             [
              0.5555555555555556,
              "#d8576b"
             ],
             [
              0.6666666666666666,
              "#ed7953"
             ],
             [
              0.7777777777777778,
              "#fb9f3a"
             ],
             [
              0.8888888888888888,
              "#fdca26"
             ],
             [
              1,
              "#f0f921"
             ]
            ],
            "type": "histogram2dcontour"
           }
          ],
          "mesh3d": [
           {
            "colorbar": {
             "outlinewidth": 0,
             "ticks": ""
            },
            "type": "mesh3d"
           }
          ],
          "parcoords": [
           {
            "line": {
             "colorbar": {
              "outlinewidth": 0,
              "ticks": ""
             }
            },
            "type": "parcoords"
           }
          ],
          "pie": [
           {
            "automargin": true,
            "type": "pie"
           }
          ],
          "scatter": [
           {
            "marker": {
             "colorbar": {
              "outlinewidth": 0,
              "ticks": ""
             }
            },
            "type": "scatter"
           }
          ],
          "scatter3d": [
           {
            "line": {
             "colorbar": {
              "outlinewidth": 0,
              "ticks": ""
             }
            },
            "marker": {
             "colorbar": {
              "outlinewidth": 0,
              "ticks": ""
             }
            },
            "type": "scatter3d"
           }
          ],
          "scattercarpet": [
           {
            "marker": {
             "colorbar": {
              "outlinewidth": 0,
              "ticks": ""
             }
            },
            "type": "scattercarpet"
           }
          ],
          "scattergeo": [
           {
            "marker": {
             "colorbar": {
              "outlinewidth": 0,
              "ticks": ""
             }
            },
            "type": "scattergeo"
           }
          ],
          "scattergl": [
           {
            "marker": {
             "colorbar": {
              "outlinewidth": 0,
              "ticks": ""
             }
            },
            "type": "scattergl"
           }
          ],
          "scattermapbox": [
           {
            "marker": {
             "colorbar": {
              "outlinewidth": 0,
              "ticks": ""
             }
            },
            "type": "scattermapbox"
           }
          ],
          "scatterpolar": [
           {
            "marker": {
             "colorbar": {
              "outlinewidth": 0,
              "ticks": ""
             }
            },
            "type": "scatterpolar"
           }
          ],
          "scatterpolargl": [
           {
            "marker": {
             "colorbar": {
              "outlinewidth": 0,
              "ticks": ""
             }
            },
            "type": "scatterpolargl"
           }
          ],
          "scatterternary": [
           {
            "marker": {
             "colorbar": {
              "outlinewidth": 0,
              "ticks": ""
             }
            },
            "type": "scatterternary"
           }
          ],
          "surface": [
           {
            "colorbar": {
             "outlinewidth": 0,
             "ticks": ""
            },
            "colorscale": [
             [
              0,
              "#0d0887"
             ],
             [
              0.1111111111111111,
              "#46039f"
             ],
             [
              0.2222222222222222,
              "#7201a8"
             ],
             [
              0.3333333333333333,
              "#9c179e"
             ],
             [
              0.4444444444444444,
              "#bd3786"
             ],
             [
              0.5555555555555556,
              "#d8576b"
             ],
             [
              0.6666666666666666,
              "#ed7953"
             ],
             [
              0.7777777777777778,
              "#fb9f3a"
             ],
             [
              0.8888888888888888,
              "#fdca26"
             ],
             [
              1,
              "#f0f921"
             ]
            ],
            "type": "surface"
           }
          ],
          "table": [
           {
            "cells": {
             "fill": {
              "color": "#EBF0F8"
             },
             "line": {
              "color": "white"
             }
            },
            "header": {
             "fill": {
              "color": "#C8D4E3"
             },
             "line": {
              "color": "white"
             }
            },
            "type": "table"
           }
          ]
         },
         "layout": {
          "annotationdefaults": {
           "arrowcolor": "#2a3f5f",
           "arrowhead": 0,
           "arrowwidth": 1
          },
          "autotypenumbers": "strict",
          "coloraxis": {
           "colorbar": {
            "outlinewidth": 0,
            "ticks": ""
           }
          },
          "colorscale": {
           "diverging": [
            [
             0,
             "#8e0152"
            ],
            [
             0.1,
             "#c51b7d"
            ],
            [
             0.2,
             "#de77ae"
            ],
            [
             0.3,
             "#f1b6da"
            ],
            [
             0.4,
             "#fde0ef"
            ],
            [
             0.5,
             "#f7f7f7"
            ],
            [
             0.6,
             "#e6f5d0"
            ],
            [
             0.7,
             "#b8e186"
            ],
            [
             0.8,
             "#7fbc41"
            ],
            [
             0.9,
             "#4d9221"
            ],
            [
             1,
             "#276419"
            ]
           ],
           "sequential": [
            [
             0,
             "#0d0887"
            ],
            [
             0.1111111111111111,
             "#46039f"
            ],
            [
             0.2222222222222222,
             "#7201a8"
            ],
            [
             0.3333333333333333,
             "#9c179e"
            ],
            [
             0.4444444444444444,
             "#bd3786"
            ],
            [
             0.5555555555555556,
             "#d8576b"
            ],
            [
             0.6666666666666666,
             "#ed7953"
            ],
            [
             0.7777777777777778,
             "#fb9f3a"
            ],
            [
             0.8888888888888888,
             "#fdca26"
            ],
            [
             1,
             "#f0f921"
            ]
           ],
           "sequentialminus": [
            [
             0,
             "#0d0887"
            ],
            [
             0.1111111111111111,
             "#46039f"
            ],
            [
             0.2222222222222222,
             "#7201a8"
            ],
            [
             0.3333333333333333,
             "#9c179e"
            ],
            [
             0.4444444444444444,
             "#bd3786"
            ],
            [
             0.5555555555555556,
             "#d8576b"
            ],
            [
             0.6666666666666666,
             "#ed7953"
            ],
            [
             0.7777777777777778,
             "#fb9f3a"
            ],
            [
             0.8888888888888888,
             "#fdca26"
            ],
            [
             1,
             "#f0f921"
            ]
           ]
          },
          "colorway": [
           "#636efa",
           "#EF553B",
           "#00cc96",
           "#ab63fa",
           "#FFA15A",
           "#19d3f3",
           "#FF6692",
           "#B6E880",
           "#FF97FF",
           "#FECB52"
          ],
          "font": {
           "color": "#2a3f5f"
          },
          "geo": {
           "bgcolor": "white",
           "lakecolor": "white",
           "landcolor": "#E5ECF6",
           "showlakes": true,
           "showland": true,
           "subunitcolor": "white"
          },
          "hoverlabel": {
           "align": "left"
          },
          "hovermode": "closest",
          "mapbox": {
           "style": "light"
          },
          "paper_bgcolor": "white",
          "plot_bgcolor": "#E5ECF6",
          "polar": {
           "angularaxis": {
            "gridcolor": "white",
            "linecolor": "white",
            "ticks": ""
           },
           "bgcolor": "#E5ECF6",
           "radialaxis": {
            "gridcolor": "white",
            "linecolor": "white",
            "ticks": ""
           }
          },
          "scene": {
           "xaxis": {
            "backgroundcolor": "#E5ECF6",
            "gridcolor": "white",
            "gridwidth": 2,
            "linecolor": "white",
            "showbackground": true,
            "ticks": "",
            "zerolinecolor": "white"
           },
           "yaxis": {
            "backgroundcolor": "#E5ECF6",
            "gridcolor": "white",
            "gridwidth": 2,
            "linecolor": "white",
            "showbackground": true,
            "ticks": "",
            "zerolinecolor": "white"
           },
           "zaxis": {
            "backgroundcolor": "#E5ECF6",
            "gridcolor": "white",
            "gridwidth": 2,
            "linecolor": "white",
            "showbackground": true,
            "ticks": "",
            "zerolinecolor": "white"
           }
          },
          "shapedefaults": {
           "line": {
            "color": "#2a3f5f"
           }
          },
          "ternary": {
           "aaxis": {
            "gridcolor": "white",
            "linecolor": "white",
            "ticks": ""
           },
           "baxis": {
            "gridcolor": "white",
            "linecolor": "white",
            "ticks": ""
           },
           "bgcolor": "#E5ECF6",
           "caxis": {
            "gridcolor": "white",
            "linecolor": "white",
            "ticks": ""
           }
          },
          "title": {
           "x": 0.05
          },
          "xaxis": {
           "automargin": true,
           "gridcolor": "white",
           "linecolor": "white",
           "ticks": "",
           "title": {
            "standoff": 15
           },
           "zerolinecolor": "white",
           "zerolinewidth": 2
          },
          "yaxis": {
           "automargin": true,
           "gridcolor": "white",
           "linecolor": "white",
           "ticks": "",
           "title": {
            "standoff": 15
           },
           "zerolinecolor": "white",
           "zerolinewidth": 2
          }
         }
        }
       }
      }
     },
     "metadata": {},
     "output_type": "display_data"
    }
   ],
   "source": [
    "results = calc_bayes_posteriors()\n",
    "fig2 = go.Figure()\n",
    "fig2.add_trace(\n",
    "    go.Bar(x=[r[0] for r in results], y=[r[1] for r in results], text=[f'{r[1]*100:.2f}%' for r in results], name='posterior')\n",
    ")\n",
    "fig2.add_trace(\n",
    "    go.Bar(x=[r[0] for r in results], y=[len(df.loc[df.species==r[0]])/len(df) for r in results], text=[f'{len(df.loc[df.species==r[0]])*100/len(df):.2f}%' for r in results], name='prior')\n",
    ")\n",
    "fig2"
   ]
  },
  {
   "cell_type": "markdown",
   "metadata": {},
   "source": [
    "## Two Predictors"
   ]
  },
  {
   "cell_type": "markdown",
   "metadata": {},
   "source": [
    "Using both `bill_length_mm = 50` & `flipper_length_mm = 195`"
   ]
  },
  {
   "cell_type": "code",
   "execution_count": 14,
   "metadata": {},
   "outputs": [
    {
     "data": {
      "application/vnd.plotly.v1+json": {
       "config": {
        "plotlyServerURL": "https://plot.ly"
       },
       "data": [
        {
         "autobinx": false,
         "histnorm": "probability density",
         "legendgroup": "Adelie",
         "marker": {
          "color": "rgb(31, 119, 180)"
         },
         "name": "Adelie",
         "opacity": 0.7,
         "type": "histogram",
         "x": [
          181,
          186,
          195,
          190,
          193,
          190,
          181,
          195,
          193,
          190,
          186,
          180,
          182,
          191,
          198,
          185,
          195,
          197,
          184,
          194,
          174,
          180,
          189,
          185,
          180,
          187,
          183,
          187,
          172,
          180,
          178,
          178,
          188,
          184,
          195,
          196,
          190,
          180,
          181,
          184,
          182,
          195,
          186,
          196,
          185,
          190,
          182,
          179,
          190,
          191,
          186,
          188,
          190,
          200,
          187,
          191,
          186,
          193,
          181,
          194,
          185,
          195,
          185,
          192,
          184,
          192,
          195,
          188,
          190,
          198,
          190,
          190,
          196,
          197,
          190,
          195,
          191,
          184,
          187,
          195,
          189,
          196,
          187,
          193,
          191,
          194,
          190,
          189,
          189,
          190,
          202,
          205,
          185,
          186,
          187,
          208,
          190,
          196,
          178,
          192,
          192,
          203,
          183,
          190,
          193,
          184,
          199,
          190,
          181,
          197,
          198,
          191,
          193,
          197,
          191,
          196,
          188,
          199,
          189,
          189,
          187,
          198,
          176,
          202,
          186,
          199,
          191,
          195,
          191,
          210,
          190,
          197,
          193,
          199,
          187,
          190,
          191,
          200,
          185,
          193,
          193,
          187,
          188,
          190,
          192,
          185,
          190,
          184,
          195,
          193,
          187,
          201
         ],
         "xaxis": "x",
         "xbins": {
          "end": 210,
          "size": 1,
          "start": 172
         },
         "yaxis": "y"
        },
        {
         "autobinx": false,
         "histnorm": "probability density",
         "legendgroup": "Gentoo",
         "marker": {
          "color": "rgb(255, 127, 14)"
         },
         "name": "Gentoo",
         "opacity": 0.7,
         "type": "histogram",
         "x": [
          211,
          230,
          210,
          218,
          215,
          210,
          211,
          219,
          209,
          215,
          214,
          216,
          214,
          213,
          210,
          217,
          210,
          221,
          209,
          222,
          218,
          215,
          213,
          215,
          215,
          215,
          216,
          215,
          210,
          220,
          222,
          209,
          207,
          230,
          220,
          220,
          213,
          219,
          208,
          208,
          208,
          225,
          210,
          216,
          222,
          217,
          210,
          225,
          213,
          215,
          210,
          220,
          210,
          225,
          217,
          220,
          208,
          220,
          208,
          224,
          208,
          221,
          214,
          231,
          219,
          230,
          214,
          229,
          220,
          223,
          216,
          221,
          221,
          217,
          216,
          230,
          209,
          220,
          215,
          223,
          212,
          221,
          212,
          224,
          212,
          228,
          218,
          218,
          212,
          230,
          218,
          228,
          212,
          224,
          214,
          226,
          216,
          222,
          203,
          225,
          219,
          228,
          215,
          228,
          216,
          215,
          210,
          219,
          208,
          209,
          216,
          229,
          213,
          230,
          217,
          230,
          217,
          222,
          214,
          216,
          215,
          222,
          212,
          213
         ],
         "xaxis": "x",
         "xbins": {
          "end": 231,
          "size": 1,
          "start": 203
         },
         "yaxis": "y"
        },
        {
         "autobinx": false,
         "histnorm": "probability density",
         "legendgroup": "Chinstrap",
         "marker": {
          "color": "rgb(44, 160, 44)"
         },
         "name": "Chinstrap",
         "opacity": 0.7,
         "type": "histogram",
         "x": [
          192,
          196,
          193,
          188,
          197,
          198,
          178,
          197,
          195,
          198,
          193,
          194,
          185,
          201,
          190,
          201,
          197,
          181,
          190,
          195,
          181,
          191,
          187,
          193,
          195,
          197,
          200,
          200,
          191,
          205,
          187,
          201,
          187,
          203,
          195,
          199,
          195,
          210,
          192,
          205,
          210,
          187,
          196,
          196,
          196,
          201,
          190,
          212,
          187,
          198,
          199,
          201,
          193,
          203,
          187,
          197,
          191,
          203,
          202,
          194,
          206,
          189,
          195,
          207,
          202,
          193,
          210,
          198
         ],
         "xaxis": "x",
         "xbins": {
          "end": 212,
          "size": 1,
          "start": 178
         },
         "yaxis": "y"
        },
        {
         "legendgroup": "Adelie",
         "marker": {
          "color": "rgb(31, 119, 180)"
         },
         "mode": "lines",
         "name": "Adelie",
         "showlegend": false,
         "type": "scatter",
         "x": [
          172,
          172.076,
          172.152,
          172.228,
          172.304,
          172.38,
          172.456,
          172.532,
          172.608,
          172.684,
          172.76,
          172.836,
          172.912,
          172.988,
          173.064,
          173.14,
          173.216,
          173.292,
          173.368,
          173.444,
          173.52,
          173.596,
          173.672,
          173.748,
          173.824,
          173.9,
          173.976,
          174.052,
          174.128,
          174.204,
          174.28,
          174.356,
          174.432,
          174.508,
          174.584,
          174.66,
          174.736,
          174.812,
          174.888,
          174.964,
          175.04,
          175.116,
          175.192,
          175.268,
          175.344,
          175.42,
          175.496,
          175.572,
          175.648,
          175.724,
          175.8,
          175.876,
          175.952,
          176.028,
          176.104,
          176.18,
          176.256,
          176.332,
          176.408,
          176.484,
          176.56,
          176.636,
          176.712,
          176.788,
          176.864,
          176.94,
          177.016,
          177.092,
          177.168,
          177.244,
          177.32,
          177.396,
          177.472,
          177.548,
          177.624,
          177.7,
          177.776,
          177.852,
          177.928,
          178.004,
          178.08,
          178.156,
          178.232,
          178.308,
          178.38400000000001,
          178.46,
          178.536,
          178.612,
          178.688,
          178.764,
          178.84,
          178.916,
          178.992,
          179.068,
          179.144,
          179.22,
          179.296,
          179.372,
          179.448,
          179.524,
          179.6,
          179.676,
          179.752,
          179.828,
          179.904,
          179.98,
          180.056,
          180.132,
          180.208,
          180.284,
          180.36,
          180.436,
          180.512,
          180.588,
          180.664,
          180.74,
          180.816,
          180.892,
          180.968,
          181.044,
          181.12,
          181.196,
          181.272,
          181.348,
          181.424,
          181.5,
          181.576,
          181.652,
          181.728,
          181.804,
          181.88,
          181.956,
          182.032,
          182.108,
          182.184,
          182.26,
          182.336,
          182.412,
          182.488,
          182.564,
          182.64,
          182.716,
          182.792,
          182.868,
          182.944,
          183.02,
          183.096,
          183.172,
          183.248,
          183.324,
          183.4,
          183.476,
          183.552,
          183.628,
          183.704,
          183.78,
          183.856,
          183.932,
          184.008,
          184.084,
          184.16,
          184.236,
          184.312,
          184.388,
          184.464,
          184.54,
          184.61599999999999,
          184.692,
          184.768,
          184.844,
          184.92,
          184.996,
          185.072,
          185.148,
          185.224,
          185.3,
          185.376,
          185.452,
          185.528,
          185.60399999999998,
          185.68,
          185.756,
          185.832,
          185.908,
          185.984,
          186.06,
          186.136,
          186.212,
          186.288,
          186.364,
          186.44,
          186.516,
          186.592,
          186.668,
          186.744,
          186.82,
          186.89600000000002,
          186.972,
          187.048,
          187.124,
          187.2,
          187.276,
          187.352,
          187.428,
          187.504,
          187.58,
          187.656,
          187.732,
          187.808,
          187.88400000000001,
          187.96,
          188.036,
          188.112,
          188.188,
          188.264,
          188.34,
          188.416,
          188.492,
          188.568,
          188.644,
          188.72,
          188.796,
          188.872,
          188.948,
          189.024,
          189.1,
          189.176,
          189.252,
          189.328,
          189.404,
          189.48,
          189.556,
          189.632,
          189.708,
          189.784,
          189.86,
          189.936,
          190.012,
          190.088,
          190.164,
          190.24,
          190.316,
          190.392,
          190.468,
          190.544,
          190.62,
          190.696,
          190.772,
          190.848,
          190.924,
          191,
          191.076,
          191.152,
          191.228,
          191.304,
          191.38,
          191.456,
          191.532,
          191.608,
          191.684,
          191.76,
          191.836,
          191.912,
          191.988,
          192.064,
          192.14,
          192.216,
          192.292,
          192.368,
          192.444,
          192.52,
          192.596,
          192.672,
          192.748,
          192.824,
          192.9,
          192.976,
          193.052,
          193.128,
          193.204,
          193.28,
          193.356,
          193.432,
          193.508,
          193.584,
          193.66,
          193.736,
          193.812,
          193.888,
          193.964,
          194.04,
          194.11599999999999,
          194.192,
          194.268,
          194.344,
          194.42000000000002,
          194.496,
          194.572,
          194.648,
          194.724,
          194.8,
          194.876,
          194.952,
          195.028,
          195.10399999999998,
          195.18,
          195.256,
          195.332,
          195.40800000000002,
          195.484,
          195.56,
          195.636,
          195.712,
          195.788,
          195.864,
          195.94,
          196.016,
          196.09199999999998,
          196.168,
          196.244,
          196.32,
          196.39600000000002,
          196.472,
          196.548,
          196.624,
          196.7,
          196.776,
          196.852,
          196.928,
          197.004,
          197.07999999999998,
          197.156,
          197.232,
          197.308,
          197.38400000000001,
          197.46,
          197.536,
          197.612,
          197.688,
          197.764,
          197.84,
          197.916,
          197.992,
          198.068,
          198.144,
          198.22,
          198.296,
          198.372,
          198.448,
          198.524,
          198.6,
          198.676,
          198.752,
          198.828,
          198.904,
          198.98,
          199.056,
          199.132,
          199.208,
          199.284,
          199.36,
          199.436,
          199.512,
          199.588,
          199.664,
          199.74,
          199.816,
          199.892,
          199.968,
          200.044,
          200.12,
          200.196,
          200.272,
          200.348,
          200.424,
          200.5,
          200.576,
          200.652,
          200.728,
          200.804,
          200.88,
          200.956,
          201.032,
          201.108,
          201.184,
          201.26,
          201.336,
          201.412,
          201.488,
          201.564,
          201.64,
          201.716,
          201.792,
          201.868,
          201.944,
          202.02,
          202.096,
          202.172,
          202.248,
          202.324,
          202.4,
          202.476,
          202.552,
          202.628,
          202.704,
          202.78,
          202.856,
          202.932,
          203.008,
          203.084,
          203.16,
          203.236,
          203.312,
          203.388,
          203.464,
          203.54,
          203.61599999999999,
          203.692,
          203.768,
          203.844,
          203.92000000000002,
          203.996,
          204.072,
          204.148,
          204.224,
          204.3,
          204.376,
          204.452,
          204.528,
          204.60399999999998,
          204.68,
          204.756,
          204.832,
          204.90800000000002,
          204.984,
          205.06,
          205.136,
          205.212,
          205.288,
          205.364,
          205.44,
          205.516,
          205.59199999999998,
          205.668,
          205.744,
          205.82,
          205.89600000000002,
          205.972,
          206.048,
          206.124,
          206.2,
          206.276,
          206.352,
          206.428,
          206.504,
          206.57999999999998,
          206.656,
          206.732,
          206.808,
          206.88400000000001,
          206.96,
          207.036,
          207.112,
          207.188,
          207.264,
          207.34,
          207.416,
          207.492,
          207.56799999999998,
          207.644,
          207.72,
          207.796,
          207.872,
          207.948,
          208.024,
          208.1,
          208.176,
          208.252,
          208.328,
          208.404,
          208.48,
          208.55599999999998,
          208.632,
          208.708,
          208.784,
          208.86,
          208.936,
          209.012,
          209.088,
          209.164,
          209.24,
          209.316,
          209.392,
          209.46800000000002,
          209.54399999999998,
          209.62,
          209.696,
          209.772,
          209.848,
          209.924
         ],
         "xaxis": "x",
         "y": [
          0.0023236490521831854,
          0.0023742095766569257,
          0.0024250860855138273,
          0.0024763049792410523,
          0.0025278971304291092,
          0.0025798979765959368,
          0.00263234759619553,
          0.0026852907670785087,
          0.002738777006736167,
          0.002792860593728066,
          0.0028476005697647606,
          0.0029030607219893505,
          0.0029593095450781803,
          0.003016420182856179,
          0.0030744703492016764,
          0.003133542228093266,
          0.003193722352732419,
          0.003255101463754347,
          0.0033177743466208027,
          0.0033818396483687686,
          0.003447399673968552,
          0.0035145601626255223,
          0.0035834300444380035,
          0.0036541211779030523,
          0.003726748068838742,
          0.0038014275713696834,
          0.003878278571696775,
          0.0039574216554480205,
          0.004038978759480628,
          0.004123072809076142,
          0.004209827341542986,
          0.004299366117309172,
          0.004391812719657313,
          0.004487290144320257,
          0.004585920380222202,
          0.004687823982713137,
          0.004793119640707019,
          0.004901923739194966,
          0.005014349918661799,
          0.005130508632993377,
          0.005250506707512445,
          0.005374446898836244,
          0.005502427458293823,
          0.005634541700691246,
          0.005770877580249445,
          0.00591151727558302,
          0.006056536785619266,
          0.006206005538385425,
          0.006359986014620221,
          0.0065185333881778015,
          0.006681695185210374,
          0.006849510964114747,
          0.007022012018230724,
          0.007199221103263149,
          0.007381152191381445,
          0.007567810253921027,
          0.007759191074568328,
          0.007955281094861226,
          0.008156057293770804,
          0.00836148710305699,
          0.00857152835999773,
          0.008786129298990508,
          0.009005228583406183,
          0.009228755378941616,
          0.009456629469572585,
          0.009688761417042543,
          0.009925052764646166,
          0.010165396285870881,
          0.01040967627825252,
          0.010657768902574687,
          0.010909542567303922,
          0.011164858357899612,
          0.011423570510372301,
          0.011685526928187097,
          0.011950569741320683,
          0.012218535905984719,
          0.012489257843221784,
          0.012762564114275978,
          0.013038280130322323,
          0.013316228893829886,
          0.013596231768521438,
          0.013878109274582249,
          0.014161681905479177,
          0.014446770962450246,
          0.01473319940246064,
          0.015020792695151082,
          0.015309379684075605,
          0.015598793447295992,
          0.015888872152221883,
          0.016179459899415327,
          0.016470407549951063,
          0.016761573530833972,
          0.017052824612909353,
          0.01734403665569563,
          0.017635095313584623,
          0.017925896697936414,
          0.018216347989697398,
          0.01850636799734778,
          0.018795887655183318,
          0.019084850457202634,
          0.019373212822173094,
          0.019660944385802168,
          0.019948028216344546,
          0.020234460950411027,
          0.0205202528462411,
          0.02080542775221435,
          0.021090022988947826,
          0.021374089143912752,
          0.02165768977812827,
          0.021940901045136095,
          0.022223811223120685,
          0.022506520161720747,
          0.022789138645758225,
          0.023071787678800193,
          0.023354597690148172,
          0.023637707669518202,
          0.02392126423433209,
          0.02420542063516283,
          0.024490335705479246,
          0.024776172762392683,
          0.025063098465629412,
          0.02535128164241997,
          0.02564089208641143,
          0.025932099339064946,
          0.026225071462288724,
          0.026519973811286533,
          0.026816967816740846,
          0.02711620978553672,
          0.02741784972922177,
          0.027722030229321924,
          0.02802888534846703,
          0.028338539596042704,
          0.028651106956761527,
          0.028966689990144876,
          0.029285379008440287,
          0.029607251339935907,
          0.02993237068403033,
          0.03026078656371913,
          0.030592533880427934,
          0.03092763257530948,
          0.03126608740028828,
          0.03160788780123987,
          0.031953007914768405,
          0.03230140667910717,
          0.032653028058682115,
          0.03300780138091918,
          0.03336564178288039,
          0.03372645076435707,
          0.034090116843076085,
          0.034456516306758334,
          0.034825514055860145,
          0.035196964529976185,
          0.0355707127100737,
          0.035946595187978075,
          0.03632444129384833,
          0.036704074271762026,
          0.037085312493005396,
          0.03746797069620055,
          0.03785186124305457,
          0.03823679537823989,
          0.03862258448174719,
          0.039009041301986694,
          0.03939598115794068,
          0.03978322309881412,
          0.04017059100986604,
          0.040557914653452695,
          0.0409450306347567,
          0.041331783282228966,
          0.04171802543340883,
          0.04210361911752725,
          0.04248843612712271,
          0.04287235847180336,
          0.043255278708276994,
          0.04363710014181522,
          0.04401773689543458,
          0.04439711384423941,
          0.044775166413572355,
          0.045151840240871675,
          0.04552709070237405,
          0.04590088230709822,
          0.04627318796180163,
          0.04664398811187756,
          0.047013269764397715,
          0.047381025400716155,
          0.047747251787219024,
          0.04811194869390904,
          0.04847511753156488,
          0.04883675991917494,
          0.04919687619423036,
          0.0495554638792396,
          0.04991251611851156,
          0.05026802009980574,
          0.050621955475900156,
          0.05097429280143646,
          0.05132499200058129,
          0.05167400088108958,
          0.052021253710253575,
          0.05236666986798694,
          0.052710152591904556,
          0.05305158782873847,
          0.053390843205759105,
          0.05372776713507686,
          0.05406218806275635,
          0.054393913873621795,
          0.05472273146145299,
          0.055048406472980475,
          0.05537068323270848,
          0.05568928485411415,
          0.05600391354122469,
          0.05631425108295864,
          0.05661995954096088,
          0.05692068212996203,
          0.05721604428798313,
          0.057505654931991994,
          0.05778910789291554,
          0.058065983522245034,
          0.05833585046084491,
          0.058598267559018306,
          0.058852785935395585,
          0.059098951160828354,
          0.05933630555218685,
          0.05956439055979707,
          0.05978274923123194,
          0.0599909287332828,
          0.06018848291321751,
          0.06037497487985621,
          0.060549979584611856,
          0.06071308638241591,
          0.06086390155240665,
          0.06100205075840204,
          0.06112718142948915,
          0.06123896504156313,
          0.06133709928131446,
          0.061421310075004974,
          0.06149135346536632,
          0.061547017321111765,
          0.06158812286484051,
          0.06161452600653745,
          0.06162611847140992,
          0.061622828712443754,
          0.06160462259978686,
          0.06157150388086779,
          0.06152351440700248,
          0.06146073412413409,
          0.061383280827248685,
          0.0612913096799146,
          0.06118501250228079,
          0.06106461683271428,
          0.0609303847700587,
          0.06078261160521969,
          0.0606216242524299,
          0.06044777949208614,
          0.0602614620384876,
          0.06006308244710296,
          0.05985307487717148,
          0.059631894726462346,
          0.05940001615588889,
          0.059157929522388485,
          0.05890613873902157,
          0.05864515858162526,
          0.05837551196157075,
          0.05809772718421312,
          0.057812335212500454,
          0.05751986695492717,
          0.057220850596567875,
          0.05691580899133956,
          0.05660525713290292,
          0.056289699720738884,
          0.05596962883694898,
          0.05564552174821582,
          0.05531783884615905,
          0.05498702173802118,
          0.05465349149825448,
          0.054317647090148684,
          0.05397986396516006,
          0.05364049284610227,
          0.053299858698818606,
          0.05295825989543926,
          0.05261596757078875,
          0.05227322517202136,
          0.05193024820008625,
          0.051587224140207465,
          0.05124431257720841,
          0.05090164549020536,
          0.05055932771999298,
          0.05021743760130041,
          0.04987602775107871,
          0.04953512600302687,
          0.0491947364777498,
          0.04885484077720961,
          0.048515399291530974,
          0.04817635260572662,
          0.047837622993527194,
          0.04749911598524665,
          0.047160721996451084,
          0.04682231800417924,
          0.04648376925751713,
          0.04614493100951593,
          0.04580565025771088,
          0.04546576748086745,
          0.04512511836003952,
          0.044783535472552476,
          0.04444084994813929,
          0.04409689307712492,
          0.04375149786128903,
          0.04340450049880879,
          0.0430557417955073,
          0.04270506849547776,
          0.042352334525026944,
          0.04199740214476841,
          0.04164014300558049,
          0.04128043910504467,
          0.0409181836418456,
          0.040553281766487516,
          0.04018565122750965,
          0.03981522291319609,
          0.03944194128954322,
          0.03906576473597548,
          0.03868666578098561,
          0.03830463124050197,
          0.03791966226236838,
          0.03753177428083923,
          0.037140996885462366,
          0.036747373609112476,
          0.03635096164029923,
          0.03595183146513879,
          0.035550066444610576,
          0.03514576233288506,
          0.03473902674260469,
          0.034329978563068346,
          0.03391874733725211,
          0.03350547260356347,
          0.03309030320812025,
          0.032673396593215824,
          0.03225491806745021,
          0.03183504006280298,
          0.031413941383678104,
          0.030991806452691617,
          0.03056882455768543,
          0.03014518910414456,
          0.029721096876888738,
          0.029296747314574257,
          0.028872341800225965,
          0.02844808297068513,
          0.028024174047531554,
          0.027600818191725027,
          0.027178217883894074,
          0.02675657433190788,
          0.026336086907073234,
          0.025916952610036174,
          0.025499365567210424,
          0.025083516558319904,
          0.02466959257543064,
          0.024257776413643822,
          0.023848246293451707,
          0.023441175514595135,
          0.023036732141127697,
          0.02263507871726467,
          0.022236372013498422,
          0.02184076280237123,
          0.02144839566322441,
          0.021059408815190434,
          0.020673933977636415,
          0.02029209625724955,
          0.019914014060910763,
          0.019539799033499942,
          0.019169556019751507,
          0.018803383049279504,
          0.018441371343882525,
          0.018083605346236313,
          0.01773016276908431,
          0.01738111466402449,
          0.017036525509002386,
          0.016696453313599795,
          0.016360949741216053,
          0.016030060247215518,
          0.0157038242321171,
          0.015382275208873428,
          0.01506544098327764,
          0.0147533438465158,
          0.014446000778852414,
          0.014143423663426918,
          0.013845619509099268,
          0.01355259068127195,
          0.013264335139577952,
          0.012980846681315108,
          0.012702115189473747,
          0.012428126884194455,
          0.01215886457647492,
          0.011894307922934392,
          0.011634433680441546,
          0.011379215959406915,
          0.011128626474555045,
          0.01088263479199453,
          0.010641208571436332,
          0.0104043138024265,
          0.010171915033502121,
          0.00994397559321797,
          0.009720457802040701,
          0.009501323174166354,
          0.009286532608376575,
          0.00907604656712223,
          0.008869825243097214,
          0.0086678287126459,
          0.008470017075436024,
          0.00827635057991518,
          0.008086789734165786,
          0.0079012954018666,
          0.00771982888316907,
          0.007542351980391482,
          0.007368827048536029,
          0.007199217030729277,
          0.007033485478782828,
          0.006871596559166907,
          0.006713515044775483,
          0.006559206292955549,
          0.006408636210348527,
          0.006261771205175899,
          0.006118578127668939,
          0.005979024199412132,
          0.0058430769324292085,
          0.005710704038894877,
          0.005581873332403462,
          0.005456552621765721,
          0.005334709598340513,
          0.005216311717932709,
          0.005101326078312785,
          0.004989719293422443,
          0.004881457365343275,
          0.00477650555510113,
          0.004674828253376603,
          0.004576388852180508,
          0.004481149618533654,
          0.00438907157117223,
          0.0043001143612682435,
          0.00421423615812556,
          0.004131393540773408,
          0.0040515413963399605,
          0.003974632826042206,
          0.003900619059581687,
          0.003829449378683023,
          0.003761071050457989,
          0.0036954292712209147,
          0.0036324671213202693,
          0.0035721255314911703,
          0.0035143432611669224,
          0.0034590568891248986,
          0.0034062008167721177,
          0.003355707284308916,
          0.003307506399938941,
          0.003261526182222943,
          0.003217692615603532,
          0.00317592971905556,
          0.0031361596277463496,
          0.0030983026875178172,
          0.00306227756193223,
          0.0030280013515525503,
          0.0029953897250596362,
          0.0029643570617404196,
          0.0029348166048148673,
          0.00290668062500578,
          0.002879860593692491,
          0.002854267364931486,
          0.002829811365569441,
          0.0028064027926218457,
          0.002783951817040987,
          0.0027623687929512804,
          0.0027415644713897945,
          0.002721450217552682,
          0.0027019382305177695,
          0.0026829417643868523,
          0.002664375349771374,
          0.002646155014530134,
          0.0026281985026591795,
          0.0026104254902314353,
          0.002592757797287416,
          0.0025751195945887127,
          0.0025574376041621605,
          0.0025396412925863,
          0.0025216630560004998,
          0.0025034383958537393,
          0.002484906084451459,
          0.002466008319407261,
          0.0024466908661602543,
          0.00242690318777775,
          0.002406598561328303,
          0.0023857341801789096,
          0.0023642712416445046,
          0.002342175019495499,
          0.0023194149209107714,
          0.002295964527547575,
          0.002271801620486973,
          0.0022469081889019745,
          0.0022212704223855593,
          0.0021948786869668176,
          0.0021677274849334527,
          0.002139815398670513,
          0.0021111450188125622,
          0.0020817228570956903,
          0.002051559244379152
         ],
         "yaxis": "y"
        },
        {
         "legendgroup": "Gentoo",
         "marker": {
          "color": "rgb(255, 127, 14)"
         },
         "mode": "lines",
         "name": "Gentoo",
         "showlegend": false,
         "type": "scatter",
         "x": [
          203,
          203.056,
          203.112,
          203.168,
          203.224,
          203.28,
          203.336,
          203.392,
          203.448,
          203.504,
          203.56,
          203.616,
          203.672,
          203.728,
          203.784,
          203.84,
          203.896,
          203.952,
          204.008,
          204.064,
          204.12,
          204.176,
          204.232,
          204.288,
          204.344,
          204.4,
          204.456,
          204.512,
          204.568,
          204.624,
          204.68,
          204.736,
          204.792,
          204.848,
          204.904,
          204.96,
          205.016,
          205.072,
          205.128,
          205.184,
          205.24,
          205.296,
          205.352,
          205.408,
          205.464,
          205.52,
          205.576,
          205.632,
          205.688,
          205.744,
          205.8,
          205.856,
          205.912,
          205.968,
          206.024,
          206.08,
          206.136,
          206.192,
          206.248,
          206.304,
          206.36,
          206.416,
          206.472,
          206.528,
          206.584,
          206.64,
          206.696,
          206.752,
          206.808,
          206.864,
          206.92,
          206.976,
          207.032,
          207.088,
          207.144,
          207.2,
          207.256,
          207.312,
          207.368,
          207.424,
          207.48,
          207.536,
          207.592,
          207.648,
          207.704,
          207.76,
          207.816,
          207.872,
          207.928,
          207.984,
          208.04,
          208.096,
          208.152,
          208.208,
          208.264,
          208.32,
          208.376,
          208.432,
          208.488,
          208.544,
          208.6,
          208.656,
          208.712,
          208.768,
          208.824,
          208.88,
          208.936,
          208.992,
          209.048,
          209.104,
          209.16,
          209.216,
          209.272,
          209.328,
          209.38400000000001,
          209.44,
          209.496,
          209.552,
          209.608,
          209.664,
          209.72,
          209.776,
          209.832,
          209.888,
          209.944,
          210,
          210.056,
          210.112,
          210.168,
          210.224,
          210.28,
          210.336,
          210.392,
          210.448,
          210.504,
          210.56,
          210.61599999999999,
          210.672,
          210.728,
          210.784,
          210.84,
          210.896,
          210.952,
          211.008,
          211.064,
          211.12,
          211.176,
          211.232,
          211.288,
          211.344,
          211.4,
          211.456,
          211.512,
          211.568,
          211.624,
          211.68,
          211.736,
          211.792,
          211.848,
          211.904,
          211.96,
          212.016,
          212.072,
          212.128,
          212.184,
          212.24,
          212.296,
          212.352,
          212.408,
          212.464,
          212.52,
          212.576,
          212.632,
          212.688,
          212.744,
          212.8,
          212.856,
          212.912,
          212.968,
          213.024,
          213.08,
          213.136,
          213.192,
          213.248,
          213.304,
          213.36,
          213.416,
          213.472,
          213.528,
          213.584,
          213.64,
          213.696,
          213.752,
          213.808,
          213.864,
          213.92,
          213.976,
          214.032,
          214.088,
          214.144,
          214.2,
          214.256,
          214.312,
          214.368,
          214.424,
          214.48,
          214.536,
          214.592,
          214.648,
          214.704,
          214.76,
          214.816,
          214.872,
          214.928,
          214.984,
          215.04,
          215.096,
          215.152,
          215.208,
          215.264,
          215.32,
          215.376,
          215.432,
          215.488,
          215.544,
          215.6,
          215.656,
          215.712,
          215.768,
          215.824,
          215.88,
          215.936,
          215.992,
          216.048,
          216.10399999999998,
          216.16,
          216.216,
          216.272,
          216.328,
          216.38400000000001,
          216.44,
          216.496,
          216.552,
          216.608,
          216.664,
          216.72,
          216.776,
          216.832,
          216.888,
          216.944,
          217,
          217.056,
          217.112,
          217.168,
          217.224,
          217.28,
          217.336,
          217.392,
          217.448,
          217.504,
          217.56,
          217.61599999999999,
          217.672,
          217.728,
          217.784,
          217.84,
          217.89600000000002,
          217.952,
          218.008,
          218.064,
          218.12,
          218.176,
          218.232,
          218.288,
          218.344,
          218.4,
          218.456,
          218.512,
          218.568,
          218.624,
          218.68,
          218.736,
          218.792,
          218.848,
          218.904,
          218.96,
          219.016,
          219.072,
          219.128,
          219.184,
          219.24,
          219.296,
          219.352,
          219.40800000000002,
          219.464,
          219.52,
          219.576,
          219.632,
          219.688,
          219.744,
          219.8,
          219.856,
          219.912,
          219.968,
          220.024,
          220.07999999999998,
          220.136,
          220.192,
          220.248,
          220.304,
          220.36,
          220.416,
          220.472,
          220.528,
          220.584,
          220.64,
          220.696,
          220.752,
          220.808,
          220.864,
          220.92000000000002,
          220.976,
          221.032,
          221.088,
          221.144,
          221.2,
          221.256,
          221.312,
          221.368,
          221.424,
          221.48,
          221.536,
          221.59199999999998,
          221.648,
          221.704,
          221.76,
          221.816,
          221.872,
          221.928,
          221.984,
          222.04,
          222.096,
          222.152,
          222.208,
          222.264,
          222.32,
          222.376,
          222.432,
          222.488,
          222.544,
          222.6,
          222.656,
          222.712,
          222.768,
          222.824,
          222.88,
          222.936,
          222.992,
          223.048,
          223.10399999999998,
          223.16,
          223.216,
          223.272,
          223.328,
          223.38400000000001,
          223.44,
          223.496,
          223.552,
          223.608,
          223.664,
          223.72,
          223.776,
          223.832,
          223.888,
          223.944,
          224,
          224.056,
          224.112,
          224.168,
          224.224,
          224.28,
          224.336,
          224.392,
          224.448,
          224.504,
          224.56,
          224.61599999999999,
          224.672,
          224.728,
          224.784,
          224.84,
          224.89600000000002,
          224.952,
          225.008,
          225.064,
          225.12,
          225.176,
          225.232,
          225.288,
          225.344,
          225.4,
          225.456,
          225.512,
          225.568,
          225.624,
          225.68,
          225.736,
          225.792,
          225.848,
          225.904,
          225.96,
          226.016,
          226.072,
          226.128,
          226.184,
          226.24,
          226.296,
          226.352,
          226.40800000000002,
          226.464,
          226.52,
          226.576,
          226.632,
          226.688,
          226.744,
          226.8,
          226.856,
          226.912,
          226.968,
          227.024,
          227.07999999999998,
          227.136,
          227.192,
          227.248,
          227.304,
          227.36,
          227.416,
          227.472,
          227.528,
          227.584,
          227.64,
          227.696,
          227.752,
          227.808,
          227.864,
          227.92000000000002,
          227.976,
          228.032,
          228.088,
          228.144,
          228.2,
          228.256,
          228.312,
          228.368,
          228.424,
          228.48,
          228.536,
          228.59199999999998,
          228.648,
          228.704,
          228.76,
          228.816,
          228.872,
          228.928,
          228.984,
          229.04,
          229.096,
          229.152,
          229.208,
          229.264,
          229.32,
          229.376,
          229.432,
          229.488,
          229.544,
          229.6,
          229.656,
          229.712,
          229.768,
          229.824,
          229.88,
          229.936,
          229.992,
          230.048,
          230.10399999999998,
          230.16,
          230.216,
          230.272,
          230.328,
          230.38400000000001,
          230.44,
          230.496,
          230.552,
          230.608,
          230.664,
          230.72,
          230.776,
          230.832,
          230.888,
          230.944
         ],
         "xaxis": "x",
         "y": [
          0.0034130785709063256,
          0.0035169893606311346,
          0.0036243566309535186,
          0.00373528777938347,
          0.003849890908810948,
          0.003968274636948893,
          0.004090547896746758,
          0.004216819728051573,
          0.00434719906083448,
          0.004481794490334862,
          0.004620714044519848,
          0.004764064944288583,
          0.004911953356893497,
          0.00506448414308622,
          0.005221760598532439,
          0.005383884190078386,
          0.005550954287480499,
          0.005723067891252632,
          0.005900319357305862,
          0.006082800119098301,
          0.00627059840803098,
          0.0064637989728597075,
          0.0066624827989144875,
          0.0068667268279410856,
          0.007076603679402108,
          0.007292181374088683,
          0.007513523060913391,
          0.007740686747765536,
          0.007973725037320285,
          0.008212684868699378,
          0.008457607265887943,
          0.008708527093807808,
          0.008965472822950153,
          0.009228466303462593,
          0.00949752254957566,
          0.009772649535247088,
          0.010053848001875552,
          0.010341111278933356,
          0.01063442511832536,
          0.01093376754327609,
          0.01123910871250093,
          0.011550410800395348,
          0.011867627893940524,
          0.012190705906974379,
          0.012519582512455081,
          0.012854187093275068,
          0.013194440712160579,
          0.013540256101121376,
          0.013891537670875283,
          0.014248181540611388,
          0.014610075588398002,
          0.014977099522486631,
          0.015349124973693232,
          0.015726015608982836,
          0.01610762726631357,
          0.016493808110732033,
          0.01688439881164216,
          0.01727923274110843,
          0.01767813619297008,
          0.018080928622496134,
          0.01848742290621881,
          0.018897425621527932,
          0.019310737345539397,
          0.019727152972668006,
          0.020146462050293464,
          0.020568449131809646,
          0.02099289414631645,
          0.02141957278411577,
          0.02184825689714476,
          0.022278714913392558,
          0.022710712264306043,
          0.02314401182413515,
          0.023578374360102072,
          0.024013558992255286,
          0.0244493236617984,
          0.024885425606660603,
          0.02532162184302917,
          0.02575766965153268,
          0.02619332706673185,
          0.026628353368554816,
          0.027062509574282235,
          0.027495558929680714,
          0.02792726739786462,
          0.02835740414445827,
          0.028785742017635677,
          0.029212058021598437,
          0.029636133782085444,
          0.030057756002489312,
          0.030476716909199217,
          0.030892814684787908,
          0.03130585388769884,
          0.03171564585712145,
          0.03212200910176213,
          0.0325247696712843,
          0.03292376150920342,
          0.033318826786104164,
          0.03370981621207087,
          0.03409658932729957,
          0.03447901476991011,
          0.03485697052004373,
          0.035230344119402714,
          0.03559903286545327,
          0.03596294397959298,
          0.036321994748658895,
          0.0366761126392312,
          0.037025235384269176,
          0.03736931104170472,
          0.037708298024694616,
          0.03804216510333055,
          0.03837089137768624,
          0.038694466222173526,
          0.03901288920127134,
          0.03932616995677001,
          0.03963432806678348,
          0.03993739287684604,
          0.04023540330352335,
          0.0405284076110363,
          0.04081646316149368,
          0.04109963613941031,
          0.04137800125126966,
          0.041651641400975575,
          0.041920647342106154,
          0.04218511730797103,
          0.042445156620534975,
          0.042700877279346544,
          0.04295239753167339,
          0.04319984142510886,
          0.04344333834397415,
          0.04368302253089061,
          0.0439190325949509,
          0.0441515110079595,
          0.04438060359025707,
          0.04460645898767437,
          0.04482922814119997,
          0.045049063750960266,
          0.045266119736145735,
          0.045480550692519696,
          0.04569251134916464,
          0.0459021560261238,
          0.04610963809459276,
          0.04631510944131894,
          0.04651871993884106,
          0.04672061692320515,
          0.04692094468074976,
          0.04711984394554759,
          0.04731745140904404,
          0.047513899243404316,
          0.04770931464003969,
          0.04790381936473095,
          0.04809752933072676,
          0.04829055419113066,
          0.04848299695183491,
          0.04867495360619736,
          0.048866512792586726,
          0.049057755475855,
          0.04924875465371792,
          0.04943957508894837,
          0.04963027306820734,
          0.049820896188253534,
          0.050011483170186354,
          0.050202063702291896,
          0.050392658311965356,
          0.050583278267102225,
          0.05077392550724544,
          0.050964592604693965,
          0.0511552627556732,
          0.051345909801579666,
          0.051536498280215844,
          0.05172698350682994,
          0.051917311684692456,
          0.0521074200448334,
          0.05229723701448431,
          0.0524866824136672,
          0.052675667679289426,
          0.05286409611601176,
          0.05305186317307236,
          0.053238856746167476,
          0.05342495750340524,
          0.05361003923427608,
          0.0537939692205045,
          0.05397660862758165,
          0.054157812915703984,
          0.05433743226879013,
          0.0545153120401774,
          0.05469129321355825,
          0.05486521287765643,
          0.055036904713104816,
          0.05520619948994516,
          0.055372925574132426,
          0.05553690944140586,
          0.05569797619685158,
          0.0558559500984791,
          0.056010655083106944,
          0.05616191529285588,
          0.05630955560054112,
          0.0564534021322624,
          0.056593282785500174,
          0.05672902774104001,
          0.05686046996707412,
          0.05698744571385011,
          0.05710979499727514,
          0.057227362069919636,
          0.05733999587790796,
          0.05744755050223585,
          0.05754988558310462,
          0.05764686672592475,
          0.05773836588770364,
          0.05782426174260043,
          0.057904440025506466,
          0.05797879385258381,
          0.05804722401777489,
          0.05810963926438466,
          0.05816595653091946,
          0.05821610117045884,
          0.058260007142931815,
          0.058297617179759294,
          0.058328882920428704,
          0.05835376502065725,
          0.05837223323190849,
          0.05838426645212058,
          0.05838985274761146,
          0.058388989346223,
          0.058381682601870995,
          0.05836794793076441,
          0.058347809719660165,
          0.05832130120661447,
          0.058288464334788674,
          0.05824934957996294,
          0.0582040157524978,
          0.05815252977457765,
          0.05809496643364872,
          0.05803140811305081,
          0.057961944500916254,
          0.05788667227848274,
          0.057805694789036834,
          0.05771912168876666,
          0.05762706858086305,
          0.05752965663425966,
          0.05742701218845214,
          0.05731926634587888,
          0.057206554553379606,
          0.057089016174282865,
          0.05696679405269487,
          0.056840034071579545,
          0.05670888470623711,
          0.05657349657478534,
          0.056434021987259754,
          0.05629061449492651,
          0.05614342844140565,
          0.055992618517170266,
          0.05583833931896948,
          0.05568074491569086,
          0.0555199884221391,
          0.05535622158216956,
          0.05518959436256501,
          0.05502025455899278,
          0.05484834741532228,
          0.05467401525751977,
          0.05449739714327256,
          0.05431862852842476,
          0.054137840951229504,
          0.053955161735350206,
          0.05377071371246006,
          0.05358461496520553,
          0.053396978591217205,
          0.05320791248876,
          0.053017519164533206,
          0.0528258955640301,
          0.05263313292478822,
          0.05243931665276214,
          0.0522445262219625,
          0.05204883509741669,
          0.05185231068141029,
          0.05165501428289122,
          0.051457001109817234,
          0.051258320284156084,
          0.05105901487915444,
          0.05085912197841849,
          0.05065867275626629,
          0.050457692578743336,
          0.05025620112461557,
          0.05005421252559406,
          0.04985173552497759,
          0.04964877365384117,
          0.04944532542384824,
          0.04924138453570686,
          0.04903694010225607,
          0.04883197688511489,
          0.048626475543804885,
          0.04842041289621673,
          0.04821376218927217,
          0.048006493378611036,
          0.04779857341611717,
          0.04758996654409203,
          0.04738063459487336,
          0.04717053729470591,
          0.046959632570668645,
          0.04674787685947938,
          0.04653522541701152,
          0.0463216326273747,
          0.046107052310443514,
          0.045891438026735516,
          0.04567474337858547,
          0.04545692230658961,
          0.0452379293803384,
          0.04501772008250003,
          0.044796251085361644,
          0.044573480518987546,
          0.04434936823020179,
          0.04412387603166206,
          0.043896967940343194,
          0.0436686104048102,
          0.04343877252071521,
          0.043207426234022225,
          0.0429745465315096,
          0.04274011161818065,
          0.04250410308125362,
          0.0422665060404818,
          0.042027309284603895,
          0.04178650539378604,
          0.041544090847984445,
          0.041300066121200206,
          0.041054435761669436,
          0.04080720845807358,
          0.040558397091915915,
          0.04030801877625233,
          0.04005609488101857,
          0.03980265104523631,
          0.03954771717642194,
          0.0392913274375654,
          0.03903352022207622,
          0.03877433811713005,
          0.038513827855876245,
          0.03825204025899424,
          0.03798903016610671,
          0.03772485635757917,
          0.03745958146724554,
          0.037193271886619035,
          0.03692599766114897,
          0.03665783237908945,
          0.03638885305355621,
          0.03611913999833045,
          0.03584877669798243,
          0.03557784967286001,
          0.03530644833949735,
          0.03503466486696454,
          0.03476259402968027,
          0.03449033305718246,
          0.03421798148132815,
          0.03394564098138508,
          0.0336734152274336,
          0.03340140972248912,
          0.033129731643717616,
          0.03285848968309172,
          0.0325877938878052,
          0.03231775550073473,
          0.03204848680120444,
          0.03178010094628334,
          0.03151271181281054,
          0.031246433840315585,
          0.030981381874971597,
          0.030717671014689925,
          0.030455416455437895,
          0.03019473333883223,
          0.029935736601040923,
          0.029678540822996813,
          0.029423260081908594,
          0.02917000780403418,
          0.028918896618660053,
          0.028670038213224162,
          0.028423543189491546,
          0.02817952092069954,
          0.027938079409561948,
          0.027699325147032036,
          0.02746336297171046,
          0.02723029592978738,
          0.027000225135411088,
          0.026773249631376176,
          0.026549466250035927,
          0.026328969474349682,
          0.026111851298989533,
          0.02589820109144454,
          0.025688105453078282,
          0.025481648080111562,
          0.025278909624527106,
          0.02507996755491095,
          0.024884896017272746,
          0.02469376569591127,
          0.024506643674418294,
          0.024323593296943547,
          0.02414467402986831,
          0.023969941324072187,
          0.02379944647799697,
          0.0236332365017522,
          0.023471353982530054,
          0.023313836951627635,
          0.023160718753409668,
          0.023012027916562552,
          0.02286778802803066,
          0.02272801761003929,
          0.022592730000644018,
          0.022461933238262094,
          0.02233562995066531,
          0.022213817248933457,
          0.022096486626880654,
          0.02198362386648602,
          0.02187520894986628,
          0.02177121597834077,
          0.021671613099141916,
          0.021576362440329407,
          0.021485420054462665,
          0.02139873587158668,
          0.021316253662073764,
          0.021237911009857953,
          0.021163639296582264,
          0.02109336369716197,
          0.021027003187247373,
          0.020964470563043253,
          0.020905672473917926,
          0.020850509468200374,
          0.02079887605253346,
          0.02075066076511209,
          0.020705746263096268,
          0.02066400942444684,
          0.020625321464384987,
          0.020589548066631786,
          0.02055654952953074,
          0.020526180927108034,
          0.02049829228506918,
          0.02047272877167698,
          0.020449330903398906,
          0.020427934765155007,
          0.02040837224493917,
          0.020390471282527835,
          0.020374056131932206,
          0.020358947637190723,
          0.020344963521040604,
          0.02033191868594987,
          0.020319625526934497,
          0.02030789425553012,
          0.02029653323423407,
          0.020285349320681274,
          0.020274148220768236,
          0.020262734849891374,
          0.02025091370142129,
          0.020238489221492784,
          0.020225266189151044,
          0.0202110501008592,
          0.020195647558340538,
          0.020178866658699435,
          0.02016051738574161,
          0.020140412001392983,
          0.02011836543610051,
          0.020094195677086018,
          0.020067724153316494,
          0.020038776116051177,
          0.0200071810138263,
          0.019972772860745006,
          0.01993539059694942,
          0.019894878440167095,
          0.019851086227242975,
          0.019803869744592077,
          0.019753091046535567,
          0.01969861876051602,
          0.019640328378222743,
          0.019578102531700437,
          0.019511831253556277,
          0.01944141222043107,
          0.01936675097894882,
          0.019287761153416405,
          0.019204364634600474,
          0.019116491748970656,
          0.019024081407860903,
          0.018927081236064954,
          0.018825447679452205,
          0.018719146091255072,
          0.018608150796753726,
          0.018492445136152547,
          0.018372021485517,
          0.01824688125571172,
          0.018117034869353434,
          0.017982501715867166,
          0.0178433100848046,
          0.01769949707765715,
          0.017551108498466254,
          0.017398198723603563,
          0.017240830551161636,
          0.017079075030461972,
          0.016913011272250263,
          0.01674272624021227,
          0.01656831452450156,
          0.01638987809802421,
          0.01620752605628516,
          0.016021374341639964,
          0.015831545452854902,
          0.015638168140906343,
          0.015441377092004088,
          0.01524131259884333,
          0.015038120221132675,
          0.014831950436464998
         ],
         "yaxis": "y"
        },
        {
         "legendgroup": "Chinstrap",
         "marker": {
          "color": "rgb(44, 160, 44)"
         },
         "mode": "lines",
         "name": "Chinstrap",
         "showlegend": false,
         "type": "scatter",
         "x": [
          178,
          178.068,
          178.136,
          178.204,
          178.272,
          178.34,
          178.408,
          178.476,
          178.544,
          178.612,
          178.68,
          178.748,
          178.816,
          178.884,
          178.952,
          179.02,
          179.088,
          179.156,
          179.224,
          179.292,
          179.36,
          179.428,
          179.496,
          179.564,
          179.632,
          179.7,
          179.768,
          179.836,
          179.904,
          179.972,
          180.04,
          180.108,
          180.176,
          180.244,
          180.312,
          180.38,
          180.448,
          180.516,
          180.584,
          180.652,
          180.72,
          180.788,
          180.856,
          180.924,
          180.992,
          181.06,
          181.128,
          181.196,
          181.264,
          181.332,
          181.4,
          181.468,
          181.536,
          181.604,
          181.672,
          181.74,
          181.808,
          181.876,
          181.944,
          182.012,
          182.08,
          182.148,
          182.216,
          182.284,
          182.352,
          182.42,
          182.488,
          182.556,
          182.624,
          182.692,
          182.76,
          182.828,
          182.896,
          182.964,
          183.032,
          183.1,
          183.168,
          183.236,
          183.304,
          183.372,
          183.44,
          183.508,
          183.576,
          183.644,
          183.712,
          183.78,
          183.848,
          183.916,
          183.984,
          184.052,
          184.12,
          184.188,
          184.256,
          184.324,
          184.392,
          184.46,
          184.528,
          184.596,
          184.664,
          184.732,
          184.8,
          184.868,
          184.936,
          185.004,
          185.072,
          185.14,
          185.208,
          185.276,
          185.344,
          185.412,
          185.48,
          185.548,
          185.61599999999999,
          185.684,
          185.752,
          185.82,
          185.888,
          185.956,
          186.024,
          186.092,
          186.16,
          186.228,
          186.296,
          186.364,
          186.432,
          186.5,
          186.568,
          186.636,
          186.704,
          186.772,
          186.84,
          186.908,
          186.976,
          187.044,
          187.112,
          187.18,
          187.248,
          187.316,
          187.38400000000001,
          187.452,
          187.52,
          187.588,
          187.656,
          187.724,
          187.792,
          187.86,
          187.928,
          187.996,
          188.064,
          188.132,
          188.2,
          188.268,
          188.336,
          188.404,
          188.472,
          188.54,
          188.608,
          188.676,
          188.744,
          188.812,
          188.88,
          188.948,
          189.016,
          189.084,
          189.152,
          189.22,
          189.288,
          189.356,
          189.424,
          189.492,
          189.56,
          189.628,
          189.696,
          189.764,
          189.832,
          189.9,
          189.968,
          190.036,
          190.10399999999998,
          190.172,
          190.24,
          190.308,
          190.376,
          190.444,
          190.512,
          190.58,
          190.648,
          190.716,
          190.784,
          190.852,
          190.92,
          190.988,
          191.056,
          191.124,
          191.192,
          191.26,
          191.328,
          191.39600000000002,
          191.464,
          191.532,
          191.6,
          191.668,
          191.736,
          191.804,
          191.872,
          191.94,
          192.008,
          192.076,
          192.144,
          192.212,
          192.28,
          192.348,
          192.416,
          192.484,
          192.552,
          192.62,
          192.688,
          192.756,
          192.824,
          192.892,
          192.96,
          193.028,
          193.096,
          193.164,
          193.232,
          193.3,
          193.368,
          193.436,
          193.504,
          193.572,
          193.64,
          193.708,
          193.776,
          193.844,
          193.912,
          193.98,
          194.048,
          194.11599999999999,
          194.184,
          194.252,
          194.32,
          194.388,
          194.456,
          194.524,
          194.59199999999998,
          194.66,
          194.728,
          194.796,
          194.864,
          194.932,
          195,
          195.068,
          195.136,
          195.204,
          195.272,
          195.34,
          195.40800000000002,
          195.476,
          195.544,
          195.612,
          195.68,
          195.748,
          195.816,
          195.88400000000001,
          195.952,
          196.02,
          196.088,
          196.156,
          196.224,
          196.292,
          196.36,
          196.428,
          196.496,
          196.564,
          196.632,
          196.7,
          196.768,
          196.836,
          196.904,
          196.972,
          197.04,
          197.108,
          197.176,
          197.244,
          197.312,
          197.38,
          197.448,
          197.516,
          197.584,
          197.652,
          197.72,
          197.788,
          197.856,
          197.924,
          197.992,
          198.06,
          198.128,
          198.196,
          198.264,
          198.332,
          198.4,
          198.468,
          198.536,
          198.60399999999998,
          198.672,
          198.74,
          198.808,
          198.876,
          198.944,
          199.012,
          199.07999999999998,
          199.148,
          199.216,
          199.284,
          199.352,
          199.42000000000002,
          199.488,
          199.556,
          199.624,
          199.692,
          199.76,
          199.828,
          199.89600000000002,
          199.964,
          200.032,
          200.1,
          200.168,
          200.236,
          200.304,
          200.372,
          200.44,
          200.508,
          200.576,
          200.644,
          200.712,
          200.78,
          200.848,
          200.916,
          200.984,
          201.052,
          201.12,
          201.188,
          201.256,
          201.324,
          201.392,
          201.46,
          201.528,
          201.596,
          201.664,
          201.732,
          201.8,
          201.868,
          201.936,
          202.004,
          202.072,
          202.14,
          202.208,
          202.276,
          202.344,
          202.412,
          202.48,
          202.548,
          202.61599999999999,
          202.684,
          202.752,
          202.82,
          202.888,
          202.956,
          203.024,
          203.09199999999998,
          203.16,
          203.228,
          203.296,
          203.364,
          203.432,
          203.5,
          203.568,
          203.636,
          203.704,
          203.772,
          203.84,
          203.90800000000002,
          203.976,
          204.044,
          204.112,
          204.18,
          204.248,
          204.316,
          204.38400000000001,
          204.452,
          204.52,
          204.588,
          204.656,
          204.724,
          204.792,
          204.86,
          204.928,
          204.996,
          205.064,
          205.132,
          205.2,
          205.268,
          205.336,
          205.404,
          205.472,
          205.54,
          205.608,
          205.676,
          205.744,
          205.812,
          205.88,
          205.948,
          206.016,
          206.084,
          206.152,
          206.22,
          206.288,
          206.356,
          206.424,
          206.492,
          206.56,
          206.628,
          206.696,
          206.764,
          206.832,
          206.9,
          206.968,
          207.036,
          207.10399999999998,
          207.172,
          207.24,
          207.308,
          207.376,
          207.444,
          207.512,
          207.57999999999998,
          207.648,
          207.716,
          207.784,
          207.852,
          207.92000000000002,
          207.988,
          208.056,
          208.124,
          208.192,
          208.26,
          208.328,
          208.39600000000002,
          208.464,
          208.532,
          208.6,
          208.668,
          208.736,
          208.804,
          208.872,
          208.94,
          209.008,
          209.076,
          209.144,
          209.212,
          209.28,
          209.348,
          209.416,
          209.484,
          209.552,
          209.62,
          209.688,
          209.756,
          209.824,
          209.892,
          209.96,
          210.028,
          210.096,
          210.164,
          210.232,
          210.3,
          210.368,
          210.436,
          210.504,
          210.572,
          210.64,
          210.708,
          210.776,
          210.844,
          210.912,
          210.98,
          211.048,
          211.11599999999999,
          211.184,
          211.252,
          211.32,
          211.388,
          211.45600000000002,
          211.524,
          211.59199999999998,
          211.66,
          211.728,
          211.796,
          211.864,
          211.93200000000002
         ],
         "xaxis": "x",
         "y": [
          0.004596402084456683,
          0.004666289201986388,
          0.004736137825866945,
          0.004805940205225215,
          0.004875690349086059,
          0.004945384107512327,
          0.005015019250677545,
          0.0050845955455831844,
          0.0051541148301260595,
          0.005223581084219959,
          0.005293000497671429,
          0.005362381534509383,
          0.005431734993467063,
          0.0055010740643150055,
          0.005570414379746839,
          0.005639774062519903,
          0.005709173767559219,
          0.005778636718737053,
          0.005848188740046334,
          0.005917858280895865,
          0.005987676435261665,
          0.006057676954441314,
          0.006127896253169151,
          0.0061983734088625515,
          0.006269150153785343,
          0.00634027085992935,
          0.006411782516432556,
          0.006483734699370593,
          0.006556179533779209,
          0.0066291716477849824,
          0.006702768118744991,
          0.006777028411320118,
          0.006852014307429505,
          0.006927789828062538,
          0.007004421146948157,
          0.007081976496111863,
          0.007160526063378153,
          0.007240141881904827,
          0.007320897711867283,
          0.007402868914439738,
          0.007486132318252582,
          0.007570766078534754,
          0.007656849529183483,
          0.007744463028033037,
          0.00783368779562632,
          0.007924605747825256,
          0.008017299322623732,
          0.00811185130156065,
          0.008208344626156317,
          0.008306862209826835,
          0.008407486745757423,
          0.008510300511241424,
          0.008615385169018403,
          0.008722821566166983,
          0.008832689531130524,
          0.008945067669474772,
          0.009060033158993171,
          0.00917766154479436,
          0.009298026535018013,
          0.009421199797840177,
          0.009547250760435048,
          0.009676246410571623,
          0.009808251101524758,
          0.009943326360983318,
          0.010081530704639064,
          0.010222919455132427,
          0.01036754456703009,
          0.01051545445849495,
          0.0106666938503011,
          0.010821303612829725,
          0.010979320621663206,
          0.011140777622376398,
          0.011305703105098566,
          0.011474121189394554,
          0.011646051519983375,
          0.0118215091737837,
          0.012000504578738429,
          0.012183043444835654,
          0.012369126707706674,
          0.012558750485135547,
          0.012751906046778533,
          0.012948579797341663,
          0.013148753273420294,
          0.013352403154158922,
          0.01355950128583539,
          0.013770014720428844,
          0.013983905768175828,
          0.01420113206406867,
          0.01442164664819943,
          0.01464539805979642,
          0.014872330444753307,
          0.01510238367639312,
          0.015335493489163927,
          0.015571591624904738,
          0.015810605991278672,
          0.016052460831914535,
          0.016297076907753772,
          0.016544371689056744,
          0.016794259557471856,
          0.01704665201753658,
          0.017301457916935475,
          0.017558583674804503,
          0.01781793351733877,
          0.018079409719925034,
          0.018342912854997603,
          0.018608342044784836,
          0.018875595218098323,
          0.019144569370290035,
          0.019415160825496346,
          0.019687265500268968,
          0.019960779167687844,
          0.02023559772104917,
          0.020511617436214706,
          0.02078873523171832,
          0.021066848925728198,
          0.021345857488974117,
          0.021625661292766177,
          0.021906162351243014,
          0.02218726455701608,
          0.02246887390939303,
          0.02275089873439893,
          0.023033249895837396,
          0.023315840996672735,
          0.023598588570049175,
          0.023881412259300294,
          0.024164234986349436,
          0.02444698310793779,
          0.024729586559170246,
          0.025011978983914156,
          0.02529409785163289,
          0.025575884560294408,
          0.025857284525038646,
          0.026138247252347854,
          0.02641872639951376,
          0.026698679819250268,
          0.02697806958935791,
          0.027256862027394912,
          0.02753502769037121,
          0.02781254135952812,
          0.028089382010326482,
          0.028365532767811768,
          0.028640980847579732,
          0.02891571748261484,
          0.02918973783631866,
          0.029463040902098225,
          0.02973562938991976,
          0.030007509600283293,
          0.030278691286109737,
          0.030549187503067864,
          0.030819014448909797,
          0.031088191292407787,
          0.03135673999252308,
          0.0316246851084572,
          0.03189205360126657,
          0.032158874627737574,
          0.032425179327240115,
          0.03269100060229341,
          0.03295637289358698,
          0.03322133195021586,
          0.03348591459588657,
          0.03375015849186311,
          0.0340141018974185,
          0.03427778342855429,
          0.03454124181575285,
          0.034804515661511104,
          0.035067643198403976,
          0.03533066204840665,
          0.035593608984197306,
          0.035856519693140194,
          0.036119428544634936,
          0.03638236836149668,
          0.036645370196008574,
          0.036908463111269385,
          0.03717167396842819,
          0.03743502722037765,
          0.037698544712448996,
          0.03796224549061992,
          0.038226145617725714,
          0.03849025799812546,
          0.03875459221125267,
          0.03901915435444329,
          0.03928394689540861,
          0.03954896853468412,
          0.03981421407835838,
          0.04007967432135396,
          0.04034533594149869,
          0.04061118140460072,
          0.040877188880704456,
          0.04114333217167688,
          0.041409580650247704,
          0.04167589921058934,
          0.041942248230506116,
          0.042208583545261705,
          0.04247485643305748,
          0.04274101361214236,
          0.04300699724950987,
          0.04327274498111496,
          0.04353818994351845,
          0.04380326081684185,
          0.044067881878897465,
          0.04433197307033021,
          0.044595450070593276,
          0.04485822438455589,
          0.04512020343952233,
          0.04538129069242239,
          0.04564138574691833,
          0.04590038448015089,
          0.04615817917883366,
          0.0464146586843898,
          0.046669708546803676,
          0.04692321118685439,
          0.04717504606637286,
          0.04742508986615878,
          0.04767321667117684,
          0.047919298162636494,
          0.0481632038165513,
          0.048404801108359014,
          0.04864395572317256,
          0.04888053177121987,
          0.04911439200802354,
          0.049345398058855613,
          0.04957341064699653,
          0.04979828982531967,
          0.05001989521070786,
          0.05023808622080859,
          0.050452722312618936,
          0.05066366322239106,
          0.05087076920633907,
          0.051073901281622994,
          0.05127292146708293,
          0.051467693023190285,
          0.05165808069068225,
          0.051843950927340676,
          0.05202517214237998,
          0.05220161492790431,
          0.0523731522868976,
          0.05253965985721398,
          0.05270101613103525,
          0.05285710266927313,
          0.053007804310393786,
          0.05315300937315552,
          0.05329260985275624,
          0.05342650160989859,
          0.05355458455229423,
          0.053676762808139905,
          0.05379294489111692,
          0.05390304385647733,
          0.05400697744780509,
          0.05410466823405436,
          0.054196043736492866,
          0.0542810365452006,
          0.054359584424797526,
          0.05443163040910248,
          0.054497122884452256,
          0.054556015661437564,
          0.05460826803484797,
          0.054653844831643004,
          0.05469271644680626,
          0.05472485886696927,
          0.05475025368172868,
          0.054768888082616825,
          0.054780754849721974,
          0.054785852325991535,
          0.05478418437929149,
          0.05477576035233176,
          0.054760595000606815,
          0.05473870841853955,
          0.05471012595405456,
          0.054674878111846244,
          0.05463300044564361,
          0.054584533439813024,
          0.05452952238067412,
          0.054468017217942526,
          0.05440007241674535,
          0.054325746800689446,
          0.05424510338649493,
          0.05415820921073516,
          0.05406513514925401,
          0.05396595572985709,
          0.053860748938898764,
          0.05374959602240799,
          0.053632581282416596,
          0.05350979186917132,
          0.053381317569925306,
          0.053247250595016477,
          0.05310768536195204,
          0.05296271827822132,
          0.05281244752356739,
          0.052656972832444006,
          0.05249639527738767,
          0.05233081705402379,
          0.05216034126842382,
          0.0519850717275137,
          0.05180511273322495,
          0.05162056888105993,
          0.05143154486372266,
          0.05123814528044852,
          0.05104047445263513,
          0.05083863624635438,
          0.05063273390229209,
          0.050422869873630385,
          0.05020914567235492,
          0.049991661724429544,
          0.049770517234245394,
          0.04954581005870796,
          0.049317636591288946,
          0.04908609165632135,
          0.048851268413775,
          0.04861325827470679,
          0.0483721508275278,
          0.04812803377519129,
          0.047880992883353825,
          0.04763111193951489,
          0.047378472723100605,
          0.0471231549864013,
          0.04686523644623846,
          0.04660479278618218,
          0.04634189766910366,
          0.04607662275980295,
          0.04580903775741163,
          0.04553921043722861,
          0.04526720670161586,
          0.04499309063954008,
          0.04471692459431485,
          0.044438769239067775,
          0.04415868365942988,
          0.04387672544291292,
          0.04359295077442594,
          0.043307414537351485,
          0.043020170419593974,
          0.042731271023991005,
          0.04244076798246685,
          0.04214871207330469,
          0.041855153340896685,
          0.04156014121734068,
          0.04126372464523919,
          0.040965952201070535,
          0.04066687221849657,
          0.040366532910989995,
          0.04006498249316429,
          0.03976226930021247,
          0.03945844190487106,
          0.03915354923134248,
          0.038847640665637326,
          0.03854076616181104,
          0.03823297634359984,
          0.03792432260098831,
          0.037614857181261785,
          0.03730463327413555,
          0.03699370509057675,
          0.03668212793497035,
          0.03636995827031169,
          0.03605725377614254,
          0.0357440733989853,
          0.03543047739505585,
          0.03511652736508335,
          0.03480228628108728,
          0.034487818505008344,
          0.03417318979911812,
          0.033858467328166664,
          0.0335437196532679,
          0.033229016717545364,
          0.03291442982360533,
          0.03260003160292297,
          0.03228589597727087,
          0.03197209811233562,
          0.031658714363707985,
          0.03134582221544751,
          0.031033500211457857,
          0.030721827879925945,
          0.030410885651099978,
          0.030100754768709197,
          0.029791517195336403,
          0.02948325551207925,
          0.02917605281285096,
          0.028869992593678544,
          0.028565158637378105,
          0.02826163489399037,
          0.027959505357368443,
          0.027658853938324054,
          0.02735976433473256,
          0.027062319899014066,
          0.02676660350339868,
          0.02647269740339311,
          0.026180683099863575,
          0.02589064120014609,
          0.025602651278596723,
          0.025316791736985138,
          0.02503313966513769,
          0.024751770702221645,
          0.024472758899061475,
          0.024196176581870205,
          0.02392209421776508,
          0.023650580282435576,
          0.023381701130316263,
          0.023115520867607302,
          0.02285210122847971,
          0.022591501454782687,
          0.022333778179568914,
          0.022078985314731264,
          0.021827173943042715,
          0.02157839221486876,
          0.021332685249818857,
          0.021090095043581114,
          0.020850660380180255,
          0.020614416749880293,
          0.020381396272940503,
          0.02015162762942568,
          0.019925135995249334,
          0.019701942984625492,
          0.019482066599082245,
          0.019265521183182692,
          0.019052317387084322,
          0.018842462136053124,
          0.01863595860703478,
          0.01843280621237511,
          0.018233000590764513,
          0.01803653360546836,
          0.017843393349892,
          0.017653564160516118,
          0.017467026637219187,
          0.017283757670996488,
          0.01710373047906317,
          0.016926914647320553,
          0.0167532761801459,
          0.016582777557451123,
          0.016415377798944336,
          0.01625103253550644,
          0.016089694087586724,
          0.015931311550498345,
          0.01577583088648587,
          0.015623195023414438,
          0.015473343959919903,
          0.015326214876839645,
          0.015181742254727997,
          0.015039857997247217,
          0.014900491560204034,
          0.01476357008599182,
          0.014629018543177243,
          0.014496759870958938,
          0.014366715128209227,
          0.01423880364679516,
          0.014112943188860066,
          0.01398905010773618,
          0.013867039512140926,
          0.013746825433302289,
          0.013628320994641455,
          0.013511438583635134,
          0.013396090025464729,
          0.013282186758055127,
          0.01316964000809285,
          0.013058360967610184,
          0.01294826097071343,
          0.012839251670028144,
          0.012731245212433188,
          0.012624154413649554,
          0.012517892931251,
          0.012412375435664098,
          0.012307517778724278,
          0.01220323715936097,
          0.012099452285987213,
          0.011996083535174899,
          0.01189305310620673,
          0.01179028517110115,
          0.011687706019721023,
          0.011585244199584404,
          0.011482830650013341,
          0.011380398830266772,
          0.011277884841324196,
          0.011175227540999538,
          0.011072368652087076,
          0.010969252863258741,
          0.010865827922452796,
          0.010762044722518327,
          0.010657857378898988,
          0.01055322329916741,
          0.010448103244242573,
          0.010342461381149887,
          0.010236265327209464,
          0.010129486185563091,
          0.01002209857197891,
          0.009914080632897723,
          0.00980541405471493,
          0.00969608406431608,
          0.009586079420913374,
          0.009475392399257666,
          0.009364018764324585,
          0.009251957737603376,
          0.009139211955140262,
          0.009025787417513313,
          0.008911693431942968,
          0.008796942546761671,
          0.008681550478493592,
          0.00856553603181282,
          0.008448921012671718,
          0.008331730134910034,
          0.008213990920673042,
          0.008095733594983247,
          0.00797699097482789,
          0.007857798353136275
         ],
         "yaxis": "y"
        }
       ],
       "layout": {
        "barmode": "overlay",
        "hovermode": "closest",
        "legend": {
         "traceorder": "reversed"
        },
        "shapes": [
         {
          "line": {
           "color": "black",
           "dash": "dot",
           "width": 3
          },
          "type": "line",
          "x0": 195,
          "x1": 195,
          "y0": 0,
          "y1": 0.13
         }
        ],
        "template": {
         "data": {
          "bar": [
           {
            "error_x": {
             "color": "#2a3f5f"
            },
            "error_y": {
             "color": "#2a3f5f"
            },
            "marker": {
             "line": {
              "color": "#E5ECF6",
              "width": 0.5
             },
             "pattern": {
              "fillmode": "overlay",
              "size": 10,
              "solidity": 0.2
             }
            },
            "type": "bar"
           }
          ],
          "barpolar": [
           {
            "marker": {
             "line": {
              "color": "#E5ECF6",
              "width": 0.5
             },
             "pattern": {
              "fillmode": "overlay",
              "size": 10,
              "solidity": 0.2
             }
            },
            "type": "barpolar"
           }
          ],
          "carpet": [
           {
            "aaxis": {
             "endlinecolor": "#2a3f5f",
             "gridcolor": "white",
             "linecolor": "white",
             "minorgridcolor": "white",
             "startlinecolor": "#2a3f5f"
            },
            "baxis": {
             "endlinecolor": "#2a3f5f",
             "gridcolor": "white",
             "linecolor": "white",
             "minorgridcolor": "white",
             "startlinecolor": "#2a3f5f"
            },
            "type": "carpet"
           }
          ],
          "choropleth": [
           {
            "colorbar": {
             "outlinewidth": 0,
             "ticks": ""
            },
            "type": "choropleth"
           }
          ],
          "contour": [
           {
            "colorbar": {
             "outlinewidth": 0,
             "ticks": ""
            },
            "colorscale": [
             [
              0,
              "#0d0887"
             ],
             [
              0.1111111111111111,
              "#46039f"
             ],
             [
              0.2222222222222222,
              "#7201a8"
             ],
             [
              0.3333333333333333,
              "#9c179e"
             ],
             [
              0.4444444444444444,
              "#bd3786"
             ],
             [
              0.5555555555555556,
              "#d8576b"
             ],
             [
              0.6666666666666666,
              "#ed7953"
             ],
             [
              0.7777777777777778,
              "#fb9f3a"
             ],
             [
              0.8888888888888888,
              "#fdca26"
             ],
             [
              1,
              "#f0f921"
             ]
            ],
            "type": "contour"
           }
          ],
          "contourcarpet": [
           {
            "colorbar": {
             "outlinewidth": 0,
             "ticks": ""
            },
            "type": "contourcarpet"
           }
          ],
          "heatmap": [
           {
            "colorbar": {
             "outlinewidth": 0,
             "ticks": ""
            },
            "colorscale": [
             [
              0,
              "#0d0887"
             ],
             [
              0.1111111111111111,
              "#46039f"
             ],
             [
              0.2222222222222222,
              "#7201a8"
             ],
             [
              0.3333333333333333,
              "#9c179e"
             ],
             [
              0.4444444444444444,
              "#bd3786"
             ],
             [
              0.5555555555555556,
              "#d8576b"
             ],
             [
              0.6666666666666666,
              "#ed7953"
             ],
             [
              0.7777777777777778,
              "#fb9f3a"
             ],
             [
              0.8888888888888888,
              "#fdca26"
             ],
             [
              1,
              "#f0f921"
             ]
            ],
            "type": "heatmap"
           }
          ],
          "heatmapgl": [
           {
            "colorbar": {
             "outlinewidth": 0,
             "ticks": ""
            },
            "colorscale": [
             [
              0,
              "#0d0887"
             ],
             [
              0.1111111111111111,
              "#46039f"
             ],
             [
              0.2222222222222222,
              "#7201a8"
             ],
             [
              0.3333333333333333,
              "#9c179e"
             ],
             [
              0.4444444444444444,
              "#bd3786"
             ],
             [
              0.5555555555555556,
              "#d8576b"
             ],
             [
              0.6666666666666666,
              "#ed7953"
             ],
             [
              0.7777777777777778,
              "#fb9f3a"
             ],
             [
              0.8888888888888888,
              "#fdca26"
             ],
             [
              1,
              "#f0f921"
             ]
            ],
            "type": "heatmapgl"
           }
          ],
          "histogram": [
           {
            "marker": {
             "pattern": {
              "fillmode": "overlay",
              "size": 10,
              "solidity": 0.2
             }
            },
            "type": "histogram"
           }
          ],
          "histogram2d": [
           {
            "colorbar": {
             "outlinewidth": 0,
             "ticks": ""
            },
            "colorscale": [
             [
              0,
              "#0d0887"
             ],
             [
              0.1111111111111111,
              "#46039f"
             ],
             [
              0.2222222222222222,
              "#7201a8"
             ],
             [
              0.3333333333333333,
              "#9c179e"
             ],
             [
              0.4444444444444444,
              "#bd3786"
             ],
             [
              0.5555555555555556,
              "#d8576b"
             ],
             [
              0.6666666666666666,
              "#ed7953"
             ],
             [
              0.7777777777777778,
              "#fb9f3a"
             ],
             [
              0.8888888888888888,
              "#fdca26"
             ],
             [
              1,
              "#f0f921"
             ]
            ],
            "type": "histogram2d"
           }
          ],
          "histogram2dcontour": [
           {
            "colorbar": {
             "outlinewidth": 0,
             "ticks": ""
            },
            "colorscale": [
             [
              0,
              "#0d0887"
             ],
             [
              0.1111111111111111,
              "#46039f"
             ],
             [
              0.2222222222222222,
              "#7201a8"
             ],
             [
              0.3333333333333333,
              "#9c179e"
             ],
             [
              0.4444444444444444,
              "#bd3786"
             ],
             [
              0.5555555555555556,
              "#d8576b"
             ],
             [
              0.6666666666666666,
              "#ed7953"
             ],
             [
              0.7777777777777778,
              "#fb9f3a"
             ],
             [
              0.8888888888888888,
              "#fdca26"
             ],
             [
              1,
              "#f0f921"
             ]
            ],
            "type": "histogram2dcontour"
           }
          ],
          "mesh3d": [
           {
            "colorbar": {
             "outlinewidth": 0,
             "ticks": ""
            },
            "type": "mesh3d"
           }
          ],
          "parcoords": [
           {
            "line": {
             "colorbar": {
              "outlinewidth": 0,
              "ticks": ""
             }
            },
            "type": "parcoords"
           }
          ],
          "pie": [
           {
            "automargin": true,
            "type": "pie"
           }
          ],
          "scatter": [
           {
            "marker": {
             "colorbar": {
              "outlinewidth": 0,
              "ticks": ""
             }
            },
            "type": "scatter"
           }
          ],
          "scatter3d": [
           {
            "line": {
             "colorbar": {
              "outlinewidth": 0,
              "ticks": ""
             }
            },
            "marker": {
             "colorbar": {
              "outlinewidth": 0,
              "ticks": ""
             }
            },
            "type": "scatter3d"
           }
          ],
          "scattercarpet": [
           {
            "marker": {
             "colorbar": {
              "outlinewidth": 0,
              "ticks": ""
             }
            },
            "type": "scattercarpet"
           }
          ],
          "scattergeo": [
           {
            "marker": {
             "colorbar": {
              "outlinewidth": 0,
              "ticks": ""
             }
            },
            "type": "scattergeo"
           }
          ],
          "scattergl": [
           {
            "marker": {
             "colorbar": {
              "outlinewidth": 0,
              "ticks": ""
             }
            },
            "type": "scattergl"
           }
          ],
          "scattermapbox": [
           {
            "marker": {
             "colorbar": {
              "outlinewidth": 0,
              "ticks": ""
             }
            },
            "type": "scattermapbox"
           }
          ],
          "scatterpolar": [
           {
            "marker": {
             "colorbar": {
              "outlinewidth": 0,
              "ticks": ""
             }
            },
            "type": "scatterpolar"
           }
          ],
          "scatterpolargl": [
           {
            "marker": {
             "colorbar": {
              "outlinewidth": 0,
              "ticks": ""
             }
            },
            "type": "scatterpolargl"
           }
          ],
          "scatterternary": [
           {
            "marker": {
             "colorbar": {
              "outlinewidth": 0,
              "ticks": ""
             }
            },
            "type": "scatterternary"
           }
          ],
          "surface": [
           {
            "colorbar": {
             "outlinewidth": 0,
             "ticks": ""
            },
            "colorscale": [
             [
              0,
              "#0d0887"
             ],
             [
              0.1111111111111111,
              "#46039f"
             ],
             [
              0.2222222222222222,
              "#7201a8"
             ],
             [
              0.3333333333333333,
              "#9c179e"
             ],
             [
              0.4444444444444444,
              "#bd3786"
             ],
             [
              0.5555555555555556,
              "#d8576b"
             ],
             [
              0.6666666666666666,
              "#ed7953"
             ],
             [
              0.7777777777777778,
              "#fb9f3a"
             ],
             [
              0.8888888888888888,
              "#fdca26"
             ],
             [
              1,
              "#f0f921"
             ]
            ],
            "type": "surface"
           }
          ],
          "table": [
           {
            "cells": {
             "fill": {
              "color": "#EBF0F8"
             },
             "line": {
              "color": "white"
             }
            },
            "header": {
             "fill": {
              "color": "#C8D4E3"
             },
             "line": {
              "color": "white"
             }
            },
            "type": "table"
           }
          ]
         },
         "layout": {
          "annotationdefaults": {
           "arrowcolor": "#2a3f5f",
           "arrowhead": 0,
           "arrowwidth": 1
          },
          "autotypenumbers": "strict",
          "coloraxis": {
           "colorbar": {
            "outlinewidth": 0,
            "ticks": ""
           }
          },
          "colorscale": {
           "diverging": [
            [
             0,
             "#8e0152"
            ],
            [
             0.1,
             "#c51b7d"
            ],
            [
             0.2,
             "#de77ae"
            ],
            [
             0.3,
             "#f1b6da"
            ],
            [
             0.4,
             "#fde0ef"
            ],
            [
             0.5,
             "#f7f7f7"
            ],
            [
             0.6,
             "#e6f5d0"
            ],
            [
             0.7,
             "#b8e186"
            ],
            [
             0.8,
             "#7fbc41"
            ],
            [
             0.9,
             "#4d9221"
            ],
            [
             1,
             "#276419"
            ]
           ],
           "sequential": [
            [
             0,
             "#0d0887"
            ],
            [
             0.1111111111111111,
             "#46039f"
            ],
            [
             0.2222222222222222,
             "#7201a8"
            ],
            [
             0.3333333333333333,
             "#9c179e"
            ],
            [
             0.4444444444444444,
             "#bd3786"
            ],
            [
             0.5555555555555556,
             "#d8576b"
            ],
            [
             0.6666666666666666,
             "#ed7953"
            ],
            [
             0.7777777777777778,
             "#fb9f3a"
            ],
            [
             0.8888888888888888,
             "#fdca26"
            ],
            [
             1,
             "#f0f921"
            ]
           ],
           "sequentialminus": [
            [
             0,
             "#0d0887"
            ],
            [
             0.1111111111111111,
             "#46039f"
            ],
            [
             0.2222222222222222,
             "#7201a8"
            ],
            [
             0.3333333333333333,
             "#9c179e"
            ],
            [
             0.4444444444444444,
             "#bd3786"
            ],
            [
             0.5555555555555556,
             "#d8576b"
            ],
            [
             0.6666666666666666,
             "#ed7953"
            ],
            [
             0.7777777777777778,
             "#fb9f3a"
            ],
            [
             0.8888888888888888,
             "#fdca26"
            ],
            [
             1,
             "#f0f921"
            ]
           ]
          },
          "colorway": [
           "#636efa",
           "#EF553B",
           "#00cc96",
           "#ab63fa",
           "#FFA15A",
           "#19d3f3",
           "#FF6692",
           "#B6E880",
           "#FF97FF",
           "#FECB52"
          ],
          "font": {
           "color": "#2a3f5f"
          },
          "geo": {
           "bgcolor": "white",
           "lakecolor": "white",
           "landcolor": "#E5ECF6",
           "showlakes": true,
           "showland": true,
           "subunitcolor": "white"
          },
          "hoverlabel": {
           "align": "left"
          },
          "hovermode": "closest",
          "mapbox": {
           "style": "light"
          },
          "paper_bgcolor": "white",
          "plot_bgcolor": "#E5ECF6",
          "polar": {
           "angularaxis": {
            "gridcolor": "white",
            "linecolor": "white",
            "ticks": ""
           },
           "bgcolor": "#E5ECF6",
           "radialaxis": {
            "gridcolor": "white",
            "linecolor": "white",
            "ticks": ""
           }
          },
          "scene": {
           "xaxis": {
            "backgroundcolor": "#E5ECF6",
            "gridcolor": "white",
            "gridwidth": 2,
            "linecolor": "white",
            "showbackground": true,
            "ticks": "",
            "zerolinecolor": "white"
           },
           "yaxis": {
            "backgroundcolor": "#E5ECF6",
            "gridcolor": "white",
            "gridwidth": 2,
            "linecolor": "white",
            "showbackground": true,
            "ticks": "",
            "zerolinecolor": "white"
           },
           "zaxis": {
            "backgroundcolor": "#E5ECF6",
            "gridcolor": "white",
            "gridwidth": 2,
            "linecolor": "white",
            "showbackground": true,
            "ticks": "",
            "zerolinecolor": "white"
           }
          },
          "shapedefaults": {
           "line": {
            "color": "#2a3f5f"
           }
          },
          "ternary": {
           "aaxis": {
            "gridcolor": "white",
            "linecolor": "white",
            "ticks": ""
           },
           "baxis": {
            "gridcolor": "white",
            "linecolor": "white",
            "ticks": ""
           },
           "bgcolor": "#E5ECF6",
           "caxis": {
            "gridcolor": "white",
            "linecolor": "white",
            "ticks": ""
           }
          },
          "title": {
           "x": 0.05
          },
          "xaxis": {
           "automargin": true,
           "gridcolor": "white",
           "linecolor": "white",
           "ticks": "",
           "title": {
            "standoff": 15
           },
           "zerolinecolor": "white",
           "zerolinewidth": 2
          },
          "yaxis": {
           "automargin": true,
           "gridcolor": "white",
           "linecolor": "white",
           "ticks": "",
           "title": {
            "standoff": 15
           },
           "zerolinecolor": "white",
           "zerolinewidth": 2
          }
         }
        },
        "xaxis": {
         "anchor": "y2",
         "domain": [
          0,
          1
         ],
         "zeroline": false
        },
        "yaxis": {
         "anchor": "free",
         "domain": [
          0,
          1
         ],
         "position": 0
        }
       }
      }
     },
     "metadata": {},
     "output_type": "display_data"
    }
   ],
   "source": [
    "fig = ff.create_distplot(\n",
    "    [df.loc[df.species=='Adelie', 'flipper_length_mm'], df.loc[df.species=='Gentoo', 'flipper_length_mm'], df.loc[df.species=='Chinstrap', 'flipper_length_mm']],\n",
    "    ['Adelie', 'Gentoo', 'Chinstrap'],\n",
    "    show_rug=False, bin_size=1\n",
    ")\n",
    "fig.add_shape(type=\"line\",\n",
    "    x0=195, y0=0, x1=195, y1=.13,\n",
    "    line=dict(color=\"black\",width=3, dash=\"dot\")\n",
    ")\n",
    "fig"
   ]
  },
  {
   "cell_type": "code",
   "execution_count": 15,
   "metadata": {},
   "outputs": [
    {
     "data": {
      "application/vnd.plotly.v1+json": {
       "config": {
        "plotlyServerURL": "https://plot.ly"
       },
       "data": [
        {
         "hovertemplate": "species=Adelie<br>flipper_length_mm=%{x}<br>bill_length_mm=%{y}<extra></extra>",
         "legendgroup": "Adelie",
         "marker": {
          "color": "#636efa",
          "symbol": "circle"
         },
         "mode": "markers",
         "name": "Adelie",
         "orientation": "v",
         "showlegend": true,
         "type": "scatter",
         "x": [
          181,
          186,
          195,
          190,
          193,
          190,
          181,
          195,
          193,
          190,
          186,
          180,
          182,
          191,
          198,
          185,
          195,
          197,
          184,
          194,
          174,
          180,
          189,
          185,
          180,
          187,
          183,
          187,
          172,
          180,
          178,
          178,
          188,
          184,
          195,
          196,
          190,
          180,
          181,
          184,
          182,
          195,
          186,
          196,
          185,
          190,
          182,
          179,
          190,
          191,
          186,
          188,
          190,
          200,
          187,
          191,
          186,
          193,
          181,
          194,
          185,
          195,
          185,
          192,
          184,
          192,
          195,
          188,
          190,
          198,
          190,
          190,
          196,
          197,
          190,
          195,
          191,
          184,
          187,
          195,
          189,
          196,
          187,
          193,
          191,
          194,
          190,
          189,
          189,
          190,
          202,
          205,
          185,
          186,
          187,
          208,
          190,
          196,
          178,
          192,
          192,
          203,
          183,
          190,
          193,
          184,
          199,
          190,
          181,
          197,
          198,
          191,
          193,
          197,
          191,
          196,
          188,
          199,
          189,
          189,
          187,
          198,
          176,
          202,
          186,
          199,
          191,
          195,
          191,
          210,
          190,
          197,
          193,
          199,
          187,
          190,
          191,
          200,
          185,
          193,
          193,
          187,
          188,
          190,
          192,
          185,
          190,
          184,
          195,
          193,
          187,
          201
         ],
         "xaxis": "x",
         "y": [
          39.1,
          39.5,
          40.3,
          38.8,
          36.7,
          39.3,
          38.9,
          39.2,
          34.1,
          42,
          37.8,
          37.8,
          41.1,
          38.6,
          34.6,
          36.6,
          38.7,
          42.5,
          34.4,
          46,
          37.8,
          37.7,
          35.9,
          38.2,
          38.8,
          35.3,
          40.6,
          40.5,
          37.9,
          40.5,
          39.5,
          37.2,
          39.5,
          40.9,
          36.4,
          39.2,
          38.8,
          42.2,
          37.6,
          39.8,
          36.5,
          40.8,
          36,
          44.1,
          37,
          39.6,
          41.1,
          37.5,
          36,
          42.3,
          39.6,
          40.1,
          35,
          42,
          34.5,
          41.4,
          39,
          40.6,
          36.5,
          37.6,
          35.7,
          41.3,
          37.6,
          41.1,
          36.4,
          41.6,
          35.5,
          41.1,
          35.9,
          41.8,
          33.5,
          39.7,
          39.6,
          45.8,
          35.5,
          42.8,
          40.9,
          37.2,
          36.2,
          42.1,
          34.6,
          42.9,
          36.7,
          35.1,
          37.3,
          41.3,
          36.3,
          36.9,
          38.3,
          38.9,
          35.7,
          41.1,
          34,
          39.6,
          36.2,
          40.8,
          38.1,
          40.3,
          33.1,
          43.2,
          35,
          41,
          37.7,
          37.8,
          37.9,
          39.7,
          38.6,
          38.2,
          38.1,
          43.2,
          38.1,
          45.6,
          39.7,
          42.2,
          39.6,
          42.7,
          38.6,
          37.3,
          35.7,
          41.1,
          36.2,
          37.7,
          40.2,
          41.4,
          35.2,
          40.6,
          38.8,
          41.5,
          39,
          44.1,
          38.5,
          43.1,
          36.8,
          37.5,
          38.1,
          41.1,
          35.6,
          40.2,
          37,
          39.7,
          40.2,
          40.6,
          32.1,
          40.7,
          37.3,
          39,
          39.2,
          36.6,
          36,
          37.8,
          36,
          41.5
         ],
         "yaxis": "y"
        },
        {
         "hovertemplate": "species=Gentoo<br>flipper_length_mm=%{x}<br>bill_length_mm=%{y}<extra></extra>",
         "legendgroup": "Gentoo",
         "marker": {
          "color": "#EF553B",
          "symbol": "circle"
         },
         "mode": "markers",
         "name": "Gentoo",
         "orientation": "v",
         "showlegend": true,
         "type": "scatter",
         "x": [
          211,
          230,
          210,
          218,
          215,
          210,
          211,
          219,
          209,
          215,
          214,
          216,
          214,
          213,
          210,
          217,
          210,
          221,
          209,
          222,
          218,
          215,
          213,
          215,
          215,
          215,
          216,
          215,
          210,
          220,
          222,
          209,
          207,
          230,
          220,
          220,
          213,
          219,
          208,
          208,
          208,
          225,
          210,
          216,
          222,
          217,
          210,
          225,
          213,
          215,
          210,
          220,
          210,
          225,
          217,
          220,
          208,
          220,
          208,
          224,
          208,
          221,
          214,
          231,
          219,
          230,
          214,
          229,
          220,
          223,
          216,
          221,
          221,
          217,
          216,
          230,
          209,
          220,
          215,
          223,
          212,
          221,
          212,
          224,
          212,
          228,
          218,
          218,
          212,
          230,
          218,
          228,
          212,
          224,
          214,
          226,
          216,
          222,
          203,
          225,
          219,
          228,
          215,
          228,
          216,
          215,
          210,
          219,
          208,
          209,
          216,
          229,
          213,
          230,
          217,
          230,
          217,
          222,
          214,
          216,
          215,
          222,
          212,
          213
         ],
         "xaxis": "x",
         "y": [
          46.1,
          50,
          48.7,
          50,
          47.6,
          46.5,
          45.4,
          46.7,
          43.3,
          46.8,
          40.9,
          49,
          45.5,
          48.4,
          45.8,
          49.3,
          42,
          49.2,
          46.2,
          48.7,
          50.2,
          45.1,
          46.5,
          46.3,
          42.9,
          46.1,
          44.5,
          47.8,
          48.2,
          50,
          47.3,
          42.8,
          45.1,
          59.6,
          49.1,
          48.4,
          42.6,
          44.4,
          44,
          48.7,
          42.7,
          49.6,
          45.3,
          49.6,
          50.5,
          43.6,
          45.5,
          50.5,
          44.9,
          45.2,
          46.6,
          48.5,
          45.1,
          50.1,
          46.5,
          45,
          43.8,
          45.5,
          43.2,
          50.4,
          45.3,
          46.2,
          45.7,
          54.3,
          45.8,
          49.8,
          46.2,
          49.5,
          43.5,
          50.7,
          47.7,
          46.4,
          48.2,
          46.5,
          46.4,
          48.6,
          47.5,
          51.1,
          45.2,
          45.2,
          49.1,
          52.5,
          47.4,
          50,
          44.9,
          50.8,
          43.4,
          51.3,
          47.5,
          52.1,
          47.5,
          52.2,
          45.5,
          49.5,
          44.5,
          50.8,
          49.4,
          46.9,
          48.4,
          51.1,
          48.5,
          55.9,
          47.2,
          49.1,
          47.3,
          46.8,
          41.7,
          53.4,
          43.3,
          48.1,
          50.5,
          49.8,
          43.5,
          51.5,
          46.2,
          55.1,
          44.5,
          48.8,
          47.2,
          47.3,
          46.8,
          50.4,
          45.2,
          49.9
         ],
         "yaxis": "y"
        },
        {
         "hovertemplate": "species=Chinstrap<br>flipper_length_mm=%{x}<br>bill_length_mm=%{y}<extra></extra>",
         "legendgroup": "Chinstrap",
         "marker": {
          "color": "#00cc96",
          "symbol": "circle"
         },
         "mode": "markers",
         "name": "Chinstrap",
         "orientation": "v",
         "showlegend": true,
         "type": "scatter",
         "x": [
          192,
          196,
          193,
          188,
          197,
          198,
          178,
          197,
          195,
          198,
          193,
          194,
          185,
          201,
          190,
          201,
          197,
          181,
          190,
          195,
          181,
          191,
          187,
          193,
          195,
          197,
          200,
          200,
          191,
          205,
          187,
          201,
          187,
          203,
          195,
          199,
          195,
          210,
          192,
          205,
          210,
          187,
          196,
          196,
          196,
          201,
          190,
          212,
          187,
          198,
          199,
          201,
          193,
          203,
          187,
          197,
          191,
          203,
          202,
          194,
          206,
          189,
          195,
          207,
          202,
          193,
          210,
          198
         ],
         "xaxis": "x",
         "y": [
          46.5,
          50,
          51.3,
          45.4,
          52.7,
          45.2,
          46.1,
          51.3,
          46,
          51.3,
          46.6,
          51.7,
          47,
          52,
          45.9,
          50.5,
          50.3,
          58,
          46.4,
          49.2,
          42.4,
          48.5,
          43.2,
          50.6,
          46.7,
          52,
          50.5,
          49.5,
          46.4,
          52.8,
          40.9,
          54.2,
          42.5,
          51,
          49.7,
          47.5,
          47.6,
          52,
          46.9,
          53.5,
          49,
          46.2,
          50.9,
          45.5,
          50.9,
          50.8,
          50.1,
          49,
          51.5,
          49.8,
          48.1,
          51.4,
          45.7,
          50.7,
          42.5,
          52.2,
          45.2,
          49.3,
          50.2,
          45.6,
          51.9,
          46.8,
          45.7,
          55.8,
          43.5,
          49.6,
          50.8,
          50.2
         ],
         "yaxis": "y"
        }
       ],
       "layout": {
        "legend": {
         "title": {
          "text": "species"
         },
         "tracegroupgap": 0
        },
        "margin": {
         "t": 60
        },
        "shapes": [
         {
          "line": {
           "color": "black",
           "dash": "dot",
           "width": 3
          },
          "type": "line",
          "x0": 172,
          "x1": 195,
          "y0": 50,
          "y1": 50
         },
         {
          "line": {
           "color": "black",
           "dash": "dot",
           "width": 3
          },
          "type": "line",
          "x0": 195,
          "x1": 195,
          "y0": 32.1,
          "y1": 50
         }
        ],
        "template": {
         "data": {
          "bar": [
           {
            "error_x": {
             "color": "#2a3f5f"
            },
            "error_y": {
             "color": "#2a3f5f"
            },
            "marker": {
             "line": {
              "color": "#E5ECF6",
              "width": 0.5
             },
             "pattern": {
              "fillmode": "overlay",
              "size": 10,
              "solidity": 0.2
             }
            },
            "type": "bar"
           }
          ],
          "barpolar": [
           {
            "marker": {
             "line": {
              "color": "#E5ECF6",
              "width": 0.5
             },
             "pattern": {
              "fillmode": "overlay",
              "size": 10,
              "solidity": 0.2
             }
            },
            "type": "barpolar"
           }
          ],
          "carpet": [
           {
            "aaxis": {
             "endlinecolor": "#2a3f5f",
             "gridcolor": "white",
             "linecolor": "white",
             "minorgridcolor": "white",
             "startlinecolor": "#2a3f5f"
            },
            "baxis": {
             "endlinecolor": "#2a3f5f",
             "gridcolor": "white",
             "linecolor": "white",
             "minorgridcolor": "white",
             "startlinecolor": "#2a3f5f"
            },
            "type": "carpet"
           }
          ],
          "choropleth": [
           {
            "colorbar": {
             "outlinewidth": 0,
             "ticks": ""
            },
            "type": "choropleth"
           }
          ],
          "contour": [
           {
            "colorbar": {
             "outlinewidth": 0,
             "ticks": ""
            },
            "colorscale": [
             [
              0,
              "#0d0887"
             ],
             [
              0.1111111111111111,
              "#46039f"
             ],
             [
              0.2222222222222222,
              "#7201a8"
             ],
             [
              0.3333333333333333,
              "#9c179e"
             ],
             [
              0.4444444444444444,
              "#bd3786"
             ],
             [
              0.5555555555555556,
              "#d8576b"
             ],
             [
              0.6666666666666666,
              "#ed7953"
             ],
             [
              0.7777777777777778,
              "#fb9f3a"
             ],
             [
              0.8888888888888888,
              "#fdca26"
             ],
             [
              1,
              "#f0f921"
             ]
            ],
            "type": "contour"
           }
          ],
          "contourcarpet": [
           {
            "colorbar": {
             "outlinewidth": 0,
             "ticks": ""
            },
            "type": "contourcarpet"
           }
          ],
          "heatmap": [
           {
            "colorbar": {
             "outlinewidth": 0,
             "ticks": ""
            },
            "colorscale": [
             [
              0,
              "#0d0887"
             ],
             [
              0.1111111111111111,
              "#46039f"
             ],
             [
              0.2222222222222222,
              "#7201a8"
             ],
             [
              0.3333333333333333,
              "#9c179e"
             ],
             [
              0.4444444444444444,
              "#bd3786"
             ],
             [
              0.5555555555555556,
              "#d8576b"
             ],
             [
              0.6666666666666666,
              "#ed7953"
             ],
             [
              0.7777777777777778,
              "#fb9f3a"
             ],
             [
              0.8888888888888888,
              "#fdca26"
             ],
             [
              1,
              "#f0f921"
             ]
            ],
            "type": "heatmap"
           }
          ],
          "heatmapgl": [
           {
            "colorbar": {
             "outlinewidth": 0,
             "ticks": ""
            },
            "colorscale": [
             [
              0,
              "#0d0887"
             ],
             [
              0.1111111111111111,
              "#46039f"
             ],
             [
              0.2222222222222222,
              "#7201a8"
             ],
             [
              0.3333333333333333,
              "#9c179e"
             ],
             [
              0.4444444444444444,
              "#bd3786"
             ],
             [
              0.5555555555555556,
              "#d8576b"
             ],
             [
              0.6666666666666666,
              "#ed7953"
             ],
             [
              0.7777777777777778,
              "#fb9f3a"
             ],
             [
              0.8888888888888888,
              "#fdca26"
             ],
             [
              1,
              "#f0f921"
             ]
            ],
            "type": "heatmapgl"
           }
          ],
          "histogram": [
           {
            "marker": {
             "pattern": {
              "fillmode": "overlay",
              "size": 10,
              "solidity": 0.2
             }
            },
            "type": "histogram"
           }
          ],
          "histogram2d": [
           {
            "colorbar": {
             "outlinewidth": 0,
             "ticks": ""
            },
            "colorscale": [
             [
              0,
              "#0d0887"
             ],
             [
              0.1111111111111111,
              "#46039f"
             ],
             [
              0.2222222222222222,
              "#7201a8"
             ],
             [
              0.3333333333333333,
              "#9c179e"
             ],
             [
              0.4444444444444444,
              "#bd3786"
             ],
             [
              0.5555555555555556,
              "#d8576b"
             ],
             [
              0.6666666666666666,
              "#ed7953"
             ],
             [
              0.7777777777777778,
              "#fb9f3a"
             ],
             [
              0.8888888888888888,
              "#fdca26"
             ],
             [
              1,
              "#f0f921"
             ]
            ],
            "type": "histogram2d"
           }
          ],
          "histogram2dcontour": [
           {
            "colorbar": {
             "outlinewidth": 0,
             "ticks": ""
            },
            "colorscale": [
             [
              0,
              "#0d0887"
             ],
             [
              0.1111111111111111,
              "#46039f"
             ],
             [
              0.2222222222222222,
              "#7201a8"
             ],
             [
              0.3333333333333333,
              "#9c179e"
             ],
             [
              0.4444444444444444,
              "#bd3786"
             ],
             [
              0.5555555555555556,
              "#d8576b"
             ],
             [
              0.6666666666666666,
              "#ed7953"
             ],
             [
              0.7777777777777778,
              "#fb9f3a"
             ],
             [
              0.8888888888888888,
              "#fdca26"
             ],
             [
              1,
              "#f0f921"
             ]
            ],
            "type": "histogram2dcontour"
           }
          ],
          "mesh3d": [
           {
            "colorbar": {
             "outlinewidth": 0,
             "ticks": ""
            },
            "type": "mesh3d"
           }
          ],
          "parcoords": [
           {
            "line": {
             "colorbar": {
              "outlinewidth": 0,
              "ticks": ""
             }
            },
            "type": "parcoords"
           }
          ],
          "pie": [
           {
            "automargin": true,
            "type": "pie"
           }
          ],
          "scatter": [
           {
            "marker": {
             "colorbar": {
              "outlinewidth": 0,
              "ticks": ""
             }
            },
            "type": "scatter"
           }
          ],
          "scatter3d": [
           {
            "line": {
             "colorbar": {
              "outlinewidth": 0,
              "ticks": ""
             }
            },
            "marker": {
             "colorbar": {
              "outlinewidth": 0,
              "ticks": ""
             }
            },
            "type": "scatter3d"
           }
          ],
          "scattercarpet": [
           {
            "marker": {
             "colorbar": {
              "outlinewidth": 0,
              "ticks": ""
             }
            },
            "type": "scattercarpet"
           }
          ],
          "scattergeo": [
           {
            "marker": {
             "colorbar": {
              "outlinewidth": 0,
              "ticks": ""
             }
            },
            "type": "scattergeo"
           }
          ],
          "scattergl": [
           {
            "marker": {
             "colorbar": {
              "outlinewidth": 0,
              "ticks": ""
             }
            },
            "type": "scattergl"
           }
          ],
          "scattermapbox": [
           {
            "marker": {
             "colorbar": {
              "outlinewidth": 0,
              "ticks": ""
             }
            },
            "type": "scattermapbox"
           }
          ],
          "scatterpolar": [
           {
            "marker": {
             "colorbar": {
              "outlinewidth": 0,
              "ticks": ""
             }
            },
            "type": "scatterpolar"
           }
          ],
          "scatterpolargl": [
           {
            "marker": {
             "colorbar": {
              "outlinewidth": 0,
              "ticks": ""
             }
            },
            "type": "scatterpolargl"
           }
          ],
          "scatterternary": [
           {
            "marker": {
             "colorbar": {
              "outlinewidth": 0,
              "ticks": ""
             }
            },
            "type": "scatterternary"
           }
          ],
          "surface": [
           {
            "colorbar": {
             "outlinewidth": 0,
             "ticks": ""
            },
            "colorscale": [
             [
              0,
              "#0d0887"
             ],
             [
              0.1111111111111111,
              "#46039f"
             ],
             [
              0.2222222222222222,
              "#7201a8"
             ],
             [
              0.3333333333333333,
              "#9c179e"
             ],
             [
              0.4444444444444444,
              "#bd3786"
             ],
             [
              0.5555555555555556,
              "#d8576b"
             ],
             [
              0.6666666666666666,
              "#ed7953"
             ],
             [
              0.7777777777777778,
              "#fb9f3a"
             ],
             [
              0.8888888888888888,
              "#fdca26"
             ],
             [
              1,
              "#f0f921"
             ]
            ],
            "type": "surface"
           }
          ],
          "table": [
           {
            "cells": {
             "fill": {
              "color": "#EBF0F8"
             },
             "line": {
              "color": "white"
             }
            },
            "header": {
             "fill": {
              "color": "#C8D4E3"
             },
             "line": {
              "color": "white"
             }
            },
            "type": "table"
           }
          ]
         },
         "layout": {
          "annotationdefaults": {
           "arrowcolor": "#2a3f5f",
           "arrowhead": 0,
           "arrowwidth": 1
          },
          "autotypenumbers": "strict",
          "coloraxis": {
           "colorbar": {
            "outlinewidth": 0,
            "ticks": ""
           }
          },
          "colorscale": {
           "diverging": [
            [
             0,
             "#8e0152"
            ],
            [
             0.1,
             "#c51b7d"
            ],
            [
             0.2,
             "#de77ae"
            ],
            [
             0.3,
             "#f1b6da"
            ],
            [
             0.4,
             "#fde0ef"
            ],
            [
             0.5,
             "#f7f7f7"
            ],
            [
             0.6,
             "#e6f5d0"
            ],
            [
             0.7,
             "#b8e186"
            ],
            [
             0.8,
             "#7fbc41"
            ],
            [
             0.9,
             "#4d9221"
            ],
            [
             1,
             "#276419"
            ]
           ],
           "sequential": [
            [
             0,
             "#0d0887"
            ],
            [
             0.1111111111111111,
             "#46039f"
            ],
            [
             0.2222222222222222,
             "#7201a8"
            ],
            [
             0.3333333333333333,
             "#9c179e"
            ],
            [
             0.4444444444444444,
             "#bd3786"
            ],
            [
             0.5555555555555556,
             "#d8576b"
            ],
            [
             0.6666666666666666,
             "#ed7953"
            ],
            [
             0.7777777777777778,
             "#fb9f3a"
            ],
            [
             0.8888888888888888,
             "#fdca26"
            ],
            [
             1,
             "#f0f921"
            ]
           ],
           "sequentialminus": [
            [
             0,
             "#0d0887"
            ],
            [
             0.1111111111111111,
             "#46039f"
            ],
            [
             0.2222222222222222,
             "#7201a8"
            ],
            [
             0.3333333333333333,
             "#9c179e"
            ],
            [
             0.4444444444444444,
             "#bd3786"
            ],
            [
             0.5555555555555556,
             "#d8576b"
            ],
            [
             0.6666666666666666,
             "#ed7953"
            ],
            [
             0.7777777777777778,
             "#fb9f3a"
            ],
            [
             0.8888888888888888,
             "#fdca26"
            ],
            [
             1,
             "#f0f921"
            ]
           ]
          },
          "colorway": [
           "#636efa",
           "#EF553B",
           "#00cc96",
           "#ab63fa",
           "#FFA15A",
           "#19d3f3",
           "#FF6692",
           "#B6E880",
           "#FF97FF",
           "#FECB52"
          ],
          "font": {
           "color": "#2a3f5f"
          },
          "geo": {
           "bgcolor": "white",
           "lakecolor": "white",
           "landcolor": "#E5ECF6",
           "showlakes": true,
           "showland": true,
           "subunitcolor": "white"
          },
          "hoverlabel": {
           "align": "left"
          },
          "hovermode": "closest",
          "mapbox": {
           "style": "light"
          },
          "paper_bgcolor": "white",
          "plot_bgcolor": "#E5ECF6",
          "polar": {
           "angularaxis": {
            "gridcolor": "white",
            "linecolor": "white",
            "ticks": ""
           },
           "bgcolor": "#E5ECF6",
           "radialaxis": {
            "gridcolor": "white",
            "linecolor": "white",
            "ticks": ""
           }
          },
          "scene": {
           "xaxis": {
            "backgroundcolor": "#E5ECF6",
            "gridcolor": "white",
            "gridwidth": 2,
            "linecolor": "white",
            "showbackground": true,
            "ticks": "",
            "zerolinecolor": "white"
           },
           "yaxis": {
            "backgroundcolor": "#E5ECF6",
            "gridcolor": "white",
            "gridwidth": 2,
            "linecolor": "white",
            "showbackground": true,
            "ticks": "",
            "zerolinecolor": "white"
           },
           "zaxis": {
            "backgroundcolor": "#E5ECF6",
            "gridcolor": "white",
            "gridwidth": 2,
            "linecolor": "white",
            "showbackground": true,
            "ticks": "",
            "zerolinecolor": "white"
           }
          },
          "shapedefaults": {
           "line": {
            "color": "#2a3f5f"
           }
          },
          "ternary": {
           "aaxis": {
            "gridcolor": "white",
            "linecolor": "white",
            "ticks": ""
           },
           "baxis": {
            "gridcolor": "white",
            "linecolor": "white",
            "ticks": ""
           },
           "bgcolor": "#E5ECF6",
           "caxis": {
            "gridcolor": "white",
            "linecolor": "white",
            "ticks": ""
           }
          },
          "title": {
           "x": 0.05
          },
          "xaxis": {
           "automargin": true,
           "gridcolor": "white",
           "linecolor": "white",
           "ticks": "",
           "title": {
            "standoff": 15
           },
           "zerolinecolor": "white",
           "zerolinewidth": 2
          },
          "yaxis": {
           "automargin": true,
           "gridcolor": "white",
           "linecolor": "white",
           "ticks": "",
           "title": {
            "standoff": 15
           },
           "zerolinecolor": "white",
           "zerolinewidth": 2
          }
         }
        },
        "xaxis": {
         "anchor": "y",
         "domain": [
          0,
          1
         ],
         "title": {
          "text": "flipper_length_mm"
         }
        },
        "yaxis": {
         "anchor": "x",
         "domain": [
          0,
          1
         ],
         "title": {
          "text": "bill_length_mm"
         }
        }
       }
      }
     },
     "metadata": {},
     "output_type": "display_data"
    }
   ],
   "source": [
    "fig = px.scatter(df, x='flipper_length_mm', y='bill_length_mm', color='species')\n",
    "fig.add_shape(type=\"line\",\n",
    "    x0=df.flipper_length_mm.min(), y0=50, x1=195, y1=50,\n",
    "    line=dict(color=\"black\",width=3, dash=\"dot\")\n",
    ")\n",
    "fig.add_shape(type=\"line\",\n",
    "    x0=195, y0=df.bill_length_mm.min(), x1=195, y1=50,\n",
    "    line=dict(color=\"black\",width=3, dash=\"dot\")\n",
    ")\n",
    "fig.show()"
   ]
  },
  {
   "cell_type": "markdown",
   "metadata": {},
   "source": [
    "> How do we calculate the likelihood function that incorporates two variables, $L(y|x2,x3)$ ?\n",
    "> Naive Bayes classification assumes that predictors are conditionally independent, thus:\n",
    "\n",
    "$L(y|x2,x3)=f(x2,x3|y)=f(x2|y)*f(x3|y)$"
   ]
  },
  {
   "cell_type": "markdown",
   "metadata": {},
   "source": [
    "$P(s|x_1,x_2) = \\frac{P(x_1,x_2|s) * P(s)}{P(x_1,x_2)}$"
   ]
  },
  {
   "cell_type": "code",
   "execution_count": 16,
   "metadata": {},
   "outputs": [],
   "source": [
    "# create flipper length dists for each species\n",
    "gentoo_flipper_dist    = norm(loc=df.loc[df.species=='Gentoo', 'flipper_length_mm'].mean(),    scale=df.loc[df.species=='Gentoo', 'flipper_length_mm'].std())\n",
    "adelie_flipper_dist    = norm(loc=df.loc[df.species=='Adelie', 'flipper_length_mm'].mean(),    scale=df.loc[df.species=='Adelie', 'flipper_length_mm'].std())\n",
    "chinstrap_flipper_dist = norm(loc=df.loc[df.species=='Chinstrap', 'flipper_length_mm'].mean(), scale=df.loc[df.species=='Chinstrap', 'flipper_length_mm'].std())\n",
    "\n",
    "penguin_flipper_dists = {'Gentoo': gentoo_flipper_dist, 'Adelie': adelie_flipper_dist, 'Chinstrap': chinstrap_flipper_dist}\n"
   ]
  },
  {
   "cell_type": "code",
   "execution_count": 17,
   "metadata": {},
   "outputs": [],
   "source": [
    "# P(x|s) * p(s) for each s\n",
    "normalizing_constant = \\\n",
    "    (adelie_bill_dist.pdf(50)    * adelie_flipper_dist.pdf(195)    * df.species.value_counts()['Adelie']    / len(df)) + \\\n",
    "    (gentoo_bill_dist.pdf(50)    * gentoo_flipper_dist.pdf(195)    * df.species.value_counts()['Gentoo']    / len(df)) + \\\n",
    "    (chinstrap_bill_dist.pdf(50) * chinstrap_flipper_dist.pdf(195) * df.species.value_counts()['Chinstrap'] / len(df))\n",
    "\n",
    "def calc_bayes_posteriors():\n",
    "    results = []\n",
    "    for species in df.species.unique():\n",
    "        prior = len(df.loc[df.species==species]) / len(df)\n",
    "        likelihood = penguin_bill_dists[species].pdf(50) * penguin_flipper_dists[species].pdf(195)\n",
    "\n",
    "        posterior = (likelihood * prior)/normalizing_constant\n",
    "        results.append((species, posterior))\n",
    "\n",
    "    return results"
   ]
  },
  {
   "cell_type": "code",
   "execution_count": 18,
   "metadata": {},
   "outputs": [
    {
     "data": {
      "application/vnd.plotly.v1+json": {
       "config": {
        "plotlyServerURL": "https://plot.ly"
       },
       "data": [
        {
         "name": "posterior",
         "text": [
          "0.03%",
          "0.46%",
          "99.51%"
         ],
         "type": "bar",
         "x": [
          "Adelie",
          "Gentoo",
          "Chinstrap"
         ],
         "y": [
          0.00032643621499652757,
          0.004617207100333227,
          0.9950563566846702
         ]
        },
        {
         "name": "prior",
         "text": [
          "44.19%",
          "36.05%",
          "19.77%"
         ],
         "type": "bar",
         "x": [
          "Adelie",
          "Gentoo",
          "Chinstrap"
         ],
         "y": [
          0.4418604651162791,
          0.36046511627906974,
          0.19767441860465115
         ]
        }
       ],
       "layout": {
        "template": {
         "data": {
          "bar": [
           {
            "error_x": {
             "color": "#2a3f5f"
            },
            "error_y": {
             "color": "#2a3f5f"
            },
            "marker": {
             "line": {
              "color": "#E5ECF6",
              "width": 0.5
             },
             "pattern": {
              "fillmode": "overlay",
              "size": 10,
              "solidity": 0.2
             }
            },
            "type": "bar"
           }
          ],
          "barpolar": [
           {
            "marker": {
             "line": {
              "color": "#E5ECF6",
              "width": 0.5
             },
             "pattern": {
              "fillmode": "overlay",
              "size": 10,
              "solidity": 0.2
             }
            },
            "type": "barpolar"
           }
          ],
          "carpet": [
           {
            "aaxis": {
             "endlinecolor": "#2a3f5f",
             "gridcolor": "white",
             "linecolor": "white",
             "minorgridcolor": "white",
             "startlinecolor": "#2a3f5f"
            },
            "baxis": {
             "endlinecolor": "#2a3f5f",
             "gridcolor": "white",
             "linecolor": "white",
             "minorgridcolor": "white",
             "startlinecolor": "#2a3f5f"
            },
            "type": "carpet"
           }
          ],
          "choropleth": [
           {
            "colorbar": {
             "outlinewidth": 0,
             "ticks": ""
            },
            "type": "choropleth"
           }
          ],
          "contour": [
           {
            "colorbar": {
             "outlinewidth": 0,
             "ticks": ""
            },
            "colorscale": [
             [
              0,
              "#0d0887"
             ],
             [
              0.1111111111111111,
              "#46039f"
             ],
             [
              0.2222222222222222,
              "#7201a8"
             ],
             [
              0.3333333333333333,
              "#9c179e"
             ],
             [
              0.4444444444444444,
              "#bd3786"
             ],
             [
              0.5555555555555556,
              "#d8576b"
             ],
             [
              0.6666666666666666,
              "#ed7953"
             ],
             [
              0.7777777777777778,
              "#fb9f3a"
             ],
             [
              0.8888888888888888,
              "#fdca26"
             ],
             [
              1,
              "#f0f921"
             ]
            ],
            "type": "contour"
           }
          ],
          "contourcarpet": [
           {
            "colorbar": {
             "outlinewidth": 0,
             "ticks": ""
            },
            "type": "contourcarpet"
           }
          ],
          "heatmap": [
           {
            "colorbar": {
             "outlinewidth": 0,
             "ticks": ""
            },
            "colorscale": [
             [
              0,
              "#0d0887"
             ],
             [
              0.1111111111111111,
              "#46039f"
             ],
             [
              0.2222222222222222,
              "#7201a8"
             ],
             [
              0.3333333333333333,
              "#9c179e"
             ],
             [
              0.4444444444444444,
              "#bd3786"
             ],
             [
              0.5555555555555556,
              "#d8576b"
             ],
             [
              0.6666666666666666,
              "#ed7953"
             ],
             [
              0.7777777777777778,
              "#fb9f3a"
             ],
             [
              0.8888888888888888,
              "#fdca26"
             ],
             [
              1,
              "#f0f921"
             ]
            ],
            "type": "heatmap"
           }
          ],
          "heatmapgl": [
           {
            "colorbar": {
             "outlinewidth": 0,
             "ticks": ""
            },
            "colorscale": [
             [
              0,
              "#0d0887"
             ],
             [
              0.1111111111111111,
              "#46039f"
             ],
             [
              0.2222222222222222,
              "#7201a8"
             ],
             [
              0.3333333333333333,
              "#9c179e"
             ],
             [
              0.4444444444444444,
              "#bd3786"
             ],
             [
              0.5555555555555556,
              "#d8576b"
             ],
             [
              0.6666666666666666,
              "#ed7953"
             ],
             [
              0.7777777777777778,
              "#fb9f3a"
             ],
             [
              0.8888888888888888,
              "#fdca26"
             ],
             [
              1,
              "#f0f921"
             ]
            ],
            "type": "heatmapgl"
           }
          ],
          "histogram": [
           {
            "marker": {
             "pattern": {
              "fillmode": "overlay",
              "size": 10,
              "solidity": 0.2
             }
            },
            "type": "histogram"
           }
          ],
          "histogram2d": [
           {
            "colorbar": {
             "outlinewidth": 0,
             "ticks": ""
            },
            "colorscale": [
             [
              0,
              "#0d0887"
             ],
             [
              0.1111111111111111,
              "#46039f"
             ],
             [
              0.2222222222222222,
              "#7201a8"
             ],
             [
              0.3333333333333333,
              "#9c179e"
             ],
             [
              0.4444444444444444,
              "#bd3786"
             ],
             [
              0.5555555555555556,
              "#d8576b"
             ],
             [
              0.6666666666666666,
              "#ed7953"
             ],
             [
              0.7777777777777778,
              "#fb9f3a"
             ],
             [
              0.8888888888888888,
              "#fdca26"
             ],
             [
              1,
              "#f0f921"
             ]
            ],
            "type": "histogram2d"
           }
          ],
          "histogram2dcontour": [
           {
            "colorbar": {
             "outlinewidth": 0,
             "ticks": ""
            },
            "colorscale": [
             [
              0,
              "#0d0887"
             ],
             [
              0.1111111111111111,
              "#46039f"
             ],
             [
              0.2222222222222222,
              "#7201a8"
             ],
             [
              0.3333333333333333,
              "#9c179e"
             ],
             [
              0.4444444444444444,
              "#bd3786"
             ],
             [
              0.5555555555555556,
              "#d8576b"
             ],
             [
              0.6666666666666666,
              "#ed7953"
             ],
             [
              0.7777777777777778,
              "#fb9f3a"
             ],
             [
              0.8888888888888888,
              "#fdca26"
             ],
             [
              1,
              "#f0f921"
             ]
            ],
            "type": "histogram2dcontour"
           }
          ],
          "mesh3d": [
           {
            "colorbar": {
             "outlinewidth": 0,
             "ticks": ""
            },
            "type": "mesh3d"
           }
          ],
          "parcoords": [
           {
            "line": {
             "colorbar": {
              "outlinewidth": 0,
              "ticks": ""
             }
            },
            "type": "parcoords"
           }
          ],
          "pie": [
           {
            "automargin": true,
            "type": "pie"
           }
          ],
          "scatter": [
           {
            "marker": {
             "colorbar": {
              "outlinewidth": 0,
              "ticks": ""
             }
            },
            "type": "scatter"
           }
          ],
          "scatter3d": [
           {
            "line": {
             "colorbar": {
              "outlinewidth": 0,
              "ticks": ""
             }
            },
            "marker": {
             "colorbar": {
              "outlinewidth": 0,
              "ticks": ""
             }
            },
            "type": "scatter3d"
           }
          ],
          "scattercarpet": [
           {
            "marker": {
             "colorbar": {
              "outlinewidth": 0,
              "ticks": ""
             }
            },
            "type": "scattercarpet"
           }
          ],
          "scattergeo": [
           {
            "marker": {
             "colorbar": {
              "outlinewidth": 0,
              "ticks": ""
             }
            },
            "type": "scattergeo"
           }
          ],
          "scattergl": [
           {
            "marker": {
             "colorbar": {
              "outlinewidth": 0,
              "ticks": ""
             }
            },
            "type": "scattergl"
           }
          ],
          "scattermapbox": [
           {
            "marker": {
             "colorbar": {
              "outlinewidth": 0,
              "ticks": ""
             }
            },
            "type": "scattermapbox"
           }
          ],
          "scatterpolar": [
           {
            "marker": {
             "colorbar": {
              "outlinewidth": 0,
              "ticks": ""
             }
            },
            "type": "scatterpolar"
           }
          ],
          "scatterpolargl": [
           {
            "marker": {
             "colorbar": {
              "outlinewidth": 0,
              "ticks": ""
             }
            },
            "type": "scatterpolargl"
           }
          ],
          "scatterternary": [
           {
            "marker": {
             "colorbar": {
              "outlinewidth": 0,
              "ticks": ""
             }
            },
            "type": "scatterternary"
           }
          ],
          "surface": [
           {
            "colorbar": {
             "outlinewidth": 0,
             "ticks": ""
            },
            "colorscale": [
             [
              0,
              "#0d0887"
             ],
             [
              0.1111111111111111,
              "#46039f"
             ],
             [
              0.2222222222222222,
              "#7201a8"
             ],
             [
              0.3333333333333333,
              "#9c179e"
             ],
             [
              0.4444444444444444,
              "#bd3786"
             ],
             [
              0.5555555555555556,
              "#d8576b"
             ],
             [
              0.6666666666666666,
              "#ed7953"
             ],
             [
              0.7777777777777778,
              "#fb9f3a"
             ],
             [
              0.8888888888888888,
              "#fdca26"
             ],
             [
              1,
              "#f0f921"
             ]
            ],
            "type": "surface"
           }
          ],
          "table": [
           {
            "cells": {
             "fill": {
              "color": "#EBF0F8"
             },
             "line": {
              "color": "white"
             }
            },
            "header": {
             "fill": {
              "color": "#C8D4E3"
             },
             "line": {
              "color": "white"
             }
            },
            "type": "table"
           }
          ]
         },
         "layout": {
          "annotationdefaults": {
           "arrowcolor": "#2a3f5f",
           "arrowhead": 0,
           "arrowwidth": 1
          },
          "autotypenumbers": "strict",
          "coloraxis": {
           "colorbar": {
            "outlinewidth": 0,
            "ticks": ""
           }
          },
          "colorscale": {
           "diverging": [
            [
             0,
             "#8e0152"
            ],
            [
             0.1,
             "#c51b7d"
            ],
            [
             0.2,
             "#de77ae"
            ],
            [
             0.3,
             "#f1b6da"
            ],
            [
             0.4,
             "#fde0ef"
            ],
            [
             0.5,
             "#f7f7f7"
            ],
            [
             0.6,
             "#e6f5d0"
            ],
            [
             0.7,
             "#b8e186"
            ],
            [
             0.8,
             "#7fbc41"
            ],
            [
             0.9,
             "#4d9221"
            ],
            [
             1,
             "#276419"
            ]
           ],
           "sequential": [
            [
             0,
             "#0d0887"
            ],
            [
             0.1111111111111111,
             "#46039f"
            ],
            [
             0.2222222222222222,
             "#7201a8"
            ],
            [
             0.3333333333333333,
             "#9c179e"
            ],
            [
             0.4444444444444444,
             "#bd3786"
            ],
            [
             0.5555555555555556,
             "#d8576b"
            ],
            [
             0.6666666666666666,
             "#ed7953"
            ],
            [
             0.7777777777777778,
             "#fb9f3a"
            ],
            [
             0.8888888888888888,
             "#fdca26"
            ],
            [
             1,
             "#f0f921"
            ]
           ],
           "sequentialminus": [
            [
             0,
             "#0d0887"
            ],
            [
             0.1111111111111111,
             "#46039f"
            ],
            [
             0.2222222222222222,
             "#7201a8"
            ],
            [
             0.3333333333333333,
             "#9c179e"
            ],
            [
             0.4444444444444444,
             "#bd3786"
            ],
            [
             0.5555555555555556,
             "#d8576b"
            ],
            [
             0.6666666666666666,
             "#ed7953"
            ],
            [
             0.7777777777777778,
             "#fb9f3a"
            ],
            [
             0.8888888888888888,
             "#fdca26"
            ],
            [
             1,
             "#f0f921"
            ]
           ]
          },
          "colorway": [
           "#636efa",
           "#EF553B",
           "#00cc96",
           "#ab63fa",
           "#FFA15A",
           "#19d3f3",
           "#FF6692",
           "#B6E880",
           "#FF97FF",
           "#FECB52"
          ],
          "font": {
           "color": "#2a3f5f"
          },
          "geo": {
           "bgcolor": "white",
           "lakecolor": "white",
           "landcolor": "#E5ECF6",
           "showlakes": true,
           "showland": true,
           "subunitcolor": "white"
          },
          "hoverlabel": {
           "align": "left"
          },
          "hovermode": "closest",
          "mapbox": {
           "style": "light"
          },
          "paper_bgcolor": "white",
          "plot_bgcolor": "#E5ECF6",
          "polar": {
           "angularaxis": {
            "gridcolor": "white",
            "linecolor": "white",
            "ticks": ""
           },
           "bgcolor": "#E5ECF6",
           "radialaxis": {
            "gridcolor": "white",
            "linecolor": "white",
            "ticks": ""
           }
          },
          "scene": {
           "xaxis": {
            "backgroundcolor": "#E5ECF6",
            "gridcolor": "white",
            "gridwidth": 2,
            "linecolor": "white",
            "showbackground": true,
            "ticks": "",
            "zerolinecolor": "white"
           },
           "yaxis": {
            "backgroundcolor": "#E5ECF6",
            "gridcolor": "white",
            "gridwidth": 2,
            "linecolor": "white",
            "showbackground": true,
            "ticks": "",
            "zerolinecolor": "white"
           },
           "zaxis": {
            "backgroundcolor": "#E5ECF6",
            "gridcolor": "white",
            "gridwidth": 2,
            "linecolor": "white",
            "showbackground": true,
            "ticks": "",
            "zerolinecolor": "white"
           }
          },
          "shapedefaults": {
           "line": {
            "color": "#2a3f5f"
           }
          },
          "ternary": {
           "aaxis": {
            "gridcolor": "white",
            "linecolor": "white",
            "ticks": ""
           },
           "baxis": {
            "gridcolor": "white",
            "linecolor": "white",
            "ticks": ""
           },
           "bgcolor": "#E5ECF6",
           "caxis": {
            "gridcolor": "white",
            "linecolor": "white",
            "ticks": ""
           }
          },
          "title": {
           "x": 0.05
          },
          "xaxis": {
           "automargin": true,
           "gridcolor": "white",
           "linecolor": "white",
           "ticks": "",
           "title": {
            "standoff": 15
           },
           "zerolinecolor": "white",
           "zerolinewidth": 2
          },
          "yaxis": {
           "automargin": true,
           "gridcolor": "white",
           "linecolor": "white",
           "ticks": "",
           "title": {
            "standoff": 15
           },
           "zerolinecolor": "white",
           "zerolinewidth": 2
          }
         }
        }
       }
      }
     },
     "metadata": {},
     "output_type": "display_data"
    }
   ],
   "source": [
    "results = calc_bayes_posteriors()\n",
    "fig3 = go.Figure()\n",
    "fig3.add_trace(\n",
    "    go.Bar(x=[r[0] for r in results], y=[r[1] for r in results], text=[f'{r[1]*100:.2f}%' for r in results], name='posterior')\n",
    ")\n",
    "fig3.add_trace(\n",
    "    go.Bar(x=[r[0] for r in results], y=[len(df.loc[df.species==r[0]])/len(df) for r in results], text=[f'{len(df.loc[df.species==r[0]])*100/len(df):.2f}%' for r in results], name='prior')\n",
    ")\n",
    "fig3"
   ]
  },
  {
   "cell_type": "markdown",
   "metadata": {},
   "source": [
    "## Conclusion"
   ]
  },
  {
   "cell_type": "markdown",
   "metadata": {},
   "source": [
    "Naive Bayes makes the follow assumptions:\n",
    "\n",
    "- **Feature Indepenence**: Predictors $X_i$ are conditionally independent (*which allows us to simply multiply $p(x_1|y)*p(x_2|y)$*)\n",
    "- **Normally Distributed**: For quantitative predictors $X_i$, the conditional pmf / pdf $p(x_i|y)$ is defined by a Normal model"
   ]
  },
  {
   "cell_type": "code",
   "execution_count": null,
   "metadata": {},
   "outputs": [],
   "source": []
  }
 ],
 "metadata": {
  "interpreter": {
   "hash": "c481518f0c828bab2fc04cd2d881b7800b57b84f50190e329816569e316f7752"
  },
  "kernelspec": {
   "display_name": "Python 3.8 - PyTorch",
   "language": "python",
   "name": "python3"
  },
  "language_info": {
   "codemirror_mode": {
    "name": "ipython",
    "version": 3
   },
   "file_extension": ".py",
   "mimetype": "text/x-python",
   "name": "python",
   "nbconvert_exporter": "python",
   "pygments_lexer": "ipython3",
   "version": "3.6.7"
  },
  "orig_nbformat": 4
 },
 "nbformat": 4,
 "nbformat_minor": 2
}
